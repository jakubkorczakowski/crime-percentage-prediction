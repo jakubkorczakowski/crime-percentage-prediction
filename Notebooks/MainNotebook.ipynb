{
 "cells": [
  {
   "cell_type": "markdown",
   "metadata": {},
   "source": [
    "# Metody Eksploracji Danych - Projekt"
   ]
  },
  {
   "cell_type": "markdown",
   "metadata": {},
   "source": [
    "## Opis projektu\n",
    "### Zespół:\n",
    "\n",
    "1. Jakub Korczakowski, nr albumu 291079\n",
    "2. Piotr Rosa, nr albumu 291112"
   ]
  },
  {
   "cell_type": "markdown",
   "metadata": {},
   "source": [
    "### Zbiór danych:\n",
    "\n",
    "Nieznormalizowany, którego będziemy używac do eksploracyjnej analizy danych: Communities and Crime Data Set\n",
    "\n",
    "https://archive.ics.uci.edu/ml/datasets/Communities+and+Crime+Unnormalized\n",
    "\n",
    "\n",
    "Znormalizowany, którego będziemy używac przy uczeniu: Communities and Crime Data Set\n",
    "\n",
    "https://archive.ics.uci.edu/ml/datasets/Communities+and+Crime"
   ]
  },
  {
   "cell_type": "markdown",
   "metadata": {},
   "source": [
    "### Cel:\n",
    "\n",
    "Znalezienie współczynnika ilości przestępstw."
   ]
  },
  {
   "cell_type": "markdown",
   "metadata": {},
   "source": [
    "## Eksploracyjna analiza danych "
   ]
  },
  {
   "cell_type": "markdown",
   "metadata": {},
   "source": [
    "### Wczytanie potrzebnych bibliotek"
   ]
  },
  {
   "cell_type": "code",
   "execution_count": 1,
   "metadata": {},
   "outputs": [],
   "source": [
    "import pandas as pd\n",
    "import numpy as np\n",
    "import seaborn as sns\n",
    "import re"
   ]
  },
  {
   "cell_type": "code",
   "execution_count": 2,
   "metadata": {},
   "outputs": [
    {
     "data": {
      "text/html": [
       "        <script type=\"text/javascript\">\n",
       "        window.PlotlyConfig = {MathJaxConfig: 'local'};\n",
       "        if (window.MathJax) {MathJax.Hub.Config({SVG: {font: \"STIX-Web\"}});}\n",
       "        if (typeof require !== 'undefined') {\n",
       "        require.undef(\"plotly\");\n",
       "        requirejs.config({\n",
       "            paths: {\n",
       "                'plotly': ['https://cdn.plot.ly/plotly-latest.min']\n",
       "            }\n",
       "        });\n",
       "        require(['plotly'], function(Plotly) {\n",
       "            window._Plotly = Plotly;\n",
       "        });\n",
       "        }\n",
       "        </script>\n",
       "        "
      ]
     },
     "metadata": {},
     "output_type": "display_data"
    }
   ],
   "source": [
    "import plotly.graph_objs as go\n",
    "from plotly.offline import download_plotlyjs, init_notebook_mode, plot, iplot\n",
    "\n",
    "init_notebook_mode(connected=True)"
   ]
  },
  {
   "cell_type": "markdown",
   "metadata": {},
   "source": [
    "### Wczytanie danych nieznormalizowanych"
   ]
  },
  {
   "cell_type": "code",
   "execution_count": 3,
   "metadata": {},
   "outputs": [],
   "source": [
    "columns = [\"communityname\" , \"state\" , \"countyCode\" , \"communityCode\" , \"fold\" , \"population\" , \"householdsize\" , \"racepctblack\" , \"racePctWhite\" , \"racePctAsian\" , \"racePctHisp\" , \"agePct12t21\" , \"agePct12t29\" , \"agePct16t24\" , \"agePct65up\" , \"numbUrban\" , \"pctUrban\" , \"medIncome\" , \"pctWWage\" , \"pctWFarmSelf\" , \"pctWInvInc\" , \"pctWSocSec\" , \"pctWPubAsst\" , \"pctWRetire\" , \"medFamInc\" , \"perCapInc\" , \"whitePerCap\" , \"blackPerCap\" , \"indianPerCap\" , \"AsianPerCap\" , \"OtherPerCap\" , \"HispPerCap\" , \"NumUnderPov\" , \"PctPopUnderPov\" , \"PctLess9thGrade\" , \"PctNotHSGrad\" , \"PctBSorMore\" , \"PctUnemployed\" , \"PctEmploy\" , \"PctEmplManu\" , \"PctEmplProfServ\" , \"PctOccupManu\" , \"PctOccupMgmtProf\" , \"MalePctDivorce\" , \"MalePctNevMarr\" , \"FemalePctDiv\" , \"TotalPctDiv\" , \"PersPerFam\" , \"PctFam2Par\" , \"PctKids2Par\" , \"PctYoungKids2Par\" , \"PctTeen2Par\" , \"PctWorkMomYoungKids\" , \"PctWorkMom\" , \"NumKidsBornNeverMar\" , \"PctKidsBornNeverMar\" , \"NumImmig\" , \"PctImmigRecent\" , \"PctImmigRec5\" , \"PctImmigRec8\" , \"PctImmigRec10\" , \"PctRecentImmig\" , \"PctRecImmig5\" , \"PctRecImmig8\" , \"PctRecImmig10\" , \"PctSpeakEnglOnly\" , \"PctNotSpeakEnglWell\" , \"PctLargHouseFam\" , \"PctLargHouseOccup\" , \"PersPerOccupHous\" , \"PersPerOwnOccHous\" , \"PersPerRentOccHous\" , \"PctPersOwnOccup\" , \"PctPersDenseHous\" , \"PctHousLess3BR\" , \"MedNumBR\" , \"HousVacant\" , \"PctHousOccup\" , \"PctHousOwnOcc\" , \"PctVacantBoarded\" , \"PctVacMore6Mos\" , \"MedYrHousBuilt\" , \"PctHousNoPhone\" , \"PctWOFullPlumb\" , \"OwnOccLowQuart\" , \"OwnOccMedVal\" , \"OwnOccHiQuart\" , \"OwnOccQrange\" , \"RentLowQ\" , \"RentMedian\" , \"RentHighQ\" , \"RentQrange\" , \"MedRent\" , \"MedRentPctHousInc\" , \"MedOwnCostPctInc\" , \"MedOwnCostPctIncNoMtg\" , \"NumInShelters\" , \"NumStreet\" , \"PctForeignBorn\" , \"PctBornSameState\" , \"PctSameHouse85\" , \"PctSameCity85\" , \"PctSameState85\" , \"LemasSwornFT\" , \"LemasSwFTPerPop\" , \"LemasSwFTFieldOps\" , \"LemasSwFTFieldPerPop\" , \"LemasTotalReq\" , \"LemasTotReqPerPop\" , \"PolicReqPerOffic\" , \"PolicPerPop\" , \"RacialMatchCommPol\" , \"PctPolicWhite\" , \"PctPolicBlack\" , \"PctPolicHisp\" , \"PctPolicAsian\" , \"PctPolicMinor\" , \"OfficAssgnDrugUnits\" , \"NumKindsDrugsSeiz\" , \"PolicAveOTWorked\" , \"LandArea\" , \"PopDens\" , \"PctUsePubTrans\" , \"PolicCars\" , \"PolicOperBudg\" , \"LemasPctPolicOnPatr\" , \"LemasGangUnitDeploy\" , \"LemasPctOfficDrugUn\" , \"PolicBudgPerPop\" , \"murders\" , \"murdPerPop\" , \"rapes\" , \"rapesPerPop\" , \"robberies\" , \"robbbPerPop\" , \"assaults\" , \"assaultPerPop\" , \"burglaries\" , \"burglPerPop\" , \"larcenies\" , \"larcPerPop\" , \"autoTheft\" , \"autoTheftPerPop\" , \"arsons\" , \"arsonsPerPop\" , \"ViolentCrimesPerPop\" , \"nonViolPerPop\"]\n",
    "dataset = pd.read_csv(\"../Data/CommViolPredUnnormalizedData.txt\", names=columns)"
   ]
  },
  {
   "cell_type": "code",
   "execution_count": 4,
   "metadata": {},
   "outputs": [
    {
     "data": {
      "text/plain": [
       "(2215, 147)"
      ]
     },
     "execution_count": 4,
     "metadata": {},
     "output_type": "execute_result"
    }
   ],
   "source": [
    "dataset.shape"
   ]
  },
  {
   "cell_type": "code",
   "execution_count": 5,
   "metadata": {},
   "outputs": [
    {
     "data": {
      "text/html": [
       "<div>\n",
       "<style scoped>\n",
       "    .dataframe tbody tr th:only-of-type {\n",
       "        vertical-align: middle;\n",
       "    }\n",
       "\n",
       "    .dataframe tbody tr th {\n",
       "        vertical-align: top;\n",
       "    }\n",
       "\n",
       "    .dataframe thead th {\n",
       "        text-align: right;\n",
       "    }\n",
       "</style>\n",
       "<table border=\"1\" class=\"dataframe\">\n",
       "  <thead>\n",
       "    <tr style=\"text-align: right;\">\n",
       "      <th></th>\n",
       "      <th>communityname</th>\n",
       "      <th>state</th>\n",
       "      <th>countyCode</th>\n",
       "      <th>communityCode</th>\n",
       "      <th>fold</th>\n",
       "      <th>population</th>\n",
       "      <th>householdsize</th>\n",
       "      <th>racepctblack</th>\n",
       "      <th>racePctWhite</th>\n",
       "      <th>racePctAsian</th>\n",
       "      <th>...</th>\n",
       "      <th>burglaries</th>\n",
       "      <th>burglPerPop</th>\n",
       "      <th>larcenies</th>\n",
       "      <th>larcPerPop</th>\n",
       "      <th>autoTheft</th>\n",
       "      <th>autoTheftPerPop</th>\n",
       "      <th>arsons</th>\n",
       "      <th>arsonsPerPop</th>\n",
       "      <th>ViolentCrimesPerPop</th>\n",
       "      <th>nonViolPerPop</th>\n",
       "    </tr>\n",
       "  </thead>\n",
       "  <tbody>\n",
       "    <tr>\n",
       "      <th>0</th>\n",
       "      <td>BerkeleyHeightstownship</td>\n",
       "      <td>NJ</td>\n",
       "      <td>39</td>\n",
       "      <td>5320</td>\n",
       "      <td>1</td>\n",
       "      <td>11980</td>\n",
       "      <td>3.10</td>\n",
       "      <td>1.37</td>\n",
       "      <td>91.78</td>\n",
       "      <td>6.50</td>\n",
       "      <td>...</td>\n",
       "      <td>14</td>\n",
       "      <td>114.85</td>\n",
       "      <td>138</td>\n",
       "      <td>1132.08</td>\n",
       "      <td>16</td>\n",
       "      <td>131.26</td>\n",
       "      <td>2</td>\n",
       "      <td>16.41</td>\n",
       "      <td>41.02</td>\n",
       "      <td>1394.59</td>\n",
       "    </tr>\n",
       "    <tr>\n",
       "      <th>1</th>\n",
       "      <td>Marpletownship</td>\n",
       "      <td>PA</td>\n",
       "      <td>45</td>\n",
       "      <td>47616</td>\n",
       "      <td>1</td>\n",
       "      <td>23123</td>\n",
       "      <td>2.82</td>\n",
       "      <td>0.80</td>\n",
       "      <td>95.57</td>\n",
       "      <td>3.44</td>\n",
       "      <td>...</td>\n",
       "      <td>57</td>\n",
       "      <td>242.37</td>\n",
       "      <td>376</td>\n",
       "      <td>1598.78</td>\n",
       "      <td>26</td>\n",
       "      <td>110.55</td>\n",
       "      <td>1</td>\n",
       "      <td>4.25</td>\n",
       "      <td>127.56</td>\n",
       "      <td>1955.95</td>\n",
       "    </tr>\n",
       "    <tr>\n",
       "      <th>2</th>\n",
       "      <td>Tigardcity</td>\n",
       "      <td>OR</td>\n",
       "      <td>?</td>\n",
       "      <td>?</td>\n",
       "      <td>1</td>\n",
       "      <td>29344</td>\n",
       "      <td>2.43</td>\n",
       "      <td>0.74</td>\n",
       "      <td>94.33</td>\n",
       "      <td>3.43</td>\n",
       "      <td>...</td>\n",
       "      <td>274</td>\n",
       "      <td>758.14</td>\n",
       "      <td>1797</td>\n",
       "      <td>4972.19</td>\n",
       "      <td>136</td>\n",
       "      <td>376.3</td>\n",
       "      <td>22</td>\n",
       "      <td>60.87</td>\n",
       "      <td>218.59</td>\n",
       "      <td>6167.51</td>\n",
       "    </tr>\n",
       "    <tr>\n",
       "      <th>3</th>\n",
       "      <td>Gloversvillecity</td>\n",
       "      <td>NY</td>\n",
       "      <td>35</td>\n",
       "      <td>29443</td>\n",
       "      <td>1</td>\n",
       "      <td>16656</td>\n",
       "      <td>2.40</td>\n",
       "      <td>1.70</td>\n",
       "      <td>97.35</td>\n",
       "      <td>0.50</td>\n",
       "      <td>...</td>\n",
       "      <td>225</td>\n",
       "      <td>1301.78</td>\n",
       "      <td>716</td>\n",
       "      <td>4142.56</td>\n",
       "      <td>47</td>\n",
       "      <td>271.93</td>\n",
       "      <td>?</td>\n",
       "      <td>?</td>\n",
       "      <td>306.64</td>\n",
       "      <td>?</td>\n",
       "    </tr>\n",
       "    <tr>\n",
       "      <th>4</th>\n",
       "      <td>Bemidjicity</td>\n",
       "      <td>MN</td>\n",
       "      <td>7</td>\n",
       "      <td>5068</td>\n",
       "      <td>1</td>\n",
       "      <td>11245</td>\n",
       "      <td>2.76</td>\n",
       "      <td>0.53</td>\n",
       "      <td>89.16</td>\n",
       "      <td>1.17</td>\n",
       "      <td>...</td>\n",
       "      <td>91</td>\n",
       "      <td>728.93</td>\n",
       "      <td>1060</td>\n",
       "      <td>8490.87</td>\n",
       "      <td>91</td>\n",
       "      <td>728.93</td>\n",
       "      <td>5</td>\n",
       "      <td>40.05</td>\n",
       "      <td>?</td>\n",
       "      <td>9988.79</td>\n",
       "    </tr>\n",
       "  </tbody>\n",
       "</table>\n",
       "<p>5 rows × 147 columns</p>\n",
       "</div>"
      ],
      "text/plain": [
       "             communityname state countyCode communityCode  fold  population  \\\n",
       "0  BerkeleyHeightstownship    NJ         39          5320     1       11980   \n",
       "1           Marpletownship    PA         45         47616     1       23123   \n",
       "2               Tigardcity    OR          ?             ?     1       29344   \n",
       "3         Gloversvillecity    NY         35         29443     1       16656   \n",
       "4              Bemidjicity    MN          7          5068     1       11245   \n",
       "\n",
       "   householdsize  racepctblack  racePctWhite  racePctAsian  ...  burglaries  \\\n",
       "0           3.10          1.37         91.78          6.50  ...          14   \n",
       "1           2.82          0.80         95.57          3.44  ...          57   \n",
       "2           2.43          0.74         94.33          3.43  ...         274   \n",
       "3           2.40          1.70         97.35          0.50  ...         225   \n",
       "4           2.76          0.53         89.16          1.17  ...          91   \n",
       "\n",
       "   burglPerPop  larcenies  larcPerPop  autoTheft  autoTheftPerPop  arsons  \\\n",
       "0       114.85        138     1132.08         16           131.26       2   \n",
       "1       242.37        376     1598.78         26           110.55       1   \n",
       "2       758.14       1797     4972.19        136            376.3      22   \n",
       "3      1301.78        716     4142.56         47           271.93       ?   \n",
       "4       728.93       1060     8490.87         91           728.93       5   \n",
       "\n",
       "   arsonsPerPop  ViolentCrimesPerPop  nonViolPerPop  \n",
       "0         16.41                41.02        1394.59  \n",
       "1          4.25               127.56        1955.95  \n",
       "2         60.87               218.59        6167.51  \n",
       "3             ?               306.64              ?  \n",
       "4         40.05                    ?        9988.79  \n",
       "\n",
       "[5 rows x 147 columns]"
      ]
     },
     "execution_count": 5,
     "metadata": {},
     "output_type": "execute_result"
    }
   ],
   "source": [
    "dataset.head()"
   ]
  },
  {
   "cell_type": "markdown",
   "metadata": {},
   "source": [
    "### Sprawdzenie stopnia wypełnienia danych"
   ]
  },
  {
   "cell_type": "markdown",
   "metadata": {},
   "source": [
    "Zamiana znaku ``?`` na wartość ``np.nan``."
   ]
  },
  {
   "cell_type": "code",
   "execution_count": 6,
   "metadata": {},
   "outputs": [],
   "source": [
    "dataset.replace(\"?\", np.nan, inplace=True)"
   ]
  },
  {
   "cell_type": "code",
   "execution_count": 7,
   "metadata": {},
   "outputs": [
    {
     "name": "stdout",
     "output_type": "stream",
     "text": [
      "<class 'pandas.core.frame.DataFrame'>\n",
      "RangeIndex: 2215 entries, 0 to 2214\n",
      "Data columns (total 147 columns):\n",
      "communityname            2215 non-null object\n",
      "state                    2215 non-null object\n",
      "countyCode               994 non-null object\n",
      "communityCode            991 non-null object\n",
      "fold                     2215 non-null int64\n",
      "population               2215 non-null int64\n",
      "householdsize            2215 non-null float64\n",
      "racepctblack             2215 non-null float64\n",
      "racePctWhite             2215 non-null float64\n",
      "racePctAsian             2215 non-null float64\n",
      "racePctHisp              2215 non-null float64\n",
      "agePct12t21              2215 non-null float64\n",
      "agePct12t29              2215 non-null float64\n",
      "agePct16t24              2215 non-null float64\n",
      "agePct65up               2215 non-null float64\n",
      "numbUrban                2215 non-null int64\n",
      "pctUrban                 2215 non-null float64\n",
      "medIncome                2215 non-null int64\n",
      "pctWWage                 2215 non-null float64\n",
      "pctWFarmSelf             2215 non-null float64\n",
      "pctWInvInc               2215 non-null float64\n",
      "pctWSocSec               2215 non-null float64\n",
      "pctWPubAsst              2215 non-null float64\n",
      "pctWRetire               2215 non-null float64\n",
      "medFamInc                2215 non-null int64\n",
      "perCapInc                2215 non-null int64\n",
      "whitePerCap              2215 non-null int64\n",
      "blackPerCap              2215 non-null int64\n",
      "indianPerCap             2215 non-null int64\n",
      "AsianPerCap              2215 non-null int64\n",
      "OtherPerCap              2214 non-null object\n",
      "HispPerCap               2215 non-null int64\n",
      "NumUnderPov              2215 non-null int64\n",
      "PctPopUnderPov           2215 non-null float64\n",
      "PctLess9thGrade          2215 non-null float64\n",
      "PctNotHSGrad             2215 non-null float64\n",
      "PctBSorMore              2215 non-null float64\n",
      "PctUnemployed            2215 non-null float64\n",
      "PctEmploy                2215 non-null float64\n",
      "PctEmplManu              2215 non-null float64\n",
      "PctEmplProfServ          2215 non-null float64\n",
      "PctOccupManu             2215 non-null float64\n",
      "PctOccupMgmtProf         2215 non-null float64\n",
      "MalePctDivorce           2215 non-null float64\n",
      "MalePctNevMarr           2215 non-null float64\n",
      "FemalePctDiv             2215 non-null float64\n",
      "TotalPctDiv              2215 non-null float64\n",
      "PersPerFam               2215 non-null float64\n",
      "PctFam2Par               2215 non-null float64\n",
      "PctKids2Par              2215 non-null float64\n",
      "PctYoungKids2Par         2215 non-null float64\n",
      "PctTeen2Par              2215 non-null float64\n",
      "PctWorkMomYoungKids      2215 non-null float64\n",
      "PctWorkMom               2215 non-null float64\n",
      "NumKidsBornNeverMar      2215 non-null int64\n",
      "PctKidsBornNeverMar      2215 non-null float64\n",
      "NumImmig                 2215 non-null int64\n",
      "PctImmigRecent           2215 non-null float64\n",
      "PctImmigRec5             2215 non-null float64\n",
      "PctImmigRec8             2215 non-null float64\n",
      "PctImmigRec10            2215 non-null float64\n",
      "PctRecentImmig           2215 non-null float64\n",
      "PctRecImmig5             2215 non-null float64\n",
      "PctRecImmig8             2215 non-null float64\n",
      "PctRecImmig10            2215 non-null float64\n",
      "PctSpeakEnglOnly         2215 non-null float64\n",
      "PctNotSpeakEnglWell      2215 non-null float64\n",
      "PctLargHouseFam          2215 non-null float64\n",
      "PctLargHouseOccup        2215 non-null float64\n",
      "PersPerOccupHous         2215 non-null float64\n",
      "PersPerOwnOccHous        2215 non-null float64\n",
      "PersPerRentOccHous       2215 non-null float64\n",
      "PctPersOwnOccup          2215 non-null float64\n",
      "PctPersDenseHous         2215 non-null float64\n",
      "PctHousLess3BR           2215 non-null float64\n",
      "MedNumBR                 2215 non-null int64\n",
      "HousVacant               2215 non-null int64\n",
      "PctHousOccup             2215 non-null float64\n",
      "PctHousOwnOcc            2215 non-null float64\n",
      "PctVacantBoarded         2215 non-null float64\n",
      "PctVacMore6Mos           2215 non-null float64\n",
      "MedYrHousBuilt           2215 non-null int64\n",
      "PctHousNoPhone           2215 non-null float64\n",
      "PctWOFullPlumb           2215 non-null float64\n",
      "OwnOccLowQuart           2215 non-null int64\n",
      "OwnOccMedVal             2215 non-null int64\n",
      "OwnOccHiQuart            2215 non-null int64\n",
      "OwnOccQrange             2215 non-null int64\n",
      "RentLowQ                 2215 non-null int64\n",
      "RentMedian               2215 non-null int64\n",
      "RentHighQ                2215 non-null int64\n",
      "RentQrange               2215 non-null int64\n",
      "MedRent                  2215 non-null int64\n",
      "MedRentPctHousInc        2215 non-null float64\n",
      "MedOwnCostPctInc         2215 non-null float64\n",
      "MedOwnCostPctIncNoMtg    2215 non-null float64\n",
      "NumInShelters            2215 non-null int64\n",
      "NumStreet                2215 non-null int64\n",
      "PctForeignBorn           2215 non-null float64\n",
      "PctBornSameState         2215 non-null float64\n",
      "PctSameHouse85           2215 non-null float64\n",
      "PctSameCity85            2215 non-null float64\n",
      "PctSameState85           2215 non-null float64\n",
      "LemasSwornFT             343 non-null object\n",
      "LemasSwFTPerPop          343 non-null object\n",
      "LemasSwFTFieldOps        343 non-null object\n",
      "LemasSwFTFieldPerPop     343 non-null object\n",
      "LemasTotalReq            343 non-null object\n",
      "LemasTotReqPerPop        343 non-null object\n",
      "PolicReqPerOffic         343 non-null object\n",
      "PolicPerPop              343 non-null object\n",
      "RacialMatchCommPol       343 non-null object\n",
      "PctPolicWhite            343 non-null object\n",
      "PctPolicBlack            343 non-null object\n",
      "PctPolicHisp             343 non-null object\n",
      "PctPolicAsian            343 non-null object\n",
      "PctPolicMinor            343 non-null object\n",
      "OfficAssgnDrugUnits      343 non-null object\n",
      "NumKindsDrugsSeiz        343 non-null object\n",
      "PolicAveOTWorked         343 non-null object\n",
      "LandArea                 2215 non-null float64\n",
      "PopDens                  2215 non-null float64\n",
      "PctUsePubTrans           2215 non-null float64\n",
      "PolicCars                343 non-null object\n",
      "PolicOperBudg            343 non-null object\n",
      "LemasPctPolicOnPatr      343 non-null object\n",
      "LemasGangUnitDeploy      343 non-null object\n",
      "LemasPctOfficDrugUn      2215 non-null float64\n",
      "PolicBudgPerPop          343 non-null object\n",
      "murders                  2215 non-null int64\n",
      "murdPerPop               2215 non-null float64\n",
      "rapes                    2007 non-null object\n",
      "rapesPerPop              2007 non-null object\n",
      "robberies                2214 non-null object\n",
      "robbbPerPop              2214 non-null object\n",
      "assaults                 2202 non-null object\n",
      "assaultPerPop            2202 non-null object\n",
      "burglaries               2212 non-null object\n",
      "burglPerPop              2212 non-null object\n",
      "larcenies                2212 non-null object\n",
      "larcPerPop               2212 non-null object\n",
      "autoTheft                2212 non-null object\n",
      "autoTheftPerPop          2212 non-null object\n",
      "arsons                   2124 non-null object\n",
      "arsonsPerPop             2124 non-null object\n",
      "ViolentCrimesPerPop      1994 non-null object\n",
      "nonViolPerPop            2118 non-null object\n",
      "dtypes: float64(75), int64(29), object(43)\n",
      "memory usage: 2.5+ MB\n"
     ]
    }
   ],
   "source": [
    "dataset.info(verbose=True, null_counts=True)"
   ]
  },
  {
   "cell_type": "markdown",
   "metadata": {},
   "source": [
    "Zmiana kolumn typu ``object`` na typ ``numeric``."
   ]
  },
  {
   "cell_type": "code",
   "execution_count": 8,
   "metadata": {},
   "outputs": [],
   "source": [
    "for column in dataset.columns:\n",
    "    if (column not in [\"communityname\", \"state\"]) and (dataset[column].dtype == object): \n",
    "#         print(column)\n",
    "        dataset[column] = pd.to_numeric(dataset[column])"
   ]
  },
  {
   "cell_type": "code",
   "execution_count": 9,
   "metadata": {},
   "outputs": [
    {
     "name": "stdout",
     "output_type": "stream",
     "text": [
      "<class 'pandas.core.frame.DataFrame'>\n",
      "RangeIndex: 2215 entries, 0 to 2214\n",
      "Data columns (total 147 columns):\n",
      "communityname            2215 non-null object\n",
      "state                    2215 non-null object\n",
      "countyCode               994 non-null float64\n",
      "communityCode            991 non-null float64\n",
      "fold                     2215 non-null int64\n",
      "population               2215 non-null int64\n",
      "householdsize            2215 non-null float64\n",
      "racepctblack             2215 non-null float64\n",
      "racePctWhite             2215 non-null float64\n",
      "racePctAsian             2215 non-null float64\n",
      "racePctHisp              2215 non-null float64\n",
      "agePct12t21              2215 non-null float64\n",
      "agePct12t29              2215 non-null float64\n",
      "agePct16t24              2215 non-null float64\n",
      "agePct65up               2215 non-null float64\n",
      "numbUrban                2215 non-null int64\n",
      "pctUrban                 2215 non-null float64\n",
      "medIncome                2215 non-null int64\n",
      "pctWWage                 2215 non-null float64\n",
      "pctWFarmSelf             2215 non-null float64\n",
      "pctWInvInc               2215 non-null float64\n",
      "pctWSocSec               2215 non-null float64\n",
      "pctWPubAsst              2215 non-null float64\n",
      "pctWRetire               2215 non-null float64\n",
      "medFamInc                2215 non-null int64\n",
      "perCapInc                2215 non-null int64\n",
      "whitePerCap              2215 non-null int64\n",
      "blackPerCap              2215 non-null int64\n",
      "indianPerCap             2215 non-null int64\n",
      "AsianPerCap              2215 non-null int64\n",
      "OtherPerCap              2214 non-null float64\n",
      "HispPerCap               2215 non-null int64\n",
      "NumUnderPov              2215 non-null int64\n",
      "PctPopUnderPov           2215 non-null float64\n",
      "PctLess9thGrade          2215 non-null float64\n",
      "PctNotHSGrad             2215 non-null float64\n",
      "PctBSorMore              2215 non-null float64\n",
      "PctUnemployed            2215 non-null float64\n",
      "PctEmploy                2215 non-null float64\n",
      "PctEmplManu              2215 non-null float64\n",
      "PctEmplProfServ          2215 non-null float64\n",
      "PctOccupManu             2215 non-null float64\n",
      "PctOccupMgmtProf         2215 non-null float64\n",
      "MalePctDivorce           2215 non-null float64\n",
      "MalePctNevMarr           2215 non-null float64\n",
      "FemalePctDiv             2215 non-null float64\n",
      "TotalPctDiv              2215 non-null float64\n",
      "PersPerFam               2215 non-null float64\n",
      "PctFam2Par               2215 non-null float64\n",
      "PctKids2Par              2215 non-null float64\n",
      "PctYoungKids2Par         2215 non-null float64\n",
      "PctTeen2Par              2215 non-null float64\n",
      "PctWorkMomYoungKids      2215 non-null float64\n",
      "PctWorkMom               2215 non-null float64\n",
      "NumKidsBornNeverMar      2215 non-null int64\n",
      "PctKidsBornNeverMar      2215 non-null float64\n",
      "NumImmig                 2215 non-null int64\n",
      "PctImmigRecent           2215 non-null float64\n",
      "PctImmigRec5             2215 non-null float64\n",
      "PctImmigRec8             2215 non-null float64\n",
      "PctImmigRec10            2215 non-null float64\n",
      "PctRecentImmig           2215 non-null float64\n",
      "PctRecImmig5             2215 non-null float64\n",
      "PctRecImmig8             2215 non-null float64\n",
      "PctRecImmig10            2215 non-null float64\n",
      "PctSpeakEnglOnly         2215 non-null float64\n",
      "PctNotSpeakEnglWell      2215 non-null float64\n",
      "PctLargHouseFam          2215 non-null float64\n",
      "PctLargHouseOccup        2215 non-null float64\n",
      "PersPerOccupHous         2215 non-null float64\n",
      "PersPerOwnOccHous        2215 non-null float64\n",
      "PersPerRentOccHous       2215 non-null float64\n",
      "PctPersOwnOccup          2215 non-null float64\n",
      "PctPersDenseHous         2215 non-null float64\n",
      "PctHousLess3BR           2215 non-null float64\n",
      "MedNumBR                 2215 non-null int64\n",
      "HousVacant               2215 non-null int64\n",
      "PctHousOccup             2215 non-null float64\n",
      "PctHousOwnOcc            2215 non-null float64\n",
      "PctVacantBoarded         2215 non-null float64\n",
      "PctVacMore6Mos           2215 non-null float64\n",
      "MedYrHousBuilt           2215 non-null int64\n",
      "PctHousNoPhone           2215 non-null float64\n",
      "PctWOFullPlumb           2215 non-null float64\n",
      "OwnOccLowQuart           2215 non-null int64\n",
      "OwnOccMedVal             2215 non-null int64\n",
      "OwnOccHiQuart            2215 non-null int64\n",
      "OwnOccQrange             2215 non-null int64\n",
      "RentLowQ                 2215 non-null int64\n",
      "RentMedian               2215 non-null int64\n",
      "RentHighQ                2215 non-null int64\n",
      "RentQrange               2215 non-null int64\n",
      "MedRent                  2215 non-null int64\n",
      "MedRentPctHousInc        2215 non-null float64\n",
      "MedOwnCostPctInc         2215 non-null float64\n",
      "MedOwnCostPctIncNoMtg    2215 non-null float64\n",
      "NumInShelters            2215 non-null int64\n",
      "NumStreet                2215 non-null int64\n",
      "PctForeignBorn           2215 non-null float64\n",
      "PctBornSameState         2215 non-null float64\n",
      "PctSameHouse85           2215 non-null float64\n",
      "PctSameCity85            2215 non-null float64\n",
      "PctSameState85           2215 non-null float64\n",
      "LemasSwornFT             343 non-null float64\n",
      "LemasSwFTPerPop          343 non-null float64\n",
      "LemasSwFTFieldOps        343 non-null float64\n",
      "LemasSwFTFieldPerPop     343 non-null float64\n",
      "LemasTotalReq            343 non-null float64\n",
      "LemasTotReqPerPop        343 non-null float64\n",
      "PolicReqPerOffic         343 non-null float64\n",
      "PolicPerPop              343 non-null float64\n",
      "RacialMatchCommPol       343 non-null float64\n",
      "PctPolicWhite            343 non-null float64\n",
      "PctPolicBlack            343 non-null float64\n",
      "PctPolicHisp             343 non-null float64\n",
      "PctPolicAsian            343 non-null float64\n",
      "PctPolicMinor            343 non-null float64\n",
      "OfficAssgnDrugUnits      343 non-null float64\n",
      "NumKindsDrugsSeiz        343 non-null float64\n",
      "PolicAveOTWorked         343 non-null float64\n",
      "LandArea                 2215 non-null float64\n",
      "PopDens                  2215 non-null float64\n",
      "PctUsePubTrans           2215 non-null float64\n",
      "PolicCars                343 non-null float64\n",
      "PolicOperBudg            343 non-null float64\n",
      "LemasPctPolicOnPatr      343 non-null float64\n",
      "LemasGangUnitDeploy      343 non-null float64\n",
      "LemasPctOfficDrugUn      2215 non-null float64\n",
      "PolicBudgPerPop          343 non-null float64\n",
      "murders                  2215 non-null int64\n",
      "murdPerPop               2215 non-null float64\n",
      "rapes                    2007 non-null float64\n",
      "rapesPerPop              2007 non-null float64\n",
      "robberies                2214 non-null float64\n",
      "robbbPerPop              2214 non-null float64\n",
      "assaults                 2202 non-null float64\n",
      "assaultPerPop            2202 non-null float64\n",
      "burglaries               2212 non-null float64\n",
      "burglPerPop              2212 non-null float64\n",
      "larcenies                2212 non-null float64\n",
      "larcPerPop               2212 non-null float64\n",
      "autoTheft                2212 non-null float64\n",
      "autoTheftPerPop          2212 non-null float64\n",
      "arsons                   2124 non-null float64\n",
      "arsonsPerPop             2124 non-null float64\n",
      "ViolentCrimesPerPop      1994 non-null float64\n",
      "nonViolPerPop            2118 non-null float64\n",
      "dtypes: float64(116), int64(29), object(2)\n",
      "memory usage: 2.5+ MB\n"
     ]
    }
   ],
   "source": [
    "dataset.info(verbose=True, null_counts=True)"
   ]
  },
  {
   "cell_type": "code",
   "execution_count": 10,
   "metadata": {},
   "outputs": [
    {
     "name": "stdout",
     "output_type": "stream",
     "text": [
      "countyCode 1221\n",
      "communityCode 1224\n",
      "LemasSwornFT 1872\n",
      "LemasSwFTPerPop 1872\n",
      "LemasSwFTFieldOps 1872\n",
      "LemasSwFTFieldPerPop 1872\n",
      "LemasTotalReq 1872\n",
      "LemasTotReqPerPop 1872\n",
      "PolicReqPerOffic 1872\n",
      "PolicPerPop 1872\n",
      "RacialMatchCommPol 1872\n",
      "PctPolicWhite 1872\n",
      "PctPolicBlack 1872\n",
      "PctPolicHisp 1872\n",
      "PctPolicAsian 1872\n",
      "PctPolicMinor 1872\n",
      "OfficAssgnDrugUnits 1872\n",
      "NumKindsDrugsSeiz 1872\n",
      "PolicAveOTWorked 1872\n",
      "PolicCars 1872\n",
      "PolicOperBudg 1872\n",
      "LemasPctPolicOnPatr 1872\n",
      "LemasGangUnitDeploy 1872\n",
      "PolicBudgPerPop 1872\n"
     ]
    }
   ],
   "source": [
    "number_o_nulls = dataset.isna().sum(axis=0)\n",
    "for i in range (0, dataset.shape[1]):\n",
    "    if number_o_nulls[i] > 1000:\n",
    "        print(dataset.columns[i], number_o_nulls[i])"
   ]
  },
  {
   "cell_type": "markdown",
   "metadata": {},
   "source": [
    "W przypadku, gdy w kolumnie brakuje więcej niż ``500`` rekordów, decydujemy się nie używać jej przy uczeniu naszego modelu. \n",
    "\n",
    "W przypadku, gdy w kolumnie brakuje mniej niż ``500`` rekordów, decydujemy sie nie używać rekordów zawierających braki."
   ]
  },
  {
   "cell_type": "markdown",
   "metadata": {},
   "source": [
    "Najwięcej brakujących danych dotyczy policji, w tym danych o wyposażeniu komisariatów, pochodzeniu funkcjonariuszy oraz liczbie patroli."
   ]
  },
  {
   "cell_type": "code",
   "execution_count": 11,
   "metadata": {},
   "outputs": [
    {
     "name": "stdout",
     "output_type": "stream",
     "text": [
      "countyCode 1221\n",
      "communityCode 1224\n",
      "OtherPerCap 1\n",
      "LemasSwornFT 1872\n",
      "LemasSwFTPerPop 1872\n",
      "LemasSwFTFieldOps 1872\n",
      "LemasSwFTFieldPerPop 1872\n",
      "LemasTotalReq 1872\n",
      "LemasTotReqPerPop 1872\n",
      "PolicReqPerOffic 1872\n",
      "PolicPerPop 1872\n",
      "RacialMatchCommPol 1872\n",
      "PctPolicWhite 1872\n",
      "PctPolicBlack 1872\n",
      "PctPolicHisp 1872\n",
      "PctPolicAsian 1872\n",
      "PctPolicMinor 1872\n",
      "OfficAssgnDrugUnits 1872\n",
      "NumKindsDrugsSeiz 1872\n",
      "PolicAveOTWorked 1872\n",
      "PolicCars 1872\n",
      "PolicOperBudg 1872\n",
      "LemasPctPolicOnPatr 1872\n",
      "LemasGangUnitDeploy 1872\n",
      "PolicBudgPerPop 1872\n",
      "rapes 208\n",
      "rapesPerPop 208\n",
      "robberies 1\n",
      "robbbPerPop 1\n",
      "assaults 13\n",
      "assaultPerPop 13\n",
      "burglaries 3\n",
      "burglPerPop 3\n",
      "larcenies 3\n",
      "larcPerPop 3\n",
      "autoTheft 3\n",
      "autoTheftPerPop 3\n",
      "arsons 91\n",
      "arsonsPerPop 91\n",
      "ViolentCrimesPerPop 221\n",
      "nonViolPerPop 97\n"
     ]
    }
   ],
   "source": [
    "for i in range (0, dataset.shape[1]):\n",
    "    if number_o_nulls[i] > 0:\n",
    "        print(dataset.columns[i], number_o_nulls[i])"
   ]
  },
  {
   "cell_type": "markdown",
   "metadata": {},
   "source": [
    "### Opis danych z podziałem na tematykę"
   ]
  },
  {
   "cell_type": "markdown",
   "metadata": {},
   "source": [
    "W celu lepszej obserwacji danych podzielimy dane ze względu na tematykę."
   ]
  },
  {
   "cell_type": "markdown",
   "metadata": {},
   "source": [
    "#### Populacja"
   ]
  },
  {
   "cell_type": "markdown",
   "metadata": {},
   "source": [
    "Pierwsza część obserwacji dotyczy pochodzenia etnicznego oraz wieku populacji."
   ]
  },
  {
   "cell_type": "code",
   "execution_count": 12,
   "metadata": {},
   "outputs": [
    {
     "data": {
      "text/html": [
       "<div>\n",
       "<style scoped>\n",
       "    .dataframe tbody tr th:only-of-type {\n",
       "        vertical-align: middle;\n",
       "    }\n",
       "\n",
       "    .dataframe tbody tr th {\n",
       "        vertical-align: top;\n",
       "    }\n",
       "\n",
       "    .dataframe thead th {\n",
       "        text-align: right;\n",
       "    }\n",
       "</style>\n",
       "<table border=\"1\" class=\"dataframe\">\n",
       "  <thead>\n",
       "    <tr style=\"text-align: right;\">\n",
       "      <th></th>\n",
       "      <th>population</th>\n",
       "      <th>householdsize</th>\n",
       "      <th>racepctblack</th>\n",
       "      <th>racePctWhite</th>\n",
       "      <th>racePctAsian</th>\n",
       "      <th>racePctHisp</th>\n",
       "      <th>agePct12t21</th>\n",
       "      <th>agePct12t29</th>\n",
       "      <th>agePct16t24</th>\n",
       "      <th>agePct65up</th>\n",
       "      <th>numbUrban</th>\n",
       "      <th>pctUrban</th>\n",
       "      <th>ViolentCrimesPerPop</th>\n",
       "    </tr>\n",
       "  </thead>\n",
       "  <tbody>\n",
       "    <tr>\n",
       "      <th>0</th>\n",
       "      <td>11980</td>\n",
       "      <td>3.10</td>\n",
       "      <td>1.37</td>\n",
       "      <td>91.78</td>\n",
       "      <td>6.50</td>\n",
       "      <td>1.88</td>\n",
       "      <td>12.47</td>\n",
       "      <td>21.44</td>\n",
       "      <td>10.93</td>\n",
       "      <td>11.33</td>\n",
       "      <td>11980</td>\n",
       "      <td>100.0</td>\n",
       "      <td>41.02</td>\n",
       "    </tr>\n",
       "    <tr>\n",
       "      <th>1</th>\n",
       "      <td>23123</td>\n",
       "      <td>2.82</td>\n",
       "      <td>0.80</td>\n",
       "      <td>95.57</td>\n",
       "      <td>3.44</td>\n",
       "      <td>0.85</td>\n",
       "      <td>11.01</td>\n",
       "      <td>21.30</td>\n",
       "      <td>10.48</td>\n",
       "      <td>17.18</td>\n",
       "      <td>23123</td>\n",
       "      <td>100.0</td>\n",
       "      <td>127.56</td>\n",
       "    </tr>\n",
       "    <tr>\n",
       "      <th>2</th>\n",
       "      <td>29344</td>\n",
       "      <td>2.43</td>\n",
       "      <td>0.74</td>\n",
       "      <td>94.33</td>\n",
       "      <td>3.43</td>\n",
       "      <td>2.35</td>\n",
       "      <td>11.36</td>\n",
       "      <td>25.88</td>\n",
       "      <td>11.01</td>\n",
       "      <td>10.28</td>\n",
       "      <td>29344</td>\n",
       "      <td>100.0</td>\n",
       "      <td>218.59</td>\n",
       "    </tr>\n",
       "    <tr>\n",
       "      <th>3</th>\n",
       "      <td>16656</td>\n",
       "      <td>2.40</td>\n",
       "      <td>1.70</td>\n",
       "      <td>97.35</td>\n",
       "      <td>0.50</td>\n",
       "      <td>0.70</td>\n",
       "      <td>12.55</td>\n",
       "      <td>25.20</td>\n",
       "      <td>12.19</td>\n",
       "      <td>17.57</td>\n",
       "      <td>0</td>\n",
       "      <td>0.0</td>\n",
       "      <td>306.64</td>\n",
       "    </tr>\n",
       "    <tr>\n",
       "      <th>4</th>\n",
       "      <td>11245</td>\n",
       "      <td>2.76</td>\n",
       "      <td>0.53</td>\n",
       "      <td>89.16</td>\n",
       "      <td>1.17</td>\n",
       "      <td>0.52</td>\n",
       "      <td>24.46</td>\n",
       "      <td>40.53</td>\n",
       "      <td>28.69</td>\n",
       "      <td>12.65</td>\n",
       "      <td>0</td>\n",
       "      <td>0.0</td>\n",
       "      <td>NaN</td>\n",
       "    </tr>\n",
       "  </tbody>\n",
       "</table>\n",
       "</div>"
      ],
      "text/plain": [
       "   population  householdsize  racepctblack  racePctWhite  racePctAsian  \\\n",
       "0       11980           3.10          1.37         91.78          6.50   \n",
       "1       23123           2.82          0.80         95.57          3.44   \n",
       "2       29344           2.43          0.74         94.33          3.43   \n",
       "3       16656           2.40          1.70         97.35          0.50   \n",
       "4       11245           2.76          0.53         89.16          1.17   \n",
       "\n",
       "   racePctHisp  agePct12t21  agePct12t29  agePct16t24  agePct65up  numbUrban  \\\n",
       "0         1.88        12.47        21.44        10.93       11.33      11980   \n",
       "1         0.85        11.01        21.30        10.48       17.18      23123   \n",
       "2         2.35        11.36        25.88        11.01       10.28      29344   \n",
       "3         0.70        12.55        25.20        12.19       17.57          0   \n",
       "4         0.52        24.46        40.53        28.69       12.65          0   \n",
       "\n",
       "   pctUrban  ViolentCrimesPerPop  \n",
       "0     100.0                41.02  \n",
       "1     100.0               127.56  \n",
       "2     100.0               218.59  \n",
       "3       0.0               306.64  \n",
       "4       0.0                  NaN  "
      ]
     },
     "execution_count": 12,
     "metadata": {},
     "output_type": "execute_result"
    }
   ],
   "source": [
    "dataset_population = dataset.loc[:, 'population':'pctUrban']\n",
    "viol_crimes = dataset.loc[:, 'ViolentCrimesPerPop']\n",
    "dataset_population_with_crimes = pd.concat([dataset_population, viol_crimes], axis=1)\n",
    "dataset_population_with_crimes.head()"
   ]
  },
  {
   "cell_type": "code",
   "execution_count": 13,
   "metadata": {},
   "outputs": [
    {
     "data": {
      "text/html": [
       "<div>\n",
       "<style scoped>\n",
       "    .dataframe tbody tr th:only-of-type {\n",
       "        vertical-align: middle;\n",
       "    }\n",
       "\n",
       "    .dataframe tbody tr th {\n",
       "        vertical-align: top;\n",
       "    }\n",
       "\n",
       "    .dataframe thead th {\n",
       "        text-align: right;\n",
       "    }\n",
       "</style>\n",
       "<table border=\"1\" class=\"dataframe\">\n",
       "  <thead>\n",
       "    <tr style=\"text-align: right;\">\n",
       "      <th></th>\n",
       "      <th>count</th>\n",
       "      <th>mean</th>\n",
       "      <th>std</th>\n",
       "      <th>min</th>\n",
       "      <th>25%</th>\n",
       "      <th>50%</th>\n",
       "      <th>75%</th>\n",
       "      <th>max</th>\n",
       "    </tr>\n",
       "  </thead>\n",
       "  <tbody>\n",
       "    <tr>\n",
       "      <th>population</th>\n",
       "      <td>2215.0</td>\n",
       "      <td>53117.984199</td>\n",
       "      <td>204620.252853</td>\n",
       "      <td>10005.00</td>\n",
       "      <td>14366.000</td>\n",
       "      <td>22792.00</td>\n",
       "      <td>43024.000</td>\n",
       "      <td>7322564.00</td>\n",
       "    </tr>\n",
       "    <tr>\n",
       "      <th>householdsize</th>\n",
       "      <td>2215.0</td>\n",
       "      <td>2.707327</td>\n",
       "      <td>0.334120</td>\n",
       "      <td>1.60</td>\n",
       "      <td>2.500</td>\n",
       "      <td>2.66</td>\n",
       "      <td>2.850</td>\n",
       "      <td>5.28</td>\n",
       "    </tr>\n",
       "    <tr>\n",
       "      <th>racepctblack</th>\n",
       "      <td>2215.0</td>\n",
       "      <td>9.335102</td>\n",
       "      <td>14.247156</td>\n",
       "      <td>0.00</td>\n",
       "      <td>0.860</td>\n",
       "      <td>2.87</td>\n",
       "      <td>11.145</td>\n",
       "      <td>96.67</td>\n",
       "    </tr>\n",
       "    <tr>\n",
       "      <th>racePctWhite</th>\n",
       "      <td>2215.0</td>\n",
       "      <td>83.979819</td>\n",
       "      <td>16.419080</td>\n",
       "      <td>2.68</td>\n",
       "      <td>76.320</td>\n",
       "      <td>90.35</td>\n",
       "      <td>96.225</td>\n",
       "      <td>99.63</td>\n",
       "    </tr>\n",
       "    <tr>\n",
       "      <th>racePctAsian</th>\n",
       "      <td>2215.0</td>\n",
       "      <td>2.670203</td>\n",
       "      <td>4.473843</td>\n",
       "      <td>0.03</td>\n",
       "      <td>0.620</td>\n",
       "      <td>1.23</td>\n",
       "      <td>2.670</td>\n",
       "      <td>57.46</td>\n",
       "    </tr>\n",
       "    <tr>\n",
       "      <th>racePctHisp</th>\n",
       "      <td>2215.0</td>\n",
       "      <td>7.950176</td>\n",
       "      <td>14.589832</td>\n",
       "      <td>0.12</td>\n",
       "      <td>0.930</td>\n",
       "      <td>2.18</td>\n",
       "      <td>7.810</td>\n",
       "      <td>95.29</td>\n",
       "    </tr>\n",
       "    <tr>\n",
       "      <th>agePct12t21</th>\n",
       "      <td>2215.0</td>\n",
       "      <td>14.445837</td>\n",
       "      <td>4.518623</td>\n",
       "      <td>4.58</td>\n",
       "      <td>12.250</td>\n",
       "      <td>13.62</td>\n",
       "      <td>15.360</td>\n",
       "      <td>54.40</td>\n",
       "    </tr>\n",
       "    <tr>\n",
       "      <th>agePct12t29</th>\n",
       "      <td>2215.0</td>\n",
       "      <td>27.644840</td>\n",
       "      <td>6.181517</td>\n",
       "      <td>9.38</td>\n",
       "      <td>24.415</td>\n",
       "      <td>26.78</td>\n",
       "      <td>29.205</td>\n",
       "      <td>70.51</td>\n",
       "    </tr>\n",
       "    <tr>\n",
       "      <th>agePct16t24</th>\n",
       "      <td>2215.0</td>\n",
       "      <td>13.975142</td>\n",
       "      <td>5.970747</td>\n",
       "      <td>4.64</td>\n",
       "      <td>11.320</td>\n",
       "      <td>12.54</td>\n",
       "      <td>14.345</td>\n",
       "      <td>63.62</td>\n",
       "    </tr>\n",
       "    <tr>\n",
       "      <th>agePct65up</th>\n",
       "      <td>2215.0</td>\n",
       "      <td>11.836393</td>\n",
       "      <td>4.777565</td>\n",
       "      <td>1.66</td>\n",
       "      <td>8.750</td>\n",
       "      <td>11.73</td>\n",
       "      <td>14.415</td>\n",
       "      <td>52.77</td>\n",
       "    </tr>\n",
       "    <tr>\n",
       "      <th>numbUrban</th>\n",
       "      <td>2215.0</td>\n",
       "      <td>47734.720090</td>\n",
       "      <td>205606.693339</td>\n",
       "      <td>0.00</td>\n",
       "      <td>0.000</td>\n",
       "      <td>18041.00</td>\n",
       "      <td>41918.000</td>\n",
       "      <td>7322564.00</td>\n",
       "    </tr>\n",
       "    <tr>\n",
       "      <th>pctUrban</th>\n",
       "      <td>2215.0</td>\n",
       "      <td>70.465309</td>\n",
       "      <td>44.080275</td>\n",
       "      <td>0.00</td>\n",
       "      <td>0.000</td>\n",
       "      <td>100.00</td>\n",
       "      <td>100.000</td>\n",
       "      <td>100.00</td>\n",
       "    </tr>\n",
       "  </tbody>\n",
       "</table>\n",
       "</div>"
      ],
      "text/plain": [
       "                count          mean            std       min        25%  \\\n",
       "population     2215.0  53117.984199  204620.252853  10005.00  14366.000   \n",
       "householdsize  2215.0      2.707327       0.334120      1.60      2.500   \n",
       "racepctblack   2215.0      9.335102      14.247156      0.00      0.860   \n",
       "racePctWhite   2215.0     83.979819      16.419080      2.68     76.320   \n",
       "racePctAsian   2215.0      2.670203       4.473843      0.03      0.620   \n",
       "racePctHisp    2215.0      7.950176      14.589832      0.12      0.930   \n",
       "agePct12t21    2215.0     14.445837       4.518623      4.58     12.250   \n",
       "agePct12t29    2215.0     27.644840       6.181517      9.38     24.415   \n",
       "agePct16t24    2215.0     13.975142       5.970747      4.64     11.320   \n",
       "agePct65up     2215.0     11.836393       4.777565      1.66      8.750   \n",
       "numbUrban      2215.0  47734.720090  205606.693339      0.00      0.000   \n",
       "pctUrban       2215.0     70.465309      44.080275      0.00      0.000   \n",
       "\n",
       "                    50%        75%         max  \n",
       "population     22792.00  43024.000  7322564.00  \n",
       "householdsize      2.66      2.850        5.28  \n",
       "racepctblack       2.87     11.145       96.67  \n",
       "racePctWhite      90.35     96.225       99.63  \n",
       "racePctAsian       1.23      2.670       57.46  \n",
       "racePctHisp        2.18      7.810       95.29  \n",
       "agePct12t21       13.62     15.360       54.40  \n",
       "agePct12t29       26.78     29.205       70.51  \n",
       "agePct16t24       12.54     14.345       63.62  \n",
       "agePct65up        11.73     14.415       52.77  \n",
       "numbUrban      18041.00  41918.000  7322564.00  \n",
       "pctUrban         100.00    100.000      100.00  "
      ]
     },
     "execution_count": 13,
     "metadata": {},
     "output_type": "execute_result"
    }
   ],
   "source": [
    "dataset_population.describe().T"
   ]
  },
  {
   "cell_type": "code",
   "execution_count": 14,
   "metadata": {},
   "outputs": [
    {
     "data": {
      "text/plain": [
       "<matplotlib.axes._subplots.AxesSubplot at 0x18649d75ef0>"
      ]
     },
     "execution_count": 14,
     "metadata": {},
     "output_type": "execute_result"
    },
    {
     "data": {
      "image/png": "[encoded data removed]",
      "text/plain": [
       "<Figure size 432x288 with 2 Axes>"
      ]
     },
     "metadata": {
      "needs_background": "light"
     },
     "output_type": "display_data"
    }
   ],
   "source": [
    "sns.heatmap(dataset_population_with_crimes.corr())"
   ]
  },
  {
   "cell_type": "markdown",
   "metadata": {},
   "source": [
    "Biorąc pod uwagę dane dotyczące pochodzenia etnicznego oraz wieku populacji największe powiązanie z ilością przestępstw wykazuje współczynnik ``racepctblack``, ``racePctHisp`` oraz ``population``. Odwrotnie powiązany ze zmienną jest współczynnik ``racePctWhite``."
   ]
  },
  {
   "cell_type": "markdown",
   "metadata": {},
   "source": [
    "#### Dochód"
   ]
  },
  {
   "cell_type": "markdown",
   "metadata": {},
   "source": [
    "Kolejna część obserwacji dotyczy dochodów."
   ]
  },
  {
   "cell_type": "code",
   "execution_count": 15,
   "metadata": {},
   "outputs": [
    {
     "data": {
      "text/html": [
       "<div>\n",
       "<style scoped>\n",
       "    .dataframe tbody tr th:only-of-type {\n",
       "        vertical-align: middle;\n",
       "    }\n",
       "\n",
       "    .dataframe tbody tr th {\n",
       "        vertical-align: top;\n",
       "    }\n",
       "\n",
       "    .dataframe thead th {\n",
       "        text-align: right;\n",
       "    }\n",
       "</style>\n",
       "<table border=\"1\" class=\"dataframe\">\n",
       "  <thead>\n",
       "    <tr style=\"text-align: right;\">\n",
       "      <th></th>\n",
       "      <th>medIncome</th>\n",
       "      <th>pctWWage</th>\n",
       "      <th>pctWFarmSelf</th>\n",
       "      <th>pctWInvInc</th>\n",
       "      <th>pctWSocSec</th>\n",
       "      <th>pctWPubAsst</th>\n",
       "      <th>pctWRetire</th>\n",
       "      <th>medFamInc</th>\n",
       "      <th>perCapInc</th>\n",
       "      <th>whitePerCap</th>\n",
       "      <th>blackPerCap</th>\n",
       "      <th>indianPerCap</th>\n",
       "      <th>AsianPerCap</th>\n",
       "      <th>OtherPerCap</th>\n",
       "      <th>HispPerCap</th>\n",
       "      <th>NumUnderPov</th>\n",
       "      <th>PctPopUnderPov</th>\n",
       "      <th>ViolentCrimesPerPop</th>\n",
       "    </tr>\n",
       "  </thead>\n",
       "  <tbody>\n",
       "    <tr>\n",
       "      <th>0</th>\n",
       "      <td>75122</td>\n",
       "      <td>89.24</td>\n",
       "      <td>1.55</td>\n",
       "      <td>70.20</td>\n",
       "      <td>23.62</td>\n",
       "      <td>1.03</td>\n",
       "      <td>18.39</td>\n",
       "      <td>79584</td>\n",
       "      <td>29711</td>\n",
       "      <td>30233</td>\n",
       "      <td>13600</td>\n",
       "      <td>5725</td>\n",
       "      <td>27101</td>\n",
       "      <td>5115.0</td>\n",
       "      <td>22838</td>\n",
       "      <td>227</td>\n",
       "      <td>1.96</td>\n",
       "      <td>41.02</td>\n",
       "    </tr>\n",
       "    <tr>\n",
       "      <th>1</th>\n",
       "      <td>47917</td>\n",
       "      <td>78.99</td>\n",
       "      <td>1.11</td>\n",
       "      <td>64.11</td>\n",
       "      <td>35.50</td>\n",
       "      <td>2.75</td>\n",
       "      <td>22.85</td>\n",
       "      <td>55323</td>\n",
       "      <td>20148</td>\n",
       "      <td>20191</td>\n",
       "      <td>18137</td>\n",
       "      <td>0</td>\n",
       "      <td>20074</td>\n",
       "      <td>5250.0</td>\n",
       "      <td>12222</td>\n",
       "      <td>885</td>\n",
       "      <td>3.98</td>\n",
       "      <td>127.56</td>\n",
       "    </tr>\n",
       "    <tr>\n",
       "      <th>2</th>\n",
       "      <td>35669</td>\n",
       "      <td>82.00</td>\n",
       "      <td>1.15</td>\n",
       "      <td>55.73</td>\n",
       "      <td>22.25</td>\n",
       "      <td>2.94</td>\n",
       "      <td>14.56</td>\n",
       "      <td>42112</td>\n",
       "      <td>16946</td>\n",
       "      <td>17103</td>\n",
       "      <td>16644</td>\n",
       "      <td>21606</td>\n",
       "      <td>15528</td>\n",
       "      <td>5954.0</td>\n",
       "      <td>8405</td>\n",
       "      <td>1389</td>\n",
       "      <td>4.75</td>\n",
       "      <td>218.59</td>\n",
       "    </tr>\n",
       "    <tr>\n",
       "      <th>3</th>\n",
       "      <td>20580</td>\n",
       "      <td>68.15</td>\n",
       "      <td>0.24</td>\n",
       "      <td>38.95</td>\n",
       "      <td>39.48</td>\n",
       "      <td>11.71</td>\n",
       "      <td>18.33</td>\n",
       "      <td>26501</td>\n",
       "      <td>10810</td>\n",
       "      <td>10909</td>\n",
       "      <td>9984</td>\n",
       "      <td>4941</td>\n",
       "      <td>3541</td>\n",
       "      <td>2451.0</td>\n",
       "      <td>4391</td>\n",
       "      <td>2831</td>\n",
       "      <td>17.23</td>\n",
       "      <td>306.64</td>\n",
       "    </tr>\n",
       "    <tr>\n",
       "      <th>4</th>\n",
       "      <td>17390</td>\n",
       "      <td>69.33</td>\n",
       "      <td>0.55</td>\n",
       "      <td>42.82</td>\n",
       "      <td>32.16</td>\n",
       "      <td>11.21</td>\n",
       "      <td>14.43</td>\n",
       "      <td>24018</td>\n",
       "      <td>8483</td>\n",
       "      <td>9009</td>\n",
       "      <td>887</td>\n",
       "      <td>4425</td>\n",
       "      <td>3352</td>\n",
       "      <td>3000.0</td>\n",
       "      <td>1328</td>\n",
       "      <td>2855</td>\n",
       "      <td>29.99</td>\n",
       "      <td>NaN</td>\n",
       "    </tr>\n",
       "  </tbody>\n",
       "</table>\n",
       "</div>"
      ],
      "text/plain": [
       "   medIncome  pctWWage  pctWFarmSelf  pctWInvInc  pctWSocSec  pctWPubAsst  \\\n",
       "0      75122     89.24          1.55       70.20       23.62         1.03   \n",
       "1      47917     78.99          1.11       64.11       35.50         2.75   \n",
       "2      35669     82.00          1.15       55.73       22.25         2.94   \n",
       "3      20580     68.15          0.24       38.95       39.48        11.71   \n",
       "4      17390     69.33          0.55       42.82       32.16        11.21   \n",
       "\n",
       "   pctWRetire  medFamInc  perCapInc  whitePerCap  blackPerCap  indianPerCap  \\\n",
       "0       18.39      79584      29711        30233        13600          5725   \n",
       "1       22.85      55323      20148        20191        18137             0   \n",
       "2       14.56      42112      16946        17103        16644         21606   \n",
       "3       18.33      26501      10810        10909         9984          4941   \n",
       "4       14.43      24018       8483         9009          887          4425   \n",
       "\n",
       "   AsianPerCap  OtherPerCap  HispPerCap  NumUnderPov  PctPopUnderPov  \\\n",
       "0        27101       5115.0       22838          227            1.96   \n",
       "1        20074       5250.0       12222          885            3.98   \n",
       "2        15528       5954.0        8405         1389            4.75   \n",
       "3         3541       2451.0        4391         2831           17.23   \n",
       "4         3352       3000.0        1328         2855           29.99   \n",
       "\n",
       "   ViolentCrimesPerPop  \n",
       "0                41.02  \n",
       "1               127.56  \n",
       "2               218.59  \n",
       "3               306.64  \n",
       "4                  NaN  "
      ]
     },
     "execution_count": 15,
     "metadata": {},
     "output_type": "execute_result"
    }
   ],
   "source": [
    "dataset_income = dataset.loc[:, 'medIncome':'PctPopUnderPov']\n",
    "viol_crimes = dataset.loc[:, 'ViolentCrimesPerPop']\n",
    "dataset_income_with_crimes = pd.concat([dataset_income, viol_crimes], axis=1)\n",
    "dataset_income_with_crimes.head()"
   ]
  },
  {
   "cell_type": "code",
   "execution_count": 16,
   "metadata": {},
   "outputs": [
    {
     "data": {
      "text/html": [
       "<div>\n",
       "<style scoped>\n",
       "    .dataframe tbody tr th:only-of-type {\n",
       "        vertical-align: middle;\n",
       "    }\n",
       "\n",
       "    .dataframe tbody tr th {\n",
       "        vertical-align: top;\n",
       "    }\n",
       "\n",
       "    .dataframe thead th {\n",
       "        text-align: right;\n",
       "    }\n",
       "</style>\n",
       "<table border=\"1\" class=\"dataframe\">\n",
       "  <thead>\n",
       "    <tr style=\"text-align: right;\">\n",
       "      <th></th>\n",
       "      <th>count</th>\n",
       "      <th>mean</th>\n",
       "      <th>std</th>\n",
       "      <th>min</th>\n",
       "      <th>25%</th>\n",
       "      <th>50%</th>\n",
       "      <th>75%</th>\n",
       "      <th>max</th>\n",
       "    </tr>\n",
       "  </thead>\n",
       "  <tbody>\n",
       "    <tr>\n",
       "      <th>medIncome</th>\n",
       "      <td>2215.0</td>\n",
       "      <td>33984.696163</td>\n",
       "      <td>13424.680011</td>\n",
       "      <td>8866.00</td>\n",
       "      <td>23817.000</td>\n",
       "      <td>31441.00</td>\n",
       "      <td>41480.500</td>\n",
       "      <td>123625.00</td>\n",
       "    </tr>\n",
       "    <tr>\n",
       "      <th>pctWWage</th>\n",
       "      <td>2215.0</td>\n",
       "      <td>78.312758</td>\n",
       "      <td>7.950672</td>\n",
       "      <td>31.68</td>\n",
       "      <td>73.400</td>\n",
       "      <td>78.61</td>\n",
       "      <td>84.030</td>\n",
       "      <td>96.76</td>\n",
       "    </tr>\n",
       "    <tr>\n",
       "      <th>pctWFarmSelf</th>\n",
       "      <td>2215.0</td>\n",
       "      <td>0.881842</td>\n",
       "      <td>0.689006</td>\n",
       "      <td>0.00</td>\n",
       "      <td>0.460</td>\n",
       "      <td>0.69</td>\n",
       "      <td>1.100</td>\n",
       "      <td>6.53</td>\n",
       "    </tr>\n",
       "    <tr>\n",
       "      <th>pctWInvInc</th>\n",
       "      <td>2215.0</td>\n",
       "      <td>43.750935</td>\n",
       "      <td>12.787925</td>\n",
       "      <td>5.81</td>\n",
       "      <td>34.680</td>\n",
       "      <td>42.88</td>\n",
       "      <td>52.740</td>\n",
       "      <td>89.04</td>\n",
       "    </tr>\n",
       "    <tr>\n",
       "      <th>pctWSocSec</th>\n",
       "      <td>2215.0</td>\n",
       "      <td>26.409418</td>\n",
       "      <td>8.295604</td>\n",
       "      <td>4.81</td>\n",
       "      <td>20.770</td>\n",
       "      <td>26.59</td>\n",
       "      <td>31.715</td>\n",
       "      <td>76.39</td>\n",
       "    </tr>\n",
       "    <tr>\n",
       "      <th>pctWPubAsst</th>\n",
       "      <td>2215.0</td>\n",
       "      <td>6.801445</td>\n",
       "      <td>4.700335</td>\n",
       "      <td>0.18</td>\n",
       "      <td>3.270</td>\n",
       "      <td>5.61</td>\n",
       "      <td>9.105</td>\n",
       "      <td>44.82</td>\n",
       "    </tr>\n",
       "    <tr>\n",
       "      <th>pctWRetire</th>\n",
       "      <td>2215.0</td>\n",
       "      <td>15.969002</td>\n",
       "      <td>4.622553</td>\n",
       "      <td>3.46</td>\n",
       "      <td>12.875</td>\n",
       "      <td>15.65</td>\n",
       "      <td>18.755</td>\n",
       "      <td>45.51</td>\n",
       "    </tr>\n",
       "    <tr>\n",
       "      <th>medFamInc</th>\n",
       "      <td>2215.0</td>\n",
       "      <td>39857.055079</td>\n",
       "      <td>14251.206032</td>\n",
       "      <td>10447.00</td>\n",
       "      <td>29538.000</td>\n",
       "      <td>36678.00</td>\n",
       "      <td>46999.000</td>\n",
       "      <td>139008.00</td>\n",
       "    </tr>\n",
       "    <tr>\n",
       "      <th>perCapInc</th>\n",
       "      <td>2215.0</td>\n",
       "      <td>15603.524605</td>\n",
       "      <td>6281.558523</td>\n",
       "      <td>5237.00</td>\n",
       "      <td>11602.500</td>\n",
       "      <td>14101.00</td>\n",
       "      <td>17795.000</td>\n",
       "      <td>63302.00</td>\n",
       "    </tr>\n",
       "    <tr>\n",
       "      <th>whitePerCap</th>\n",
       "      <td>2215.0</td>\n",
       "      <td>16567.698420</td>\n",
       "      <td>6346.840251</td>\n",
       "      <td>5472.00</td>\n",
       "      <td>12610.500</td>\n",
       "      <td>15073.00</td>\n",
       "      <td>18609.500</td>\n",
       "      <td>68850.00</td>\n",
       "    </tr>\n",
       "    <tr>\n",
       "      <th>blackPerCap</th>\n",
       "      <td>2215.0</td>\n",
       "      <td>11541.749436</td>\n",
       "      <td>9232.102062</td>\n",
       "      <td>0.00</td>\n",
       "      <td>6742.500</td>\n",
       "      <td>9777.00</td>\n",
       "      <td>14526.000</td>\n",
       "      <td>212120.00</td>\n",
       "    </tr>\n",
       "    <tr>\n",
       "      <th>indianPerCap</th>\n",
       "      <td>2215.0</td>\n",
       "      <td>12229.191422</td>\n",
       "      <td>14853.836177</td>\n",
       "      <td>0.00</td>\n",
       "      <td>6345.000</td>\n",
       "      <td>9895.00</td>\n",
       "      <td>14757.500</td>\n",
       "      <td>480000.00</td>\n",
       "    </tr>\n",
       "    <tr>\n",
       "      <th>AsianPerCap</th>\n",
       "      <td>2215.0</td>\n",
       "      <td>14227.989616</td>\n",
       "      <td>9881.266395</td>\n",
       "      <td>0.00</td>\n",
       "      <td>8285.500</td>\n",
       "      <td>12250.00</td>\n",
       "      <td>17327.500</td>\n",
       "      <td>106165.00</td>\n",
       "    </tr>\n",
       "    <tr>\n",
       "      <th>OtherPerCap</th>\n",
       "      <td>2214.0</td>\n",
       "      <td>9442.765131</td>\n",
       "      <td>7926.466713</td>\n",
       "      <td>0.00</td>\n",
       "      <td>5528.250</td>\n",
       "      <td>8186.00</td>\n",
       "      <td>11525.500</td>\n",
       "      <td>137000.00</td>\n",
       "    </tr>\n",
       "    <tr>\n",
       "      <th>HispPerCap</th>\n",
       "      <td>2215.0</td>\n",
       "      <td>11018.998194</td>\n",
       "      <td>5884.063446</td>\n",
       "      <td>0.00</td>\n",
       "      <td>7274.000</td>\n",
       "      <td>9721.00</td>\n",
       "      <td>13418.000</td>\n",
       "      <td>54648.00</td>\n",
       "    </tr>\n",
       "    <tr>\n",
       "      <th>NumUnderPov</th>\n",
       "      <td>2215.0</td>\n",
       "      <td>7590.853273</td>\n",
       "      <td>39361.460012</td>\n",
       "      <td>78.00</td>\n",
       "      <td>912.500</td>\n",
       "      <td>2142.00</td>\n",
       "      <td>4988.000</td>\n",
       "      <td>1384994.00</td>\n",
       "    </tr>\n",
       "    <tr>\n",
       "      <th>PctPopUnderPov</th>\n",
       "      <td>2215.0</td>\n",
       "      <td>11.620537</td>\n",
       "      <td>8.600352</td>\n",
       "      <td>0.64</td>\n",
       "      <td>4.510</td>\n",
       "      <td>9.33</td>\n",
       "      <td>16.905</td>\n",
       "      <td>58.00</td>\n",
       "    </tr>\n",
       "  </tbody>\n",
       "</table>\n",
       "</div>"
      ],
      "text/plain": [
       "                 count          mean           std       min        25%  \\\n",
       "medIncome       2215.0  33984.696163  13424.680011   8866.00  23817.000   \n",
       "pctWWage        2215.0     78.312758      7.950672     31.68     73.400   \n",
       "pctWFarmSelf    2215.0      0.881842      0.689006      0.00      0.460   \n",
       "pctWInvInc      2215.0     43.750935     12.787925      5.81     34.680   \n",
       "pctWSocSec      2215.0     26.409418      8.295604      4.81     20.770   \n",
       "pctWPubAsst     2215.0      6.801445      4.700335      0.18      3.270   \n",
       "pctWRetire      2215.0     15.969002      4.622553      3.46     12.875   \n",
       "medFamInc       2215.0  39857.055079  14251.206032  10447.00  29538.000   \n",
       "perCapInc       2215.0  15603.524605   6281.558523   5237.00  11602.500   \n",
       "whitePerCap     2215.0  16567.698420   6346.840251   5472.00  12610.500   \n",
       "blackPerCap     2215.0  11541.749436   9232.102062      0.00   6742.500   \n",
       "indianPerCap    2215.0  12229.191422  14853.836177      0.00   6345.000   \n",
       "AsianPerCap     2215.0  14227.989616   9881.266395      0.00   8285.500   \n",
       "OtherPerCap     2214.0   9442.765131   7926.466713      0.00   5528.250   \n",
       "HispPerCap      2215.0  11018.998194   5884.063446      0.00   7274.000   \n",
       "NumUnderPov     2215.0   7590.853273  39361.460012     78.00    912.500   \n",
       "PctPopUnderPov  2215.0     11.620537      8.600352      0.64      4.510   \n",
       "\n",
       "                     50%        75%         max  \n",
       "medIncome       31441.00  41480.500   123625.00  \n",
       "pctWWage           78.61     84.030       96.76  \n",
       "pctWFarmSelf        0.69      1.100        6.53  \n",
       "pctWInvInc         42.88     52.740       89.04  \n",
       "pctWSocSec         26.59     31.715       76.39  \n",
       "pctWPubAsst         5.61      9.105       44.82  \n",
       "pctWRetire         15.65     18.755       45.51  \n",
       "medFamInc       36678.00  46999.000   139008.00  \n",
       "perCapInc       14101.00  17795.000    63302.00  \n",
       "whitePerCap     15073.00  18609.500    68850.00  \n",
       "blackPerCap      9777.00  14526.000   212120.00  \n",
       "indianPerCap     9895.00  14757.500   480000.00  \n",
       "AsianPerCap     12250.00  17327.500   106165.00  \n",
       "OtherPerCap      8186.00  11525.500   137000.00  \n",
       "HispPerCap       9721.00  13418.000    54648.00  \n",
       "NumUnderPov      2142.00   4988.000  1384994.00  \n",
       "PctPopUnderPov      9.33     16.905       58.00  "
      ]
     },
     "execution_count": 16,
     "metadata": {},
     "output_type": "execute_result"
    }
   ],
   "source": [
    "dataset_income.describe().T"
   ]
  },
  {
   "cell_type": "code",
   "execution_count": 17,
   "metadata": {},
   "outputs": [
    {
     "data": {
      "text/plain": [
       "<matplotlib.axes._subplots.AxesSubplot at 0x18649c67be0>"
      ]
     },
     "execution_count": 17,
     "metadata": {},
     "output_type": "execute_result"
    },
    {
     "data": {
      "image/png": "[encoded data removed]",
      "text/plain": [
       "<Figure size 432x288 with 2 Axes>"
      ]
     },
     "metadata": {
      "needs_background": "light"
     },
     "output_type": "display_data"
    }
   ],
   "source": [
    "sns.heatmap(dataset_income_with_crimes.corr())"
   ]
  },
  {
   "cell_type": "markdown",
   "metadata": {},
   "source": [
    "Biorąc pod uwagę dane dotyczące dochodu populacji największe powiązanie z ilością przestępstw wykazuje współczynnik ``pctWPubAsst``, ``NumUnderPov`` oraz ``PctPopUnderPov``. Odwrotnie powiązany ze zmienną jest współczynnik ``pctWInvInc``."
   ]
  },
  {
   "cell_type": "markdown",
   "metadata": {},
   "source": [
    "#### Edukacja oraz zatrudnienie"
   ]
  },
  {
   "cell_type": "markdown",
   "metadata": {},
   "source": [
    "Kolejna część obserwacji dotyczy edukacji oraz zatrudnienia."
   ]
  },
  {
   "cell_type": "code",
   "execution_count": 18,
   "metadata": {},
   "outputs": [
    {
     "data": {
      "text/html": [
       "<div>\n",
       "<style scoped>\n",
       "    .dataframe tbody tr th:only-of-type {\n",
       "        vertical-align: middle;\n",
       "    }\n",
       "\n",
       "    .dataframe tbody tr th {\n",
       "        vertical-align: top;\n",
       "    }\n",
       "\n",
       "    .dataframe thead th {\n",
       "        text-align: right;\n",
       "    }\n",
       "</style>\n",
       "<table border=\"1\" class=\"dataframe\">\n",
       "  <thead>\n",
       "    <tr style=\"text-align: right;\">\n",
       "      <th></th>\n",
       "      <th>PctLess9thGrade</th>\n",
       "      <th>PctNotHSGrad</th>\n",
       "      <th>PctBSorMore</th>\n",
       "      <th>PctUnemployed</th>\n",
       "      <th>PctEmploy</th>\n",
       "      <th>PctEmplManu</th>\n",
       "      <th>PctEmplProfServ</th>\n",
       "      <th>PctOccupManu</th>\n",
       "      <th>PctOccupMgmtProf</th>\n",
       "      <th>ViolentCrimesPerPop</th>\n",
       "    </tr>\n",
       "  </thead>\n",
       "  <tbody>\n",
       "    <tr>\n",
       "      <th>0</th>\n",
       "      <td>5.81</td>\n",
       "      <td>9.90</td>\n",
       "      <td>48.18</td>\n",
       "      <td>2.70</td>\n",
       "      <td>64.55</td>\n",
       "      <td>14.65</td>\n",
       "      <td>28.82</td>\n",
       "      <td>5.49</td>\n",
       "      <td>50.73</td>\n",
       "      <td>41.02</td>\n",
       "    </tr>\n",
       "    <tr>\n",
       "      <th>1</th>\n",
       "      <td>5.61</td>\n",
       "      <td>13.72</td>\n",
       "      <td>29.89</td>\n",
       "      <td>2.43</td>\n",
       "      <td>61.96</td>\n",
       "      <td>12.26</td>\n",
       "      <td>29.28</td>\n",
       "      <td>6.39</td>\n",
       "      <td>37.64</td>\n",
       "      <td>127.56</td>\n",
       "    </tr>\n",
       "    <tr>\n",
       "      <th>2</th>\n",
       "      <td>2.80</td>\n",
       "      <td>9.09</td>\n",
       "      <td>30.13</td>\n",
       "      <td>4.01</td>\n",
       "      <td>69.80</td>\n",
       "      <td>15.95</td>\n",
       "      <td>21.52</td>\n",
       "      <td>8.79</td>\n",
       "      <td>32.48</td>\n",
       "      <td>218.59</td>\n",
       "    </tr>\n",
       "    <tr>\n",
       "      <th>3</th>\n",
       "      <td>11.05</td>\n",
       "      <td>33.68</td>\n",
       "      <td>10.81</td>\n",
       "      <td>9.86</td>\n",
       "      <td>54.74</td>\n",
       "      <td>31.22</td>\n",
       "      <td>27.43</td>\n",
       "      <td>26.76</td>\n",
       "      <td>22.71</td>\n",
       "      <td>306.64</td>\n",
       "    </tr>\n",
       "    <tr>\n",
       "      <th>4</th>\n",
       "      <td>12.15</td>\n",
       "      <td>23.06</td>\n",
       "      <td>25.28</td>\n",
       "      <td>9.08</td>\n",
       "      <td>52.44</td>\n",
       "      <td>6.89</td>\n",
       "      <td>36.54</td>\n",
       "      <td>10.94</td>\n",
       "      <td>27.80</td>\n",
       "      <td>NaN</td>\n",
       "    </tr>\n",
       "  </tbody>\n",
       "</table>\n",
       "</div>"
      ],
      "text/plain": [
       "   PctLess9thGrade  PctNotHSGrad  PctBSorMore  PctUnemployed  PctEmploy  \\\n",
       "0             5.81          9.90        48.18           2.70      64.55   \n",
       "1             5.61         13.72        29.89           2.43      61.96   \n",
       "2             2.80          9.09        30.13           4.01      69.80   \n",
       "3            11.05         33.68        10.81           9.86      54.74   \n",
       "4            12.15         23.06        25.28           9.08      52.44   \n",
       "\n",
       "   PctEmplManu  PctEmplProfServ  PctOccupManu  PctOccupMgmtProf  \\\n",
       "0        14.65            28.82          5.49             50.73   \n",
       "1        12.26            29.28          6.39             37.64   \n",
       "2        15.95            21.52          8.79             32.48   \n",
       "3        31.22            27.43         26.76             22.71   \n",
       "4         6.89            36.54         10.94             27.80   \n",
       "\n",
       "   ViolentCrimesPerPop  \n",
       "0                41.02  \n",
       "1               127.56  \n",
       "2               218.59  \n",
       "3               306.64  \n",
       "4                  NaN  "
      ]
     },
     "execution_count": 18,
     "metadata": {},
     "output_type": "execute_result"
    }
   ],
   "source": [
    "dataset_education = dataset.loc[:, 'PctLess9thGrade':'PctOccupMgmtProf']\n",
    "viol_crimes = dataset.loc[:, 'ViolentCrimesPerPop']\n",
    "dataset_education_with_crimes = pd.concat([dataset_education, viol_crimes], axis=1)\n",
    "dataset_education_with_crimes.head()"
   ]
  },
  {
   "cell_type": "code",
   "execution_count": 19,
   "metadata": {},
   "outputs": [
    {
     "data": {
      "text/html": [
       "<div>\n",
       "<style scoped>\n",
       "    .dataframe tbody tr th:only-of-type {\n",
       "        vertical-align: middle;\n",
       "    }\n",
       "\n",
       "    .dataframe tbody tr th {\n",
       "        vertical-align: top;\n",
       "    }\n",
       "\n",
       "    .dataframe thead th {\n",
       "        text-align: right;\n",
       "    }\n",
       "</style>\n",
       "<table border=\"1\" class=\"dataframe\">\n",
       "  <thead>\n",
       "    <tr style=\"text-align: right;\">\n",
       "      <th></th>\n",
       "      <th>count</th>\n",
       "      <th>mean</th>\n",
       "      <th>std</th>\n",
       "      <th>min</th>\n",
       "      <th>25%</th>\n",
       "      <th>50%</th>\n",
       "      <th>75%</th>\n",
       "      <th>max</th>\n",
       "    </tr>\n",
       "  </thead>\n",
       "  <tbody>\n",
       "    <tr>\n",
       "      <th>PctLess9thGrade</th>\n",
       "      <td>2215.0</td>\n",
       "      <td>9.186646</td>\n",
       "      <td>6.666703</td>\n",
       "      <td>0.20</td>\n",
       "      <td>4.640</td>\n",
       "      <td>7.74</td>\n",
       "      <td>11.835</td>\n",
       "      <td>49.89</td>\n",
       "    </tr>\n",
       "    <tr>\n",
       "      <th>PctNotHSGrad</th>\n",
       "      <td>2215.0</td>\n",
       "      <td>22.305120</td>\n",
       "      <td>10.989517</td>\n",
       "      <td>1.46</td>\n",
       "      <td>13.920</td>\n",
       "      <td>21.38</td>\n",
       "      <td>29.195</td>\n",
       "      <td>73.66</td>\n",
       "    </tr>\n",
       "    <tr>\n",
       "      <th>PctBSorMore</th>\n",
       "      <td>2215.0</td>\n",
       "      <td>23.056876</td>\n",
       "      <td>12.687213</td>\n",
       "      <td>1.63</td>\n",
       "      <td>14.095</td>\n",
       "      <td>19.65</td>\n",
       "      <td>29.055</td>\n",
       "      <td>79.18</td>\n",
       "    </tr>\n",
       "    <tr>\n",
       "      <th>PctUnemployed</th>\n",
       "      <td>2215.0</td>\n",
       "      <td>6.045242</td>\n",
       "      <td>2.895618</td>\n",
       "      <td>1.32</td>\n",
       "      <td>4.045</td>\n",
       "      <td>5.45</td>\n",
       "      <td>7.440</td>\n",
       "      <td>31.23</td>\n",
       "    </tr>\n",
       "    <tr>\n",
       "      <th>PctEmploy</th>\n",
       "      <td>2215.0</td>\n",
       "      <td>62.021612</td>\n",
       "      <td>8.312045</td>\n",
       "      <td>24.82</td>\n",
       "      <td>56.490</td>\n",
       "      <td>62.44</td>\n",
       "      <td>67.825</td>\n",
       "      <td>84.67</td>\n",
       "    </tr>\n",
       "    <tr>\n",
       "      <th>PctEmplManu</th>\n",
       "      <td>2215.0</td>\n",
       "      <td>18.228907</td>\n",
       "      <td>8.099281</td>\n",
       "      <td>2.05</td>\n",
       "      <td>12.215</td>\n",
       "      <td>17.30</td>\n",
       "      <td>23.400</td>\n",
       "      <td>50.03</td>\n",
       "    </tr>\n",
       "    <tr>\n",
       "      <th>PctEmplProfServ</th>\n",
       "      <td>2215.0</td>\n",
       "      <td>24.532298</td>\n",
       "      <td>6.659470</td>\n",
       "      <td>8.69</td>\n",
       "      <td>20.075</td>\n",
       "      <td>23.39</td>\n",
       "      <td>27.590</td>\n",
       "      <td>62.67</td>\n",
       "    </tr>\n",
       "    <tr>\n",
       "      <th>PctOccupManu</th>\n",
       "      <td>2215.0</td>\n",
       "      <td>13.819165</td>\n",
       "      <td>6.430264</td>\n",
       "      <td>1.37</td>\n",
       "      <td>9.130</td>\n",
       "      <td>13.15</td>\n",
       "      <td>17.665</td>\n",
       "      <td>44.27</td>\n",
       "    </tr>\n",
       "    <tr>\n",
       "      <th>PctOccupMgmtProf</th>\n",
       "      <td>2215.0</td>\n",
       "      <td>28.209201</td>\n",
       "      <td>9.326123</td>\n",
       "      <td>6.48</td>\n",
       "      <td>21.910</td>\n",
       "      <td>26.24</td>\n",
       "      <td>32.815</td>\n",
       "      <td>64.97</td>\n",
       "    </tr>\n",
       "  </tbody>\n",
       "</table>\n",
       "</div>"
      ],
      "text/plain": [
       "                   count       mean        std    min     25%    50%     75%  \\\n",
       "PctLess9thGrade   2215.0   9.186646   6.666703   0.20   4.640   7.74  11.835   \n",
       "PctNotHSGrad      2215.0  22.305120  10.989517   1.46  13.920  21.38  29.195   \n",
       "PctBSorMore       2215.0  23.056876  12.687213   1.63  14.095  19.65  29.055   \n",
       "PctUnemployed     2215.0   6.045242   2.895618   1.32   4.045   5.45   7.440   \n",
       "PctEmploy         2215.0  62.021612   8.312045  24.82  56.490  62.44  67.825   \n",
       "PctEmplManu       2215.0  18.228907   8.099281   2.05  12.215  17.30  23.400   \n",
       "PctEmplProfServ   2215.0  24.532298   6.659470   8.69  20.075  23.39  27.590   \n",
       "PctOccupManu      2215.0  13.819165   6.430264   1.37   9.130  13.15  17.665   \n",
       "PctOccupMgmtProf  2215.0  28.209201   9.326123   6.48  21.910  26.24  32.815   \n",
       "\n",
       "                    max  \n",
       "PctLess9thGrade   49.89  \n",
       "PctNotHSGrad      73.66  \n",
       "PctBSorMore       79.18  \n",
       "PctUnemployed     31.23  \n",
       "PctEmploy         84.67  \n",
       "PctEmplManu       50.03  \n",
       "PctEmplProfServ   62.67  \n",
       "PctOccupManu      44.27  \n",
       "PctOccupMgmtProf  64.97  "
      ]
     },
     "execution_count": 19,
     "metadata": {},
     "output_type": "execute_result"
    }
   ],
   "source": [
    "dataset_education.describe().T"
   ]
  },
  {
   "cell_type": "code",
   "execution_count": 20,
   "metadata": {},
   "outputs": [
    {
     "data": {
      "text/plain": [
       "<matplotlib.axes._subplots.AxesSubplot at 0x18649db2860>"
      ]
     },
     "execution_count": 20,
     "metadata": {},
     "output_type": "execute_result"
    },
    {
     "data": {
      "image/png": "[encoded data removed]",
      "text/plain": [
       "<Figure size 432x288 with 2 Axes>"
      ]
     },
     "metadata": {
      "needs_background": "light"
     },
     "output_type": "display_data"
    }
   ],
   "source": [
    "sns.heatmap(dataset_education_with_crimes.corr())"
   ]
  },
  {
   "cell_type": "markdown",
   "metadata": {},
   "source": [
    "Biorąc pod uwagę dane dotyczące edukacji oraz zatrudnienia populacji największe powiązanie z ilością przestępstw wykazuje współczynnik ``PctNotHSGrad``, ``PctLess9thGrade``, ``PctOccupManu``, oraz ``PctUnemployed``."
   ]
  },
  {
   "cell_type": "markdown",
   "metadata": {},
   "source": [
    "#### Życie rodzinne"
   ]
  },
  {
   "cell_type": "markdown",
   "metadata": {},
   "source": [
    "Kolejna część obserwacji dotyczy życia rodzinnego."
   ]
  },
  {
   "cell_type": "code",
   "execution_count": 21,
   "metadata": {},
   "outputs": [
    {
     "data": {
      "text/html": [
       "<div>\n",
       "<style scoped>\n",
       "    .dataframe tbody tr th:only-of-type {\n",
       "        vertical-align: middle;\n",
       "    }\n",
       "\n",
       "    .dataframe tbody tr th {\n",
       "        vertical-align: top;\n",
       "    }\n",
       "\n",
       "    .dataframe thead th {\n",
       "        text-align: right;\n",
       "    }\n",
       "</style>\n",
       "<table border=\"1\" class=\"dataframe\">\n",
       "  <thead>\n",
       "    <tr style=\"text-align: right;\">\n",
       "      <th></th>\n",
       "      <th>MalePctDivorce</th>\n",
       "      <th>MalePctNevMarr</th>\n",
       "      <th>FemalePctDiv</th>\n",
       "      <th>TotalPctDiv</th>\n",
       "      <th>PersPerFam</th>\n",
       "      <th>PctFam2Par</th>\n",
       "      <th>PctKids2Par</th>\n",
       "      <th>PctYoungKids2Par</th>\n",
       "      <th>PctTeen2Par</th>\n",
       "      <th>PctWorkMomYoungKids</th>\n",
       "      <th>PctWorkMom</th>\n",
       "      <th>NumKidsBornNeverMar</th>\n",
       "      <th>PctKidsBornNeverMar</th>\n",
       "      <th>ViolentCrimesPerPop</th>\n",
       "    </tr>\n",
       "  </thead>\n",
       "  <tbody>\n",
       "    <tr>\n",
       "      <th>0</th>\n",
       "      <td>3.67</td>\n",
       "      <td>26.38</td>\n",
       "      <td>5.22</td>\n",
       "      <td>4.47</td>\n",
       "      <td>3.22</td>\n",
       "      <td>91.43</td>\n",
       "      <td>90.17</td>\n",
       "      <td>95.78</td>\n",
       "      <td>95.81</td>\n",
       "      <td>44.56</td>\n",
       "      <td>58.88</td>\n",
       "      <td>31</td>\n",
       "      <td>0.36</td>\n",
       "      <td>41.02</td>\n",
       "    </tr>\n",
       "    <tr>\n",
       "      <th>1</th>\n",
       "      <td>4.23</td>\n",
       "      <td>27.99</td>\n",
       "      <td>6.45</td>\n",
       "      <td>5.42</td>\n",
       "      <td>3.11</td>\n",
       "      <td>86.91</td>\n",
       "      <td>85.33</td>\n",
       "      <td>96.82</td>\n",
       "      <td>86.46</td>\n",
       "      <td>51.14</td>\n",
       "      <td>62.43</td>\n",
       "      <td>43</td>\n",
       "      <td>0.24</td>\n",
       "      <td>127.56</td>\n",
       "    </tr>\n",
       "    <tr>\n",
       "      <th>2</th>\n",
       "      <td>10.10</td>\n",
       "      <td>25.78</td>\n",
       "      <td>14.76</td>\n",
       "      <td>12.55</td>\n",
       "      <td>2.95</td>\n",
       "      <td>78.54</td>\n",
       "      <td>78.85</td>\n",
       "      <td>92.37</td>\n",
       "      <td>75.72</td>\n",
       "      <td>66.08</td>\n",
       "      <td>74.19</td>\n",
       "      <td>164</td>\n",
       "      <td>0.88</td>\n",
       "      <td>218.59</td>\n",
       "    </tr>\n",
       "    <tr>\n",
       "      <th>3</th>\n",
       "      <td>10.98</td>\n",
       "      <td>28.15</td>\n",
       "      <td>14.47</td>\n",
       "      <td>12.91</td>\n",
       "      <td>2.98</td>\n",
       "      <td>64.02</td>\n",
       "      <td>62.36</td>\n",
       "      <td>65.38</td>\n",
       "      <td>67.43</td>\n",
       "      <td>59.59</td>\n",
       "      <td>70.27</td>\n",
       "      <td>561</td>\n",
       "      <td>3.84</td>\n",
       "      <td>306.64</td>\n",
       "    </tr>\n",
       "    <tr>\n",
       "      <th>4</th>\n",
       "      <td>7.51</td>\n",
       "      <td>50.66</td>\n",
       "      <td>11.64</td>\n",
       "      <td>9.73</td>\n",
       "      <td>2.98</td>\n",
       "      <td>58.59</td>\n",
       "      <td>55.20</td>\n",
       "      <td>66.51</td>\n",
       "      <td>79.17</td>\n",
       "      <td>61.22</td>\n",
       "      <td>68.94</td>\n",
       "      <td>402</td>\n",
       "      <td>4.70</td>\n",
       "      <td>NaN</td>\n",
       "    </tr>\n",
       "  </tbody>\n",
       "</table>\n",
       "</div>"
      ],
      "text/plain": [
       "   MalePctDivorce  MalePctNevMarr  FemalePctDiv  TotalPctDiv  PersPerFam  \\\n",
       "0            3.67           26.38          5.22         4.47        3.22   \n",
       "1            4.23           27.99          6.45         5.42        3.11   \n",
       "2           10.10           25.78         14.76        12.55        2.95   \n",
       "3           10.98           28.15         14.47        12.91        2.98   \n",
       "4            7.51           50.66         11.64         9.73        2.98   \n",
       "\n",
       "   PctFam2Par  PctKids2Par  PctYoungKids2Par  PctTeen2Par  \\\n",
       "0       91.43        90.17             95.78        95.81   \n",
       "1       86.91        85.33             96.82        86.46   \n",
       "2       78.54        78.85             92.37        75.72   \n",
       "3       64.02        62.36             65.38        67.43   \n",
       "4       58.59        55.20             66.51        79.17   \n",
       "\n",
       "   PctWorkMomYoungKids  PctWorkMom  NumKidsBornNeverMar  PctKidsBornNeverMar  \\\n",
       "0                44.56       58.88                   31                 0.36   \n",
       "1                51.14       62.43                   43                 0.24   \n",
       "2                66.08       74.19                  164                 0.88   \n",
       "3                59.59       70.27                  561                 3.84   \n",
       "4                61.22       68.94                  402                 4.70   \n",
       "\n",
       "   ViolentCrimesPerPop  \n",
       "0                41.02  \n",
       "1               127.56  \n",
       "2               218.59  \n",
       "3               306.64  \n",
       "4                  NaN  "
      ]
     },
     "execution_count": 21,
     "metadata": {},
     "output_type": "execute_result"
    }
   ],
   "source": [
    "dataset_family = dataset.loc[:, 'MalePctDivorce':'PctKidsBornNeverMar']\n",
    "viol_crimes = dataset.loc[:, 'ViolentCrimesPerPop']\n",
    "dataset_family_with_crimes = pd.concat([dataset_family, viol_crimes], axis=1)\n",
    "dataset_family_with_crimes.head()"
   ]
  },
  {
   "cell_type": "code",
   "execution_count": 22,
   "metadata": {},
   "outputs": [
    {
     "data": {
      "text/html": [
       "<div>\n",
       "<style scoped>\n",
       "    .dataframe tbody tr th:only-of-type {\n",
       "        vertical-align: middle;\n",
       "    }\n",
       "\n",
       "    .dataframe tbody tr th {\n",
       "        vertical-align: top;\n",
       "    }\n",
       "\n",
       "    .dataframe thead th {\n",
       "        text-align: right;\n",
       "    }\n",
       "</style>\n",
       "<table border=\"1\" class=\"dataframe\">\n",
       "  <thead>\n",
       "    <tr style=\"text-align: right;\">\n",
       "      <th></th>\n",
       "      <th>count</th>\n",
       "      <th>mean</th>\n",
       "      <th>std</th>\n",
       "      <th>min</th>\n",
       "      <th>25%</th>\n",
       "      <th>50%</th>\n",
       "      <th>75%</th>\n",
       "      <th>max</th>\n",
       "    </tr>\n",
       "  </thead>\n",
       "  <tbody>\n",
       "    <tr>\n",
       "      <th>MalePctDivorce</th>\n",
       "      <td>2215.0</td>\n",
       "      <td>9.127585</td>\n",
       "      <td>2.802747</td>\n",
       "      <td>2.13</td>\n",
       "      <td>7.110</td>\n",
       "      <td>9.15</td>\n",
       "      <td>11.050</td>\n",
       "      <td>20.08</td>\n",
       "    </tr>\n",
       "    <tr>\n",
       "      <th>MalePctNevMarr</th>\n",
       "      <td>2215.0</td>\n",
       "      <td>30.683517</td>\n",
       "      <td>8.127991</td>\n",
       "      <td>12.06</td>\n",
       "      <td>25.450</td>\n",
       "      <td>29.00</td>\n",
       "      <td>33.410</td>\n",
       "      <td>76.60</td>\n",
       "    </tr>\n",
       "    <tr>\n",
       "      <th>FemalePctDiv</th>\n",
       "      <td>2215.0</td>\n",
       "      <td>12.325300</td>\n",
       "      <td>3.262613</td>\n",
       "      <td>3.35</td>\n",
       "      <td>9.860</td>\n",
       "      <td>12.52</td>\n",
       "      <td>14.745</td>\n",
       "      <td>23.92</td>\n",
       "    </tr>\n",
       "    <tr>\n",
       "      <th>TotalPctDiv</th>\n",
       "      <td>2215.0</td>\n",
       "      <td>10.812515</td>\n",
       "      <td>3.000883</td>\n",
       "      <td>2.83</td>\n",
       "      <td>8.575</td>\n",
       "      <td>10.90</td>\n",
       "      <td>12.985</td>\n",
       "      <td>22.23</td>\n",
       "    </tr>\n",
       "    <tr>\n",
       "      <th>PersPerFam</th>\n",
       "      <td>2215.0</td>\n",
       "      <td>3.129698</td>\n",
       "      <td>0.240743</td>\n",
       "      <td>2.29</td>\n",
       "      <td>2.990</td>\n",
       "      <td>3.10</td>\n",
       "      <td>3.220</td>\n",
       "      <td>4.64</td>\n",
       "    </tr>\n",
       "    <tr>\n",
       "      <th>PctFam2Par</th>\n",
       "      <td>2215.0</td>\n",
       "      <td>74.059129</td>\n",
       "      <td>10.525952</td>\n",
       "      <td>22.97</td>\n",
       "      <td>67.900</td>\n",
       "      <td>75.03</td>\n",
       "      <td>81.900</td>\n",
       "      <td>93.60</td>\n",
       "    </tr>\n",
       "    <tr>\n",
       "      <th>PctKids2Par</th>\n",
       "      <td>2215.0</td>\n",
       "      <td>71.227255</td>\n",
       "      <td>12.045048</td>\n",
       "      <td>18.30</td>\n",
       "      <td>63.990</td>\n",
       "      <td>72.53</td>\n",
       "      <td>80.395</td>\n",
       "      <td>92.58</td>\n",
       "    </tr>\n",
       "    <tr>\n",
       "      <th>PctYoungKids2Par</th>\n",
       "      <td>2215.0</td>\n",
       "      <td>81.865422</td>\n",
       "      <td>12.263736</td>\n",
       "      <td>8.70</td>\n",
       "      <td>74.780</td>\n",
       "      <td>83.99</td>\n",
       "      <td>91.675</td>\n",
       "      <td>100.00</td>\n",
       "    </tr>\n",
       "    <tr>\n",
       "      <th>PctTeen2Par</th>\n",
       "      <td>2215.0</td>\n",
       "      <td>75.521788</td>\n",
       "      <td>10.365262</td>\n",
       "      <td>20.20</td>\n",
       "      <td>70.170</td>\n",
       "      <td>76.92</td>\n",
       "      <td>82.765</td>\n",
       "      <td>97.34</td>\n",
       "    </tr>\n",
       "    <tr>\n",
       "      <th>PctWorkMomYoungKids</th>\n",
       "      <td>2215.0</td>\n",
       "      <td>60.542641</td>\n",
       "      <td>8.008937</td>\n",
       "      <td>24.42</td>\n",
       "      <td>55.430</td>\n",
       "      <td>60.71</td>\n",
       "      <td>65.985</td>\n",
       "      <td>87.97</td>\n",
       "    </tr>\n",
       "    <tr>\n",
       "      <th>PctWorkMom</th>\n",
       "      <td>2215.0</td>\n",
       "      <td>68.854795</td>\n",
       "      <td>6.679960</td>\n",
       "      <td>41.95</td>\n",
       "      <td>64.900</td>\n",
       "      <td>69.23</td>\n",
       "      <td>73.495</td>\n",
       "      <td>89.37</td>\n",
       "    </tr>\n",
       "    <tr>\n",
       "      <th>NumKidsBornNeverMar</th>\n",
       "      <td>2215.0</td>\n",
       "      <td>2141.418962</td>\n",
       "      <td>14692.582838</td>\n",
       "      <td>0.00</td>\n",
       "      <td>147.000</td>\n",
       "      <td>352.00</td>\n",
       "      <td>1031.500</td>\n",
       "      <td>527557.00</td>\n",
       "    </tr>\n",
       "    <tr>\n",
       "      <th>PctKidsBornNeverMar</th>\n",
       "      <td>2215.0</td>\n",
       "      <td>3.115499</td>\n",
       "      <td>3.127681</td>\n",
       "      <td>0.00</td>\n",
       "      <td>1.070</td>\n",
       "      <td>2.04</td>\n",
       "      <td>3.910</td>\n",
       "      <td>27.35</td>\n",
       "    </tr>\n",
       "  </tbody>\n",
       "</table>\n",
       "</div>"
      ],
      "text/plain": [
       "                      count         mean           std    min      25%  \\\n",
       "MalePctDivorce       2215.0     9.127585      2.802747   2.13    7.110   \n",
       "MalePctNevMarr       2215.0    30.683517      8.127991  12.06   25.450   \n",
       "FemalePctDiv         2215.0    12.325300      3.262613   3.35    9.860   \n",
       "TotalPctDiv          2215.0    10.812515      3.000883   2.83    8.575   \n",
       "PersPerFam           2215.0     3.129698      0.240743   2.29    2.990   \n",
       "PctFam2Par           2215.0    74.059129     10.525952  22.97   67.900   \n",
       "PctKids2Par          2215.0    71.227255     12.045048  18.30   63.990   \n",
       "PctYoungKids2Par     2215.0    81.865422     12.263736   8.70   74.780   \n",
       "PctTeen2Par          2215.0    75.521788     10.365262  20.20   70.170   \n",
       "PctWorkMomYoungKids  2215.0    60.542641      8.008937  24.42   55.430   \n",
       "PctWorkMom           2215.0    68.854795      6.679960  41.95   64.900   \n",
       "NumKidsBornNeverMar  2215.0  2141.418962  14692.582838   0.00  147.000   \n",
       "PctKidsBornNeverMar  2215.0     3.115499      3.127681   0.00    1.070   \n",
       "\n",
       "                        50%       75%        max  \n",
       "MalePctDivorce         9.15    11.050      20.08  \n",
       "MalePctNevMarr        29.00    33.410      76.60  \n",
       "FemalePctDiv          12.52    14.745      23.92  \n",
       "TotalPctDiv           10.90    12.985      22.23  \n",
       "PersPerFam             3.10     3.220       4.64  \n",
       "PctFam2Par            75.03    81.900      93.60  \n",
       "PctKids2Par           72.53    80.395      92.58  \n",
       "PctYoungKids2Par      83.99    91.675     100.00  \n",
       "PctTeen2Par           76.92    82.765      97.34  \n",
       "PctWorkMomYoungKids   60.71    65.985      87.97  \n",
       "PctWorkMom            69.23    73.495      89.37  \n",
       "NumKidsBornNeverMar  352.00  1031.500  527557.00  \n",
       "PctKidsBornNeverMar    2.04     3.910      27.35  "
      ]
     },
     "execution_count": 22,
     "metadata": {},
     "output_type": "execute_result"
    }
   ],
   "source": [
    "dataset_family.describe().T"
   ]
  },
  {
   "cell_type": "code",
   "execution_count": 23,
   "metadata": {},
   "outputs": [
    {
     "data": {
      "text/plain": [
       "<matplotlib.axes._subplots.AxesSubplot at 0x18649d23a90>"
      ]
     },
     "execution_count": 23,
     "metadata": {},
     "output_type": "execute_result"
    },
    {
     "data": {
      "image/png": "[encoded data removed]",
      "text/plain": [
       "<Figure size 432x288 with 2 Axes>"
      ]
     },
     "metadata": {
      "needs_background": "light"
     },
     "output_type": "display_data"
    }
   ],
   "source": [
    "sns.heatmap(dataset_family_with_crimes.corr())"
   ]
  },
  {
   "cell_type": "markdown",
   "metadata": {},
   "source": [
    "Biorąc pod uwagę dane dotyczące życia rodzinnego populacji największe powiązanie z ilością przestępstw wykazuje współczynnik \n",
    "``NumKidsBornNeverMart``, ``FemalePctDiv`` oraz ``TotalPctDiv``. Odwrotnie powiązany ze zmienną jest współczynnik ``PctKids2Par``."
   ]
  },
  {
   "cell_type": "markdown",
   "metadata": {},
   "source": [
    "#### Imigranci"
   ]
  },
  {
   "cell_type": "markdown",
   "metadata": {},
   "source": [
    "Kolejna część obserwacji dotyczy imigrantów oraz znajomości języka angielskiego."
   ]
  },
  {
   "cell_type": "code",
   "execution_count": 24,
   "metadata": {},
   "outputs": [
    {
     "data": {
      "text/html": [
       "<div>\n",
       "<style scoped>\n",
       "    .dataframe tbody tr th:only-of-type {\n",
       "        vertical-align: middle;\n",
       "    }\n",
       "\n",
       "    .dataframe tbody tr th {\n",
       "        vertical-align: top;\n",
       "    }\n",
       "\n",
       "    .dataframe thead th {\n",
       "        text-align: right;\n",
       "    }\n",
       "</style>\n",
       "<table border=\"1\" class=\"dataframe\">\n",
       "  <thead>\n",
       "    <tr style=\"text-align: right;\">\n",
       "      <th></th>\n",
       "      <th>NumImmig</th>\n",
       "      <th>PctImmigRecent</th>\n",
       "      <th>PctImmigRec5</th>\n",
       "      <th>PctImmigRec8</th>\n",
       "      <th>PctImmigRec10</th>\n",
       "      <th>PctRecentImmig</th>\n",
       "      <th>PctRecImmig5</th>\n",
       "      <th>PctRecImmig8</th>\n",
       "      <th>PctRecImmig10</th>\n",
       "      <th>PctSpeakEnglOnly</th>\n",
       "      <th>PctNotSpeakEnglWell</th>\n",
       "      <th>ViolentCrimesPerPop</th>\n",
       "    </tr>\n",
       "  </thead>\n",
       "  <tbody>\n",
       "    <tr>\n",
       "      <th>0</th>\n",
       "      <td>1277</td>\n",
       "      <td>8.69</td>\n",
       "      <td>13.00</td>\n",
       "      <td>20.99</td>\n",
       "      <td>30.93</td>\n",
       "      <td>0.93</td>\n",
       "      <td>1.39</td>\n",
       "      <td>2.24</td>\n",
       "      <td>3.30</td>\n",
       "      <td>85.68</td>\n",
       "      <td>1.37</td>\n",
       "      <td>41.02</td>\n",
       "    </tr>\n",
       "    <tr>\n",
       "      <th>1</th>\n",
       "      <td>1920</td>\n",
       "      <td>5.21</td>\n",
       "      <td>8.65</td>\n",
       "      <td>13.33</td>\n",
       "      <td>22.50</td>\n",
       "      <td>0.43</td>\n",
       "      <td>0.72</td>\n",
       "      <td>1.11</td>\n",
       "      <td>1.87</td>\n",
       "      <td>87.79</td>\n",
       "      <td>1.81</td>\n",
       "      <td>127.56</td>\n",
       "    </tr>\n",
       "    <tr>\n",
       "      <th>2</th>\n",
       "      <td>1468</td>\n",
       "      <td>16.42</td>\n",
       "      <td>23.98</td>\n",
       "      <td>32.08</td>\n",
       "      <td>35.63</td>\n",
       "      <td>0.82</td>\n",
       "      <td>1.20</td>\n",
       "      <td>1.61</td>\n",
       "      <td>1.78</td>\n",
       "      <td>93.11</td>\n",
       "      <td>1.14</td>\n",
       "      <td>218.59</td>\n",
       "    </tr>\n",
       "    <tr>\n",
       "      <th>3</th>\n",
       "      <td>339</td>\n",
       "      <td>13.86</td>\n",
       "      <td>13.86</td>\n",
       "      <td>15.34</td>\n",
       "      <td>15.34</td>\n",
       "      <td>0.28</td>\n",
       "      <td>0.28</td>\n",
       "      <td>0.31</td>\n",
       "      <td>0.31</td>\n",
       "      <td>94.98</td>\n",
       "      <td>0.56</td>\n",
       "      <td>306.64</td>\n",
       "    </tr>\n",
       "    <tr>\n",
       "      <th>4</th>\n",
       "      <td>196</td>\n",
       "      <td>46.94</td>\n",
       "      <td>56.12</td>\n",
       "      <td>67.86</td>\n",
       "      <td>69.90</td>\n",
       "      <td>0.82</td>\n",
       "      <td>0.98</td>\n",
       "      <td>1.18</td>\n",
       "      <td>1.22</td>\n",
       "      <td>94.64</td>\n",
       "      <td>0.39</td>\n",
       "      <td>NaN</td>\n",
       "    </tr>\n",
       "  </tbody>\n",
       "</table>\n",
       "</div>"
      ],
      "text/plain": [
       "   NumImmig  PctImmigRecent  PctImmigRec5  PctImmigRec8  PctImmigRec10  \\\n",
       "0      1277            8.69         13.00         20.99          30.93   \n",
       "1      1920            5.21          8.65         13.33          22.50   \n",
       "2      1468           16.42         23.98         32.08          35.63   \n",
       "3       339           13.86         13.86         15.34          15.34   \n",
       "4       196           46.94         56.12         67.86          69.90   \n",
       "\n",
       "   PctRecentImmig  PctRecImmig5  PctRecImmig8  PctRecImmig10  \\\n",
       "0            0.93          1.39          2.24           3.30   \n",
       "1            0.43          0.72          1.11           1.87   \n",
       "2            0.82          1.20          1.61           1.78   \n",
       "3            0.28          0.28          0.31           0.31   \n",
       "4            0.82          0.98          1.18           1.22   \n",
       "\n",
       "   PctSpeakEnglOnly  PctNotSpeakEnglWell  ViolentCrimesPerPop  \n",
       "0             85.68                 1.37                41.02  \n",
       "1             87.79                 1.81               127.56  \n",
       "2             93.11                 1.14               218.59  \n",
       "3             94.98                 0.56               306.64  \n",
       "4             94.64                 0.39                  NaN  "
      ]
     },
     "execution_count": 24,
     "metadata": {},
     "output_type": "execute_result"
    }
   ],
   "source": [
    "dataset_immigration = dataset.loc[:, 'NumImmig':'PctNotSpeakEnglWell']\n",
    "viol_crimes = dataset.loc[:, 'ViolentCrimesPerPop']\n",
    "dataset_immigration_with_crimes = pd.concat([dataset_immigration, viol_crimes], axis=1)\n",
    "dataset_immigration_with_crimes.head()"
   ]
  },
  {
   "cell_type": "code",
   "execution_count": 25,
   "metadata": {},
   "outputs": [
    {
     "data": {
      "text/html": [
       "<div>\n",
       "<style scoped>\n",
       "    .dataframe tbody tr th:only-of-type {\n",
       "        vertical-align: middle;\n",
       "    }\n",
       "\n",
       "    .dataframe tbody tr th {\n",
       "        vertical-align: top;\n",
       "    }\n",
       "\n",
       "    .dataframe thead th {\n",
       "        text-align: right;\n",
       "    }\n",
       "</style>\n",
       "<table border=\"1\" class=\"dataframe\">\n",
       "  <thead>\n",
       "    <tr style=\"text-align: right;\">\n",
       "      <th></th>\n",
       "      <th>count</th>\n",
       "      <th>mean</th>\n",
       "      <th>std</th>\n",
       "      <th>min</th>\n",
       "      <th>25%</th>\n",
       "      <th>50%</th>\n",
       "      <th>75%</th>\n",
       "      <th>max</th>\n",
       "    </tr>\n",
       "  </thead>\n",
       "  <tbody>\n",
       "    <tr>\n",
       "      <th>NumImmig</th>\n",
       "      <td>2215.0</td>\n",
       "      <td>6277.273589</td>\n",
       "      <td>55419.653828</td>\n",
       "      <td>20.00</td>\n",
       "      <td>400.000</td>\n",
       "      <td>1024.00</td>\n",
       "      <td>3302.000</td>\n",
       "      <td>2082931.00</td>\n",
       "    </tr>\n",
       "    <tr>\n",
       "      <th>PctImmigRecent</th>\n",
       "      <td>2215.0</td>\n",
       "      <td>13.525693</td>\n",
       "      <td>9.780098</td>\n",
       "      <td>0.00</td>\n",
       "      <td>6.695</td>\n",
       "      <td>12.26</td>\n",
       "      <td>17.950</td>\n",
       "      <td>64.29</td>\n",
       "    </tr>\n",
       "    <tr>\n",
       "      <th>PctImmigRec5</th>\n",
       "      <td>2215.0</td>\n",
       "      <td>20.421287</td>\n",
       "      <td>12.410355</td>\n",
       "      <td>0.00</td>\n",
       "      <td>11.255</td>\n",
       "      <td>19.08</td>\n",
       "      <td>27.445</td>\n",
       "      <td>76.16</td>\n",
       "    </tr>\n",
       "    <tr>\n",
       "      <th>PctImmigRec8</th>\n",
       "      <td>2215.0</td>\n",
       "      <td>27.544181</td>\n",
       "      <td>14.368813</td>\n",
       "      <td>0.00</td>\n",
       "      <td>17.205</td>\n",
       "      <td>26.72</td>\n",
       "      <td>36.495</td>\n",
       "      <td>80.81</td>\n",
       "    </tr>\n",
       "    <tr>\n",
       "      <th>PctImmigRec10</th>\n",
       "      <td>2215.0</td>\n",
       "      <td>34.733928</td>\n",
       "      <td>16.327322</td>\n",
       "      <td>0.00</td>\n",
       "      <td>22.725</td>\n",
       "      <td>34.79</td>\n",
       "      <td>46.185</td>\n",
       "      <td>88.00</td>\n",
       "    </tr>\n",
       "    <tr>\n",
       "      <th>PctRecentImmig</th>\n",
       "      <td>2215.0</td>\n",
       "      <td>1.099124</td>\n",
       "      <td>1.595766</td>\n",
       "      <td>0.00</td>\n",
       "      <td>0.170</td>\n",
       "      <td>0.50</td>\n",
       "      <td>1.310</td>\n",
       "      <td>13.71</td>\n",
       "    </tr>\n",
       "    <tr>\n",
       "      <th>PctRecImmig5</th>\n",
       "      <td>2215.0</td>\n",
       "      <td>1.697463</td>\n",
       "      <td>2.461060</td>\n",
       "      <td>0.00</td>\n",
       "      <td>0.280</td>\n",
       "      <td>0.75</td>\n",
       "      <td>2.015</td>\n",
       "      <td>19.93</td>\n",
       "    </tr>\n",
       "    <tr>\n",
       "      <th>PctRecImmig8</th>\n",
       "      <td>2215.0</td>\n",
       "      <td>2.307503</td>\n",
       "      <td>3.286648</td>\n",
       "      <td>0.00</td>\n",
       "      <td>0.390</td>\n",
       "      <td>1.04</td>\n",
       "      <td>2.700</td>\n",
       "      <td>25.34</td>\n",
       "    </tr>\n",
       "    <tr>\n",
       "      <th>PctRecImmig10</th>\n",
       "      <td>2215.0</td>\n",
       "      <td>2.943761</td>\n",
       "      <td>4.246468</td>\n",
       "      <td>0.00</td>\n",
       "      <td>0.520</td>\n",
       "      <td>1.31</td>\n",
       "      <td>3.455</td>\n",
       "      <td>32.63</td>\n",
       "    </tr>\n",
       "    <tr>\n",
       "      <th>PctSpeakEnglOnly</th>\n",
       "      <td>2215.0</td>\n",
       "      <td>87.074993</td>\n",
       "      <td>14.076087</td>\n",
       "      <td>6.15</td>\n",
       "      <td>84.380</td>\n",
       "      <td>92.18</td>\n",
       "      <td>95.455</td>\n",
       "      <td>98.98</td>\n",
       "    </tr>\n",
       "    <tr>\n",
       "      <th>PctNotSpeakEnglWell</th>\n",
       "      <td>2215.0</td>\n",
       "      <td>2.405792</td>\n",
       "      <td>4.210368</td>\n",
       "      <td>0.00</td>\n",
       "      <td>0.510</td>\n",
       "      <td>0.92</td>\n",
       "      <td>2.270</td>\n",
       "      <td>38.33</td>\n",
       "    </tr>\n",
       "  </tbody>\n",
       "</table>\n",
       "</div>"
      ],
      "text/plain": [
       "                      count         mean           std    min      25%  \\\n",
       "NumImmig             2215.0  6277.273589  55419.653828  20.00  400.000   \n",
       "PctImmigRecent       2215.0    13.525693      9.780098   0.00    6.695   \n",
       "PctImmigRec5         2215.0    20.421287     12.410355   0.00   11.255   \n",
       "PctImmigRec8         2215.0    27.544181     14.368813   0.00   17.205   \n",
       "PctImmigRec10        2215.0    34.733928     16.327322   0.00   22.725   \n",
       "PctRecentImmig       2215.0     1.099124      1.595766   0.00    0.170   \n",
       "PctRecImmig5         2215.0     1.697463      2.461060   0.00    0.280   \n",
       "PctRecImmig8         2215.0     2.307503      3.286648   0.00    0.390   \n",
       "PctRecImmig10        2215.0     2.943761      4.246468   0.00    0.520   \n",
       "PctSpeakEnglOnly     2215.0    87.074993     14.076087   6.15   84.380   \n",
       "PctNotSpeakEnglWell  2215.0     2.405792      4.210368   0.00    0.510   \n",
       "\n",
       "                         50%       75%         max  \n",
       "NumImmig             1024.00  3302.000  2082931.00  \n",
       "PctImmigRecent         12.26    17.950       64.29  \n",
       "PctImmigRec5           19.08    27.445       76.16  \n",
       "PctImmigRec8           26.72    36.495       80.81  \n",
       "PctImmigRec10          34.79    46.185       88.00  \n",
       "PctRecentImmig          0.50     1.310       13.71  \n",
       "PctRecImmig5            0.75     2.015       19.93  \n",
       "PctRecImmig8            1.04     2.700       25.34  \n",
       "PctRecImmig10           1.31     3.455       32.63  \n",
       "PctSpeakEnglOnly       92.18    95.455       98.98  \n",
       "PctNotSpeakEnglWell     0.92     2.270       38.33  "
      ]
     },
     "execution_count": 25,
     "metadata": {},
     "output_type": "execute_result"
    }
   ],
   "source": [
    "dataset_immigration.describe().T"
   ]
  },
  {
   "cell_type": "code",
   "execution_count": 26,
   "metadata": {},
   "outputs": [
    {
     "data": {
      "text/plain": [
       "<matplotlib.axes._subplots.AxesSubplot at 0x18649f26710>"
      ]
     },
     "execution_count": 26,
     "metadata": {},
     "output_type": "execute_result"
    },
    {
     "data": {
      "image/png": "[encoded data removed]",
      "text/plain": [
       "<Figure size 432x288 with 2 Axes>"
      ]
     },
     "metadata": {
      "needs_background": "light"
     },
     "output_type": "display_data"
    }
   ],
   "source": [
    "sns.heatmap(dataset_immigration_with_crimes.corr())"
   ]
  },
  {
   "cell_type": "markdown",
   "metadata": {},
   "source": [
    "Biorąc pod uwagę pochodzenie populacji widzimy, że nie ma ono znacznego wpływu na ilość przestępstw. Niemniej jednak, wśród nich największe powiązanie z ilością przestępstw wykazuje współczynnik ``PctNotSpeakEnglWell`` oraz ``PctImmigRec10``. \n",
    "Odwrotnie powiązany ze zmienną jest współczynnik ``PctSpeakEnglOnly``."
   ]
  },
  {
   "cell_type": "markdown",
   "metadata": {},
   "source": [
    "#### Warunki zamieszkania"
   ]
  },
  {
   "cell_type": "markdown",
   "metadata": {},
   "source": [
    "Kolejna część obserwacji dotyczy warunków w jakich mieszka populacja."
   ]
  },
  {
   "cell_type": "code",
   "execution_count": 27,
   "metadata": {},
   "outputs": [
    {
     "data": {
      "text/html": [
       "<div>\n",
       "<style scoped>\n",
       "    .dataframe tbody tr th:only-of-type {\n",
       "        vertical-align: middle;\n",
       "    }\n",
       "\n",
       "    .dataframe tbody tr th {\n",
       "        vertical-align: top;\n",
       "    }\n",
       "\n",
       "    .dataframe thead th {\n",
       "        text-align: right;\n",
       "    }\n",
       "</style>\n",
       "<table border=\"1\" class=\"dataframe\">\n",
       "  <thead>\n",
       "    <tr style=\"text-align: right;\">\n",
       "      <th></th>\n",
       "      <th>PctLargHouseFam</th>\n",
       "      <th>PctLargHouseOccup</th>\n",
       "      <th>PersPerOccupHous</th>\n",
       "      <th>PersPerOwnOccHous</th>\n",
       "      <th>PersPerRentOccHous</th>\n",
       "      <th>PctPersOwnOccup</th>\n",
       "      <th>PctPersDenseHous</th>\n",
       "      <th>PctHousLess3BR</th>\n",
       "      <th>MedNumBR</th>\n",
       "      <th>ViolentCrimesPerPop</th>\n",
       "    </tr>\n",
       "  </thead>\n",
       "  <tbody>\n",
       "    <tr>\n",
       "      <th>0</th>\n",
       "      <td>4.81</td>\n",
       "      <td>4.17</td>\n",
       "      <td>2.99</td>\n",
       "      <td>3.00</td>\n",
       "      <td>2.84</td>\n",
       "      <td>91.46</td>\n",
       "      <td>0.39</td>\n",
       "      <td>11.06</td>\n",
       "      <td>3</td>\n",
       "      <td>41.02</td>\n",
       "    </tr>\n",
       "    <tr>\n",
       "      <th>1</th>\n",
       "      <td>4.25</td>\n",
       "      <td>3.34</td>\n",
       "      <td>2.70</td>\n",
       "      <td>2.83</td>\n",
       "      <td>1.96</td>\n",
       "      <td>89.03</td>\n",
       "      <td>1.01</td>\n",
       "      <td>23.60</td>\n",
       "      <td>3</td>\n",
       "      <td>127.56</td>\n",
       "    </tr>\n",
       "    <tr>\n",
       "      <th>2</th>\n",
       "      <td>2.97</td>\n",
       "      <td>2.05</td>\n",
       "      <td>2.42</td>\n",
       "      <td>2.69</td>\n",
       "      <td>2.06</td>\n",
       "      <td>64.18</td>\n",
       "      <td>2.03</td>\n",
       "      <td>47.46</td>\n",
       "      <td>3</td>\n",
       "      <td>218.59</td>\n",
       "    </tr>\n",
       "    <tr>\n",
       "      <th>3</th>\n",
       "      <td>3.93</td>\n",
       "      <td>2.56</td>\n",
       "      <td>2.37</td>\n",
       "      <td>2.51</td>\n",
       "      <td>2.20</td>\n",
       "      <td>58.18</td>\n",
       "      <td>1.21</td>\n",
       "      <td>45.66</td>\n",
       "      <td>3</td>\n",
       "      <td>306.64</td>\n",
       "    </tr>\n",
       "    <tr>\n",
       "      <th>4</th>\n",
       "      <td>5.23</td>\n",
       "      <td>3.11</td>\n",
       "      <td>2.35</td>\n",
       "      <td>2.55</td>\n",
       "      <td>2.12</td>\n",
       "      <td>58.13</td>\n",
       "      <td>2.94</td>\n",
       "      <td>55.64</td>\n",
       "      <td>2</td>\n",
       "      <td>NaN</td>\n",
       "    </tr>\n",
       "  </tbody>\n",
       "</table>\n",
       "</div>"
      ],
      "text/plain": [
       "   PctLargHouseFam  PctLargHouseOccup  PersPerOccupHous  PersPerOwnOccHous  \\\n",
       "0             4.81               4.17              2.99               3.00   \n",
       "1             4.25               3.34              2.70               2.83   \n",
       "2             2.97               2.05              2.42               2.69   \n",
       "3             3.93               2.56              2.37               2.51   \n",
       "4             5.23               3.11              2.35               2.55   \n",
       "\n",
       "   PersPerRentOccHous  PctPersOwnOccup  PctPersDenseHous  PctHousLess3BR  \\\n",
       "0                2.84            91.46              0.39           11.06   \n",
       "1                1.96            89.03              1.01           23.60   \n",
       "2                2.06            64.18              2.03           47.46   \n",
       "3                2.20            58.18              1.21           45.66   \n",
       "4                2.12            58.13              2.94           55.64   \n",
       "\n",
       "   MedNumBR  ViolentCrimesPerPop  \n",
       "0         3                41.02  \n",
       "1         3               127.56  \n",
       "2         3               218.59  \n",
       "3         3               306.64  \n",
       "4         2                  NaN  "
      ]
     },
     "execution_count": 27,
     "metadata": {},
     "output_type": "execute_result"
    }
   ],
   "source": [
    "dataset_living_condition = dataset.loc[:, 'PctLargHouseFam':'MedNumBR']\n",
    "viol_crimes = dataset.loc[:, 'ViolentCrimesPerPop']\n",
    "dataset_living_condition_with_crimes = pd.concat([dataset_living_condition, viol_crimes], axis=1)\n",
    "dataset_living_condition_with_crimes.head()"
   ]
  },
  {
   "cell_type": "code",
   "execution_count": 28,
   "metadata": {},
   "outputs": [
    {
     "data": {
      "text/html": [
       "<div>\n",
       "<style scoped>\n",
       "    .dataframe tbody tr th:only-of-type {\n",
       "        vertical-align: middle;\n",
       "    }\n",
       "\n",
       "    .dataframe tbody tr th {\n",
       "        vertical-align: top;\n",
       "    }\n",
       "\n",
       "    .dataframe thead th {\n",
       "        text-align: right;\n",
       "    }\n",
       "</style>\n",
       "<table border=\"1\" class=\"dataframe\">\n",
       "  <thead>\n",
       "    <tr style=\"text-align: right;\">\n",
       "      <th></th>\n",
       "      <th>count</th>\n",
       "      <th>mean</th>\n",
       "      <th>std</th>\n",
       "      <th>min</th>\n",
       "      <th>25%</th>\n",
       "      <th>50%</th>\n",
       "      <th>75%</th>\n",
       "      <th>max</th>\n",
       "    </tr>\n",
       "  </thead>\n",
       "  <tbody>\n",
       "    <tr>\n",
       "      <th>PctLargHouseFam</th>\n",
       "      <td>2215.0</td>\n",
       "      <td>5.386619</td>\n",
       "      <td>3.794309</td>\n",
       "      <td>0.96</td>\n",
       "      <td>3.390</td>\n",
       "      <td>4.28</td>\n",
       "      <td>5.870</td>\n",
       "      <td>34.87</td>\n",
       "    </tr>\n",
       "    <tr>\n",
       "      <th>PctLargHouseOccup</th>\n",
       "      <td>2215.0</td>\n",
       "      <td>3.915788</td>\n",
       "      <td>3.175770</td>\n",
       "      <td>0.44</td>\n",
       "      <td>2.370</td>\n",
       "      <td>3.05</td>\n",
       "      <td>4.210</td>\n",
       "      <td>30.87</td>\n",
       "    </tr>\n",
       "    <tr>\n",
       "      <th>PersPerOccupHous</th>\n",
       "      <td>2215.0</td>\n",
       "      <td>2.615842</td>\n",
       "      <td>0.315646</td>\n",
       "      <td>1.58</td>\n",
       "      <td>2.410</td>\n",
       "      <td>2.57</td>\n",
       "      <td>2.770</td>\n",
       "      <td>4.52</td>\n",
       "    </tr>\n",
       "    <tr>\n",
       "      <th>PersPerOwnOccHous</th>\n",
       "      <td>2215.0</td>\n",
       "      <td>2.740483</td>\n",
       "      <td>0.297421</td>\n",
       "      <td>1.61</td>\n",
       "      <td>2.550</td>\n",
       "      <td>2.71</td>\n",
       "      <td>2.900</td>\n",
       "      <td>4.48</td>\n",
       "    </tr>\n",
       "    <tr>\n",
       "      <th>PersPerRentOccHous</th>\n",
       "      <td>2215.0</td>\n",
       "      <td>2.367138</td>\n",
       "      <td>0.391806</td>\n",
       "      <td>1.55</td>\n",
       "      <td>2.110</td>\n",
       "      <td>2.29</td>\n",
       "      <td>2.530</td>\n",
       "      <td>4.73</td>\n",
       "    </tr>\n",
       "    <tr>\n",
       "      <th>PctPersOwnOccup</th>\n",
       "      <td>2215.0</td>\n",
       "      <td>66.369454</td>\n",
       "      <td>14.182588</td>\n",
       "      <td>13.93</td>\n",
       "      <td>57.285</td>\n",
       "      <td>65.91</td>\n",
       "      <td>76.580</td>\n",
       "      <td>97.24</td>\n",
       "    </tr>\n",
       "    <tr>\n",
       "      <th>PctPersDenseHous</th>\n",
       "      <td>2215.0</td>\n",
       "      <td>4.132438</td>\n",
       "      <td>5.599131</td>\n",
       "      <td>0.05</td>\n",
       "      <td>1.290</td>\n",
       "      <td>2.34</td>\n",
       "      <td>4.730</td>\n",
       "      <td>59.49</td>\n",
       "    </tr>\n",
       "    <tr>\n",
       "      <th>PctHousLess3BR</th>\n",
       "      <td>2215.0</td>\n",
       "      <td>45.405341</td>\n",
       "      <td>13.778347</td>\n",
       "      <td>3.06</td>\n",
       "      <td>37.505</td>\n",
       "      <td>46.39</td>\n",
       "      <td>53.515</td>\n",
       "      <td>95.34</td>\n",
       "    </tr>\n",
       "    <tr>\n",
       "      <th>MedNumBR</th>\n",
       "      <td>2215.0</td>\n",
       "      <td>2.640632</td>\n",
       "      <td>0.512686</td>\n",
       "      <td>1.00</td>\n",
       "      <td>2.000</td>\n",
       "      <td>3.00</td>\n",
       "      <td>3.000</td>\n",
       "      <td>4.00</td>\n",
       "    </tr>\n",
       "  </tbody>\n",
       "</table>\n",
       "</div>"
      ],
      "text/plain": [
       "                     count       mean        std    min     25%    50%  \\\n",
       "PctLargHouseFam     2215.0   5.386619   3.794309   0.96   3.390   4.28   \n",
       "PctLargHouseOccup   2215.0   3.915788   3.175770   0.44   2.370   3.05   \n",
       "PersPerOccupHous    2215.0   2.615842   0.315646   1.58   2.410   2.57   \n",
       "PersPerOwnOccHous   2215.0   2.740483   0.297421   1.61   2.550   2.71   \n",
       "PersPerRentOccHous  2215.0   2.367138   0.391806   1.55   2.110   2.29   \n",
       "PctPersOwnOccup     2215.0  66.369454  14.182588  13.93  57.285  65.91   \n",
       "PctPersDenseHous    2215.0   4.132438   5.599131   0.05   1.290   2.34   \n",
       "PctHousLess3BR      2215.0  45.405341  13.778347   3.06  37.505  46.39   \n",
       "MedNumBR            2215.0   2.640632   0.512686   1.00   2.000   3.00   \n",
       "\n",
       "                       75%    max  \n",
       "PctLargHouseFam      5.870  34.87  \n",
       "PctLargHouseOccup    4.210  30.87  \n",
       "PersPerOccupHous     2.770   4.52  \n",
       "PersPerOwnOccHous    2.900   4.48  \n",
       "PersPerRentOccHous   2.530   4.73  \n",
       "PctPersOwnOccup     76.580  97.24  \n",
       "PctPersDenseHous     4.730  59.49  \n",
       "PctHousLess3BR      53.515  95.34  \n",
       "MedNumBR             3.000   4.00  "
      ]
     },
     "execution_count": 28,
     "metadata": {},
     "output_type": "execute_result"
    }
   ],
   "source": [
    "dataset_living_condition.describe().T"
   ]
  },
  {
   "cell_type": "code",
   "execution_count": 29,
   "metadata": {},
   "outputs": [
    {
     "data": {
      "text/plain": [
       "<matplotlib.axes._subplots.AxesSubplot at 0x1864a1f2550>"
      ]
     },
     "execution_count": 29,
     "metadata": {},
     "output_type": "execute_result"
    },
    {
     "data": {
      "image/png": "[encoded data removed]",
      "text/plain": [
       "<Figure size 432x288 with 2 Axes>"
      ]
     },
     "metadata": {
      "needs_background": "light"
     },
     "output_type": "display_data"
    }
   ],
   "source": [
    "sns.heatmap(dataset_living_condition_with_crimes.corr())"
   ]
  },
  {
   "cell_type": "code",
   "execution_count": 30,
   "metadata": {},
   "outputs": [
    {
     "data": {
      "text/html": [
       "<div>\n",
       "<style scoped>\n",
       "    .dataframe tbody tr th:only-of-type {\n",
       "        vertical-align: middle;\n",
       "    }\n",
       "\n",
       "    .dataframe tbody tr th {\n",
       "        vertical-align: top;\n",
       "    }\n",
       "\n",
       "    .dataframe thead th {\n",
       "        text-align: right;\n",
       "    }\n",
       "</style>\n",
       "<table border=\"1\" class=\"dataframe\">\n",
       "  <thead>\n",
       "    <tr style=\"text-align: right;\">\n",
       "      <th></th>\n",
       "      <th>ViolentCrimesPerPop</th>\n",
       "    </tr>\n",
       "  </thead>\n",
       "  <tbody>\n",
       "    <tr>\n",
       "      <th>PctLargHouseFam</th>\n",
       "      <td>0.341601</td>\n",
       "    </tr>\n",
       "    <tr>\n",
       "      <th>PctLargHouseOccup</th>\n",
       "      <td>0.257216</td>\n",
       "    </tr>\n",
       "    <tr>\n",
       "      <th>PersPerOccupHous</th>\n",
       "      <td>-0.017701</td>\n",
       "    </tr>\n",
       "    <tr>\n",
       "      <th>PersPerOwnOccHous</th>\n",
       "      <td>-0.099170</td>\n",
       "    </tr>\n",
       "    <tr>\n",
       "      <th>PersPerRentOccHous</th>\n",
       "      <td>0.240564</td>\n",
       "    </tr>\n",
       "    <tr>\n",
       "      <th>PctPersOwnOccup</th>\n",
       "      <td>-0.507330</td>\n",
       "    </tr>\n",
       "    <tr>\n",
       "      <th>PctPersDenseHous</th>\n",
       "      <td>0.395856</td>\n",
       "    </tr>\n",
       "    <tr>\n",
       "      <th>PctHousLess3BR</th>\n",
       "      <td>0.454470</td>\n",
       "    </tr>\n",
       "    <tr>\n",
       "      <th>MedNumBR</th>\n",
       "      <td>-0.347150</td>\n",
       "    </tr>\n",
       "    <tr>\n",
       "      <th>ViolentCrimesPerPop</th>\n",
       "      <td>1.000000</td>\n",
       "    </tr>\n",
       "  </tbody>\n",
       "</table>\n",
       "</div>"
      ],
      "text/plain": [
       "                     ViolentCrimesPerPop\n",
       "PctLargHouseFam                 0.341601\n",
       "PctLargHouseOccup               0.257216\n",
       "PersPerOccupHous               -0.017701\n",
       "PersPerOwnOccHous              -0.099170\n",
       "PersPerRentOccHous              0.240564\n",
       "PctPersOwnOccup                -0.507330\n",
       "PctPersDenseHous                0.395856\n",
       "PctHousLess3BR                  0.454470\n",
       "MedNumBR                       -0.347150\n",
       "ViolentCrimesPerPop             1.000000"
      ]
     },
     "execution_count": 30,
     "metadata": {},
     "output_type": "execute_result"
    }
   ],
   "source": [
    "dataset_living_condition_with_crimes.corr().iloc[:, -1:]"
   ]
  },
  {
   "cell_type": "markdown",
   "metadata": {},
   "source": [
    "Biorąc pod uwagę warunki zamieszkania populacji największe powiązanie z ilością przestępstw wykazuje współczynnik ``PctHousLess3BR`` oraz ``PctPersDenseHous``. Odwrotnie powiązany ze zmienną jest współczynnik ``PctPersOwnOccup``."
   ]
  },
  {
   "cell_type": "markdown",
   "metadata": {},
   "source": [
    "#### Stan zabudowań"
   ]
  },
  {
   "cell_type": "markdown",
   "metadata": {},
   "source": [
    "Kolejna część obserwacji dotyczy stanu zabudowań - czy są one zamieszkane, niezamieszkane, jak długo itp."
   ]
  },
  {
   "cell_type": "code",
   "execution_count": 31,
   "metadata": {},
   "outputs": [
    {
     "data": {
      "text/html": [
       "<div>\n",
       "<style scoped>\n",
       "    .dataframe tbody tr th:only-of-type {\n",
       "        vertical-align: middle;\n",
       "    }\n",
       "\n",
       "    .dataframe tbody tr th {\n",
       "        vertical-align: top;\n",
       "    }\n",
       "\n",
       "    .dataframe thead th {\n",
       "        text-align: right;\n",
       "    }\n",
       "</style>\n",
       "<table border=\"1\" class=\"dataframe\">\n",
       "  <thead>\n",
       "    <tr style=\"text-align: right;\">\n",
       "      <th></th>\n",
       "      <th>HousVacant</th>\n",
       "      <th>PctHousOccup</th>\n",
       "      <th>PctHousOwnOcc</th>\n",
       "      <th>PctVacantBoarded</th>\n",
       "      <th>PctVacMore6Mos</th>\n",
       "      <th>MedYrHousBuilt</th>\n",
       "      <th>PctHousNoPhone</th>\n",
       "      <th>PctWOFullPlumb</th>\n",
       "      <th>OwnOccLowQuart</th>\n",
       "      <th>OwnOccMedVal</th>\n",
       "      <th>OwnOccHiQuart</th>\n",
       "      <th>OwnOccQrange</th>\n",
       "      <th>ViolentCrimesPerPop</th>\n",
       "    </tr>\n",
       "  </thead>\n",
       "  <tbody>\n",
       "    <tr>\n",
       "      <th>0</th>\n",
       "      <td>64</td>\n",
       "      <td>98.37</td>\n",
       "      <td>91.01</td>\n",
       "      <td>3.12</td>\n",
       "      <td>37.50</td>\n",
       "      <td>1959</td>\n",
       "      <td>0.00</td>\n",
       "      <td>0.28</td>\n",
       "      <td>215900</td>\n",
       "      <td>262600</td>\n",
       "      <td>326900</td>\n",
       "      <td>111000</td>\n",
       "      <td>41.02</td>\n",
       "    </tr>\n",
       "    <tr>\n",
       "      <th>1</th>\n",
       "      <td>240</td>\n",
       "      <td>97.15</td>\n",
       "      <td>84.88</td>\n",
       "      <td>0.00</td>\n",
       "      <td>18.33</td>\n",
       "      <td>1958</td>\n",
       "      <td>0.31</td>\n",
       "      <td>0.14</td>\n",
       "      <td>136300</td>\n",
       "      <td>164200</td>\n",
       "      <td>199900</td>\n",
       "      <td>63600</td>\n",
       "      <td>127.56</td>\n",
       "    </tr>\n",
       "    <tr>\n",
       "      <th>2</th>\n",
       "      <td>544</td>\n",
       "      <td>95.68</td>\n",
       "      <td>57.79</td>\n",
       "      <td>0.92</td>\n",
       "      <td>7.54</td>\n",
       "      <td>1976</td>\n",
       "      <td>1.55</td>\n",
       "      <td>0.12</td>\n",
       "      <td>74700</td>\n",
       "      <td>90400</td>\n",
       "      <td>112000</td>\n",
       "      <td>37300</td>\n",
       "      <td>218.59</td>\n",
       "    </tr>\n",
       "    <tr>\n",
       "      <th>3</th>\n",
       "      <td>669</td>\n",
       "      <td>91.19</td>\n",
       "      <td>54.89</td>\n",
       "      <td>2.54</td>\n",
       "      <td>57.85</td>\n",
       "      <td>1939</td>\n",
       "      <td>7.00</td>\n",
       "      <td>0.87</td>\n",
       "      <td>36400</td>\n",
       "      <td>49600</td>\n",
       "      <td>66500</td>\n",
       "      <td>30100</td>\n",
       "      <td>306.64</td>\n",
       "    </tr>\n",
       "    <tr>\n",
       "      <th>4</th>\n",
       "      <td>333</td>\n",
       "      <td>92.45</td>\n",
       "      <td>53.57</td>\n",
       "      <td>3.90</td>\n",
       "      <td>42.64</td>\n",
       "      <td>1958</td>\n",
       "      <td>7.45</td>\n",
       "      <td>0.82</td>\n",
       "      <td>30600</td>\n",
       "      <td>43200</td>\n",
       "      <td>59500</td>\n",
       "      <td>28900</td>\n",
       "      <td>NaN</td>\n",
       "    </tr>\n",
       "  </tbody>\n",
       "</table>\n",
       "</div>"
      ],
      "text/plain": [
       "   HousVacant  PctHousOccup  PctHousOwnOcc  PctVacantBoarded  PctVacMore6Mos  \\\n",
       "0          64         98.37          91.01              3.12           37.50   \n",
       "1         240         97.15          84.88              0.00           18.33   \n",
       "2         544         95.68          57.79              0.92            7.54   \n",
       "3         669         91.19          54.89              2.54           57.85   \n",
       "4         333         92.45          53.57              3.90           42.64   \n",
       "\n",
       "   MedYrHousBuilt  PctHousNoPhone  PctWOFullPlumb  OwnOccLowQuart  \\\n",
       "0            1959            0.00            0.28          215900   \n",
       "1            1958            0.31            0.14          136300   \n",
       "2            1976            1.55            0.12           74700   \n",
       "3            1939            7.00            0.87           36400   \n",
       "4            1958            7.45            0.82           30600   \n",
       "\n",
       "   OwnOccMedVal  OwnOccHiQuart  OwnOccQrange  ViolentCrimesPerPop  \n",
       "0        262600         326900        111000                41.02  \n",
       "1        164200         199900         63600               127.56  \n",
       "2         90400         112000         37300               218.59  \n",
       "3         49600          66500         30100               306.64  \n",
       "4         43200          59500         28900                  NaN  "
      ]
     },
     "execution_count": 31,
     "metadata": {},
     "output_type": "execute_result"
    }
   ],
   "source": [
    "dataset_household = dataset.loc[:, 'HousVacant':'OwnOccQrange']\n",
    "viol_crimes = dataset.loc[:, 'ViolentCrimesPerPop']\n",
    "dataset_household_with_crimes = pd.concat([dataset_household, viol_crimes], axis=1)\n",
    "dataset_household_with_crimes.head()"
   ]
  },
  {
   "cell_type": "code",
   "execution_count": 32,
   "metadata": {},
   "outputs": [
    {
     "data": {
      "text/html": [
       "<div>\n",
       "<style scoped>\n",
       "    .dataframe tbody tr th:only-of-type {\n",
       "        vertical-align: middle;\n",
       "    }\n",
       "\n",
       "    .dataframe tbody tr th {\n",
       "        vertical-align: top;\n",
       "    }\n",
       "\n",
       "    .dataframe thead th {\n",
       "        text-align: right;\n",
       "    }\n",
       "</style>\n",
       "<table border=\"1\" class=\"dataframe\">\n",
       "  <thead>\n",
       "    <tr style=\"text-align: right;\">\n",
       "      <th></th>\n",
       "      <th>count</th>\n",
       "      <th>mean</th>\n",
       "      <th>std</th>\n",
       "      <th>min</th>\n",
       "      <th>25%</th>\n",
       "      <th>50%</th>\n",
       "      <th>75%</th>\n",
       "      <th>max</th>\n",
       "    </tr>\n",
       "  </thead>\n",
       "  <tbody>\n",
       "    <tr>\n",
       "      <th>HousVacant</th>\n",
       "      <td>2215.0</td>\n",
       "      <td>1748.368849</td>\n",
       "      <td>6503.866478</td>\n",
       "      <td>36.00</td>\n",
       "      <td>304.500</td>\n",
       "      <td>558.00</td>\n",
       "      <td>1228.000</td>\n",
       "      <td>172768.00</td>\n",
       "    </tr>\n",
       "    <tr>\n",
       "      <th>PctHousOccup</th>\n",
       "      <td>2215.0</td>\n",
       "      <td>92.933973</td>\n",
       "      <td>5.040736</td>\n",
       "      <td>37.47</td>\n",
       "      <td>91.290</td>\n",
       "      <td>94.21</td>\n",
       "      <td>96.020</td>\n",
       "      <td>99.00</td>\n",
       "    </tr>\n",
       "    <tr>\n",
       "      <th>PctHousOwnOcc</th>\n",
       "      <td>2215.0</td>\n",
       "      <td>63.368298</td>\n",
       "      <td>13.970057</td>\n",
       "      <td>16.86</td>\n",
       "      <td>54.820</td>\n",
       "      <td>62.83</td>\n",
       "      <td>72.645</td>\n",
       "      <td>96.49</td>\n",
       "    </tr>\n",
       "    <tr>\n",
       "      <th>PctVacantBoarded</th>\n",
       "      <td>2215.0</td>\n",
       "      <td>2.778524</td>\n",
       "      <td>3.592396</td>\n",
       "      <td>0.00</td>\n",
       "      <td>0.720</td>\n",
       "      <td>1.66</td>\n",
       "      <td>3.430</td>\n",
       "      <td>39.89</td>\n",
       "    </tr>\n",
       "    <tr>\n",
       "      <th>PctVacMore6Mos</th>\n",
       "      <td>2215.0</td>\n",
       "      <td>34.773887</td>\n",
       "      <td>13.911468</td>\n",
       "      <td>3.12</td>\n",
       "      <td>24.480</td>\n",
       "      <td>34.10</td>\n",
       "      <td>43.970</td>\n",
       "      <td>82.13</td>\n",
       "    </tr>\n",
       "    <tr>\n",
       "      <th>MedYrHousBuilt</th>\n",
       "      <td>2215.0</td>\n",
       "      <td>1962.623476</td>\n",
       "      <td>11.166555</td>\n",
       "      <td>1939.00</td>\n",
       "      <td>1956.000</td>\n",
       "      <td>1964.00</td>\n",
       "      <td>1971.000</td>\n",
       "      <td>1987.00</td>\n",
       "    </tr>\n",
       "    <tr>\n",
       "      <th>PctHousNoPhone</th>\n",
       "      <td>2215.0</td>\n",
       "      <td>4.289824</td>\n",
       "      <td>4.088175</td>\n",
       "      <td>0.00</td>\n",
       "      <td>0.905</td>\n",
       "      <td>2.85</td>\n",
       "      <td>6.805</td>\n",
       "      <td>23.88</td>\n",
       "    </tr>\n",
       "    <tr>\n",
       "      <th>PctWOFullPlumb</th>\n",
       "      <td>2215.0</td>\n",
       "      <td>0.425273</td>\n",
       "      <td>0.426188</td>\n",
       "      <td>0.00</td>\n",
       "      <td>0.160</td>\n",
       "      <td>0.32</td>\n",
       "      <td>0.555</td>\n",
       "      <td>5.33</td>\n",
       "    </tr>\n",
       "    <tr>\n",
       "      <th>OwnOccLowQuart</th>\n",
       "      <td>2215.0</td>\n",
       "      <td>88695.802257</td>\n",
       "      <td>66670.781534</td>\n",
       "      <td>14999.00</td>\n",
       "      <td>41500.000</td>\n",
       "      <td>65500.00</td>\n",
       "      <td>121500.000</td>\n",
       "      <td>500001.00</td>\n",
       "    </tr>\n",
       "    <tr>\n",
       "      <th>OwnOccMedVal</th>\n",
       "      <td>2215.0</td>\n",
       "      <td>113097.523251</td>\n",
       "      <td>81906.362277</td>\n",
       "      <td>19500.00</td>\n",
       "      <td>56200.000</td>\n",
       "      <td>82800.00</td>\n",
       "      <td>150600.000</td>\n",
       "      <td>500001.00</td>\n",
       "    </tr>\n",
       "    <tr>\n",
       "      <th>OwnOccHiQuart</th>\n",
       "      <td>2215.0</td>\n",
       "      <td>145318.257788</td>\n",
       "      <td>99030.913816</td>\n",
       "      <td>28200.00</td>\n",
       "      <td>74300.000</td>\n",
       "      <td>106700.00</td>\n",
       "      <td>188000.000</td>\n",
       "      <td>500001.00</td>\n",
       "    </tr>\n",
       "    <tr>\n",
       "      <th>OwnOccQrange</th>\n",
       "      <td>2215.0</td>\n",
       "      <td>56622.455530</td>\n",
       "      <td>39106.498041</td>\n",
       "      <td>0.00</td>\n",
       "      <td>32200.000</td>\n",
       "      <td>43400.00</td>\n",
       "      <td>65450.000</td>\n",
       "      <td>331000.00</td>\n",
       "    </tr>\n",
       "  </tbody>\n",
       "</table>\n",
       "</div>"
      ],
      "text/plain": [
       "                   count           mean           std       min        25%  \\\n",
       "HousVacant        2215.0    1748.368849   6503.866478     36.00    304.500   \n",
       "PctHousOccup      2215.0      92.933973      5.040736     37.47     91.290   \n",
       "PctHousOwnOcc     2215.0      63.368298     13.970057     16.86     54.820   \n",
       "PctVacantBoarded  2215.0       2.778524      3.592396      0.00      0.720   \n",
       "PctVacMore6Mos    2215.0      34.773887     13.911468      3.12     24.480   \n",
       "MedYrHousBuilt    2215.0    1962.623476     11.166555   1939.00   1956.000   \n",
       "PctHousNoPhone    2215.0       4.289824      4.088175      0.00      0.905   \n",
       "PctWOFullPlumb    2215.0       0.425273      0.426188      0.00      0.160   \n",
       "OwnOccLowQuart    2215.0   88695.802257  66670.781534  14999.00  41500.000   \n",
       "OwnOccMedVal      2215.0  113097.523251  81906.362277  19500.00  56200.000   \n",
       "OwnOccHiQuart     2215.0  145318.257788  99030.913816  28200.00  74300.000   \n",
       "OwnOccQrange      2215.0   56622.455530  39106.498041      0.00  32200.000   \n",
       "\n",
       "                        50%         75%        max  \n",
       "HousVacant           558.00    1228.000  172768.00  \n",
       "PctHousOccup          94.21      96.020      99.00  \n",
       "PctHousOwnOcc         62.83      72.645      96.49  \n",
       "PctVacantBoarded       1.66       3.430      39.89  \n",
       "PctVacMore6Mos        34.10      43.970      82.13  \n",
       "MedYrHousBuilt      1964.00    1971.000    1987.00  \n",
       "PctHousNoPhone         2.85       6.805      23.88  \n",
       "PctWOFullPlumb         0.32       0.555       5.33  \n",
       "OwnOccLowQuart     65500.00  121500.000  500001.00  \n",
       "OwnOccMedVal       82800.00  150600.000  500001.00  \n",
       "OwnOccHiQuart     106700.00  188000.000  500001.00  \n",
       "OwnOccQrange       43400.00   65450.000  331000.00  "
      ]
     },
     "execution_count": 32,
     "metadata": {},
     "output_type": "execute_result"
    }
   ],
   "source": [
    "dataset_household.describe().T"
   ]
  },
  {
   "cell_type": "code",
   "execution_count": 33,
   "metadata": {},
   "outputs": [
    {
     "data": {
      "text/plain": [
       "<matplotlib.axes._subplots.AxesSubplot at 0x1864a284da0>"
      ]
     },
     "execution_count": 33,
     "metadata": {},
     "output_type": "execute_result"
    },
    {
     "data": {
      "image/png": "[encoded data removed]",
      "text/plain": [
       "<Figure size 432x288 with 2 Axes>"
      ]
     },
     "metadata": {
      "needs_background": "light"
     },
     "output_type": "display_data"
    }
   ],
   "source": [
    "sns.heatmap(dataset_household_with_crimes.corr())"
   ]
  },
  {
   "cell_type": "markdown",
   "metadata": {},
   "source": [
    "Biorąc pod uwagę stan zabudowań największe powiązanie z ilością przestępstw wykazuje współczynnik ``PctVacantBoarded`` oraz ``PctHousNoPhone``. Odwrotnie powiązany ze zmienną jest współczynnik ``PctHousOwnOcc``."
   ]
  },
  {
   "cell_type": "markdown",
   "metadata": {},
   "source": [
    "#### Wysokość czynszu"
   ]
  },
  {
   "cell_type": "markdown",
   "metadata": {},
   "source": [
    "Kolejna część obserwacji dotyczy wysokości czynszu np. jaką część dochodu on stanowi."
   ]
  },
  {
   "cell_type": "code",
   "execution_count": 34,
   "metadata": {},
   "outputs": [
    {
     "data": {
      "text/html": [
       "<div>\n",
       "<style scoped>\n",
       "    .dataframe tbody tr th:only-of-type {\n",
       "        vertical-align: middle;\n",
       "    }\n",
       "\n",
       "    .dataframe tbody tr th {\n",
       "        vertical-align: top;\n",
       "    }\n",
       "\n",
       "    .dataframe thead th {\n",
       "        text-align: right;\n",
       "    }\n",
       "</style>\n",
       "<table border=\"1\" class=\"dataframe\">\n",
       "  <thead>\n",
       "    <tr style=\"text-align: right;\">\n",
       "      <th></th>\n",
       "      <th>RentLowQ</th>\n",
       "      <th>RentMedian</th>\n",
       "      <th>RentHighQ</th>\n",
       "      <th>RentQrange</th>\n",
       "      <th>MedRent</th>\n",
       "      <th>MedRentPctHousInc</th>\n",
       "      <th>MedOwnCostPctInc</th>\n",
       "      <th>MedOwnCostPctIncNoMtg</th>\n",
       "      <th>ViolentCrimesPerPop</th>\n",
       "    </tr>\n",
       "  </thead>\n",
       "  <tbody>\n",
       "    <tr>\n",
       "      <th>0</th>\n",
       "      <td>685</td>\n",
       "      <td>1001</td>\n",
       "      <td>1001</td>\n",
       "      <td>316</td>\n",
       "      <td>1001</td>\n",
       "      <td>23.8</td>\n",
       "      <td>21.1</td>\n",
       "      <td>14.0</td>\n",
       "      <td>41.02</td>\n",
       "    </tr>\n",
       "    <tr>\n",
       "      <th>1</th>\n",
       "      <td>467</td>\n",
       "      <td>560</td>\n",
       "      <td>672</td>\n",
       "      <td>205</td>\n",
       "      <td>627</td>\n",
       "      <td>27.6</td>\n",
       "      <td>20.7</td>\n",
       "      <td>12.5</td>\n",
       "      <td>127.56</td>\n",
       "    </tr>\n",
       "    <tr>\n",
       "      <th>2</th>\n",
       "      <td>370</td>\n",
       "      <td>428</td>\n",
       "      <td>520</td>\n",
       "      <td>150</td>\n",
       "      <td>484</td>\n",
       "      <td>24.1</td>\n",
       "      <td>21.7</td>\n",
       "      <td>11.6</td>\n",
       "      <td>218.59</td>\n",
       "    </tr>\n",
       "    <tr>\n",
       "      <th>3</th>\n",
       "      <td>195</td>\n",
       "      <td>250</td>\n",
       "      <td>309</td>\n",
       "      <td>114</td>\n",
       "      <td>333</td>\n",
       "      <td>28.7</td>\n",
       "      <td>20.6</td>\n",
       "      <td>14.5</td>\n",
       "      <td>306.64</td>\n",
       "    </tr>\n",
       "    <tr>\n",
       "      <th>4</th>\n",
       "      <td>202</td>\n",
       "      <td>283</td>\n",
       "      <td>362</td>\n",
       "      <td>160</td>\n",
       "      <td>332</td>\n",
       "      <td>32.2</td>\n",
       "      <td>23.2</td>\n",
       "      <td>12.9</td>\n",
       "      <td>NaN</td>\n",
       "    </tr>\n",
       "  </tbody>\n",
       "</table>\n",
       "</div>"
      ],
      "text/plain": [
       "   RentLowQ  RentMedian  RentHighQ  RentQrange  MedRent  MedRentPctHousInc  \\\n",
       "0       685        1001       1001         316     1001               23.8   \n",
       "1       467         560        672         205      627               27.6   \n",
       "2       370         428        520         150      484               24.1   \n",
       "3       195         250        309         114      333               28.7   \n",
       "4       202         283        362         160      332               32.2   \n",
       "\n",
       "   MedOwnCostPctInc  MedOwnCostPctIncNoMtg  ViolentCrimesPerPop  \n",
       "0              21.1                   14.0                41.02  \n",
       "1              20.7                   12.5               127.56  \n",
       "2              21.7                   11.6               218.59  \n",
       "3              20.6                   14.5               306.64  \n",
       "4              23.2                   12.9                  NaN  "
      ]
     },
     "execution_count": 34,
     "metadata": {},
     "output_type": "execute_result"
    }
   ],
   "source": [
    "dataset_rent = dataset.loc[:, 'RentLowQ':'MedOwnCostPctIncNoMtg']\n",
    "viol_crimes = dataset.loc[:, 'ViolentCrimesPerPop']\n",
    "dataset_rent_with_crimes = pd.concat([dataset_rent, viol_crimes], axis=1)\n",
    "dataset_rent_with_crimes.head()"
   ]
  },
  {
   "cell_type": "code",
   "execution_count": 35,
   "metadata": {},
   "outputs": [
    {
     "data": {
      "text/html": [
       "<div>\n",
       "<style scoped>\n",
       "    .dataframe tbody tr th:only-of-type {\n",
       "        vertical-align: middle;\n",
       "    }\n",
       "\n",
       "    .dataframe tbody tr th {\n",
       "        vertical-align: top;\n",
       "    }\n",
       "\n",
       "    .dataframe thead th {\n",
       "        text-align: right;\n",
       "    }\n",
       "</style>\n",
       "<table border=\"1\" class=\"dataframe\">\n",
       "  <thead>\n",
       "    <tr style=\"text-align: right;\">\n",
       "      <th></th>\n",
       "      <th>count</th>\n",
       "      <th>mean</th>\n",
       "      <th>std</th>\n",
       "      <th>min</th>\n",
       "      <th>25%</th>\n",
       "      <th>50%</th>\n",
       "      <th>75%</th>\n",
       "      <th>max</th>\n",
       "    </tr>\n",
       "  </thead>\n",
       "  <tbody>\n",
       "    <tr>\n",
       "      <th>RentLowQ</th>\n",
       "      <td>2215.0</td>\n",
       "      <td>329.966591</td>\n",
       "      <td>144.138461</td>\n",
       "      <td>99.0</td>\n",
       "      <td>213.5</td>\n",
       "      <td>307.0</td>\n",
       "      <td>421.0</td>\n",
       "      <td>1001.0</td>\n",
       "    </tr>\n",
       "    <tr>\n",
       "      <th>RentMedian</th>\n",
       "      <td>2215.0</td>\n",
       "      <td>428.537246</td>\n",
       "      <td>170.706644</td>\n",
       "      <td>120.0</td>\n",
       "      <td>289.5</td>\n",
       "      <td>397.0</td>\n",
       "      <td>544.0</td>\n",
       "      <td>1001.0</td>\n",
       "    </tr>\n",
       "    <tr>\n",
       "      <th>RentHighQ</th>\n",
       "      <td>2215.0</td>\n",
       "      <td>527.252822</td>\n",
       "      <td>199.290780</td>\n",
       "      <td>182.0</td>\n",
       "      <td>366.0</td>\n",
       "      <td>486.0</td>\n",
       "      <td>659.5</td>\n",
       "      <td>1001.0</td>\n",
       "    </tr>\n",
       "    <tr>\n",
       "      <th>RentQrange</th>\n",
       "      <td>2215.0</td>\n",
       "      <td>197.286230</td>\n",
       "      <td>85.205688</td>\n",
       "      <td>0.0</td>\n",
       "      <td>139.0</td>\n",
       "      <td>171.0</td>\n",
       "      <td>232.5</td>\n",
       "      <td>803.0</td>\n",
       "    </tr>\n",
       "    <tr>\n",
       "      <th>MedRent</th>\n",
       "      <td>2215.0</td>\n",
       "      <td>501.466366</td>\n",
       "      <td>169.271735</td>\n",
       "      <td>192.0</td>\n",
       "      <td>364.0</td>\n",
       "      <td>467.0</td>\n",
       "      <td>615.0</td>\n",
       "      <td>1001.0</td>\n",
       "    </tr>\n",
       "    <tr>\n",
       "      <th>MedRentPctHousInc</th>\n",
       "      <td>2215.0</td>\n",
       "      <td>26.298104</td>\n",
       "      <td>2.979297</td>\n",
       "      <td>14.9</td>\n",
       "      <td>24.3</td>\n",
       "      <td>26.1</td>\n",
       "      <td>28.0</td>\n",
       "      <td>35.1</td>\n",
       "    </tr>\n",
       "    <tr>\n",
       "      <th>MedOwnCostPctInc</th>\n",
       "      <td>2215.0</td>\n",
       "      <td>20.990158</td>\n",
       "      <td>2.987622</td>\n",
       "      <td>14.0</td>\n",
       "      <td>18.7</td>\n",
       "      <td>21.0</td>\n",
       "      <td>23.1</td>\n",
       "      <td>32.7</td>\n",
       "    </tr>\n",
       "    <tr>\n",
       "      <th>MedOwnCostPctIncNoMtg</th>\n",
       "      <td>2215.0</td>\n",
       "      <td>13.010203</td>\n",
       "      <td>1.419679</td>\n",
       "      <td>10.1</td>\n",
       "      <td>12.0</td>\n",
       "      <td>12.8</td>\n",
       "      <td>13.7</td>\n",
       "      <td>23.4</td>\n",
       "    </tr>\n",
       "  </tbody>\n",
       "</table>\n",
       "</div>"
      ],
      "text/plain": [
       "                        count        mean         std    min    25%    50%  \\\n",
       "RentLowQ               2215.0  329.966591  144.138461   99.0  213.5  307.0   \n",
       "RentMedian             2215.0  428.537246  170.706644  120.0  289.5  397.0   \n",
       "RentHighQ              2215.0  527.252822  199.290780  182.0  366.0  486.0   \n",
       "RentQrange             2215.0  197.286230   85.205688    0.0  139.0  171.0   \n",
       "MedRent                2215.0  501.466366  169.271735  192.0  364.0  467.0   \n",
       "MedRentPctHousInc      2215.0   26.298104    2.979297   14.9   24.3   26.1   \n",
       "MedOwnCostPctInc       2215.0   20.990158    2.987622   14.0   18.7   21.0   \n",
       "MedOwnCostPctIncNoMtg  2215.0   13.010203    1.419679   10.1   12.0   12.8   \n",
       "\n",
       "                         75%     max  \n",
       "RentLowQ               421.0  1001.0  \n",
       "RentMedian             544.0  1001.0  \n",
       "RentHighQ              659.5  1001.0  \n",
       "RentQrange             232.5   803.0  \n",
       "MedRent                615.0  1001.0  \n",
       "MedRentPctHousInc       28.0    35.1  \n",
       "MedOwnCostPctInc        23.1    32.7  \n",
       "MedOwnCostPctIncNoMtg   13.7    23.4  "
      ]
     },
     "execution_count": 35,
     "metadata": {},
     "output_type": "execute_result"
    }
   ],
   "source": [
    "dataset_rent.describe().T"
   ]
  },
  {
   "cell_type": "code",
   "execution_count": 36,
   "metadata": {},
   "outputs": [
    {
     "data": {
      "text/plain": [
       "<matplotlib.axes._subplots.AxesSubplot at 0x1864a370780>"
      ]
     },
     "execution_count": 36,
     "metadata": {},
     "output_type": "execute_result"
    },
    {
     "data": {
      "image/png": "[encoded data removed]",
      "text/plain": [
       "<Figure size 432x288 with 2 Axes>"
      ]
     },
     "metadata": {
      "needs_background": "light"
     },
     "output_type": "display_data"
    }
   ],
   "source": [
    "sns.heatmap(dataset_rent_with_crimes.corr())"
   ]
  },
  {
   "cell_type": "markdown",
   "metadata": {},
   "source": [
    "Biorąc pod uwagę wysokość czynszu największe powiązanie z ilością przestępstw wykazuje współczynnik ``MedRentPctHousInc``. Łatwo można zauważyć, że większość współczynników wysokości czynszu jest odwrotnie powiązana z ilością przestępstw. Możemy więc wyciągnąć wniosek, że wraz ze wzrtostem cen spada ilość przestępstw."
   ]
  },
  {
   "cell_type": "markdown",
   "metadata": {},
   "source": [
    "#### Liczba osób bezdomnych"
   ]
  },
  {
   "cell_type": "markdown",
   "metadata": {},
   "source": [
    "Kolejna część obserwacji dotyczy osób bezdomnych."
   ]
  },
  {
   "cell_type": "code",
   "execution_count": 37,
   "metadata": {},
   "outputs": [
    {
     "data": {
      "text/html": [
       "<div>\n",
       "<style scoped>\n",
       "    .dataframe tbody tr th:only-of-type {\n",
       "        vertical-align: middle;\n",
       "    }\n",
       "\n",
       "    .dataframe tbody tr th {\n",
       "        vertical-align: top;\n",
       "    }\n",
       "\n",
       "    .dataframe thead th {\n",
       "        text-align: right;\n",
       "    }\n",
       "</style>\n",
       "<table border=\"1\" class=\"dataframe\">\n",
       "  <thead>\n",
       "    <tr style=\"text-align: right;\">\n",
       "      <th></th>\n",
       "      <th>NumInShelters</th>\n",
       "      <th>NumStreet</th>\n",
       "      <th>ViolentCrimesPerPop</th>\n",
       "    </tr>\n",
       "  </thead>\n",
       "  <tbody>\n",
       "    <tr>\n",
       "      <th>0</th>\n",
       "      <td>11</td>\n",
       "      <td>0</td>\n",
       "      <td>41.02</td>\n",
       "    </tr>\n",
       "    <tr>\n",
       "      <th>1</th>\n",
       "      <td>0</td>\n",
       "      <td>0</td>\n",
       "      <td>127.56</td>\n",
       "    </tr>\n",
       "    <tr>\n",
       "      <th>2</th>\n",
       "      <td>16</td>\n",
       "      <td>0</td>\n",
       "      <td>218.59</td>\n",
       "    </tr>\n",
       "    <tr>\n",
       "      <th>3</th>\n",
       "      <td>0</td>\n",
       "      <td>0</td>\n",
       "      <td>306.64</td>\n",
       "    </tr>\n",
       "    <tr>\n",
       "      <th>4</th>\n",
       "      <td>2</td>\n",
       "      <td>0</td>\n",
       "      <td>NaN</td>\n",
       "    </tr>\n",
       "  </tbody>\n",
       "</table>\n",
       "</div>"
      ],
      "text/plain": [
       "   NumInShelters  NumStreet  ViolentCrimesPerPop\n",
       "0             11          0                41.02\n",
       "1              0          0               127.56\n",
       "2             16          0               218.59\n",
       "3              0          0               306.64\n",
       "4              2          0                  NaN"
      ]
     },
     "execution_count": 37,
     "metadata": {},
     "output_type": "execute_result"
    }
   ],
   "source": [
    "dataset_homeless = dataset.loc[:, 'NumInShelters':'NumStreet']\n",
    "viol_crimes = dataset.loc[:, 'ViolentCrimesPerPop']\n",
    "dataset_homeless_with_crimes = pd.concat([dataset_homeless, viol_crimes], axis=1)\n",
    "dataset_homeless_with_crimes.head()"
   ]
  },
  {
   "cell_type": "code",
   "execution_count": 38,
   "metadata": {},
   "outputs": [
    {
     "data": {
      "text/html": [
       "<div>\n",
       "<style scoped>\n",
       "    .dataframe tbody tr th:only-of-type {\n",
       "        vertical-align: middle;\n",
       "    }\n",
       "\n",
       "    .dataframe tbody tr th {\n",
       "        vertical-align: top;\n",
       "    }\n",
       "\n",
       "    .dataframe thead th {\n",
       "        text-align: right;\n",
       "    }\n",
       "</style>\n",
       "<table border=\"1\" class=\"dataframe\">\n",
       "  <thead>\n",
       "    <tr style=\"text-align: right;\">\n",
       "      <th></th>\n",
       "      <th>count</th>\n",
       "      <th>mean</th>\n",
       "      <th>std</th>\n",
       "      <th>min</th>\n",
       "      <th>25%</th>\n",
       "      <th>50%</th>\n",
       "      <th>75%</th>\n",
       "      <th>max</th>\n",
       "    </tr>\n",
       "  </thead>\n",
       "  <tbody>\n",
       "    <tr>\n",
       "      <th>NumInShelters</th>\n",
       "      <td>2215.0</td>\n",
       "      <td>66.953499</td>\n",
       "      <td>564.253149</td>\n",
       "      <td>0.0</td>\n",
       "      <td>0.0</td>\n",
       "      <td>0.0</td>\n",
       "      <td>22.0</td>\n",
       "      <td>23383.0</td>\n",
       "    </tr>\n",
       "    <tr>\n",
       "      <th>NumStreet</th>\n",
       "      <td>2215.0</td>\n",
       "      <td>17.823476</td>\n",
       "      <td>245.452553</td>\n",
       "      <td>0.0</td>\n",
       "      <td>0.0</td>\n",
       "      <td>0.0</td>\n",
       "      <td>1.0</td>\n",
       "      <td>10447.0</td>\n",
       "    </tr>\n",
       "  </tbody>\n",
       "</table>\n",
       "</div>"
      ],
      "text/plain": [
       "                count       mean         std  min  25%  50%   75%      max\n",
       "NumInShelters  2215.0  66.953499  564.253149  0.0  0.0  0.0  22.0  23383.0\n",
       "NumStreet      2215.0  17.823476  245.452553  0.0  0.0  0.0   1.0  10447.0"
      ]
     },
     "execution_count": 38,
     "metadata": {},
     "output_type": "execute_result"
    }
   ],
   "source": [
    "dataset_homeless.describe().T"
   ]
  },
  {
   "cell_type": "code",
   "execution_count": 39,
   "metadata": {},
   "outputs": [
    {
     "data": {
      "text/plain": [
       "<matplotlib.axes._subplots.AxesSubplot at 0x1864a4120b8>"
      ]
     },
     "execution_count": 39,
     "metadata": {},
     "output_type": "execute_result"
    },
    {
     "data": {
      "image/png": "[encoded data removed]",
      "text/plain": [
       "<Figure size 432x288 with 2 Axes>"
      ]
     },
     "metadata": {
      "needs_background": "light"
     },
     "output_type": "display_data"
    }
   ],
   "source": [
    "sns.heatmap(dataset_homeless_with_crimes.corr())"
   ]
  },
  {
   "cell_type": "markdown",
   "metadata": {},
   "source": [
    "Biorąc pod uwagę liczbę osób bezdomnych widać, że wbrew przypuszczeniom, współczynniki te są odwrotnie powiązane z z ilością przestępstw."
   ]
  },
  {
   "cell_type": "markdown",
   "metadata": {},
   "source": [
    "#### Miejsce urodzenia"
   ]
  },
  {
   "cell_type": "markdown",
   "metadata": {},
   "source": [
    "Kolejna część obserwacji dotyczy miejsca urodzenia - czy osoby urodziły się w stanie w którym obecnie mieszkają itp."
   ]
  },
  {
   "cell_type": "code",
   "execution_count": 40,
   "metadata": {},
   "outputs": [
    {
     "data": {
      "text/html": [
       "<div>\n",
       "<style scoped>\n",
       "    .dataframe tbody tr th:only-of-type {\n",
       "        vertical-align: middle;\n",
       "    }\n",
       "\n",
       "    .dataframe tbody tr th {\n",
       "        vertical-align: top;\n",
       "    }\n",
       "\n",
       "    .dataframe thead th {\n",
       "        text-align: right;\n",
       "    }\n",
       "</style>\n",
       "<table border=\"1\" class=\"dataframe\">\n",
       "  <thead>\n",
       "    <tr style=\"text-align: right;\">\n",
       "      <th></th>\n",
       "      <th>PctForeignBorn</th>\n",
       "      <th>PctBornSameState</th>\n",
       "      <th>PctSameHouse85</th>\n",
       "      <th>PctSameCity85</th>\n",
       "      <th>PctSameState85</th>\n",
       "      <th>ViolentCrimesPerPop</th>\n",
       "    </tr>\n",
       "  </thead>\n",
       "  <tbody>\n",
       "    <tr>\n",
       "      <th>0</th>\n",
       "      <td>10.66</td>\n",
       "      <td>53.72</td>\n",
       "      <td>65.29</td>\n",
       "      <td>78.09</td>\n",
       "      <td>89.14</td>\n",
       "      <td>41.02</td>\n",
       "    </tr>\n",
       "    <tr>\n",
       "      <th>1</th>\n",
       "      <td>8.30</td>\n",
       "      <td>77.17</td>\n",
       "      <td>71.27</td>\n",
       "      <td>90.22</td>\n",
       "      <td>96.12</td>\n",
       "      <td>127.56</td>\n",
       "    </tr>\n",
       "    <tr>\n",
       "      <th>2</th>\n",
       "      <td>5.00</td>\n",
       "      <td>44.77</td>\n",
       "      <td>36.60</td>\n",
       "      <td>61.26</td>\n",
       "      <td>82.85</td>\n",
       "      <td>218.59</td>\n",
       "    </tr>\n",
       "    <tr>\n",
       "      <th>3</th>\n",
       "      <td>2.04</td>\n",
       "      <td>88.71</td>\n",
       "      <td>56.70</td>\n",
       "      <td>90.17</td>\n",
       "      <td>96.24</td>\n",
       "      <td>306.64</td>\n",
       "    </tr>\n",
       "    <tr>\n",
       "      <th>4</th>\n",
       "      <td>1.74</td>\n",
       "      <td>73.75</td>\n",
       "      <td>42.22</td>\n",
       "      <td>60.34</td>\n",
       "      <td>89.02</td>\n",
       "      <td>NaN</td>\n",
       "    </tr>\n",
       "  </tbody>\n",
       "</table>\n",
       "</div>"
      ],
      "text/plain": [
       "   PctForeignBorn  PctBornSameState  PctSameHouse85  PctSameCity85  \\\n",
       "0           10.66             53.72           65.29          78.09   \n",
       "1            8.30             77.17           71.27          90.22   \n",
       "2            5.00             44.77           36.60          61.26   \n",
       "3            2.04             88.71           56.70          90.17   \n",
       "4            1.74             73.75           42.22          60.34   \n",
       "\n",
       "   PctSameState85  ViolentCrimesPerPop  \n",
       "0           89.14                41.02  \n",
       "1           96.12               127.56  \n",
       "2           82.85               218.59  \n",
       "3           96.24               306.64  \n",
       "4           89.02                  NaN  "
      ]
     },
     "execution_count": 40,
     "metadata": {},
     "output_type": "execute_result"
    }
   ],
   "source": [
    "dataset_born = dataset.loc[:, 'PctForeignBorn':'PctSameState85']\n",
    "viol_crimes = dataset.loc[:, 'ViolentCrimesPerPop']\n",
    "dataset_born_with_crimes = pd.concat([dataset_born, viol_crimes], axis=1)\n",
    "dataset_born_with_crimes.head()"
   ]
  },
  {
   "cell_type": "code",
   "execution_count": 41,
   "metadata": {},
   "outputs": [
    {
     "data": {
      "text/html": [
       "<div>\n",
       "<style scoped>\n",
       "    .dataframe tbody tr th:only-of-type {\n",
       "        vertical-align: middle;\n",
       "    }\n",
       "\n",
       "    .dataframe tbody tr th {\n",
       "        vertical-align: top;\n",
       "    }\n",
       "\n",
       "    .dataframe thead th {\n",
       "        text-align: right;\n",
       "    }\n",
       "</style>\n",
       "<table border=\"1\" class=\"dataframe\">\n",
       "  <thead>\n",
       "    <tr style=\"text-align: right;\">\n",
       "      <th></th>\n",
       "      <th>count</th>\n",
       "      <th>mean</th>\n",
       "      <th>std</th>\n",
       "      <th>min</th>\n",
       "      <th>25%</th>\n",
       "      <th>50%</th>\n",
       "      <th>75%</th>\n",
       "      <th>max</th>\n",
       "    </tr>\n",
       "  </thead>\n",
       "  <tbody>\n",
       "    <tr>\n",
       "      <th>PctForeignBorn</th>\n",
       "      <td>2215.0</td>\n",
       "      <td>7.340302</td>\n",
       "      <td>8.418476</td>\n",
       "      <td>0.18</td>\n",
       "      <td>2.060</td>\n",
       "      <td>4.31</td>\n",
       "      <td>9.250</td>\n",
       "      <td>60.40</td>\n",
       "    </tr>\n",
       "    <tr>\n",
       "      <th>PctBornSameState</th>\n",
       "      <td>2215.0</td>\n",
       "      <td>61.539630</td>\n",
       "      <td>16.750061</td>\n",
       "      <td>6.75</td>\n",
       "      <td>50.110</td>\n",
       "      <td>64.49</td>\n",
       "      <td>74.855</td>\n",
       "      <td>93.14</td>\n",
       "    </tr>\n",
       "    <tr>\n",
       "      <th>PctSameHouse85</th>\n",
       "      <td>2215.0</td>\n",
       "      <td>51.538596</td>\n",
       "      <td>10.517926</td>\n",
       "      <td>11.83</td>\n",
       "      <td>44.995</td>\n",
       "      <td>52.17</td>\n",
       "      <td>58.740</td>\n",
       "      <td>78.56</td>\n",
       "    </tr>\n",
       "    <tr>\n",
       "      <th>PctSameCity85</th>\n",
       "      <td>2215.0</td>\n",
       "      <td>77.411079</td>\n",
       "      <td>10.878186</td>\n",
       "      <td>27.95</td>\n",
       "      <td>72.060</td>\n",
       "      <td>79.49</td>\n",
       "      <td>85.135</td>\n",
       "      <td>96.59</td>\n",
       "    </tr>\n",
       "    <tr>\n",
       "      <th>PctSameState85</th>\n",
       "      <td>2215.0</td>\n",
       "      <td>88.111865</td>\n",
       "      <td>7.287836</td>\n",
       "      <td>32.83</td>\n",
       "      <td>85.200</td>\n",
       "      <td>90.03</td>\n",
       "      <td>93.010</td>\n",
       "      <td>99.90</td>\n",
       "    </tr>\n",
       "  </tbody>\n",
       "</table>\n",
       "</div>"
      ],
      "text/plain": [
       "                   count       mean        std    min     25%    50%     75%  \\\n",
       "PctForeignBorn    2215.0   7.340302   8.418476   0.18   2.060   4.31   9.250   \n",
       "PctBornSameState  2215.0  61.539630  16.750061   6.75  50.110  64.49  74.855   \n",
       "PctSameHouse85    2215.0  51.538596  10.517926  11.83  44.995  52.17  58.740   \n",
       "PctSameCity85     2215.0  77.411079  10.878186  27.95  72.060  79.49  85.135   \n",
       "PctSameState85    2215.0  88.111865   7.287836  32.83  85.200  90.03  93.010   \n",
       "\n",
       "                    max  \n",
       "PctForeignBorn    60.40  \n",
       "PctBornSameState  93.14  \n",
       "PctSameHouse85    78.56  \n",
       "PctSameCity85     96.59  \n",
       "PctSameState85    99.90  "
      ]
     },
     "execution_count": 41,
     "metadata": {},
     "output_type": "execute_result"
    }
   ],
   "source": [
    "dataset_born.describe().T"
   ]
  },
  {
   "cell_type": "code",
   "execution_count": 42,
   "metadata": {},
   "outputs": [
    {
     "data": {
      "text/plain": [
       "<matplotlib.axes._subplots.AxesSubplot at 0x1864a481390>"
      ]
     },
     "execution_count": 42,
     "metadata": {},
     "output_type": "execute_result"
    },
    {
     "data": {
      "image/png": "[encoded data removed]",
      "text/plain": [
       "<Figure size 432x288 with 2 Axes>"
      ]
     },
     "metadata": {
      "needs_background": "light"
     },
     "output_type": "display_data"
    }
   ],
   "source": [
    "sns.heatmap(dataset_born_with_crimes.corr())"
   ]
  },
  {
   "cell_type": "markdown",
   "metadata": {},
   "source": [
    "Biorąc pod uwagę miejsce urodzenia współczynniki nie mają zbyt dużego wpływu na ilość przestępstw. Najbardziej z nich powiązany jest współczynnik ``PctForeignBorn``, a najbardziej odwrotnie powiązany jest współczynnik ``PctSameHouse85``."
   ]
  },
  {
   "cell_type": "markdown",
   "metadata": {},
   "source": [
    "#### Policjanci"
   ]
  },
  {
   "cell_type": "markdown",
   "metadata": {},
   "source": [
    "Kolejna część obserwacji dotyczy policjantów - m.in. liczba policjantów na 100 tys. osób w populacji."
   ]
  },
  {
   "cell_type": "code",
   "execution_count": 43,
   "metadata": {},
   "outputs": [
    {
     "data": {
      "text/html": [
       "<div>\n",
       "<style scoped>\n",
       "    .dataframe tbody tr th:only-of-type {\n",
       "        vertical-align: middle;\n",
       "    }\n",
       "\n",
       "    .dataframe tbody tr th {\n",
       "        vertical-align: top;\n",
       "    }\n",
       "\n",
       "    .dataframe thead th {\n",
       "        text-align: right;\n",
       "    }\n",
       "</style>\n",
       "<table border=\"1\" class=\"dataframe\">\n",
       "  <thead>\n",
       "    <tr style=\"text-align: right;\">\n",
       "      <th></th>\n",
       "      <th>LemasSwornFT</th>\n",
       "      <th>LemasSwFTPerPop</th>\n",
       "      <th>LemasSwFTFieldOps</th>\n",
       "      <th>LemasSwFTFieldPerPop</th>\n",
       "      <th>LemasTotalReq</th>\n",
       "      <th>LemasTotReqPerPop</th>\n",
       "      <th>PolicReqPerOffic</th>\n",
       "      <th>PolicPerPop</th>\n",
       "      <th>ViolentCrimesPerPop</th>\n",
       "    </tr>\n",
       "  </thead>\n",
       "  <tbody>\n",
       "    <tr>\n",
       "      <th>0</th>\n",
       "      <td>NaN</td>\n",
       "      <td>NaN</td>\n",
       "      <td>NaN</td>\n",
       "      <td>NaN</td>\n",
       "      <td>NaN</td>\n",
       "      <td>NaN</td>\n",
       "      <td>NaN</td>\n",
       "      <td>NaN</td>\n",
       "      <td>41.02</td>\n",
       "    </tr>\n",
       "    <tr>\n",
       "      <th>1</th>\n",
       "      <td>NaN</td>\n",
       "      <td>NaN</td>\n",
       "      <td>NaN</td>\n",
       "      <td>NaN</td>\n",
       "      <td>NaN</td>\n",
       "      <td>NaN</td>\n",
       "      <td>NaN</td>\n",
       "      <td>NaN</td>\n",
       "      <td>127.56</td>\n",
       "    </tr>\n",
       "    <tr>\n",
       "      <th>2</th>\n",
       "      <td>NaN</td>\n",
       "      <td>NaN</td>\n",
       "      <td>NaN</td>\n",
       "      <td>NaN</td>\n",
       "      <td>NaN</td>\n",
       "      <td>NaN</td>\n",
       "      <td>NaN</td>\n",
       "      <td>NaN</td>\n",
       "      <td>218.59</td>\n",
       "    </tr>\n",
       "    <tr>\n",
       "      <th>3</th>\n",
       "      <td>NaN</td>\n",
       "      <td>NaN</td>\n",
       "      <td>NaN</td>\n",
       "      <td>NaN</td>\n",
       "      <td>NaN</td>\n",
       "      <td>NaN</td>\n",
       "      <td>NaN</td>\n",
       "      <td>NaN</td>\n",
       "      <td>306.64</td>\n",
       "    </tr>\n",
       "    <tr>\n",
       "      <th>4</th>\n",
       "      <td>NaN</td>\n",
       "      <td>NaN</td>\n",
       "      <td>NaN</td>\n",
       "      <td>NaN</td>\n",
       "      <td>NaN</td>\n",
       "      <td>NaN</td>\n",
       "      <td>NaN</td>\n",
       "      <td>NaN</td>\n",
       "      <td>NaN</td>\n",
       "    </tr>\n",
       "  </tbody>\n",
       "</table>\n",
       "</div>"
      ],
      "text/plain": [
       "   LemasSwornFT  LemasSwFTPerPop  LemasSwFTFieldOps  LemasSwFTFieldPerPop  \\\n",
       "0           NaN              NaN                NaN                   NaN   \n",
       "1           NaN              NaN                NaN                   NaN   \n",
       "2           NaN              NaN                NaN                   NaN   \n",
       "3           NaN              NaN                NaN                   NaN   \n",
       "4           NaN              NaN                NaN                   NaN   \n",
       "\n",
       "   LemasTotalReq  LemasTotReqPerPop  PolicReqPerOffic  PolicPerPop  \\\n",
       "0            NaN                NaN               NaN          NaN   \n",
       "1            NaN                NaN               NaN          NaN   \n",
       "2            NaN                NaN               NaN          NaN   \n",
       "3            NaN                NaN               NaN          NaN   \n",
       "4            NaN                NaN               NaN          NaN   \n",
       "\n",
       "   ViolentCrimesPerPop  \n",
       "0                41.02  \n",
       "1               127.56  \n",
       "2               218.59  \n",
       "3               306.64  \n",
       "4                  NaN  "
      ]
     },
     "execution_count": 43,
     "metadata": {},
     "output_type": "execute_result"
    }
   ],
   "source": [
    "dataset_police = dataset.loc[:, 'LemasSwornFT':'PolicPerPop']\n",
    "viol_crimes = dataset.loc[:, 'ViolentCrimesPerPop']\n",
    "dataset_police_with_crimes = pd.concat([dataset_police, viol_crimes], axis=1)\n",
    "dataset_police_with_crimes.head()"
   ]
  },
  {
   "cell_type": "code",
   "execution_count": 44,
   "metadata": {},
   "outputs": [
    {
     "data": {
      "text/html": [
       "<div>\n",
       "<style scoped>\n",
       "    .dataframe tbody tr th:only-of-type {\n",
       "        vertical-align: middle;\n",
       "    }\n",
       "\n",
       "    .dataframe tbody tr th {\n",
       "        vertical-align: top;\n",
       "    }\n",
       "\n",
       "    .dataframe thead th {\n",
       "        text-align: right;\n",
       "    }\n",
       "</style>\n",
       "<table border=\"1\" class=\"dataframe\">\n",
       "  <thead>\n",
       "    <tr style=\"text-align: right;\">\n",
       "      <th></th>\n",
       "      <th>count</th>\n",
       "      <th>mean</th>\n",
       "      <th>std</th>\n",
       "      <th>min</th>\n",
       "      <th>25%</th>\n",
       "      <th>50%</th>\n",
       "      <th>75%</th>\n",
       "      <th>max</th>\n",
       "    </tr>\n",
       "  </thead>\n",
       "  <tbody>\n",
       "    <tr>\n",
       "      <th>LemasSwornFT</th>\n",
       "      <td>343.0</td>\n",
       "      <td>499.198251</td>\n",
       "      <td>1681.472251</td>\n",
       "      <td>65.00</td>\n",
       "      <td>131.000</td>\n",
       "      <td>173.00</td>\n",
       "      <td>314.000</td>\n",
       "      <td>25655.00</td>\n",
       "    </tr>\n",
       "    <tr>\n",
       "      <th>LemasSwFTPerPop</th>\n",
       "      <td>343.0</td>\n",
       "      <td>246.490962</td>\n",
       "      <td>273.799162</td>\n",
       "      <td>29.40</td>\n",
       "      <td>149.115</td>\n",
       "      <td>196.01</td>\n",
       "      <td>260.650</td>\n",
       "      <td>3437.23</td>\n",
       "    </tr>\n",
       "    <tr>\n",
       "      <th>LemasSwFTFieldOps</th>\n",
       "      <td>343.0</td>\n",
       "      <td>432.559767</td>\n",
       "      <td>1493.708385</td>\n",
       "      <td>14.00</td>\n",
       "      <td>114.000</td>\n",
       "      <td>152.00</td>\n",
       "      <td>285.500</td>\n",
       "      <td>22496.00</td>\n",
       "    </tr>\n",
       "    <tr>\n",
       "      <th>LemasSwFTFieldPerPop</th>\n",
       "      <td>343.0</td>\n",
       "      <td>210.844781</td>\n",
       "      <td>235.478815</td>\n",
       "      <td>19.21</td>\n",
       "      <td>132.245</td>\n",
       "      <td>170.27</td>\n",
       "      <td>226.815</td>\n",
       "      <td>3290.62</td>\n",
       "    </tr>\n",
       "    <tr>\n",
       "      <th>LemasTotalReq</th>\n",
       "      <td>343.0</td>\n",
       "      <td>252404.988338</td>\n",
       "      <td>689449.781653</td>\n",
       "      <td>2100.00</td>\n",
       "      <td>49864.500</td>\n",
       "      <td>90000.00</td>\n",
       "      <td>171923.500</td>\n",
       "      <td>8328470.00</td>\n",
       "    </tr>\n",
       "    <tr>\n",
       "      <th>LemasTotReqPerPop</th>\n",
       "      <td>343.0</td>\n",
       "      <td>120651.718892</td>\n",
       "      <td>148211.342163</td>\n",
       "      <td>2704.80</td>\n",
       "      <td>64845.050</td>\n",
       "      <td>91034.60</td>\n",
       "      <td>130324.650</td>\n",
       "      <td>1926281.50</td>\n",
       "    </tr>\n",
       "    <tr>\n",
       "      <th>PolicReqPerOffic</th>\n",
       "      <td>343.0</td>\n",
       "      <td>523.658309</td>\n",
       "      <td>307.839007</td>\n",
       "      <td>20.80</td>\n",
       "      <td>343.350</td>\n",
       "      <td>443.20</td>\n",
       "      <td>637.250</td>\n",
       "      <td>2162.50</td>\n",
       "    </tr>\n",
       "    <tr>\n",
       "      <th>PolicPerPop</th>\n",
       "      <td>343.0</td>\n",
       "      <td>246.493586</td>\n",
       "      <td>273.798409</td>\n",
       "      <td>29.40</td>\n",
       "      <td>149.150</td>\n",
       "      <td>196.00</td>\n",
       "      <td>260.650</td>\n",
       "      <td>3437.20</td>\n",
       "    </tr>\n",
       "  </tbody>\n",
       "</table>\n",
       "</div>"
      ],
      "text/plain": [
       "                      count           mean            std      min        25%  \\\n",
       "LemasSwornFT          343.0     499.198251    1681.472251    65.00    131.000   \n",
       "LemasSwFTPerPop       343.0     246.490962     273.799162    29.40    149.115   \n",
       "LemasSwFTFieldOps     343.0     432.559767    1493.708385    14.00    114.000   \n",
       "LemasSwFTFieldPerPop  343.0     210.844781     235.478815    19.21    132.245   \n",
       "LemasTotalReq         343.0  252404.988338  689449.781653  2100.00  49864.500   \n",
       "LemasTotReqPerPop     343.0  120651.718892  148211.342163  2704.80  64845.050   \n",
       "PolicReqPerOffic      343.0     523.658309     307.839007    20.80    343.350   \n",
       "PolicPerPop           343.0     246.493586     273.798409    29.40    149.150   \n",
       "\n",
       "                           50%         75%         max  \n",
       "LemasSwornFT            173.00     314.000    25655.00  \n",
       "LemasSwFTPerPop         196.01     260.650     3437.23  \n",
       "LemasSwFTFieldOps       152.00     285.500    22496.00  \n",
       "LemasSwFTFieldPerPop    170.27     226.815     3290.62  \n",
       "LemasTotalReq         90000.00  171923.500  8328470.00  \n",
       "LemasTotReqPerPop     91034.60  130324.650  1926281.50  \n",
       "PolicReqPerOffic        443.20     637.250     2162.50  \n",
       "PolicPerPop             196.00     260.650     3437.20  "
      ]
     },
     "execution_count": 44,
     "metadata": {},
     "output_type": "execute_result"
    }
   ],
   "source": [
    "dataset_police.describe().T"
   ]
  },
  {
   "cell_type": "code",
   "execution_count": 45,
   "metadata": {},
   "outputs": [
    {
     "data": {
      "text/plain": [
       "<matplotlib.axes._subplots.AxesSubplot at 0x1864b4e9518>"
      ]
     },
     "execution_count": 45,
     "metadata": {},
     "output_type": "execute_result"
    },
    {
     "data": {
      "image/png": "[encoded data removed]",
      "text/plain": [
       "<Figure size 432x288 with 2 Axes>"
      ]
     },
     "metadata": {
      "needs_background": "light"
     },
     "output_type": "display_data"
    }
   ],
   "source": [
    "sns.heatmap(dataset_police_with_crimes.corr())"
   ]
  },
  {
   "cell_type": "markdown",
   "metadata": {},
   "source": [
    "Dane dotyczące liczby policjantów mają znaczne braki i niekoniecznie oddają rzeczywisty charakter całości zbioru. Widać jednak, że tutaj wszystkie współczynniki są dodatnio skorelowane z ilością popełnianych przestępstw."
   ]
  },
  {
   "cell_type": "markdown",
   "metadata": {},
   "source": [
    "#### Rasa policjantów"
   ]
  },
  {
   "cell_type": "markdown",
   "metadata": {},
   "source": [
    "Kolejna część obserwacji dotyczy procentu policjantów, jaki stanowią poszczególne rasy ludzkie."
   ]
  },
  {
   "cell_type": "code",
   "execution_count": 46,
   "metadata": {},
   "outputs": [
    {
     "data": {
      "text/html": [
       "<div>\n",
       "<style scoped>\n",
       "    .dataframe tbody tr th:only-of-type {\n",
       "        vertical-align: middle;\n",
       "    }\n",
       "\n",
       "    .dataframe tbody tr th {\n",
       "        vertical-align: top;\n",
       "    }\n",
       "\n",
       "    .dataframe thead th {\n",
       "        text-align: right;\n",
       "    }\n",
       "</style>\n",
       "<table border=\"1\" class=\"dataframe\">\n",
       "  <thead>\n",
       "    <tr style=\"text-align: right;\">\n",
       "      <th></th>\n",
       "      <th>RacialMatchCommPol</th>\n",
       "      <th>PctPolicWhite</th>\n",
       "      <th>PctPolicBlack</th>\n",
       "      <th>PctPolicHisp</th>\n",
       "      <th>PctPolicAsian</th>\n",
       "      <th>PctPolicMinor</th>\n",
       "      <th>ViolentCrimesPerPop</th>\n",
       "    </tr>\n",
       "  </thead>\n",
       "  <tbody>\n",
       "    <tr>\n",
       "      <th>0</th>\n",
       "      <td>NaN</td>\n",
       "      <td>NaN</td>\n",
       "      <td>NaN</td>\n",
       "      <td>NaN</td>\n",
       "      <td>NaN</td>\n",
       "      <td>NaN</td>\n",
       "      <td>41.02</td>\n",
       "    </tr>\n",
       "    <tr>\n",
       "      <th>1</th>\n",
       "      <td>NaN</td>\n",
       "      <td>NaN</td>\n",
       "      <td>NaN</td>\n",
       "      <td>NaN</td>\n",
       "      <td>NaN</td>\n",
       "      <td>NaN</td>\n",
       "      <td>127.56</td>\n",
       "    </tr>\n",
       "    <tr>\n",
       "      <th>2</th>\n",
       "      <td>NaN</td>\n",
       "      <td>NaN</td>\n",
       "      <td>NaN</td>\n",
       "      <td>NaN</td>\n",
       "      <td>NaN</td>\n",
       "      <td>NaN</td>\n",
       "      <td>218.59</td>\n",
       "    </tr>\n",
       "    <tr>\n",
       "      <th>3</th>\n",
       "      <td>NaN</td>\n",
       "      <td>NaN</td>\n",
       "      <td>NaN</td>\n",
       "      <td>NaN</td>\n",
       "      <td>NaN</td>\n",
       "      <td>NaN</td>\n",
       "      <td>306.64</td>\n",
       "    </tr>\n",
       "    <tr>\n",
       "      <th>4</th>\n",
       "      <td>NaN</td>\n",
       "      <td>NaN</td>\n",
       "      <td>NaN</td>\n",
       "      <td>NaN</td>\n",
       "      <td>NaN</td>\n",
       "      <td>NaN</td>\n",
       "      <td>NaN</td>\n",
       "    </tr>\n",
       "  </tbody>\n",
       "</table>\n",
       "</div>"
      ],
      "text/plain": [
       "   RacialMatchCommPol  PctPolicWhite  PctPolicBlack  PctPolicHisp  \\\n",
       "0                 NaN            NaN            NaN           NaN   \n",
       "1                 NaN            NaN            NaN           NaN   \n",
       "2                 NaN            NaN            NaN           NaN   \n",
       "3                 NaN            NaN            NaN           NaN   \n",
       "4                 NaN            NaN            NaN           NaN   \n",
       "\n",
       "   PctPolicAsian  PctPolicMinor  ViolentCrimesPerPop  \n",
       "0            NaN            NaN                41.02  \n",
       "1            NaN            NaN               127.56  \n",
       "2            NaN            NaN               218.59  \n",
       "3            NaN            NaN               306.64  \n",
       "4            NaN            NaN                  NaN  "
      ]
     },
     "execution_count": 46,
     "metadata": {},
     "output_type": "execute_result"
    }
   ],
   "source": [
    "dataset_race = dataset.loc[:, 'RacialMatchCommPol':'PctPolicMinor']\n",
    "viol_crimes = dataset.loc[:, 'ViolentCrimesPerPop']\n",
    "dataset_race_with_crimes = pd.concat([dataset_race, viol_crimes], axis=1)\n",
    "dataset_race_with_crimes.head()"
   ]
  },
  {
   "cell_type": "code",
   "execution_count": 47,
   "metadata": {},
   "outputs": [
    {
     "data": {
      "text/html": [
       "<div>\n",
       "<style scoped>\n",
       "    .dataframe tbody tr th:only-of-type {\n",
       "        vertical-align: middle;\n",
       "    }\n",
       "\n",
       "    .dataframe tbody tr th {\n",
       "        vertical-align: top;\n",
       "    }\n",
       "\n",
       "    .dataframe thead th {\n",
       "        text-align: right;\n",
       "    }\n",
       "</style>\n",
       "<table border=\"1\" class=\"dataframe\">\n",
       "  <thead>\n",
       "    <tr style=\"text-align: right;\">\n",
       "      <th></th>\n",
       "      <th>count</th>\n",
       "      <th>mean</th>\n",
       "      <th>std</th>\n",
       "      <th>min</th>\n",
       "      <th>25%</th>\n",
       "      <th>50%</th>\n",
       "      <th>75%</th>\n",
       "      <th>max</th>\n",
       "    </tr>\n",
       "  </thead>\n",
       "  <tbody>\n",
       "    <tr>\n",
       "      <th>RacialMatchCommPol</th>\n",
       "      <td>343.0</td>\n",
       "      <td>85.499679</td>\n",
       "      <td>10.941312</td>\n",
       "      <td>42.15</td>\n",
       "      <td>79.435</td>\n",
       "      <td>87.93</td>\n",
       "      <td>93.645</td>\n",
       "      <td>100.00</td>\n",
       "    </tr>\n",
       "    <tr>\n",
       "      <th>PctPolicWhite</th>\n",
       "      <td>343.0</td>\n",
       "      <td>82.515831</td>\n",
       "      <td>15.332612</td>\n",
       "      <td>1.60</td>\n",
       "      <td>76.230</td>\n",
       "      <td>86.18</td>\n",
       "      <td>93.340</td>\n",
       "      <td>100.00</td>\n",
       "    </tr>\n",
       "    <tr>\n",
       "      <th>PctPolicBlack</th>\n",
       "      <td>343.0</td>\n",
       "      <td>9.263294</td>\n",
       "      <td>11.021424</td>\n",
       "      <td>0.00</td>\n",
       "      <td>2.020</td>\n",
       "      <td>5.00</td>\n",
       "      <td>14.065</td>\n",
       "      <td>67.31</td>\n",
       "    </tr>\n",
       "    <tr>\n",
       "      <th>PctPolicHisp</th>\n",
       "      <td>343.0</td>\n",
       "      <td>5.459767</td>\n",
       "      <td>10.604533</td>\n",
       "      <td>0.00</td>\n",
       "      <td>0.415</td>\n",
       "      <td>2.04</td>\n",
       "      <td>6.215</td>\n",
       "      <td>98.40</td>\n",
       "    </tr>\n",
       "    <tr>\n",
       "      <th>PctPolicAsian</th>\n",
       "      <td>343.0</td>\n",
       "      <td>0.681283</td>\n",
       "      <td>1.706344</td>\n",
       "      <td>0.00</td>\n",
       "      <td>0.000</td>\n",
       "      <td>0.00</td>\n",
       "      <td>0.650</td>\n",
       "      <td>18.57</td>\n",
       "    </tr>\n",
       "    <tr>\n",
       "      <th>PctPolicMinor</th>\n",
       "      <td>343.0</td>\n",
       "      <td>15.242245</td>\n",
       "      <td>14.826756</td>\n",
       "      <td>0.00</td>\n",
       "      <td>4.950</td>\n",
       "      <td>11.37</td>\n",
       "      <td>19.740</td>\n",
       "      <td>98.40</td>\n",
       "    </tr>\n",
       "  </tbody>\n",
       "</table>\n",
       "</div>"
      ],
      "text/plain": [
       "                    count       mean        std    min     25%    50%     75%  \\\n",
       "RacialMatchCommPol  343.0  85.499679  10.941312  42.15  79.435  87.93  93.645   \n",
       "PctPolicWhite       343.0  82.515831  15.332612   1.60  76.230  86.18  93.340   \n",
       "PctPolicBlack       343.0   9.263294  11.021424   0.00   2.020   5.00  14.065   \n",
       "PctPolicHisp        343.0   5.459767  10.604533   0.00   0.415   2.04   6.215   \n",
       "PctPolicAsian       343.0   0.681283   1.706344   0.00   0.000   0.00   0.650   \n",
       "PctPolicMinor       343.0  15.242245  14.826756   0.00   4.950  11.37  19.740   \n",
       "\n",
       "                       max  \n",
       "RacialMatchCommPol  100.00  \n",
       "PctPolicWhite       100.00  \n",
       "PctPolicBlack        67.31  \n",
       "PctPolicHisp         98.40  \n",
       "PctPolicAsian        18.57  \n",
       "PctPolicMinor        98.40  "
      ]
     },
     "execution_count": 47,
     "metadata": {},
     "output_type": "execute_result"
    }
   ],
   "source": [
    "dataset_race.describe().T"
   ]
  },
  {
   "cell_type": "code",
   "execution_count": 48,
   "metadata": {},
   "outputs": [
    {
     "data": {
      "text/plain": [
       "<matplotlib.axes._subplots.AxesSubplot at 0x1864b5912e8>"
      ]
     },
     "execution_count": 48,
     "metadata": {},
     "output_type": "execute_result"
    },
    {
     "data": {
      "image/png": "[encoded data removed]",
      "text/plain": [
       "<Figure size 432x288 with 2 Axes>"
      ]
     },
     "metadata": {
      "needs_background": "light"
     },
     "output_type": "display_data"
    }
   ],
   "source": [
    "sns.heatmap(dataset_race_with_crimes.corr())"
   ]
  },
  {
   "cell_type": "markdown",
   "metadata": {},
   "source": [
    "Te dane również są znacznie wybrakowane. Największe powiązanie z ilością przestępstw wykazuje współczynnik ``PctPolicBlack``. Odwrotnie powiązany ze zmienna jest współczynnik ``RacialMatchCommPol\t``"
   ]
  },
  {
   "cell_type": "markdown",
   "metadata": {},
   "source": [
    "#### Pozostałe atrybuty"
   ]
  },
  {
   "cell_type": "markdown",
   "metadata": {},
   "source": [
    "Ostatnia część obserwacji to połączone pozostałe atrybuty zbioru."
   ]
  },
  {
   "cell_type": "code",
   "execution_count": 49,
   "metadata": {},
   "outputs": [
    {
     "data": {
      "text/html": [
       "<div>\n",
       "<style scoped>\n",
       "    .dataframe tbody tr th:only-of-type {\n",
       "        vertical-align: middle;\n",
       "    }\n",
       "\n",
       "    .dataframe tbody tr th {\n",
       "        vertical-align: top;\n",
       "    }\n",
       "\n",
       "    .dataframe thead th {\n",
       "        text-align: right;\n",
       "    }\n",
       "</style>\n",
       "<table border=\"1\" class=\"dataframe\">\n",
       "  <thead>\n",
       "    <tr style=\"text-align: right;\">\n",
       "      <th></th>\n",
       "      <th>OfficAssgnDrugUnits</th>\n",
       "      <th>NumKindsDrugsSeiz</th>\n",
       "      <th>PolicAveOTWorked</th>\n",
       "      <th>LandArea</th>\n",
       "      <th>PopDens</th>\n",
       "      <th>PctUsePubTrans</th>\n",
       "      <th>PolicCars</th>\n",
       "      <th>PolicOperBudg</th>\n",
       "      <th>LemasPctPolicOnPatr</th>\n",
       "      <th>LemasGangUnitDeploy</th>\n",
       "      <th>LemasPctOfficDrugUn</th>\n",
       "      <th>PolicBudgPerPop</th>\n",
       "      <th>ViolentCrimesPerPop</th>\n",
       "    </tr>\n",
       "  </thead>\n",
       "  <tbody>\n",
       "    <tr>\n",
       "      <th>0</th>\n",
       "      <td>NaN</td>\n",
       "      <td>NaN</td>\n",
       "      <td>NaN</td>\n",
       "      <td>6.5</td>\n",
       "      <td>1845.9</td>\n",
       "      <td>9.63</td>\n",
       "      <td>NaN</td>\n",
       "      <td>NaN</td>\n",
       "      <td>NaN</td>\n",
       "      <td>NaN</td>\n",
       "      <td>0.0</td>\n",
       "      <td>NaN</td>\n",
       "      <td>41.02</td>\n",
       "    </tr>\n",
       "    <tr>\n",
       "      <th>1</th>\n",
       "      <td>NaN</td>\n",
       "      <td>NaN</td>\n",
       "      <td>NaN</td>\n",
       "      <td>10.6</td>\n",
       "      <td>2186.7</td>\n",
       "      <td>3.84</td>\n",
       "      <td>NaN</td>\n",
       "      <td>NaN</td>\n",
       "      <td>NaN</td>\n",
       "      <td>NaN</td>\n",
       "      <td>0.0</td>\n",
       "      <td>NaN</td>\n",
       "      <td>127.56</td>\n",
       "    </tr>\n",
       "    <tr>\n",
       "      <th>2</th>\n",
       "      <td>NaN</td>\n",
       "      <td>NaN</td>\n",
       "      <td>NaN</td>\n",
       "      <td>10.6</td>\n",
       "      <td>2780.9</td>\n",
       "      <td>4.37</td>\n",
       "      <td>NaN</td>\n",
       "      <td>NaN</td>\n",
       "      <td>NaN</td>\n",
       "      <td>NaN</td>\n",
       "      <td>0.0</td>\n",
       "      <td>NaN</td>\n",
       "      <td>218.59</td>\n",
       "    </tr>\n",
       "    <tr>\n",
       "      <th>3</th>\n",
       "      <td>NaN</td>\n",
       "      <td>NaN</td>\n",
       "      <td>NaN</td>\n",
       "      <td>5.2</td>\n",
       "      <td>3217.7</td>\n",
       "      <td>3.31</td>\n",
       "      <td>NaN</td>\n",
       "      <td>NaN</td>\n",
       "      <td>NaN</td>\n",
       "      <td>NaN</td>\n",
       "      <td>0.0</td>\n",
       "      <td>NaN</td>\n",
       "      <td>306.64</td>\n",
       "    </tr>\n",
       "    <tr>\n",
       "      <th>4</th>\n",
       "      <td>NaN</td>\n",
       "      <td>NaN</td>\n",
       "      <td>NaN</td>\n",
       "      <td>11.5</td>\n",
       "      <td>974.2</td>\n",
       "      <td>0.38</td>\n",
       "      <td>NaN</td>\n",
       "      <td>NaN</td>\n",
       "      <td>NaN</td>\n",
       "      <td>NaN</td>\n",
       "      <td>0.0</td>\n",
       "      <td>NaN</td>\n",
       "      <td>NaN</td>\n",
       "    </tr>\n",
       "  </tbody>\n",
       "</table>\n",
       "</div>"
      ],
      "text/plain": [
       "   OfficAssgnDrugUnits  NumKindsDrugsSeiz  PolicAveOTWorked  LandArea  \\\n",
       "0                  NaN                NaN               NaN       6.5   \n",
       "1                  NaN                NaN               NaN      10.6   \n",
       "2                  NaN                NaN               NaN      10.6   \n",
       "3                  NaN                NaN               NaN       5.2   \n",
       "4                  NaN                NaN               NaN      11.5   \n",
       "\n",
       "   PopDens  PctUsePubTrans  PolicCars  PolicOperBudg  LemasPctPolicOnPatr  \\\n",
       "0   1845.9            9.63        NaN            NaN                  NaN   \n",
       "1   2186.7            3.84        NaN            NaN                  NaN   \n",
       "2   2780.9            4.37        NaN            NaN                  NaN   \n",
       "3   3217.7            3.31        NaN            NaN                  NaN   \n",
       "4    974.2            0.38        NaN            NaN                  NaN   \n",
       "\n",
       "   LemasGangUnitDeploy  LemasPctOfficDrugUn  PolicBudgPerPop  \\\n",
       "0                  NaN                  0.0              NaN   \n",
       "1                  NaN                  0.0              NaN   \n",
       "2                  NaN                  0.0              NaN   \n",
       "3                  NaN                  0.0              NaN   \n",
       "4                  NaN                  0.0              NaN   \n",
       "\n",
       "   ViolentCrimesPerPop  \n",
       "0                41.02  \n",
       "1               127.56  \n",
       "2               218.59  \n",
       "3               306.64  \n",
       "4                  NaN  "
      ]
     },
     "execution_count": 49,
     "metadata": {},
     "output_type": "execute_result"
    }
   ],
   "source": [
    "dataset_other = dataset.loc[:, 'OfficAssgnDrugUnits':'PolicBudgPerPop']\n",
    "viol_crimes = dataset.loc[:, 'ViolentCrimesPerPop']\n",
    "dataset_other_with_crimes = pd.concat([dataset_other, viol_crimes], axis=1)\n",
    "dataset_other_with_crimes.head()"
   ]
  },
  {
   "cell_type": "code",
   "execution_count": 50,
   "metadata": {},
   "outputs": [
    {
     "data": {
      "text/html": [
       "<div>\n",
       "<style scoped>\n",
       "    .dataframe tbody tr th:only-of-type {\n",
       "        vertical-align: middle;\n",
       "    }\n",
       "\n",
       "    .dataframe tbody tr th {\n",
       "        vertical-align: top;\n",
       "    }\n",
       "\n",
       "    .dataframe thead th {\n",
       "        text-align: right;\n",
       "    }\n",
       "</style>\n",
       "<table border=\"1\" class=\"dataframe\">\n",
       "  <thead>\n",
       "    <tr style=\"text-align: right;\">\n",
       "      <th></th>\n",
       "      <th>count</th>\n",
       "      <th>mean</th>\n",
       "      <th>std</th>\n",
       "      <th>min</th>\n",
       "      <th>25%</th>\n",
       "      <th>50%</th>\n",
       "      <th>75%</th>\n",
       "      <th>max</th>\n",
       "    </tr>\n",
       "  </thead>\n",
       "  <tbody>\n",
       "    <tr>\n",
       "      <th>OfficAssgnDrugUnits</th>\n",
       "      <td>343.0</td>\n",
       "      <td>2.628863e+01</td>\n",
       "      <td>1.008219e+02</td>\n",
       "      <td>0.00</td>\n",
       "      <td>6.000</td>\n",
       "      <td>12.00</td>\n",
       "      <td>2.300000e+01</td>\n",
       "      <td>1.773000e+03</td>\n",
       "    </tr>\n",
       "    <tr>\n",
       "      <th>NumKindsDrugsSeiz</th>\n",
       "      <td>343.0</td>\n",
       "      <td>8.816327e+00</td>\n",
       "      <td>2.836391e+00</td>\n",
       "      <td>1.00</td>\n",
       "      <td>7.000</td>\n",
       "      <td>9.00</td>\n",
       "      <td>1.050000e+01</td>\n",
       "      <td>1.500000e+01</td>\n",
       "    </tr>\n",
       "    <tr>\n",
       "      <th>PolicAveOTWorked</th>\n",
       "      <td>343.0</td>\n",
       "      <td>1.191143e+02</td>\n",
       "      <td>9.249519e+01</td>\n",
       "      <td>0.00</td>\n",
       "      <td>55.100</td>\n",
       "      <td>98.70</td>\n",
       "      <td>1.535500e+02</td>\n",
       "      <td>6.347000e+02</td>\n",
       "    </tr>\n",
       "    <tr>\n",
       "      <th>LandArea</th>\n",
       "      <td>2215.0</td>\n",
       "      <td>2.741995e+01</td>\n",
       "      <td>1.098226e+02</td>\n",
       "      <td>0.90</td>\n",
       "      <td>7.300</td>\n",
       "      <td>13.70</td>\n",
       "      <td>2.610000e+01</td>\n",
       "      <td>3.569800e+03</td>\n",
       "    </tr>\n",
       "    <tr>\n",
       "      <th>PopDens</th>\n",
       "      <td>2215.0</td>\n",
       "      <td>2.783835e+03</td>\n",
       "      <td>2.828993e+03</td>\n",
       "      <td>10.00</td>\n",
       "      <td>1181.900</td>\n",
       "      <td>2027.30</td>\n",
       "      <td>3.321700e+03</td>\n",
       "      <td>4.422990e+04</td>\n",
       "    </tr>\n",
       "    <tr>\n",
       "      <th>PctUsePubTrans</th>\n",
       "      <td>2215.0</td>\n",
       "      <td>3.041124e+00</td>\n",
       "      <td>4.912917e+00</td>\n",
       "      <td>0.00</td>\n",
       "      <td>0.360</td>\n",
       "      <td>1.22</td>\n",
       "      <td>3.365000e+00</td>\n",
       "      <td>5.433000e+01</td>\n",
       "    </tr>\n",
       "    <tr>\n",
       "      <th>PolicCars</th>\n",
       "      <td>343.0</td>\n",
       "      <td>1.854781e+02</td>\n",
       "      <td>3.185428e+02</td>\n",
       "      <td>20.00</td>\n",
       "      <td>54.000</td>\n",
       "      <td>86.00</td>\n",
       "      <td>1.895000e+02</td>\n",
       "      <td>3.187000e+03</td>\n",
       "    </tr>\n",
       "    <tr>\n",
       "      <th>PolicOperBudg</th>\n",
       "      <td>343.0</td>\n",
       "      <td>3.217602e+07</td>\n",
       "      <td>1.104566e+08</td>\n",
       "      <td>2380215.00</td>\n",
       "      <td>7275059.500</td>\n",
       "      <td>11164110.00</td>\n",
       "      <td>2.014754e+07</td>\n",
       "      <td>1.617293e+09</td>\n",
       "    </tr>\n",
       "    <tr>\n",
       "      <th>LemasPctPolicOnPatr</th>\n",
       "      <td>343.0</td>\n",
       "      <td>8.713093e+01</td>\n",
       "      <td>1.034961e+01</td>\n",
       "      <td>10.85</td>\n",
       "      <td>84.295</td>\n",
       "      <td>89.58</td>\n",
       "      <td>9.320000e+01</td>\n",
       "      <td>9.994000e+01</td>\n",
       "    </tr>\n",
       "    <tr>\n",
       "      <th>LemasGangUnitDeploy</th>\n",
       "      <td>343.0</td>\n",
       "      <td>4.285714e+00</td>\n",
       "      <td>4.064538e+00</td>\n",
       "      <td>0.00</td>\n",
       "      <td>0.000</td>\n",
       "      <td>5.00</td>\n",
       "      <td>1.000000e+01</td>\n",
       "      <td>1.000000e+01</td>\n",
       "    </tr>\n",
       "    <tr>\n",
       "      <th>LemasPctOfficDrugUn</th>\n",
       "      <td>2215.0</td>\n",
       "      <td>9.801625e-01</td>\n",
       "      <td>2.877128e+00</td>\n",
       "      <td>0.00</td>\n",
       "      <td>0.000</td>\n",
       "      <td>0.00</td>\n",
       "      <td>0.000000e+00</td>\n",
       "      <td>4.844000e+01</td>\n",
       "    </tr>\n",
       "    <tr>\n",
       "      <th>PolicBudgPerPop</th>\n",
       "      <td>343.0</td>\n",
       "      <td>1.535779e+05</td>\n",
       "      <td>2.030409e+05</td>\n",
       "      <td>15260.40</td>\n",
       "      <td>88094.350</td>\n",
       "      <td>114582.00</td>\n",
       "      <td>1.556557e+05</td>\n",
       "      <td>2.422367e+06</td>\n",
       "    </tr>\n",
       "  </tbody>\n",
       "</table>\n",
       "</div>"
      ],
      "text/plain": [
       "                      count          mean           std         min  \\\n",
       "OfficAssgnDrugUnits   343.0  2.628863e+01  1.008219e+02        0.00   \n",
       "NumKindsDrugsSeiz     343.0  8.816327e+00  2.836391e+00        1.00   \n",
       "PolicAveOTWorked      343.0  1.191143e+02  9.249519e+01        0.00   \n",
       "LandArea             2215.0  2.741995e+01  1.098226e+02        0.90   \n",
       "PopDens              2215.0  2.783835e+03  2.828993e+03       10.00   \n",
       "PctUsePubTrans       2215.0  3.041124e+00  4.912917e+00        0.00   \n",
       "PolicCars             343.0  1.854781e+02  3.185428e+02       20.00   \n",
       "PolicOperBudg         343.0  3.217602e+07  1.104566e+08  2380215.00   \n",
       "LemasPctPolicOnPatr   343.0  8.713093e+01  1.034961e+01       10.85   \n",
       "LemasGangUnitDeploy   343.0  4.285714e+00  4.064538e+00        0.00   \n",
       "LemasPctOfficDrugUn  2215.0  9.801625e-01  2.877128e+00        0.00   \n",
       "PolicBudgPerPop       343.0  1.535779e+05  2.030409e+05    15260.40   \n",
       "\n",
       "                             25%          50%           75%           max  \n",
       "OfficAssgnDrugUnits        6.000        12.00  2.300000e+01  1.773000e+03  \n",
       "NumKindsDrugsSeiz          7.000         9.00  1.050000e+01  1.500000e+01  \n",
       "PolicAveOTWorked          55.100        98.70  1.535500e+02  6.347000e+02  \n",
       "LandArea                   7.300        13.70  2.610000e+01  3.569800e+03  \n",
       "PopDens                 1181.900      2027.30  3.321700e+03  4.422990e+04  \n",
       "PctUsePubTrans             0.360         1.22  3.365000e+00  5.433000e+01  \n",
       "PolicCars                 54.000        86.00  1.895000e+02  3.187000e+03  \n",
       "PolicOperBudg        7275059.500  11164110.00  2.014754e+07  1.617293e+09  \n",
       "LemasPctPolicOnPatr       84.295        89.58  9.320000e+01  9.994000e+01  \n",
       "LemasGangUnitDeploy        0.000         5.00  1.000000e+01  1.000000e+01  \n",
       "LemasPctOfficDrugUn        0.000         0.00  0.000000e+00  4.844000e+01  \n",
       "PolicBudgPerPop        88094.350    114582.00  1.556557e+05  2.422367e+06  "
      ]
     },
     "execution_count": 50,
     "metadata": {},
     "output_type": "execute_result"
    }
   ],
   "source": [
    "dataset_other.describe().T"
   ]
  },
  {
   "cell_type": "code",
   "execution_count": 51,
   "metadata": {},
   "outputs": [
    {
     "data": {
      "text/plain": [
       "<matplotlib.axes._subplots.AxesSubplot at 0x1864b6317f0>"
      ]
     },
     "execution_count": 51,
     "metadata": {},
     "output_type": "execute_result"
    },
    {
     "data": {
      "image/png": "[encoded data removed]",
      "text/plain": [
       "<Figure size 432x288 with 2 Axes>"
      ]
     },
     "metadata": {
      "needs_background": "light"
     },
     "output_type": "display_data"
    }
   ],
   "source": [
    "sns.heatmap(dataset_other_with_crimes.corr())"
   ]
  },
  {
   "cell_type": "markdown",
   "metadata": {},
   "source": [
    "Te współczynniki nie są zbyt silnie skorelowane z ilością przestępstw. Warto też wspomieć, że część z nich jest mocno wybrakowana. Najbardziej powiązany z cechą jest współczynnik ``PopDens``, a odwrotnie powiązany jest ``LemasPctPolicOnPatr``."
   ]
  },
  {
   "cell_type": "markdown",
   "metadata": {},
   "source": [
    "### Dane najbardziej znaczące dla szukanego współczynnika przestępstw"
   ]
  },
  {
   "cell_type": "code",
   "execution_count": 52,
   "metadata": {},
   "outputs": [
    {
     "data": {
      "text/plain": [
       "ViolentCrimesPerPop    1.000000\n",
       "PctKidsBornNeverMar    0.738089\n",
       "racepctblack           0.628368\n",
       "pctWPubAsst            0.563107\n",
       "FemalePctDiv           0.537303\n",
       "TotalPctDiv            0.536549\n",
       "PctPolicBlack          0.513569\n",
       "MalePctDivorce         0.510456\n",
       "PctPopUnderPov         0.505349\n",
       "PctUnemployed          0.483441\n",
       "PctVacantBoarded       0.479910\n",
       "PctHousNoPhone         0.473718\n",
       "PctNotHSGrad           0.467596\n",
       "PctHousLess3BR         0.454470\n",
       "PctPolicMinor          0.416418\n",
       "PctPersDenseHous       0.395856\n",
       "PctLess9thGrade        0.371422\n",
       "PctLargHouseFam        0.341601\n",
       "LemasPctOfficDrugUn    0.318474\n",
       "MedRentPctHousInc      0.315537\n",
       "PolicCars              0.313164\n",
       "PctWOFullPlumb         0.311227\n",
       "Name: ViolentCrimesPerPop, dtype: float64"
      ]
     },
     "execution_count": 52,
     "metadata": {},
     "output_type": "execute_result"
    }
   ],
   "source": [
    "dataset_train = dataset.loc[:, 'population':'PolicBudgPerPop']\n",
    "viol_crimes = dataset.loc[:, 'ViolentCrimesPerPop']\n",
    "dataset_education_with_viol_crimes = pd.concat([dataset_train, viol_crimes], axis=1)\n",
    "\n",
    "CORR_THRESHOLD_VALUE = 0.3\n",
    "\n",
    "corr = dataset_education_with_viol_crimes.corr()\n",
    "abs(corr[corr[\"ViolentCrimesPerPop\"] > CORR_THRESHOLD_VALUE][\"ViolentCrimesPerPop\"] ).sort_values(ascending=False)"
   ]
  },
  {
   "cell_type": "markdown",
   "metadata": {},
   "source": [
    "### Wizualizacja danych "
   ]
  },
  {
   "cell_type": "markdown",
   "metadata": {},
   "source": [
    "#### Wykresy przedstawiające liczbę przestęstw na 100 tysięcy osób"
   ]
  },
  {
   "cell_type": "code",
   "execution_count": 53,
   "metadata": {},
   "outputs": [
    {
     "data": {
      "application/vnd.plotly.v1+json": {
       "config": {
        "linkText": "Export to plot.ly",
        "plotlyServerURL": "https://plot.ly",
        "showLink": false
       },
       "data": [
        {
         "autocolorscale": false,
         "colorbar": {
          "title": {
           "text": "Przestępstwa bez użycia siły na 100 tys. osób."
          }
         },
         "colorscale": [
          [
           0,
           "rgb(255,245,240)"
          ],
          [
           0.125,
           "rgb(254,224,210)"
          ],
          [
           0.25,
           "rgb(252,187,161)"
          ],
          [
           0.375,
           "rgb(252,146,114)"
          ],
          [
           0.5,
           "rgb(251,106,74)"
          ],
          [
           0.625,
           "rgb(239,59,44)"
          ],
          [
           0.75,
           "rgb(203,24,29)"
          ],
          [
           0.875,
           "rgb(165,15,21)"
          ],
          [
           1,
           "rgb(103,0,13)"
          ]
         ],
         "locationmode": "USA-states",
         "locations": [
          "AK",
          "AL",
          "AR",
          "AZ",
          "CA",
          "CO",
          "CT",
          "DC",
          "DE",
          "FL",
          "GA",
          "IA",
          "ID",
          "IL",
          "IN",
          "KS",
          "KY",
          "LA",
          "MA",
          "MD",
          "ME",
          "MI",
          "MN",
          "MO",
          "MS",
          "NC",
          "ND",
          "NH",
          "NJ",
          "NM",
          "NV",
          "NY",
          "OH",
          "OK",
          "OR",
          "PA",
          "RI",
          "SC",
          "SD",
          "TN",
          "TX",
          "UT",
          "VA",
          "VT",
          "WA",
          "WI",
          "WV",
          "WY"
         ],
         "type": "choropleth",
         "z": [
          4961.673333333333,
          6025.02375,
          6509.575599999999,
          6532.186,
          5139.440250896059,
          5369.5307999999995,
          3557.605211267606,
          9252.35,
          7276.46,
          8011.110222222225,
          7804.054594594592,
          6674.236666666667,
          4592.724285714286,
          4129.635000000001,
          4766.641458333334,
          null,
          4468.232692307692,
          7458.676315789476,
          2825.4181034482763,
          6813.866666666666,
          4160.851176470587,
          4977.815233644858,
          4098.118125000001,
          4835.9628571428575,
          6734.206999999999,
          7628.824565217391,
          3798.98375,
          3355.5657142857144,
          3831.118436018957,
          6541.071000000001,
          4597.8325,
          4833.412068965517,
          4132.083611111112,
          5115.315833333332,
          5941.455161290324,
          3125.3660999999997,
          3172.666538461538,
          6603.452142857142,
          3798.2612499999996,
          5343.201515151516,
          5381.276815286625,
          4843.083750000001,
          4766.8003030303025,
          null,
          7464.229743589743,
          4340.959661016949,
          4643.053571428572,
          4491.868571428571
         ]
        }
       ],
       "layout": {
        "geo": {
         "lakecolor": "rgb(85,173,240)",
         "projection": {
          "type": "albers usa"
         },
         "scope": "usa",
         "showlakes": true
        },
        "template": {
         "data": {
          "bar": [
           {
            "error_x": {
             "color": "#2a3f5f"
            },
            "error_y": {
             "color": "#2a3f5f"
            },
            "marker": {
             "line": {
              "color": "#E5ECF6",
              "width": 0.5
             }
            },
            "type": "bar"
           }
          ],
          "barpolar": [
           {
            "marker": {
             "line": {
              "color": "#E5ECF6",
              "width": 0.5
             }
            },
            "type": "barpolar"
           }
          ],
          "carpet": [
           {
            "aaxis": {
             "endlinecolor": "#2a3f5f",
             "gridcolor": "white",
             "linecolor": "white",
             "minorgridcolor": "white",
             "startlinecolor": "#2a3f5f"
            },
            "baxis": {
             "endlinecolor": "#2a3f5f",
             "gridcolor": "white",
             "linecolor": "white",
             "minorgridcolor": "white",
             "startlinecolor": "#2a3f5f"
            },
            "type": "carpet"
           }
          ],
          "choropleth": [
           {
            "colorbar": {
             "outlinewidth": 0,
             "ticks": ""
            },
            "type": "choropleth"
           }
          ],
          "contour": [
           {
            "colorbar": {
             "outlinewidth": 0,
             "ticks": ""
            },
            "colorscale": [
             [
              0,
              "#0d0887"
             ],
             [
              0.1111111111111111,
              "#46039f"
             ],
             [
              0.2222222222222222,
              "#7201a8"
             ],
             [
              0.3333333333333333,
              "#9c179e"
             ],
             [
              0.4444444444444444,
              "#bd3786"
             ],
             [
              0.5555555555555556,
              "#d8576b"
             ],
             [
              0.6666666666666666,
              "#ed7953"
             ],
             [
              0.7777777777777778,
              "#fb9f3a"
             ],
             [
              0.8888888888888888,
              "#fdca26"
             ],
             [
              1,
              "#f0f921"
             ]
            ],
            "type": "contour"
           }
          ],
          "contourcarpet": [
           {
            "colorbar": {
             "outlinewidth": 0,
             "ticks": ""
            },
            "type": "contourcarpet"
           }
          ],
          "heatmap": [
           {
            "colorbar": {
             "outlinewidth": 0,
             "ticks": ""
            },
            "colorscale": [
             [
              0,
              "#0d0887"
             ],
             [
              0.1111111111111111,
              "#46039f"
             ],
             [
              0.2222222222222222,
              "#7201a8"
             ],
             [
              0.3333333333333333,
              "#9c179e"
             ],
             [
              0.4444444444444444,
              "#bd3786"
             ],
             [
              0.5555555555555556,
              "#d8576b"
             ],
             [
              0.6666666666666666,
              "#ed7953"
             ],
             [
              0.7777777777777778,
              "#fb9f3a"
             ],
             [
              0.8888888888888888,
              "#fdca26"
             ],
             [
              1,
              "#f0f921"
             ]
            ],
            "type": "heatmap"
           }
          ],
          "heatmapgl": [
           {
            "colorbar": {
             "outlinewidth": 0,
             "ticks": ""
            },
            "colorscale": [
             [
              0,
              "#0d0887"
             ],
             [
              0.1111111111111111,
              "#46039f"
             ],
             [
              0.2222222222222222,
              "#7201a8"
             ],
             [
              0.3333333333333333,
              "#9c179e"
             ],
             [
              0.4444444444444444,
              "#bd3786"
             ],
             [
              0.5555555555555556,
              "#d8576b"
             ],
             [
              0.6666666666666666,
              "#ed7953"
             ],
             [
              0.7777777777777778,
              "#fb9f3a"
             ],
             [
              0.8888888888888888,
              "#fdca26"
             ],
             [
              1,
              "#f0f921"
             ]
            ],
            "type": "heatmapgl"
           }
          ],
          "histogram": [
           {
            "marker": {
             "colorbar": {
              "outlinewidth": 0,
              "ticks": ""
             }
            },
            "type": "histogram"
           }
          ],
          "histogram2d": [
           {
            "colorbar": {
             "outlinewidth": 0,
             "ticks": ""
            },
            "colorscale": [
             [
              0,
              "#0d0887"
             ],
             [
              0.1111111111111111,
              "#46039f"
             ],
             [
              0.2222222222222222,
              "#7201a8"
             ],
             [
              0.3333333333333333,
              "#9c179e"
             ],
             [
              0.4444444444444444,
              "#bd3786"
             ],
             [
              0.5555555555555556,
              "#d8576b"
             ],
             [
              0.6666666666666666,
              "#ed7953"
             ],
             [
              0.7777777777777778,
              "#fb9f3a"
             ],
             [
              0.8888888888888888,
              "#fdca26"
             ],
             [
              1,
              "#f0f921"
             ]
            ],
            "type": "histogram2d"
           }
          ],
          "histogram2dcontour": [
           {
            "colorbar": {
             "outlinewidth": 0,
             "ticks": ""
            },
            "colorscale": [
             [
              0,
              "#0d0887"
             ],
             [
              0.1111111111111111,
              "#46039f"
             ],
             [
              0.2222222222222222,
              "#7201a8"
             ],
             [
              0.3333333333333333,
              "#9c179e"
             ],
             [
              0.4444444444444444,
              "#bd3786"
             ],
             [
              0.5555555555555556,
              "#d8576b"
             ],
             [
              0.6666666666666666,
              "#ed7953"
             ],
             [
              0.7777777777777778,
              "#fb9f3a"
             ],
             [
              0.8888888888888888,
              "#fdca26"
             ],
             [
              1,
              "#f0f921"
             ]
            ],
            "type": "histogram2dcontour"
           }
          ],
          "mesh3d": [
           {
            "colorbar": {
             "outlinewidth": 0,
             "ticks": ""
            },
            "type": "mesh3d"
           }
          ],
          "parcoords": [
           {
            "line": {
             "colorbar": {
              "outlinewidth": 0,
              "ticks": ""
             }
            },
            "type": "parcoords"
           }
          ],
          "pie": [
           {
            "automargin": true,
            "type": "pie"
           }
          ],
          "scatter": [
           {
            "marker": {
             "colorbar": {
              "outlinewidth": 0,
              "ticks": ""
             }
            },
            "type": "scatter"
           }
          ],
          "scatter3d": [
           {
            "line": {
             "colorbar": {
              "outlinewidth": 0,
              "ticks": ""
             }
            },
            "marker": {
             "colorbar": {
              "outlinewidth": 0,
              "ticks": ""
             }
            },
            "type": "scatter3d"
           }
          ],
          "scattercarpet": [
           {
            "marker": {
             "colorbar": {
              "outlinewidth": 0,
              "ticks": ""
             }
            },
            "type": "scattercarpet"
           }
          ],
          "scattergeo": [
           {
            "marker": {
             "colorbar": {
              "outlinewidth": 0,
              "ticks": ""
             }
            },
            "type": "scattergeo"
           }
          ],
          "scattergl": [
           {
            "marker": {
             "colorbar": {
              "outlinewidth": 0,
              "ticks": ""
             }
            },
            "type": "scattergl"
           }
          ],
          "scattermapbox": [
           {
            "marker": {
             "colorbar": {
              "outlinewidth": 0,
              "ticks": ""
             }
            },
            "type": "scattermapbox"
           }
          ],
          "scatterpolar": [
           {
            "marker": {
             "colorbar": {
              "outlinewidth": 0,
              "ticks": ""
             }
            },
            "type": "scatterpolar"
           }
          ],
          "scatterpolargl": [
           {
            "marker": {
             "colorbar": {
              "outlinewidth": 0,
              "ticks": ""
             }
            },
            "type": "scatterpolargl"
           }
          ],
          "scatterternary": [
           {
            "marker": {
             "colorbar": {
              "outlinewidth": 0,
              "ticks": ""
             }
            },
            "type": "scatterternary"
           }
          ],
          "surface": [
           {
            "colorbar": {
             "outlinewidth": 0,
             "ticks": ""
            },
            "colorscale": [
             [
              0,
              "#0d0887"
             ],
             [
              0.1111111111111111,
              "#46039f"
             ],
             [
              0.2222222222222222,
              "#7201a8"
             ],
             [
              0.3333333333333333,
              "#9c179e"
             ],
             [
              0.4444444444444444,
              "#bd3786"
             ],
             [
              0.5555555555555556,
              "#d8576b"
             ],
             [
              0.6666666666666666,
              "#ed7953"
             ],
             [
              0.7777777777777778,
              "#fb9f3a"
             ],
             [
              0.8888888888888888,
              "#fdca26"
             ],
             [
              1,
              "#f0f921"
             ]
            ],
            "type": "surface"
           }
          ],
          "table": [
           {
            "cells": {
             "fill": {
              "color": "#EBF0F8"
             },
             "line": {
              "color": "white"
             }
            },
            "header": {
             "fill": {
              "color": "#C8D4E3"
             },
             "line": {
              "color": "white"
             }
            },
            "type": "table"
           }
          ]
         },
         "layout": {
          "annotationdefaults": {
           "arrowcolor": "#2a3f5f",
           "arrowhead": 0,
           "arrowwidth": 1
          },
          "coloraxis": {
           "colorbar": {
            "outlinewidth": 0,
            "ticks": ""
           }
          },
          "colorscale": {
           "diverging": [
            [
             0,
             "#8e0152"
            ],
            [
             0.1,
             "#c51b7d"
            ],
            [
             0.2,
             "#de77ae"
            ],
            [
             0.3,
             "#f1b6da"
            ],
            [
             0.4,
             "#fde0ef"
            ],
            [
             0.5,
             "#f7f7f7"
            ],
            [
             0.6,
             "#e6f5d0"
            ],
            [
             0.7,
             "#b8e186"
            ],
            [
             0.8,
             "#7fbc41"
            ],
            [
             0.9,
             "#4d9221"
            ],
            [
             1,
             "#276419"
            ]
           ],
           "sequential": [
            [
             0,
             "#0d0887"
            ],
            [
             0.1111111111111111,
             "#46039f"
            ],
            [
             0.2222222222222222,
             "#7201a8"
            ],
            [
             0.3333333333333333,
             "#9c179e"
            ],
            [
             0.4444444444444444,
             "#bd3786"
            ],
            [
             0.5555555555555556,
             "#d8576b"
            ],
            [
             0.6666666666666666,
             "#ed7953"
            ],
            [
             0.7777777777777778,
             "#fb9f3a"
            ],
            [
             0.8888888888888888,
             "#fdca26"
            ],
            [
             1,
             "#f0f921"
            ]
           ],
           "sequentialminus": [
            [
             0,
             "#0d0887"
            ],
            [
             0.1111111111111111,
             "#46039f"
            ],
            [
             0.2222222222222222,
             "#7201a8"
            ],
            [
             0.3333333333333333,
             "#9c179e"
            ],
            [
             0.4444444444444444,
             "#bd3786"
            ],
            [
             0.5555555555555556,
             "#d8576b"
            ],
            [
             0.6666666666666666,
             "#ed7953"
            ],
            [
             0.7777777777777778,
             "#fb9f3a"
            ],
            [
             0.8888888888888888,
             "#fdca26"
            ],
            [
             1,
             "#f0f921"
            ]
           ]
          },
          "colorway": [
           "#636efa",
           "#EF553B",
           "#00cc96",
           "#ab63fa",
           "#FFA15A",
           "#19d3f3",
           "#FF6692",
           "#B6E880",
           "#FF97FF",
           "#FECB52"
          ],
          "font": {
           "color": "#2a3f5f"
          },
          "geo": {
           "bgcolor": "white",
           "lakecolor": "white",
           "landcolor": "#E5ECF6",
           "showlakes": true,
           "showland": true,
           "subunitcolor": "white"
          },
          "hoverlabel": {
           "align": "left"
          },
          "hovermode": "closest",
          "mapbox": {
           "style": "light"
          },
          "paper_bgcolor": "white",
          "plot_bgcolor": "#E5ECF6",
          "polar": {
           "angularaxis": {
            "gridcolor": "white",
            "linecolor": "white",
            "ticks": ""
           },
           "bgcolor": "#E5ECF6",
           "radialaxis": {
            "gridcolor": "white",
            "linecolor": "white",
            "ticks": ""
           }
          },
          "scene": {
           "xaxis": {
            "backgroundcolor": "#E5ECF6",
            "gridcolor": "white",
            "gridwidth": 2,
            "linecolor": "white",
            "showbackground": true,
            "ticks": "",
            "zerolinecolor": "white"
           },
           "yaxis": {
            "backgroundcolor": "#E5ECF6",
            "gridcolor": "white",
            "gridwidth": 2,
            "linecolor": "white",
            "showbackground": true,
            "ticks": "",
            "zerolinecolor": "white"
           },
           "zaxis": {
            "backgroundcolor": "#E5ECF6",
            "gridcolor": "white",
            "gridwidth": 2,
            "linecolor": "white",
            "showbackground": true,
            "ticks": "",
            "zerolinecolor": "white"
           }
          },
          "shapedefaults": {
           "line": {
            "color": "#2a3f5f"
           }
          },
          "ternary": {
           "aaxis": {
            "gridcolor": "white",
            "linecolor": "white",
            "ticks": ""
           },
           "baxis": {
            "gridcolor": "white",
            "linecolor": "white",
            "ticks": ""
           },
           "bgcolor": "#E5ECF6",
           "caxis": {
            "gridcolor": "white",
            "linecolor": "white",
            "ticks": ""
           }
          },
          "title": {
           "x": 0.05
          },
          "xaxis": {
           "automargin": true,
           "gridcolor": "white",
           "linecolor": "white",
           "ticks": "",
           "title": {
            "standoff": 15
           },
           "zerolinecolor": "white",
           "zerolinewidth": 2
          },
          "yaxis": {
           "automargin": true,
           "gridcolor": "white",
           "linecolor": "white",
           "ticks": "",
           "title": {
            "standoff": 15
           },
           "zerolinecolor": "white",
           "zerolinewidth": 2
          }
         }
        },
        "title": {
         "text": "Liczba przestępstw bez użycia siły(non-Violent Crimes) z podziałem na stany"
        }
       }
      },
      "text/html": [
       "<div>\n",
       "        \n",
       "        \n",
       "            <div id=\"8fb24bd3-1364-45b2-b13f-355009282e30\" class=\"plotly-graph-div\" style=\"height:525px; width:100%;\"></div>\n",
       "            <script type=\"text/javascript\">\n",
       "                require([\"plotly\"], function(Plotly) {\n",
       "                    window.PLOTLYENV=window.PLOTLYENV || {};\n",
       "                    \n",
       "                if (document.getElementById(\"8fb24bd3-1364-45b2-b13f-355009282e30\")) {\n",
       "                    Plotly.newPlot(\n",
       "                        '8fb24bd3-1364-45b2-b13f-355009282e30',\n",
       "                        [{\"autocolorscale\": false, \"colorbar\": {\"title\": {\"text\": \"Przest\\u0119pstwa bez u\\u017cycia si\\u0142y na 100 tys. os\\u00f3b.\"}}, \"colorscale\": [[0.0, \"rgb(255,245,240)\"], [0.125, \"rgb(254,224,210)\"], [0.25, \"rgb(252,187,161)\"], [0.375, \"rgb(252,146,114)\"], [0.5, \"rgb(251,106,74)\"], [0.625, \"rgb(239,59,44)\"], [0.75, \"rgb(203,24,29)\"], [0.875, \"rgb(165,15,21)\"], [1.0, \"rgb(103,0,13)\"]], \"locationmode\": \"USA-states\", \"locations\": [\"AK\", \"AL\", \"AR\", \"AZ\", \"CA\", \"CO\", \"CT\", \"DC\", \"DE\", \"FL\", \"GA\", \"IA\", \"ID\", \"IL\", \"IN\", \"KS\", \"KY\", \"LA\", \"MA\", \"MD\", \"ME\", \"MI\", \"MN\", \"MO\", \"MS\", \"NC\", \"ND\", \"NH\", \"NJ\", \"NM\", \"NV\", \"NY\", \"OH\", \"OK\", \"OR\", \"PA\", \"RI\", \"SC\", \"SD\", \"TN\", \"TX\", \"UT\", \"VA\", \"VT\", \"WA\", \"WI\", \"WV\", \"WY\"], \"type\": \"choropleth\", \"z\": [4961.673333333333, 6025.02375, 6509.575599999999, 6532.186, 5139.440250896059, 5369.5307999999995, 3557.605211267606, 9252.35, 7276.46, 8011.110222222225, 7804.054594594592, 6674.236666666667, 4592.724285714286, 4129.635000000001, 4766.641458333334, null, 4468.232692307692, 7458.676315789476, 2825.4181034482763, 6813.866666666666, 4160.851176470587, 4977.815233644858, 4098.118125000001, 4835.9628571428575, 6734.206999999999, 7628.824565217391, 3798.98375, 3355.5657142857144, 3831.118436018957, 6541.071000000001, 4597.8325, 4833.412068965517, 4132.083611111112, 5115.315833333332, 5941.455161290324, 3125.3660999999997, 3172.666538461538, 6603.452142857142, 3798.2612499999996, 5343.201515151516, 5381.276815286625, 4843.083750000001, 4766.8003030303025, null, 7464.229743589743, 4340.959661016949, 4643.053571428572, 4491.868571428571]}],\n",
       "                        {\"geo\": {\"lakecolor\": \"rgb(85,173,240)\", \"projection\": {\"type\": \"albers usa\"}, \"scope\": \"usa\", \"showlakes\": true}, \"template\": {\"data\": {\"bar\": [{\"error_x\": {\"color\": \"#2a3f5f\"}, \"error_y\": {\"color\": \"#2a3f5f\"}, \"marker\": {\"line\": {\"color\": \"#E5ECF6\", \"width\": 0.5}}, \"type\": \"bar\"}], \"barpolar\": [{\"marker\": {\"line\": {\"color\": \"#E5ECF6\", \"width\": 0.5}}, \"type\": \"barpolar\"}], \"carpet\": [{\"aaxis\": {\"endlinecolor\": \"#2a3f5f\", \"gridcolor\": \"white\", \"linecolor\": \"white\", \"minorgridcolor\": \"white\", \"startlinecolor\": \"#2a3f5f\"}, \"baxis\": {\"endlinecolor\": \"#2a3f5f\", \"gridcolor\": \"white\", \"linecolor\": \"white\", \"minorgridcolor\": \"white\", \"startlinecolor\": \"#2a3f5f\"}, \"type\": \"carpet\"}], \"choropleth\": [{\"colorbar\": {\"outlinewidth\": 0, \"ticks\": \"\"}, \"type\": \"choropleth\"}], \"contour\": [{\"colorbar\": {\"outlinewidth\": 0, \"ticks\": \"\"}, \"colorscale\": [[0.0, \"#0d0887\"], [0.1111111111111111, \"#46039f\"], [0.2222222222222222, \"#7201a8\"], [0.3333333333333333, \"#9c179e\"], [0.4444444444444444, \"#bd3786\"], [0.5555555555555556, \"#d8576b\"], [0.6666666666666666, \"#ed7953\"], [0.7777777777777778, \"#fb9f3a\"], [0.8888888888888888, \"#fdca26\"], [1.0, \"#f0f921\"]], \"type\": \"contour\"}], \"contourcarpet\": [{\"colorbar\": {\"outlinewidth\": 0, \"ticks\": \"\"}, \"type\": \"contourcarpet\"}], \"heatmap\": [{\"colorbar\": {\"outlinewidth\": 0, \"ticks\": \"\"}, \"colorscale\": [[0.0, \"#0d0887\"], [0.1111111111111111, \"#46039f\"], [0.2222222222222222, \"#7201a8\"], [0.3333333333333333, \"#9c179e\"], [0.4444444444444444, \"#bd3786\"], [0.5555555555555556, \"#d8576b\"], [0.6666666666666666, \"#ed7953\"], [0.7777777777777778, \"#fb9f3a\"], [0.8888888888888888, \"#fdca26\"], [1.0, \"#f0f921\"]], \"type\": \"heatmap\"}], \"heatmapgl\": [{\"colorbar\": {\"outlinewidth\": 0, \"ticks\": \"\"}, \"colorscale\": [[0.0, \"#0d0887\"], [0.1111111111111111, \"#46039f\"], [0.2222222222222222, \"#7201a8\"], [0.3333333333333333, \"#9c179e\"], [0.4444444444444444, \"#bd3786\"], [0.5555555555555556, \"#d8576b\"], [0.6666666666666666, \"#ed7953\"], [0.7777777777777778, \"#fb9f3a\"], [0.8888888888888888, \"#fdca26\"], [1.0, \"#f0f921\"]], \"type\": \"heatmapgl\"}], \"histogram\": [{\"marker\": {\"colorbar\": {\"outlinewidth\": 0, \"ticks\": \"\"}}, \"type\": \"histogram\"}], \"histogram2d\": [{\"colorbar\": {\"outlinewidth\": 0, \"ticks\": \"\"}, \"colorscale\": [[0.0, \"#0d0887\"], [0.1111111111111111, \"#46039f\"], [0.2222222222222222, \"#7201a8\"], [0.3333333333333333, \"#9c179e\"], [0.4444444444444444, \"#bd3786\"], [0.5555555555555556, \"#d8576b\"], [0.6666666666666666, \"#ed7953\"], [0.7777777777777778, \"#fb9f3a\"], [0.8888888888888888, \"#fdca26\"], [1.0, \"#f0f921\"]], \"type\": \"histogram2d\"}], \"histogram2dcontour\": [{\"colorbar\": {\"outlinewidth\": 0, \"ticks\": \"\"}, \"colorscale\": [[0.0, \"#0d0887\"], [0.1111111111111111, \"#46039f\"], [0.2222222222222222, \"#7201a8\"], [0.3333333333333333, \"#9c179e\"], [0.4444444444444444, \"#bd3786\"], [0.5555555555555556, \"#d8576b\"], [0.6666666666666666, \"#ed7953\"], [0.7777777777777778, \"#fb9f3a\"], [0.8888888888888888, \"#fdca26\"], [1.0, \"#f0f921\"]], \"type\": \"histogram2dcontour\"}], \"mesh3d\": [{\"colorbar\": {\"outlinewidth\": 0, \"ticks\": \"\"}, \"type\": \"mesh3d\"}], \"parcoords\": [{\"line\": {\"colorbar\": {\"outlinewidth\": 0, \"ticks\": \"\"}}, \"type\": \"parcoords\"}], \"pie\": [{\"automargin\": true, \"type\": \"pie\"}], \"scatter\": [{\"marker\": {\"colorbar\": {\"outlinewidth\": 0, \"ticks\": \"\"}}, \"type\": \"scatter\"}], \"scatter3d\": [{\"line\": {\"colorbar\": {\"outlinewidth\": 0, \"ticks\": \"\"}}, \"marker\": {\"colorbar\": {\"outlinewidth\": 0, \"ticks\": \"\"}}, \"type\": \"scatter3d\"}], \"scattercarpet\": [{\"marker\": {\"colorbar\": {\"outlinewidth\": 0, \"ticks\": \"\"}}, \"type\": \"scattercarpet\"}], \"scattergeo\": [{\"marker\": {\"colorbar\": {\"outlinewidth\": 0, \"ticks\": \"\"}}, \"type\": \"scattergeo\"}], \"scattergl\": [{\"marker\": {\"colorbar\": {\"outlinewidth\": 0, \"ticks\": \"\"}}, \"type\": \"scattergl\"}], \"scattermapbox\": [{\"marker\": {\"colorbar\": {\"outlinewidth\": 0, \"ticks\": \"\"}}, \"type\": \"scattermapbox\"}], \"scatterpolar\": [{\"marker\": {\"colorbar\": {\"outlinewidth\": 0, \"ticks\": \"\"}}, \"type\": \"scatterpolar\"}], \"scatterpolargl\": [{\"marker\": {\"colorbar\": {\"outlinewidth\": 0, \"ticks\": \"\"}}, \"type\": \"scatterpolargl\"}], \"scatterternary\": [{\"marker\": {\"colorbar\": {\"outlinewidth\": 0, \"ticks\": \"\"}}, \"type\": \"scatterternary\"}], \"surface\": [{\"colorbar\": {\"outlinewidth\": 0, \"ticks\": \"\"}, \"colorscale\": [[0.0, \"#0d0887\"], [0.1111111111111111, \"#46039f\"], [0.2222222222222222, \"#7201a8\"], [0.3333333333333333, \"#9c179e\"], [0.4444444444444444, \"#bd3786\"], [0.5555555555555556, \"#d8576b\"], [0.6666666666666666, \"#ed7953\"], [0.7777777777777778, \"#fb9f3a\"], [0.8888888888888888, \"#fdca26\"], [1.0, \"#f0f921\"]], \"type\": \"surface\"}], \"table\": [{\"cells\": {\"fill\": {\"color\": \"#EBF0F8\"}, \"line\": {\"color\": \"white\"}}, \"header\": {\"fill\": {\"color\": \"#C8D4E3\"}, \"line\": {\"color\": \"white\"}}, \"type\": \"table\"}]}, \"layout\": {\"annotationdefaults\": {\"arrowcolor\": \"#2a3f5f\", \"arrowhead\": 0, \"arrowwidth\": 1}, \"coloraxis\": {\"colorbar\": {\"outlinewidth\": 0, \"ticks\": \"\"}}, \"colorscale\": {\"diverging\": [[0, \"#8e0152\"], [0.1, \"#c51b7d\"], [0.2, \"#de77ae\"], [0.3, \"#f1b6da\"], [0.4, \"#fde0ef\"], [0.5, \"#f7f7f7\"], [0.6, \"#e6f5d0\"], [0.7, \"#b8e186\"], [0.8, \"#7fbc41\"], [0.9, \"#4d9221\"], [1, \"#276419\"]], \"sequential\": [[0.0, \"#0d0887\"], [0.1111111111111111, \"#46039f\"], [0.2222222222222222, \"#7201a8\"], [0.3333333333333333, \"#9c179e\"], [0.4444444444444444, \"#bd3786\"], [0.5555555555555556, \"#d8576b\"], [0.6666666666666666, \"#ed7953\"], [0.7777777777777778, \"#fb9f3a\"], [0.8888888888888888, \"#fdca26\"], [1.0, \"#f0f921\"]], \"sequentialminus\": [[0.0, \"#0d0887\"], [0.1111111111111111, \"#46039f\"], [0.2222222222222222, \"#7201a8\"], [0.3333333333333333, \"#9c179e\"], [0.4444444444444444, \"#bd3786\"], [0.5555555555555556, \"#d8576b\"], [0.6666666666666666, \"#ed7953\"], [0.7777777777777778, \"#fb9f3a\"], [0.8888888888888888, \"#fdca26\"], [1.0, \"#f0f921\"]]}, \"colorway\": [\"#636efa\", \"#EF553B\", \"#00cc96\", \"#ab63fa\", \"#FFA15A\", \"#19d3f3\", \"#FF6692\", \"#B6E880\", \"#FF97FF\", \"#FECB52\"], \"font\": {\"color\": \"#2a3f5f\"}, \"geo\": {\"bgcolor\": \"white\", \"lakecolor\": \"white\", \"landcolor\": \"#E5ECF6\", \"showlakes\": true, \"showland\": true, \"subunitcolor\": \"white\"}, \"hoverlabel\": {\"align\": \"left\"}, \"hovermode\": \"closest\", \"mapbox\": {\"style\": \"light\"}, \"paper_bgcolor\": \"white\", \"plot_bgcolor\": \"#E5ECF6\", \"polar\": {\"angularaxis\": {\"gridcolor\": \"white\", \"linecolor\": \"white\", \"ticks\": \"\"}, \"bgcolor\": \"#E5ECF6\", \"radialaxis\": {\"gridcolor\": \"white\", \"linecolor\": \"white\", \"ticks\": \"\"}}, \"scene\": {\"xaxis\": {\"backgroundcolor\": \"#E5ECF6\", \"gridcolor\": \"white\", \"gridwidth\": 2, \"linecolor\": \"white\", \"showbackground\": true, \"ticks\": \"\", \"zerolinecolor\": \"white\"}, \"yaxis\": {\"backgroundcolor\": \"#E5ECF6\", \"gridcolor\": \"white\", \"gridwidth\": 2, \"linecolor\": \"white\", \"showbackground\": true, \"ticks\": \"\", \"zerolinecolor\": \"white\"}, \"zaxis\": {\"backgroundcolor\": \"#E5ECF6\", \"gridcolor\": \"white\", \"gridwidth\": 2, \"linecolor\": \"white\", \"showbackground\": true, \"ticks\": \"\", \"zerolinecolor\": \"white\"}}, \"shapedefaults\": {\"line\": {\"color\": \"#2a3f5f\"}}, \"ternary\": {\"aaxis\": {\"gridcolor\": \"white\", \"linecolor\": \"white\", \"ticks\": \"\"}, \"baxis\": {\"gridcolor\": \"white\", \"linecolor\": \"white\", \"ticks\": \"\"}, \"bgcolor\": \"#E5ECF6\", \"caxis\": {\"gridcolor\": \"white\", \"linecolor\": \"white\", \"ticks\": \"\"}}, \"title\": {\"x\": 0.05}, \"xaxis\": {\"automargin\": true, \"gridcolor\": \"white\", \"linecolor\": \"white\", \"ticks\": \"\", \"title\": {\"standoff\": 15}, \"zerolinecolor\": \"white\", \"zerolinewidth\": 2}, \"yaxis\": {\"automargin\": true, \"gridcolor\": \"white\", \"linecolor\": \"white\", \"ticks\": \"\", \"title\": {\"standoff\": 15}, \"zerolinecolor\": \"white\", \"zerolinewidth\": 2}}}, \"title\": {\"text\": \"Liczba przest\\u0119pstw bez u\\u017cycia si\\u0142y(non-Violent Crimes) z podzia\\u0142em na stany\"}},\n",
       "                        {\"responsive\": true}\n",
       "                    ).then(function(){\n",
       "                            \n",
       "var gd = document.getElementById('8fb24bd3-1364-45b2-b13f-355009282e30');\n",
       "var x = new MutationObserver(function (mutations, observer) {{\n",
       "        var display = window.getComputedStyle(gd).display;\n",
       "        if (!display || display === 'none') {{\n",
       "            console.log([gd, 'removed!']);\n",
       "            Plotly.purge(gd);\n",
       "            observer.disconnect();\n",
       "        }}\n",
       "}});\n",
       "\n",
       "// Listen for the removal of the full notebook cells\n",
       "var notebookContainer = gd.closest('#notebook-container');\n",
       "if (notebookContainer) {{\n",
       "    x.observe(notebookContainer, {childList: true});\n",
       "}}\n",
       "\n",
       "// Listen for the clearing of the current output cell\n",
       "var outputEl = gd.closest('.output');\n",
       "if (outputEl) {{\n",
       "    x.observe(outputEl, {childList: true});\n",
       "}}\n",
       "\n",
       "                        })\n",
       "                };\n",
       "                });\n",
       "            </script>\n",
       "        </div>"
      ]
     },
     "metadata": {},
     "output_type": "display_data"
    },
    {
     "data": {
      "application/vnd.plotly.v1+json": {
       "config": {
        "linkText": "Export to plot.ly",
        "plotlyServerURL": "https://plot.ly",
        "showLink": false
       },
       "data": [
        {
         "autocolorscale": false,
         "colorbar": {
          "title": {
           "text": "Przestępstwa z użyciem siły na 100 tys. osób."
          }
         },
         "colorscale": [
          [
           0,
           "rgb(255,245,240)"
          ],
          [
           0.125,
           "rgb(254,224,210)"
          ],
          [
           0.25,
           "rgb(252,187,161)"
          ],
          [
           0.375,
           "rgb(252,146,114)"
          ],
          [
           0.5,
           "rgb(251,106,74)"
          ],
          [
           0.625,
           "rgb(239,59,44)"
          ],
          [
           0.75,
           "rgb(203,24,29)"
          ],
          [
           0.875,
           "rgb(165,15,21)"
          ],
          [
           1,
           "rgb(103,0,13)"
          ]
         ],
         "locationmode": "USA-states",
         "locations": [
          "AK",
          "AL",
          "AR",
          "AZ",
          "CA",
          "CO",
          "CT",
          "DC",
          "DE",
          "FL",
          "GA",
          "IA",
          "ID",
          "IL",
          "IN",
          "KS",
          "KY",
          "LA",
          "MA",
          "MD",
          "ME",
          "MI",
          "MN",
          "MO",
          "MS",
          "NC",
          "ND",
          "NH",
          "NJ",
          "NM",
          "NV",
          "NY",
          "OH",
          "OK",
          "OR",
          "PA",
          "RI",
          "SC",
          "SD",
          "TN",
          "TX",
          "UT",
          "VA",
          "VT",
          "WA",
          "WI",
          "WV",
          "WY"
         ],
         "type": "choropleth",
         "z": [
          576.5766666666667,
          1030.6990697674419,
          718.5503999999997,
          551.0945,
          810.4693884892089,
          526.8616000000001,
          260.59956521739133,
          3048.38,
          887.29,
          1159.0468888888886,
          973.4135135135132,
          406.4525,
          271.53000000000003,
          null,
          499.96625,
          874.69,
          682.5753846153846,
          1312.7136363636362,
          439.7440495867767,
          1217.6991666666665,
          151.48705882352942,
          null,
          501.90999999999997,
          446.00666666666683,
          663.5505263157894,
          973.0360869565214,
          85.05499999999999,
          181.72238095238095,
          409.82350710900477,
          836.507,
          552.4159999999999,
          613.3100000000002,
          396.09935779816504,
          487.14750000000004,
          356.4741935483871,
          337.3154455445542,
          340.3826923076923,
          1233.455714285714,
          226.4611111111111,
          723.7714285714286,
          618.9819871794872,
          231.43916666666667,
          514.0330303030303,
          116.10749999999999,
          547.4440000000001,
          180.59516666666667,
          433.87571428571425,
          295.86571428571426
         ]
        }
       ],
       "layout": {
        "geo": {
         "lakecolor": "rgb(85,173,240)",
         "projection": {
          "type": "albers usa"
         },
         "scope": "usa",
         "showlakes": true
        },
        "template": {
         "data": {
          "bar": [
           {
            "error_x": {
             "color": "#2a3f5f"
            },
            "error_y": {
             "color": "#2a3f5f"
            },
            "marker": {
             "line": {
              "color": "#E5ECF6",
              "width": 0.5
             }
            },
            "type": "bar"
           }
          ],
          "barpolar": [
           {
            "marker": {
             "line": {
              "color": "#E5ECF6",
              "width": 0.5
             }
            },
            "type": "barpolar"
           }
          ],
          "carpet": [
           {
            "aaxis": {
             "endlinecolor": "#2a3f5f",
             "gridcolor": "white",
             "linecolor": "white",
             "minorgridcolor": "white",
             "startlinecolor": "#2a3f5f"
            },
            "baxis": {
             "endlinecolor": "#2a3f5f",
             "gridcolor": "white",
             "linecolor": "white",
             "minorgridcolor": "white",
             "startlinecolor": "#2a3f5f"
            },
            "type": "carpet"
           }
          ],
          "choropleth": [
           {
            "colorbar": {
             "outlinewidth": 0,
             "ticks": ""
            },
            "type": "choropleth"
           }
          ],
          "contour": [
           {
            "colorbar": {
             "outlinewidth": 0,
             "ticks": ""
            },
            "colorscale": [
             [
              0,
              "#0d0887"
             ],
             [
              0.1111111111111111,
              "#46039f"
             ],
             [
              0.2222222222222222,
              "#7201a8"
             ],
             [
              0.3333333333333333,
              "#9c179e"
             ],
             [
              0.4444444444444444,
              "#bd3786"
             ],
             [
              0.5555555555555556,
              "#d8576b"
             ],
             [
              0.6666666666666666,
              "#ed7953"
             ],
             [
              0.7777777777777778,
              "#fb9f3a"
             ],
             [
              0.8888888888888888,
              "#fdca26"
             ],
             [
              1,
              "#f0f921"
             ]
            ],
            "type": "contour"
           }
          ],
          "contourcarpet": [
           {
            "colorbar": {
             "outlinewidth": 0,
             "ticks": ""
            },
            "type": "contourcarpet"
           }
          ],
          "heatmap": [
           {
            "colorbar": {
             "outlinewidth": 0,
             "ticks": ""
            },
            "colorscale": [
             [
              0,
              "#0d0887"
             ],
             [
              0.1111111111111111,
              "#46039f"
             ],
             [
              0.2222222222222222,
              "#7201a8"
             ],
             [
              0.3333333333333333,
              "#9c179e"
             ],
             [
              0.4444444444444444,
              "#bd3786"
             ],
             [
              0.5555555555555556,
              "#d8576b"
             ],
             [
              0.6666666666666666,
              "#ed7953"
             ],
             [
              0.7777777777777778,
              "#fb9f3a"
             ],
             [
              0.8888888888888888,
              "#fdca26"
             ],
             [
              1,
              "#f0f921"
             ]
            ],
            "type": "heatmap"
           }
          ],
          "heatmapgl": [
           {
            "colorbar": {
             "outlinewidth": 0,
             "ticks": ""
            },
            "colorscale": [
             [
              0,
              "#0d0887"
             ],
             [
              0.1111111111111111,
              "#46039f"
             ],
             [
              0.2222222222222222,
              "#7201a8"
             ],
             [
              0.3333333333333333,
              "#9c179e"
             ],
             [
              0.4444444444444444,
              "#bd3786"
             ],
             [
              0.5555555555555556,
              "#d8576b"
             ],
             [
              0.6666666666666666,
              "#ed7953"
             ],
             [
              0.7777777777777778,
              "#fb9f3a"
             ],
             [
              0.8888888888888888,
              "#fdca26"
             ],
             [
              1,
              "#f0f921"
             ]
            ],
            "type": "heatmapgl"
           }
          ],
          "histogram": [
           {
            "marker": {
             "colorbar": {
              "outlinewidth": 0,
              "ticks": ""
             }
            },
            "type": "histogram"
           }
          ],
          "histogram2d": [
           {
            "colorbar": {
             "outlinewidth": 0,
             "ticks": ""
            },
            "colorscale": [
             [
              0,
              "#0d0887"
             ],
             [
              0.1111111111111111,
              "#46039f"
             ],
             [
              0.2222222222222222,
              "#7201a8"
             ],
             [
              0.3333333333333333,
              "#9c179e"
             ],
             [
              0.4444444444444444,
              "#bd3786"
             ],
             [
              0.5555555555555556,
              "#d8576b"
             ],
             [
              0.6666666666666666,
              "#ed7953"
             ],
             [
              0.7777777777777778,
              "#fb9f3a"
             ],
             [
              0.8888888888888888,
              "#fdca26"
             ],
             [
              1,
              "#f0f921"
             ]
            ],
            "type": "histogram2d"
           }
          ],
          "histogram2dcontour": [
           {
            "colorbar": {
             "outlinewidth": 0,
             "ticks": ""
            },
            "colorscale": [
             [
              0,
              "#0d0887"
             ],
             [
              0.1111111111111111,
              "#46039f"
             ],
             [
              0.2222222222222222,
              "#7201a8"
             ],
             [
              0.3333333333333333,
              "#9c179e"
             ],
             [
              0.4444444444444444,
              "#bd3786"
             ],
             [
              0.5555555555555556,
              "#d8576b"
             ],
             [
              0.6666666666666666,
              "#ed7953"
             ],
             [
              0.7777777777777778,
              "#fb9f3a"
             ],
             [
              0.8888888888888888,
              "#fdca26"
             ],
             [
              1,
              "#f0f921"
             ]
            ],
            "type": "histogram2dcontour"
           }
          ],
          "mesh3d": [
           {
            "colorbar": {
             "outlinewidth": 0,
             "ticks": ""
            },
            "type": "mesh3d"
           }
          ],
          "parcoords": [
           {
            "line": {
             "colorbar": {
              "outlinewidth": 0,
              "ticks": ""
             }
            },
            "type": "parcoords"
           }
          ],
          "pie": [
           {
            "automargin": true,
            "type": "pie"
           }
          ],
          "scatter": [
           {
            "marker": {
             "colorbar": {
              "outlinewidth": 0,
              "ticks": ""
             }
            },
            "type": "scatter"
           }
          ],
          "scatter3d": [
           {
            "line": {
             "colorbar": {
              "outlinewidth": 0,
              "ticks": ""
             }
            },
            "marker": {
             "colorbar": {
              "outlinewidth": 0,
              "ticks": ""
             }
            },
            "type": "scatter3d"
           }
          ],
          "scattercarpet": [
           {
            "marker": {
             "colorbar": {
              "outlinewidth": 0,
              "ticks": ""
             }
            },
            "type": "scattercarpet"
           }
          ],
          "scattergeo": [
           {
            "marker": {
             "colorbar": {
              "outlinewidth": 0,
              "ticks": ""
             }
            },
            "type": "scattergeo"
           }
          ],
          "scattergl": [
           {
            "marker": {
             "colorbar": {
              "outlinewidth": 0,
              "ticks": ""
             }
            },
            "type": "scattergl"
           }
          ],
          "scattermapbox": [
           {
            "marker": {
             "colorbar": {
              "outlinewidth": 0,
              "ticks": ""
             }
            },
            "type": "scattermapbox"
           }
          ],
          "scatterpolar": [
           {
            "marker": {
             "colorbar": {
              "outlinewidth": 0,
              "ticks": ""
             }
            },
            "type": "scatterpolar"
           }
          ],
          "scatterpolargl": [
           {
            "marker": {
             "colorbar": {
              "outlinewidth": 0,
              "ticks": ""
             }
            },
            "type": "scatterpolargl"
           }
          ],
          "scatterternary": [
           {
            "marker": {
             "colorbar": {
              "outlinewidth": 0,
              "ticks": ""
             }
            },
            "type": "scatterternary"
           }
          ],
          "surface": [
           {
            "colorbar": {
             "outlinewidth": 0,
             "ticks": ""
            },
            "colorscale": [
             [
              0,
              "#0d0887"
             ],
             [
              0.1111111111111111,
              "#46039f"
             ],
             [
              0.2222222222222222,
              "#7201a8"
             ],
             [
              0.3333333333333333,
              "#9c179e"
             ],
             [
              0.4444444444444444,
              "#bd3786"
             ],
             [
              0.5555555555555556,
              "#d8576b"
             ],
             [
              0.6666666666666666,
              "#ed7953"
             ],
             [
              0.7777777777777778,
              "#fb9f3a"
             ],
             [
              0.8888888888888888,
              "#fdca26"
             ],
             [
              1,
              "#f0f921"
             ]
            ],
            "type": "surface"
           }
          ],
          "table": [
           {
            "cells": {
             "fill": {
              "color": "#EBF0F8"
             },
             "line": {
              "color": "white"
             }
            },
            "header": {
             "fill": {
              "color": "#C8D4E3"
             },
             "line": {
              "color": "white"
             }
            },
            "type": "table"
           }
          ]
         },
         "layout": {
          "annotationdefaults": {
           "arrowcolor": "#2a3f5f",
           "arrowhead": 0,
           "arrowwidth": 1
          },
          "coloraxis": {
           "colorbar": {
            "outlinewidth": 0,
            "ticks": ""
           }
          },
          "colorscale": {
           "diverging": [
            [
             0,
             "#8e0152"
            ],
            [
             0.1,
             "#c51b7d"
            ],
            [
             0.2,
             "#de77ae"
            ],
            [
             0.3,
             "#f1b6da"
            ],
            [
             0.4,
             "#fde0ef"
            ],
            [
             0.5,
             "#f7f7f7"
            ],
            [
             0.6,
             "#e6f5d0"
            ],
            [
             0.7,
             "#b8e186"
            ],
            [
             0.8,
             "#7fbc41"
            ],
            [
             0.9,
             "#4d9221"
            ],
            [
             1,
             "#276419"
            ]
           ],
           "sequential": [
            [
             0,
             "#0d0887"
            ],
            [
             0.1111111111111111,
             "#46039f"
            ],
            [
             0.2222222222222222,
             "#7201a8"
            ],
            [
             0.3333333333333333,
             "#9c179e"
            ],
            [
             0.4444444444444444,
             "#bd3786"
            ],
            [
             0.5555555555555556,
             "#d8576b"
            ],
            [
             0.6666666666666666,
             "#ed7953"
            ],
            [
             0.7777777777777778,
             "#fb9f3a"
            ],
            [
             0.8888888888888888,
             "#fdca26"
            ],
            [
             1,
             "#f0f921"
            ]
           ],
           "sequentialminus": [
            [
             0,
             "#0d0887"
            ],
            [
             0.1111111111111111,
             "#46039f"
            ],
            [
             0.2222222222222222,
             "#7201a8"
            ],
            [
             0.3333333333333333,
             "#9c179e"
            ],
            [
             0.4444444444444444,
             "#bd3786"
            ],
            [
             0.5555555555555556,
             "#d8576b"
            ],
            [
             0.6666666666666666,
             "#ed7953"
            ],
            [
             0.7777777777777778,
             "#fb9f3a"
            ],
            [
             0.8888888888888888,
             "#fdca26"
            ],
            [
             1,
             "#f0f921"
            ]
           ]
          },
          "colorway": [
           "#636efa",
           "#EF553B",
           "#00cc96",
           "#ab63fa",
           "#FFA15A",
           "#19d3f3",
           "#FF6692",
           "#B6E880",
           "#FF97FF",
           "#FECB52"
          ],
          "font": {
           "color": "#2a3f5f"
          },
          "geo": {
           "bgcolor": "white",
           "lakecolor": "white",
           "landcolor": "#E5ECF6",
           "showlakes": true,
           "showland": true,
           "subunitcolor": "white"
          },
          "hoverlabel": {
           "align": "left"
          },
          "hovermode": "closest",
          "mapbox": {
           "style": "light"
          },
          "paper_bgcolor": "white",
          "plot_bgcolor": "#E5ECF6",
          "polar": {
           "angularaxis": {
            "gridcolor": "white",
            "linecolor": "white",
            "ticks": ""
           },
           "bgcolor": "#E5ECF6",
           "radialaxis": {
            "gridcolor": "white",
            "linecolor": "white",
            "ticks": ""
           }
          },
          "scene": {
           "xaxis": {
            "backgroundcolor": "#E5ECF6",
            "gridcolor": "white",
            "gridwidth": 2,
            "linecolor": "white",
            "showbackground": true,
            "ticks": "",
            "zerolinecolor": "white"
           },
           "yaxis": {
            "backgroundcolor": "#E5ECF6",
            "gridcolor": "white",
            "gridwidth": 2,
            "linecolor": "white",
            "showbackground": true,
            "ticks": "",
            "zerolinecolor": "white"
           },
           "zaxis": {
            "backgroundcolor": "#E5ECF6",
            "gridcolor": "white",
            "gridwidth": 2,
            "linecolor": "white",
            "showbackground": true,
            "ticks": "",
            "zerolinecolor": "white"
           }
          },
          "shapedefaults": {
           "line": {
            "color": "#2a3f5f"
           }
          },
          "ternary": {
           "aaxis": {
            "gridcolor": "white",
            "linecolor": "white",
            "ticks": ""
           },
           "baxis": {
            "gridcolor": "white",
            "linecolor": "white",
            "ticks": ""
           },
           "bgcolor": "#E5ECF6",
           "caxis": {
            "gridcolor": "white",
            "linecolor": "white",
            "ticks": ""
           }
          },
          "title": {
           "x": 0.05
          },
          "xaxis": {
           "automargin": true,
           "gridcolor": "white",
           "linecolor": "white",
           "ticks": "",
           "title": {
            "standoff": 15
           },
           "zerolinecolor": "white",
           "zerolinewidth": 2
          },
          "yaxis": {
           "automargin": true,
           "gridcolor": "white",
           "linecolor": "white",
           "ticks": "",
           "title": {
            "standoff": 15
           },
           "zerolinecolor": "white",
           "zerolinewidth": 2
          }
         }
        },
        "title": {
         "text": "Liczba przestępstw z użyciem siły(Violent Crimes) z podziałem na stany"
        }
       }
      },
      "text/html": [
       "<div>\n",
       "        \n",
       "        \n",
       "            <div id=\"be07b9f5-629a-45cf-a99f-4c64e0cc3fb8\" class=\"plotly-graph-div\" style=\"height:525px; width:100%;\"></div>\n",
       "            <script type=\"text/javascript\">\n",
       "                require([\"plotly\"], function(Plotly) {\n",
       "                    window.PLOTLYENV=window.PLOTLYENV || {};\n",
       "                    \n",
       "                if (document.getElementById(\"be07b9f5-629a-45cf-a99f-4c64e0cc3fb8\")) {\n",
       "                    Plotly.newPlot(\n",
       "                        'be07b9f5-629a-45cf-a99f-4c64e0cc3fb8',\n",
       "                        [{\"autocolorscale\": false, \"colorbar\": {\"title\": {\"text\": \"Przest\\u0119pstwa z u\\u017cyciem si\\u0142y na 100 tys. os\\u00f3b.\"}}, \"colorscale\": [[0.0, \"rgb(255,245,240)\"], [0.125, \"rgb(254,224,210)\"], [0.25, \"rgb(252,187,161)\"], [0.375, \"rgb(252,146,114)\"], [0.5, \"rgb(251,106,74)\"], [0.625, \"rgb(239,59,44)\"], [0.75, \"rgb(203,24,29)\"], [0.875, \"rgb(165,15,21)\"], [1.0, \"rgb(103,0,13)\"]], \"locationmode\": \"USA-states\", \"locations\": [\"AK\", \"AL\", \"AR\", \"AZ\", \"CA\", \"CO\", \"CT\", \"DC\", \"DE\", \"FL\", \"GA\", \"IA\", \"ID\", \"IL\", \"IN\", \"KS\", \"KY\", \"LA\", \"MA\", \"MD\", \"ME\", \"MI\", \"MN\", \"MO\", \"MS\", \"NC\", \"ND\", \"NH\", \"NJ\", \"NM\", \"NV\", \"NY\", \"OH\", \"OK\", \"OR\", \"PA\", \"RI\", \"SC\", \"SD\", \"TN\", \"TX\", \"UT\", \"VA\", \"VT\", \"WA\", \"WI\", \"WV\", \"WY\"], \"type\": \"choropleth\", \"z\": [576.5766666666667, 1030.6990697674419, 718.5503999999997, 551.0945, 810.4693884892089, 526.8616000000001, 260.59956521739133, 3048.38, 887.29, 1159.0468888888886, 973.4135135135132, 406.4525, 271.53000000000003, null, 499.96625, 874.69, 682.5753846153846, 1312.7136363636362, 439.7440495867767, 1217.6991666666665, 151.48705882352942, null, 501.90999999999997, 446.00666666666683, 663.5505263157894, 973.0360869565214, 85.05499999999999, 181.72238095238095, 409.82350710900477, 836.507, 552.4159999999999, 613.3100000000002, 396.09935779816504, 487.14750000000004, 356.4741935483871, 337.3154455445542, 340.3826923076923, 1233.455714285714, 226.4611111111111, 723.7714285714286, 618.9819871794872, 231.43916666666667, 514.0330303030303, 116.10749999999999, 547.4440000000001, 180.59516666666667, 433.87571428571425, 295.86571428571426]}],\n",
       "                        {\"geo\": {\"lakecolor\": \"rgb(85,173,240)\", \"projection\": {\"type\": \"albers usa\"}, \"scope\": \"usa\", \"showlakes\": true}, \"template\": {\"data\": {\"bar\": [{\"error_x\": {\"color\": \"#2a3f5f\"}, \"error_y\": {\"color\": \"#2a3f5f\"}, \"marker\": {\"line\": {\"color\": \"#E5ECF6\", \"width\": 0.5}}, \"type\": \"bar\"}], \"barpolar\": [{\"marker\": {\"line\": {\"color\": \"#E5ECF6\", \"width\": 0.5}}, \"type\": \"barpolar\"}], \"carpet\": [{\"aaxis\": {\"endlinecolor\": \"#2a3f5f\", \"gridcolor\": \"white\", \"linecolor\": \"white\", \"minorgridcolor\": \"white\", \"startlinecolor\": \"#2a3f5f\"}, \"baxis\": {\"endlinecolor\": \"#2a3f5f\", \"gridcolor\": \"white\", \"linecolor\": \"white\", \"minorgridcolor\": \"white\", \"startlinecolor\": \"#2a3f5f\"}, \"type\": \"carpet\"}], \"choropleth\": [{\"colorbar\": {\"outlinewidth\": 0, \"ticks\": \"\"}, \"type\": \"choropleth\"}], \"contour\": [{\"colorbar\": {\"outlinewidth\": 0, \"ticks\": \"\"}, \"colorscale\": [[0.0, \"#0d0887\"], [0.1111111111111111, \"#46039f\"], [0.2222222222222222, \"#7201a8\"], [0.3333333333333333, \"#9c179e\"], [0.4444444444444444, \"#bd3786\"], [0.5555555555555556, \"#d8576b\"], [0.6666666666666666, \"#ed7953\"], [0.7777777777777778, \"#fb9f3a\"], [0.8888888888888888, \"#fdca26\"], [1.0, \"#f0f921\"]], \"type\": \"contour\"}], \"contourcarpet\": [{\"colorbar\": {\"outlinewidth\": 0, \"ticks\": \"\"}, \"type\": \"contourcarpet\"}], \"heatmap\": [{\"colorbar\": {\"outlinewidth\": 0, \"ticks\": \"\"}, \"colorscale\": [[0.0, \"#0d0887\"], [0.1111111111111111, \"#46039f\"], [0.2222222222222222, \"#7201a8\"], [0.3333333333333333, \"#9c179e\"], [0.4444444444444444, \"#bd3786\"], [0.5555555555555556, \"#d8576b\"], [0.6666666666666666, \"#ed7953\"], [0.7777777777777778, \"#fb9f3a\"], [0.8888888888888888, \"#fdca26\"], [1.0, \"#f0f921\"]], \"type\": \"heatmap\"}], \"heatmapgl\": [{\"colorbar\": {\"outlinewidth\": 0, \"ticks\": \"\"}, \"colorscale\": [[0.0, \"#0d0887\"], [0.1111111111111111, \"#46039f\"], [0.2222222222222222, \"#7201a8\"], [0.3333333333333333, \"#9c179e\"], [0.4444444444444444, \"#bd3786\"], [0.5555555555555556, \"#d8576b\"], [0.6666666666666666, \"#ed7953\"], [0.7777777777777778, \"#fb9f3a\"], [0.8888888888888888, \"#fdca26\"], [1.0, \"#f0f921\"]], \"type\": \"heatmapgl\"}], \"histogram\": [{\"marker\": {\"colorbar\": {\"outlinewidth\": 0, \"ticks\": \"\"}}, \"type\": \"histogram\"}], \"histogram2d\": [{\"colorbar\": {\"outlinewidth\": 0, \"ticks\": \"\"}, \"colorscale\": [[0.0, \"#0d0887\"], [0.1111111111111111, \"#46039f\"], [0.2222222222222222, \"#7201a8\"], [0.3333333333333333, \"#9c179e\"], [0.4444444444444444, \"#bd3786\"], [0.5555555555555556, \"#d8576b\"], [0.6666666666666666, \"#ed7953\"], [0.7777777777777778, \"#fb9f3a\"], [0.8888888888888888, \"#fdca26\"], [1.0, \"#f0f921\"]], \"type\": \"histogram2d\"}], \"histogram2dcontour\": [{\"colorbar\": {\"outlinewidth\": 0, \"ticks\": \"\"}, \"colorscale\": [[0.0, \"#0d0887\"], [0.1111111111111111, \"#46039f\"], [0.2222222222222222, \"#7201a8\"], [0.3333333333333333, \"#9c179e\"], [0.4444444444444444, \"#bd3786\"], [0.5555555555555556, \"#d8576b\"], [0.6666666666666666, \"#ed7953\"], [0.7777777777777778, \"#fb9f3a\"], [0.8888888888888888, \"#fdca26\"], [1.0, \"#f0f921\"]], \"type\": \"histogram2dcontour\"}], \"mesh3d\": [{\"colorbar\": {\"outlinewidth\": 0, \"ticks\": \"\"}, \"type\": \"mesh3d\"}], \"parcoords\": [{\"line\": {\"colorbar\": {\"outlinewidth\": 0, \"ticks\": \"\"}}, \"type\": \"parcoords\"}], \"pie\": [{\"automargin\": true, \"type\": \"pie\"}], \"scatter\": [{\"marker\": {\"colorbar\": {\"outlinewidth\": 0, \"ticks\": \"\"}}, \"type\": \"scatter\"}], \"scatter3d\": [{\"line\": {\"colorbar\": {\"outlinewidth\": 0, \"ticks\": \"\"}}, \"marker\": {\"colorbar\": {\"outlinewidth\": 0, \"ticks\": \"\"}}, \"type\": \"scatter3d\"}], \"scattercarpet\": [{\"marker\": {\"colorbar\": {\"outlinewidth\": 0, \"ticks\": \"\"}}, \"type\": \"scattercarpet\"}], \"scattergeo\": [{\"marker\": {\"colorbar\": {\"outlinewidth\": 0, \"ticks\": \"\"}}, \"type\": \"scattergeo\"}], \"scattergl\": [{\"marker\": {\"colorbar\": {\"outlinewidth\": 0, \"ticks\": \"\"}}, \"type\": \"scattergl\"}], \"scattermapbox\": [{\"marker\": {\"colorbar\": {\"outlinewidth\": 0, \"ticks\": \"\"}}, \"type\": \"scattermapbox\"}], \"scatterpolar\": [{\"marker\": {\"colorbar\": {\"outlinewidth\": 0, \"ticks\": \"\"}}, \"type\": \"scatterpolar\"}], \"scatterpolargl\": [{\"marker\": {\"colorbar\": {\"outlinewidth\": 0, \"ticks\": \"\"}}, \"type\": \"scatterpolargl\"}], \"scatterternary\": [{\"marker\": {\"colorbar\": {\"outlinewidth\": 0, \"ticks\": \"\"}}, \"type\": \"scatterternary\"}], \"surface\": [{\"colorbar\": {\"outlinewidth\": 0, \"ticks\": \"\"}, \"colorscale\": [[0.0, \"#0d0887\"], [0.1111111111111111, \"#46039f\"], [0.2222222222222222, \"#7201a8\"], [0.3333333333333333, \"#9c179e\"], [0.4444444444444444, \"#bd3786\"], [0.5555555555555556, \"#d8576b\"], [0.6666666666666666, \"#ed7953\"], [0.7777777777777778, \"#fb9f3a\"], [0.8888888888888888, \"#fdca26\"], [1.0, \"#f0f921\"]], \"type\": \"surface\"}], \"table\": [{\"cells\": {\"fill\": {\"color\": \"#EBF0F8\"}, \"line\": {\"color\": \"white\"}}, \"header\": {\"fill\": {\"color\": \"#C8D4E3\"}, \"line\": {\"color\": \"white\"}}, \"type\": \"table\"}]}, \"layout\": {\"annotationdefaults\": {\"arrowcolor\": \"#2a3f5f\", \"arrowhead\": 0, \"arrowwidth\": 1}, \"coloraxis\": {\"colorbar\": {\"outlinewidth\": 0, \"ticks\": \"\"}}, \"colorscale\": {\"diverging\": [[0, \"#8e0152\"], [0.1, \"#c51b7d\"], [0.2, \"#de77ae\"], [0.3, \"#f1b6da\"], [0.4, \"#fde0ef\"], [0.5, \"#f7f7f7\"], [0.6, \"#e6f5d0\"], [0.7, \"#b8e186\"], [0.8, \"#7fbc41\"], [0.9, \"#4d9221\"], [1, \"#276419\"]], \"sequential\": [[0.0, \"#0d0887\"], [0.1111111111111111, \"#46039f\"], [0.2222222222222222, \"#7201a8\"], [0.3333333333333333, \"#9c179e\"], [0.4444444444444444, \"#bd3786\"], [0.5555555555555556, \"#d8576b\"], [0.6666666666666666, \"#ed7953\"], [0.7777777777777778, \"#fb9f3a\"], [0.8888888888888888, \"#fdca26\"], [1.0, \"#f0f921\"]], \"sequentialminus\": [[0.0, \"#0d0887\"], [0.1111111111111111, \"#46039f\"], [0.2222222222222222, \"#7201a8\"], [0.3333333333333333, \"#9c179e\"], [0.4444444444444444, \"#bd3786\"], [0.5555555555555556, \"#d8576b\"], [0.6666666666666666, \"#ed7953\"], [0.7777777777777778, \"#fb9f3a\"], [0.8888888888888888, \"#fdca26\"], [1.0, \"#f0f921\"]]}, \"colorway\": [\"#636efa\", \"#EF553B\", \"#00cc96\", \"#ab63fa\", \"#FFA15A\", \"#19d3f3\", \"#FF6692\", \"#B6E880\", \"#FF97FF\", \"#FECB52\"], \"font\": {\"color\": \"#2a3f5f\"}, \"geo\": {\"bgcolor\": \"white\", \"lakecolor\": \"white\", \"landcolor\": \"#E5ECF6\", \"showlakes\": true, \"showland\": true, \"subunitcolor\": \"white\"}, \"hoverlabel\": {\"align\": \"left\"}, \"hovermode\": \"closest\", \"mapbox\": {\"style\": \"light\"}, \"paper_bgcolor\": \"white\", \"plot_bgcolor\": \"#E5ECF6\", \"polar\": {\"angularaxis\": {\"gridcolor\": \"white\", \"linecolor\": \"white\", \"ticks\": \"\"}, \"bgcolor\": \"#E5ECF6\", \"radialaxis\": {\"gridcolor\": \"white\", \"linecolor\": \"white\", \"ticks\": \"\"}}, \"scene\": {\"xaxis\": {\"backgroundcolor\": \"#E5ECF6\", \"gridcolor\": \"white\", \"gridwidth\": 2, \"linecolor\": \"white\", \"showbackground\": true, \"ticks\": \"\", \"zerolinecolor\": \"white\"}, \"yaxis\": {\"backgroundcolor\": \"#E5ECF6\", \"gridcolor\": \"white\", \"gridwidth\": 2, \"linecolor\": \"white\", \"showbackground\": true, \"ticks\": \"\", \"zerolinecolor\": \"white\"}, \"zaxis\": {\"backgroundcolor\": \"#E5ECF6\", \"gridcolor\": \"white\", \"gridwidth\": 2, \"linecolor\": \"white\", \"showbackground\": true, \"ticks\": \"\", \"zerolinecolor\": \"white\"}}, \"shapedefaults\": {\"line\": {\"color\": \"#2a3f5f\"}}, \"ternary\": {\"aaxis\": {\"gridcolor\": \"white\", \"linecolor\": \"white\", \"ticks\": \"\"}, \"baxis\": {\"gridcolor\": \"white\", \"linecolor\": \"white\", \"ticks\": \"\"}, \"bgcolor\": \"#E5ECF6\", \"caxis\": {\"gridcolor\": \"white\", \"linecolor\": \"white\", \"ticks\": \"\"}}, \"title\": {\"x\": 0.05}, \"xaxis\": {\"automargin\": true, \"gridcolor\": \"white\", \"linecolor\": \"white\", \"ticks\": \"\", \"title\": {\"standoff\": 15}, \"zerolinecolor\": \"white\", \"zerolinewidth\": 2}, \"yaxis\": {\"automargin\": true, \"gridcolor\": \"white\", \"linecolor\": \"white\", \"ticks\": \"\", \"title\": {\"standoff\": 15}, \"zerolinecolor\": \"white\", \"zerolinewidth\": 2}}}, \"title\": {\"text\": \"Liczba przest\\u0119pstw z u\\u017cyciem si\\u0142y(Violent Crimes) z podzia\\u0142em na stany\"}},\n",
       "                        {\"responsive\": true}\n",
       "                    ).then(function(){\n",
       "                            \n",
       "var gd = document.getElementById('be07b9f5-629a-45cf-a99f-4c64e0cc3fb8');\n",
       "var x = new MutationObserver(function (mutations, observer) {{\n",
       "        var display = window.getComputedStyle(gd).display;\n",
       "        if (!display || display === 'none') {{\n",
       "            console.log([gd, 'removed!']);\n",
       "            Plotly.purge(gd);\n",
       "            observer.disconnect();\n",
       "        }}\n",
       "}});\n",
       "\n",
       "// Listen for the removal of the full notebook cells\n",
       "var notebookContainer = gd.closest('#notebook-container');\n",
       "if (notebookContainer) {{\n",
       "    x.observe(notebookContainer, {childList: true});\n",
       "}}\n",
       "\n",
       "// Listen for the clearing of the current output cell\n",
       "var outputEl = gd.closest('.output');\n",
       "if (outputEl) {{\n",
       "    x.observe(outputEl, {childList: true});\n",
       "}}\n",
       "\n",
       "                        })\n",
       "                };\n",
       "                });\n",
       "            </script>\n",
       "        </div>"
      ]
     },
     "metadata": {},
     "output_type": "display_data"
    }
   ],
   "source": [
    "crimedata_state = dataset.groupby('state').agg({'ViolentCrimesPerPop':'mean','nonViolPerPop':'mean'})[['ViolentCrimesPerPop','nonViolPerPop']].reset_index()\n",
    "\n",
    "data1 = dict(type='choropleth',\n",
    "        colorscale = 'Reds',\n",
    "        autocolorscale = False,\n",
    "        locations = crimedata_state['state'],\n",
    "        locationmode = 'USA-states',\n",
    "        z = crimedata_state['nonViolPerPop'].astype(float),\n",
    "        colorbar = {'title':'Przestępstwa bez użycia siły na 100 tys. osób.'}\n",
    "        )\n",
    "\n",
    "layout1 = dict(\n",
    "        title = 'Liczba przestępstw bez użycia siły(non-Violent Crimes) z podziałem na stany',\n",
    "        geo = dict(\n",
    "            scope='usa',\n",
    "            projection=dict( type='albers usa' ),\n",
    "            showlakes = True,\n",
    "            lakecolor='rgb(85,173,240)'),\n",
    "             )\n",
    "    \n",
    "fig1 = go.Figure(data = [data1],layout = layout1)\n",
    "iplot(fig1,validate=False)\n",
    "\n",
    "\n",
    "data2 = dict(type='choropleth',\n",
    "        colorscale = 'Reds',\n",
    "        autocolorscale = False,\n",
    "        locations = crimedata_state['state'],\n",
    "        locationmode = 'USA-states',\n",
    "        z = crimedata_state['ViolentCrimesPerPop'].astype(float),\n",
    "        colorbar = {'title':'Przestępstwa z użyciem siły na 100 tys. osób.'}\n",
    "        )\n",
    "\n",
    "layout2 = dict(\n",
    "        title = 'Liczba przestępstw z użyciem siły(Violent Crimes) z podziałem na stany',\n",
    "        geo = dict(\n",
    "            scope='usa',\n",
    "            projection=dict( type='albers usa' ),\n",
    "            showlakes = True,\n",
    "            lakecolor='rgb(85,173,240)'),\n",
    "             )\n",
    "    \n",
    "fig2 = go.Figure(data = [data2],layout = layout2)\n",
    "iplot(fig2,validate=False)"
   ]
  },
  {
   "cell_type": "markdown",
   "metadata": {},
   "source": [
    "#### Pobranie danych dotyczących długości i szerowkości geograficznej gmin i miast"
   ]
  },
  {
   "cell_type": "markdown",
   "metadata": {},
   "source": [
    "Za pomocą API https://opencagedata.com/ zostały pobrane współrzędne geograficzne miast oraz gmin, a następnie umieszczone zostały w pliku ``../Data/cities.txt``. "
   ]
  },
  {
   "cell_type": "markdown",
   "metadata": {},
   "source": [
    "#### Wykresy przedstawiające społeczności z największym współczynnikiem przestępstw"
   ]
  },
  {
   "cell_type": "code",
   "execution_count": 54,
   "metadata": {},
   "outputs": [],
   "source": [
    "cities_dataset = pd.read_csv('../Data/cities_dataset.txt')"
   ]
  },
  {
   "cell_type": "code",
   "execution_count": 55,
   "metadata": {},
   "outputs": [],
   "source": [
    "viol_crimes = dataset.loc[:, 'ViolentCrimesPerPop']\n",
    "non_viol_crimes = dataset.loc[:, 'nonViolPerPop']\n",
    "\n",
    "cities_with_crime_dataset = pd.concat([cities_dataset, non_viol_crimes, viol_crimes], axis=1)"
   ]
  },
  {
   "cell_type": "code",
   "execution_count": 56,
   "metadata": {},
   "outputs": [
    {
     "data": {
      "text/html": [
       "<div>\n",
       "<style scoped>\n",
       "    .dataframe tbody tr th:only-of-type {\n",
       "        vertical-align: middle;\n",
       "    }\n",
       "\n",
       "    .dataframe tbody tr th {\n",
       "        vertical-align: top;\n",
       "    }\n",
       "\n",
       "    .dataframe thead th {\n",
       "        text-align: right;\n",
       "    }\n",
       "</style>\n",
       "<table border=\"1\" class=\"dataframe\">\n",
       "  <thead>\n",
       "    <tr style=\"text-align: right;\">\n",
       "      <th></th>\n",
       "      <th>communityname</th>\n",
       "      <th>state</th>\n",
       "      <th>lat</th>\n",
       "      <th>lng</th>\n",
       "      <th>nonViolPerPop</th>\n",
       "      <th>ViolentCrimesPerPop</th>\n",
       "    </tr>\n",
       "  </thead>\n",
       "  <tbody>\n",
       "    <tr>\n",
       "      <th>0</th>\n",
       "      <td>BerkeleyHeightstownship</td>\n",
       "      <td>NJ</td>\n",
       "      <td>40.683435</td>\n",
       "      <td>-74.442653</td>\n",
       "      <td>1394.59</td>\n",
       "      <td>41.02</td>\n",
       "    </tr>\n",
       "    <tr>\n",
       "      <th>1</th>\n",
       "      <td>Marpletownship</td>\n",
       "      <td>PA</td>\n",
       "      <td>39.977611</td>\n",
       "      <td>-75.378526</td>\n",
       "      <td>1955.95</td>\n",
       "      <td>127.56</td>\n",
       "    </tr>\n",
       "    <tr>\n",
       "      <th>2</th>\n",
       "      <td>Tigardcity</td>\n",
       "      <td>OR</td>\n",
       "      <td>45.430747</td>\n",
       "      <td>-122.771934</td>\n",
       "      <td>6167.51</td>\n",
       "      <td>218.59</td>\n",
       "    </tr>\n",
       "    <tr>\n",
       "      <th>3</th>\n",
       "      <td>Gloversvillecity</td>\n",
       "      <td>NY</td>\n",
       "      <td>43.052813</td>\n",
       "      <td>-74.343690</td>\n",
       "      <td>NaN</td>\n",
       "      <td>306.64</td>\n",
       "    </tr>\n",
       "    <tr>\n",
       "      <th>4</th>\n",
       "      <td>Bemidjicity</td>\n",
       "      <td>MN</td>\n",
       "      <td>47.478542</td>\n",
       "      <td>-94.890787</td>\n",
       "      <td>9988.79</td>\n",
       "      <td>NaN</td>\n",
       "    </tr>\n",
       "  </tbody>\n",
       "</table>\n",
       "</div>"
      ],
      "text/plain": [
       "             communityname state        lat         lng  nonViolPerPop  \\\n",
       "0  BerkeleyHeightstownship    NJ  40.683435  -74.442653        1394.59   \n",
       "1           Marpletownship    PA  39.977611  -75.378526        1955.95   \n",
       "2               Tigardcity    OR  45.430747 -122.771934        6167.51   \n",
       "3         Gloversvillecity    NY  43.052813  -74.343690            NaN   \n",
       "4              Bemidjicity    MN  47.478542  -94.890787        9988.79   \n",
       "\n",
       "   ViolentCrimesPerPop  \n",
       "0                41.02  \n",
       "1               127.56  \n",
       "2               218.59  \n",
       "3               306.64  \n",
       "4                  NaN  "
      ]
     },
     "execution_count": 56,
     "metadata": {},
     "output_type": "execute_result"
    }
   ],
   "source": [
    "cities_with_crime_dataset.head()"
   ]
  },
  {
   "cell_type": "code",
   "execution_count": 57,
   "metadata": {},
   "outputs": [
    {
     "data": {
      "application/vnd.plotly.v1+json": {
       "config": {
        "plotlyServerURL": "https://plot.ly"
       },
       "data": [
        {
         "lat": [
          32.8546197,
          37.8708393,
          27.446705600000005,
          36.3295905,
          39.8083196,
          38.3662114,
          34.769535999999995,
          33.5162315,
          42.3928151,
          46.601557,
          -24.2381727,
          33.993486700000005,
          26.4614625,
          26.2378597,
          39.287002,
          41.3082138,
          40.7850348,
          30.122863399999996,
          34.0250724,
          25.7078467,
          40.735657,
          45.464124299999995,
          35.7212689,
          32.3860733,
          25.905607800000002,
          27.3364347,
          38.3505995,
          34.6183433,
          43.234181299999996,
          36.323106700000004,
          35.2626635,
          33.7407996,
          47.6038321,
          29.6519684,
          39.277615600000004,
          29.187198600000002,
          28.0180602,
          33.40006330000001,
          33.4918203,
          43.0171773,
          35.7333312,
          28.126625,
          28.2918995,
          28.329848699999996,
          32.522182799999996,
          35.0081474,
          41.610034399999996,
          39.100105,
          43.157284999999995
         ],
         "locationmode": "USA-states",
         "lon": [
          -79.9748103,
          -122.27286389999999,
          -80.3256056,
          -78.3991638,
          -104.9338675,
          -75.60088809999999,
          -92.2670941,
          -90.1795281,
          -83.0496438,
          -120.51084209999999,
          -64.1592782,
          -81.0739826,
          -80.07282009999999,
          -80.1247667,
          -84.48522129999999,
          -72.92505179999999,
          -124.21894340000001,
          -93.9041169,
          -118.4965129,
          -80.2956357,
          -74.1723667,
          -73.6362803,
          -77.91553950000001,
          -94.87585179999999,
          -80.1750696,
          -82.5306527,
          -81.6332812,
          -79.00839930000001,
          -86.2483921,
          -86.7133302,
          -77.5816353,
          -116.36936979999999,
          -122.3300624,
          -82.3249846,
          -74.5746001,
          -82.14009229999999,
          -82.118482,
          -91.0551312,
          -80.8556476,
          -83.7236024,
          -81.3442915,
          -81.63869770000001,
          -81.4075838,
          -80.62054659999998,
          -93.7651944,
          -90.7898342,
          -87.6467132,
          -94.5781416,
          -77.615214
         ],
         "marker": {
          "color": "#5d0909",
          "line": {
           "color": "rgb(40,40,40)",
           "width": 0.5
          },
          "size": [
           114.9132,
           114.84870000000001,
           114.66149999999999,
           114.28399999999999,
           114.0245,
           112.552,
           112.5065,
           111.8955,
           111.7949,
           111.75309999999999,
           111.0988,
           111.0561,
           110.91590000000001,
           110.5821,
           110.21629999999999,
           109.8876,
           109.5635,
           109.54379999999999,
           109.54,
           109.52940000000001,
           109.42540000000001,
           109.3875,
           109.3742,
           108.60549999999999,
           108.5584,
           108.16239999999999,
           107.8037,
           107.3953,
           107.1577,
           106.9806,
           105.7142,
           105.3282,
           104.5826,
           104.5252,
           104.0466,
           103.8918,
           103.8516,
           103.79780000000001,
           103.4433,
           103.4304,
           103.1928,
           102.5378,
           102.5377,
           102.1874,
           101.911,
           101.71,
           100.7427,
           100.3952,
           100.3861
          ],
          "sizemode": "area"
         },
         "name": "51 - 100",
         "text": [
          "NorthCharlestoncity\n 11491.32",
          "Berkeleycity\n 11484.87",
          "FortPiercecity\n 11466.15",
          "Hendersoncity\n 11428.4",
          "CommerceCitycity\n 11402.45",
          "Salisburycity\n 11255.2",
          "NorthLittleRockcity\n 11250.65",
          "Greenwoodcity\n 11189.55",
          "Hamtramckcity\n 11179.49",
          "Yakimacity\n 11175.31",
          "HotSpringscity\n 11109.88",
          "WestColumbiacity\n 11105.61",
          "DelrayBeachcity\n 11091.59",
          "PompanoBeachcity\n 11058.21",
          "Springdalecity\n 11021.63",
          "NewHaventown\n 10988.76",
          "Eurekacity\n 10956.35",
          "Orangecity\n 10954.38",
          "SantaMonicacity\n 10954.0",
          "SouthMiamicity\n 10952.94",
          "Newarkcity\n 10942.54",
          "Montclaircity\n 10938.75",
          "Wilsoncity\n 10937.42",
          "Kilgorecity\n 10860.55",
          "NorthMiamicity\n 10855.84",
          "Sarasotacity\n 10816.24",
          "Charlestoncity\n 10780.37",
          "Lumbertoncity\n 10739.53",
          "Muskegoncity\n 10715.77",
          "Goodlettsvillecity\n 10698.06",
          "Kinstoncity\n 10571.42",
          "PalmDesertcity\n 10532.82",
          "Seattlecity\n 10458.26",
          "Gainesvillecity\n 10452.52",
          "OceanCitycity\n 10404.66",
          "Ocalacity\n 10389.18",
          "PlantCitycity\n 10385.16",
          "Greenvillecity\n 10379.78",
          "Orangeburgcity\n 10344.33",
          "Flintcity\n 10343.04",
          "Hickorycity\n 10319.28",
          "HainesCitycity\n 10253.78",
          "Kissimmeecity\n 10253.77",
          "CocoaBeachcity\n 10218.74",
          "Shreveportcity\n 10191.1",
          "ForrestCitycity\n 10171.0",
          "Harveycity\n 10074.27",
          "KansasCitycity\n 10039.52",
          "Rochestercity\n 10038.61"
         ],
         "type": "scattergeo"
        },
        {
         "lat": [
          33.6995565,
          33.9480787,
          33.5967815,
          27.947759499999997,
          26.6161211,
          34.7464809,
          30.4380832,
          38.62827070000001,
          41.764582,
          33.695381,
          33.6795531,
          33.4201041,
          39.9448402,
          43.201126,
          35.528357299999996,
          32.29903839999999,
          28.0222435,
          34.949800700000004,
          46.324641899999996
         ],
         "locationmode": "USA-states",
         "lon": [
          -84.7622973,
          -118.06914990000001,
          -83.86018270000001,
          -82.458444,
          -80.0691417,
          -92.2895948,
          -84.2809332,
          -90.3191285,
          -72.6908547,
          -85.8398423,
          -84.43937240000001,
          -94.0425556,
          -75.11989109999999,
          -86.238946,
          -108.7439489,
          -90.1847691,
          -81.7328568,
          -81.9320157,
          -120.00818980000001
         ],
         "marker": {
          "color": "#d11515",
          "line": {
           "color": "rgb(40,40,40)",
           "width": 0.5
          },
          "size": [
           126.6644,
           126.5807,
           124.93540000000002,
           124.906,
           124.5237,
           123.6416,
           123.4983,
           123.49430000000001,
           123.289,
           121.85959999999999,
           121.5408,
           121.27870000000001,
           121.0983,
           120.6101,
           119.7758,
           117.2235,
           116.71520000000001,
           116.46629999999999,
           116.22370000000001
          ],
          "sizemode": "area"
         },
         "name": "31 - 50",
         "text": [
          "Douglascity\n 12666.44",
          "SantaFeSpringscity\n 12658.07",
          "Covingtoncity\n 12493.54",
          "Tampacity\n 12490.6",
          "LakeWorthcity\n 12452.37",
          "LittleRockcity\n 12364.16",
          "Tallahasseecity\n 12349.83",
          "RichmondHeightscity\n 12349.43",
          "Hartfordtown\n 12328.9",
          "Annistoncity\n 12185.96",
          "EastPointcity\n 12154.08",
          "Texarkanacity\n 12127.87",
          "Camdencity\n 12109.83",
          "MuskegonHeightscity\n 12061.01",
          "Gallupcity\n 11977.58",
          "Jacksoncity\n 11722.35",
          "WinterHavencity\n 11671.52",
          "Spartanburgcity\n 11646.63",
          "Sunnysidecity\n 11622.37"
         ],
         "type": "scattergeo"
        },
        {
         "lat": [
          34.002581,
          24.5625566,
          32.9109186,
          25.6905515,
          40.16706,
          33.749098700000005,
          35.9272953,
          26.1801443,
          30.445959600000002,
          28.039465399999997,
          30.1896756,
          42.1167065,
          35.108493100000004,
          29.0338168
         ],
         "locationmode": "USA-states",
         "lon": [
          -118.156586,
          -81.77243680000001,
          -111.7736386,
          -80.23500899999999,
          -74.49987,
          -84.39018490000001,
          -89.91897540000001,
          -80.1372006,
          -91.18738,
          -81.9498042,
          -82.63928990000001,
          -86.4541894,
          -77.04411429999999,
          -81.3091881
         ],
         "marker": {
          "color": "#ed4545",
          "line": {
           "color": "rgb(40,40,40)",
           "width": 0.5
          },
          "size": [
           138.02540000000002,
           137.51149999999998,
           137.3528,
           136.5041,
           136.2773,
           133.2577,
           133.0181,
           132.0092,
           130.3907,
           130.3236,
           130.23850000000002,
           129.9495,
           129.2303,
           127.6665
          ],
          "sizemode": "area"
         },
         "name": "16 - 30",
         "text": [
          "Commercecity\n 13802.54",
          "KeyWestcity\n 13751.15",
          "CasaGrandecity\n 13735.28",
          "CoralGablescity\n 13650.41",
          "Paramusborough\n 13627.73",
          "Atlantacity\n 13325.77",
          "Blythevillecity\n 13301.81",
          "OaklandParkcity\n 13200.92",
          "BatonRougecity\n 13039.07",
          "Lakelandcity\n 13032.36",
          "LakeCitycity\n 13023.85",
          "BentonHarborcity\n 12994.95",
          "NewBerncity\n 12923.03",
          "DeLandcity\n 12766.65"
         ],
         "type": "scattergeo"
        },
        {
         "lat": [
          25.7929198,
          56.6735804,
          25.7742658,
          42.433336700000005,
          26.122308399999998,
          40.707474100000006,
          33.6534427,
          34.1998302,
          35.4798757
         ],
         "locationmode": "USA-states",
         "lon": [
          -80.1353006,
          10.234051199999998,
          -80.1936589,
          -82.9238847,
          -80.14337859999999,
          -111.88827090000001,
          -84.4493725,
          -118.2005236,
          -79.18029940000001
         ],
         "marker": {
          "color": "#f6a2a2",
          "line": {
           "color": "rgb(40,40,40)",
           "width": 0.5
          },
          "size": [
           160.9217,
           159.2001,
           146.7918,
           144.4011,
           142.0691,
           141.4221,
           141.3186,
           140.2127,
           140.1343
          ],
          "sizemode": "area"
         },
         "name": "6 - 15",
         "text": [
          "MiamiBeachcity\n 16092.17",
          "Daniacity\n 15920.01",
          "Miamicity\n 14679.18",
          "HarperWoodscity\n 14440.11",
          "FortLauderdalecity\n 14206.91",
          "SouthSaltLakecity\n 14142.21",
          "CollegeParkcity\n 14131.86",
          "LaCanadaFlintridgecity\n 14021.27",
          "Sanfordcity\n 14013.43"
         ],
         "type": "scattergeo"
        },
        {
         "lat": [
          42.0645396,
          39.364285200000005,
          47.4627356,
          48.754401200000004,
          33.6956461
         ],
         "locationmode": "USA-states",
         "lon": [
          -72.5125863,
          -74.42293509999999,
          -122.2559156,
          -122.47883610000001,
          -78.89004090000002
         ],
         "marker": {
          "color": "#fde8e8",
          "line": {
           "color": "rgb(40,40,40)",
           "width": 0.5
          },
          "size": [
           271.19759999999997,
           270.1077,
           241.1636,
           178.59419999999997,
           166.28130000000002
          ],
          "sizemode": "area"
         },
         "name": "0 - 5",
         "text": [
          "EastLongmeadowtown\n 27119.76",
          "AtlanticCitycity\n 27010.77",
          "Tukwilacity\n 24116.36",
          "Bellinghamcity\n 17859.42",
          "MyrtleBeachcity\n 16628.13"
         ],
         "type": "scattergeo"
        }
       ],
       "layout": {
        "geo": {
         "scope": "usa"
        },
        "showlegend": true,
        "template": {
         "data": {
          "bar": [
           {
            "error_x": {
             "color": "#2a3f5f"
            },
            "error_y": {
             "color": "#2a3f5f"
            },
            "marker": {
             "line": {
              "color": "#E5ECF6",
              "width": 0.5
             }
            },
            "type": "bar"
           }
          ],
          "barpolar": [
           {
            "marker": {
             "line": {
              "color": "#E5ECF6",
              "width": 0.5
             }
            },
            "type": "barpolar"
           }
          ],
          "carpet": [
           {
            "aaxis": {
             "endlinecolor": "#2a3f5f",
             "gridcolor": "white",
             "linecolor": "white",
             "minorgridcolor": "white",
             "startlinecolor": "#2a3f5f"
            },
            "baxis": {
             "endlinecolor": "#2a3f5f",
             "gridcolor": "white",
             "linecolor": "white",
             "minorgridcolor": "white",
             "startlinecolor": "#2a3f5f"
            },
            "type": "carpet"
           }
          ],
          "choropleth": [
           {
            "colorbar": {
             "outlinewidth": 0,
             "ticks": ""
            },
            "type": "choropleth"
           }
          ],
          "contour": [
           {
            "colorbar": {
             "outlinewidth": 0,
             "ticks": ""
            },
            "colorscale": [
             [
              0,
              "#0d0887"
             ],
             [
              0.1111111111111111,
              "#46039f"
             ],
             [
              0.2222222222222222,
              "#7201a8"
             ],
             [
              0.3333333333333333,
              "#9c179e"
             ],
             [
              0.4444444444444444,
              "#bd3786"
             ],
             [
              0.5555555555555556,
              "#d8576b"
             ],
             [
              0.6666666666666666,
              "#ed7953"
             ],
             [
              0.7777777777777778,
              "#fb9f3a"
             ],
             [
              0.8888888888888888,
              "#fdca26"
             ],
             [
              1,
              "#f0f921"
             ]
            ],
            "type": "contour"
           }
          ],
          "contourcarpet": [
           {
            "colorbar": {
             "outlinewidth": 0,
             "ticks": ""
            },
            "type": "contourcarpet"
           }
          ],
          "heatmap": [
           {
            "colorbar": {
             "outlinewidth": 0,
             "ticks": ""
            },
            "colorscale": [
             [
              0,
              "#0d0887"
             ],
             [
              0.1111111111111111,
              "#46039f"
             ],
             [
              0.2222222222222222,
              "#7201a8"
             ],
             [
              0.3333333333333333,
              "#9c179e"
             ],
             [
              0.4444444444444444,
              "#bd3786"
             ],
             [
              0.5555555555555556,
              "#d8576b"
             ],
             [
              0.6666666666666666,
              "#ed7953"
             ],
             [
              0.7777777777777778,
              "#fb9f3a"
             ],
             [
              0.8888888888888888,
              "#fdca26"
             ],
             [
              1,
              "#f0f921"
             ]
            ],
            "type": "heatmap"
           }
          ],
          "heatmapgl": [
           {
            "colorbar": {
             "outlinewidth": 0,
             "ticks": ""
            },
            "colorscale": [
             [
              0,
              "#0d0887"
             ],
             [
              0.1111111111111111,
              "#46039f"
             ],
             [
              0.2222222222222222,
              "#7201a8"
             ],
             [
              0.3333333333333333,
              "#9c179e"
             ],
             [
              0.4444444444444444,
              "#bd3786"
             ],
             [
              0.5555555555555556,
              "#d8576b"
             ],
             [
              0.6666666666666666,
              "#ed7953"
             ],
             [
              0.7777777777777778,
              "#fb9f3a"
             ],
             [
              0.8888888888888888,
              "#fdca26"
             ],
             [
              1,
              "#f0f921"
             ]
            ],
            "type": "heatmapgl"
           }
          ],
          "histogram": [
           {
            "marker": {
             "colorbar": {
              "outlinewidth": 0,
              "ticks": ""
             }
            },
            "type": "histogram"
           }
          ],
          "histogram2d": [
           {
            "colorbar": {
             "outlinewidth": 0,
             "ticks": ""
            },
            "colorscale": [
             [
              0,
              "#0d0887"
             ],
             [
              0.1111111111111111,
              "#46039f"
             ],
             [
              0.2222222222222222,
              "#7201a8"
             ],
             [
              0.3333333333333333,
              "#9c179e"
             ],
             [
              0.4444444444444444,
              "#bd3786"
             ],
             [
              0.5555555555555556,
              "#d8576b"
             ],
             [
              0.6666666666666666,
              "#ed7953"
             ],
             [
              0.7777777777777778,
              "#fb9f3a"
             ],
             [
              0.8888888888888888,
              "#fdca26"
             ],
             [
              1,
              "#f0f921"
             ]
            ],
            "type": "histogram2d"
           }
          ],
          "histogram2dcontour": [
           {
            "colorbar": {
             "outlinewidth": 0,
             "ticks": ""
            },
            "colorscale": [
             [
              0,
              "#0d0887"
             ],
             [
              0.1111111111111111,
              "#46039f"
             ],
             [
              0.2222222222222222,
              "#7201a8"
             ],
             [
              0.3333333333333333,
              "#9c179e"
             ],
             [
              0.4444444444444444,
              "#bd3786"
             ],
             [
              0.5555555555555556,
              "#d8576b"
             ],
             [
              0.6666666666666666,
              "#ed7953"
             ],
             [
              0.7777777777777778,
              "#fb9f3a"
             ],
             [
              0.8888888888888888,
              "#fdca26"
             ],
             [
              1,
              "#f0f921"
             ]
            ],
            "type": "histogram2dcontour"
           }
          ],
          "mesh3d": [
           {
            "colorbar": {
             "outlinewidth": 0,
             "ticks": ""
            },
            "type": "mesh3d"
           }
          ],
          "parcoords": [
           {
            "line": {
             "colorbar": {
              "outlinewidth": 0,
              "ticks": ""
             }
            },
            "type": "parcoords"
           }
          ],
          "pie": [
           {
            "automargin": true,
            "type": "pie"
           }
          ],
          "scatter": [
           {
            "marker": {
             "colorbar": {
              "outlinewidth": 0,
              "ticks": ""
             }
            },
            "type": "scatter"
           }
          ],
          "scatter3d": [
           {
            "line": {
             "colorbar": {
              "outlinewidth": 0,
              "ticks": ""
             }
            },
            "marker": {
             "colorbar": {
              "outlinewidth": 0,
              "ticks": ""
             }
            },
            "type": "scatter3d"
           }
          ],
          "scattercarpet": [
           {
            "marker": {
             "colorbar": {
              "outlinewidth": 0,
              "ticks": ""
             }
            },
            "type": "scattercarpet"
           }
          ],
          "scattergeo": [
           {
            "marker": {
             "colorbar": {
              "outlinewidth": 0,
              "ticks": ""
             }
            },
            "type": "scattergeo"
           }
          ],
          "scattergl": [
           {
            "marker": {
             "colorbar": {
              "outlinewidth": 0,
              "ticks": ""
             }
            },
            "type": "scattergl"
           }
          ],
          "scattermapbox": [
           {
            "marker": {
             "colorbar": {
              "outlinewidth": 0,
              "ticks": ""
             }
            },
            "type": "scattermapbox"
           }
          ],
          "scatterpolar": [
           {
            "marker": {
             "colorbar": {
              "outlinewidth": 0,
              "ticks": ""
             }
            },
            "type": "scatterpolar"
           }
          ],
          "scatterpolargl": [
           {
            "marker": {
             "colorbar": {
              "outlinewidth": 0,
              "ticks": ""
             }
            },
            "type": "scatterpolargl"
           }
          ],
          "scatterternary": [
           {
            "marker": {
             "colorbar": {
              "outlinewidth": 0,
              "ticks": ""
             }
            },
            "type": "scatterternary"
           }
          ],
          "surface": [
           {
            "colorbar": {
             "outlinewidth": 0,
             "ticks": ""
            },
            "colorscale": [
             [
              0,
              "#0d0887"
             ],
             [
              0.1111111111111111,
              "#46039f"
             ],
             [
              0.2222222222222222,
              "#7201a8"
             ],
             [
              0.3333333333333333,
              "#9c179e"
             ],
             [
              0.4444444444444444,
              "#bd3786"
             ],
             [
              0.5555555555555556,
              "#d8576b"
             ],
             [
              0.6666666666666666,
              "#ed7953"
             ],
             [
              0.7777777777777778,
              "#fb9f3a"
             ],
             [
              0.8888888888888888,
              "#fdca26"
             ],
             [
              1,
              "#f0f921"
             ]
            ],
            "type": "surface"
           }
          ],
          "table": [
           {
            "cells": {
             "fill": {
              "color": "#EBF0F8"
             },
             "line": {
              "color": "white"
             }
            },
            "header": {
             "fill": {
              "color": "#C8D4E3"
             },
             "line": {
              "color": "white"
             }
            },
            "type": "table"
           }
          ]
         },
         "layout": {
          "annotationdefaults": {
           "arrowcolor": "#2a3f5f",
           "arrowhead": 0,
           "arrowwidth": 1
          },
          "coloraxis": {
           "colorbar": {
            "outlinewidth": 0,
            "ticks": ""
           }
          },
          "colorscale": {
           "diverging": [
            [
             0,
             "#8e0152"
            ],
            [
             0.1,
             "#c51b7d"
            ],
            [
             0.2,
             "#de77ae"
            ],
            [
             0.3,
             "#f1b6da"
            ],
            [
             0.4,
             "#fde0ef"
            ],
            [
             0.5,
             "#f7f7f7"
            ],
            [
             0.6,
             "#e6f5d0"
            ],
            [
             0.7,
             "#b8e186"
            ],
            [
             0.8,
             "#7fbc41"
            ],
            [
             0.9,
             "#4d9221"
            ],
            [
             1,
             "#276419"
            ]
           ],
           "sequential": [
            [
             0,
             "#0d0887"
            ],
            [
             0.1111111111111111,
             "#46039f"
            ],
            [
             0.2222222222222222,
             "#7201a8"
            ],
            [
             0.3333333333333333,
             "#9c179e"
            ],
            [
             0.4444444444444444,
             "#bd3786"
            ],
            [
             0.5555555555555556,
             "#d8576b"
            ],
            [
             0.6666666666666666,
             "#ed7953"
            ],
            [
             0.7777777777777778,
             "#fb9f3a"
            ],
            [
             0.8888888888888888,
             "#fdca26"
            ],
            [
             1,
             "#f0f921"
            ]
           ],
           "sequentialminus": [
            [
             0,
             "#0d0887"
            ],
            [
             0.1111111111111111,
             "#46039f"
            ],
            [
             0.2222222222222222,
             "#7201a8"
            ],
            [
             0.3333333333333333,
             "#9c179e"
            ],
            [
             0.4444444444444444,
             "#bd3786"
            ],
            [
             0.5555555555555556,
             "#d8576b"
            ],
            [
             0.6666666666666666,
             "#ed7953"
            ],
            [
             0.7777777777777778,
             "#fb9f3a"
            ],
            [
             0.8888888888888888,
             "#fdca26"
            ],
            [
             1,
             "#f0f921"
            ]
           ]
          },
          "colorway": [
           "#636efa",
           "#EF553B",
           "#00cc96",
           "#ab63fa",
           "#FFA15A",
           "#19d3f3",
           "#FF6692",
           "#B6E880",
           "#FF97FF",
           "#FECB52"
          ],
          "font": {
           "color": "#2a3f5f"
          },
          "geo": {
           "bgcolor": "white",
           "lakecolor": "white",
           "landcolor": "#E5ECF6",
           "showlakes": true,
           "showland": true,
           "subunitcolor": "white"
          },
          "hoverlabel": {
           "align": "left"
          },
          "hovermode": "closest",
          "mapbox": {
           "style": "light"
          },
          "paper_bgcolor": "white",
          "plot_bgcolor": "#E5ECF6",
          "polar": {
           "angularaxis": {
            "gridcolor": "white",
            "linecolor": "white",
            "ticks": ""
           },
           "bgcolor": "#E5ECF6",
           "radialaxis": {
            "gridcolor": "white",
            "linecolor": "white",
            "ticks": ""
           }
          },
          "scene": {
           "xaxis": {
            "backgroundcolor": "#E5ECF6",
            "gridcolor": "white",
            "gridwidth": 2,
            "linecolor": "white",
            "showbackground": true,
            "ticks": "",
            "zerolinecolor": "white"
           },
           "yaxis": {
            "backgroundcolor": "#E5ECF6",
            "gridcolor": "white",
            "gridwidth": 2,
            "linecolor": "white",
            "showbackground": true,
            "ticks": "",
            "zerolinecolor": "white"
           },
           "zaxis": {
            "backgroundcolor": "#E5ECF6",
            "gridcolor": "white",
            "gridwidth": 2,
            "linecolor": "white",
            "showbackground": true,
            "ticks": "",
            "zerolinecolor": "white"
           }
          },
          "shapedefaults": {
           "line": {
            "color": "#2a3f5f"
           }
          },
          "ternary": {
           "aaxis": {
            "gridcolor": "white",
            "linecolor": "white",
            "ticks": ""
           },
           "baxis": {
            "gridcolor": "white",
            "linecolor": "white",
            "ticks": ""
           },
           "bgcolor": "#E5ECF6",
           "caxis": {
            "gridcolor": "white",
            "linecolor": "white",
            "ticks": ""
           }
          },
          "title": {
           "x": 0.05
          },
          "xaxis": {
           "automargin": true,
           "gridcolor": "white",
           "linecolor": "white",
           "ticks": "",
           "title": {
            "standoff": 15
           },
           "zerolinecolor": "white",
           "zerolinewidth": 2
          },
          "yaxis": {
           "automargin": true,
           "gridcolor": "white",
           "linecolor": "white",
           "ticks": "",
           "title": {
            "standoff": 15
           },
           "zerolinecolor": "white",
           "zerolinewidth": 2
          }
         }
        },
        "title": {
         "text": "Społeczności z największym współczynnikiem przestępstw bez użycia siły(non-Violent Crimes)"
        }
       }
      },
      "text/html": [
       "<div>\n",
       "        \n",
       "        \n",
       "            <div id=\"e7836f4a-8fd1-4105-af4c-d8c05c1eeb7d\" class=\"plotly-graph-div\" style=\"height:525px; width:100%;\"></div>\n",
       "            <script type=\"text/javascript\">\n",
       "                require([\"plotly\"], function(Plotly) {\n",
       "                    window.PLOTLYENV=window.PLOTLYENV || {};\n",
       "                    \n",
       "                if (document.getElementById(\"e7836f4a-8fd1-4105-af4c-d8c05c1eeb7d\")) {\n",
       "                    Plotly.newPlot(\n",
       "                        'e7836f4a-8fd1-4105-af4c-d8c05c1eeb7d',\n",
       "                        [{\"lat\": [32.8546197, 37.8708393, 27.446705600000005, 36.3295905, 39.8083196, 38.3662114, 34.769535999999995, 33.5162315, 42.3928151, 46.601557, -24.2381727, 33.993486700000005, 26.4614625, 26.2378597, 39.287002, 41.3082138, 40.7850348, 30.122863399999996, 34.0250724, 25.7078467, 40.735657, 45.464124299999995, 35.7212689, 32.3860733, 25.905607800000002, 27.3364347, 38.3505995, 34.6183433, 43.234181299999996, 36.323106700000004, 35.2626635, 33.7407996, 47.6038321, 29.6519684, 39.277615600000004, 29.187198600000002, 28.0180602, 33.40006330000001, 33.4918203, 43.0171773, 35.7333312, 28.126625, 28.2918995, 28.329848699999996, 32.522182799999996, 35.0081474, 41.610034399999996, 39.100105, 43.157284999999995], \"locationmode\": \"USA-states\", \"lon\": [-79.9748103, -122.27286389999999, -80.3256056, -78.3991638, -104.9338675, -75.60088809999999, -92.2670941, -90.1795281, -83.0496438, -120.51084209999999, -64.1592782, -81.0739826, -80.07282009999999, -80.1247667, -84.48522129999999, -72.92505179999999, -124.21894340000001, -93.9041169, -118.4965129, -80.2956357, -74.1723667, -73.6362803, -77.91553950000001, -94.87585179999999, -80.1750696, -82.5306527, -81.6332812, -79.00839930000001, -86.2483921, -86.7133302, -77.5816353, -116.36936979999999, -122.3300624, -82.3249846, -74.5746001, -82.14009229999999, -82.118482, -91.0551312, -80.8556476, -83.7236024, -81.3442915, -81.63869770000001, -81.4075838, -80.62054659999998, -93.7651944, -90.7898342, -87.6467132, -94.5781416, -77.615214], \"marker\": {\"color\": \"#5d0909\", \"line\": {\"color\": \"rgb(40,40,40)\", \"width\": 0.5}, \"size\": [114.9132, 114.84870000000001, 114.66149999999999, 114.28399999999999, 114.0245, 112.552, 112.5065, 111.8955, 111.7949, 111.75309999999999, 111.0988, 111.0561, 110.91590000000001, 110.5821, 110.21629999999999, 109.8876, 109.5635, 109.54379999999999, 109.54, 109.52940000000001, 109.42540000000001, 109.3875, 109.3742, 108.60549999999999, 108.5584, 108.16239999999999, 107.8037, 107.3953, 107.1577, 106.9806, 105.7142, 105.3282, 104.5826, 104.5252, 104.0466, 103.8918, 103.8516, 103.79780000000001, 103.4433, 103.4304, 103.1928, 102.5378, 102.5377, 102.1874, 101.911, 101.71, 100.7427, 100.3952, 100.3861], \"sizemode\": \"area\"}, \"name\": \"51 - 100\", \"text\": [\"NorthCharlestoncity\\n 11491.32\", \"Berkeleycity\\n 11484.87\", \"FortPiercecity\\n 11466.15\", \"Hendersoncity\\n 11428.4\", \"CommerceCitycity\\n 11402.45\", \"Salisburycity\\n 11255.2\", \"NorthLittleRockcity\\n 11250.65\", \"Greenwoodcity\\n 11189.55\", \"Hamtramckcity\\n 11179.49\", \"Yakimacity\\n 11175.31\", \"HotSpringscity\\n 11109.88\", \"WestColumbiacity\\n 11105.61\", \"DelrayBeachcity\\n 11091.59\", \"PompanoBeachcity\\n 11058.21\", \"Springdalecity\\n 11021.63\", \"NewHaventown\\n 10988.76\", \"Eurekacity\\n 10956.35\", \"Orangecity\\n 10954.38\", \"SantaMonicacity\\n 10954.0\", \"SouthMiamicity\\n 10952.94\", \"Newarkcity\\n 10942.54\", \"Montclaircity\\n 10938.75\", \"Wilsoncity\\n 10937.42\", \"Kilgorecity\\n 10860.55\", \"NorthMiamicity\\n 10855.84\", \"Sarasotacity\\n 10816.24\", \"Charlestoncity\\n 10780.37\", \"Lumbertoncity\\n 10739.53\", \"Muskegoncity\\n 10715.77\", \"Goodlettsvillecity\\n 10698.06\", \"Kinstoncity\\n 10571.42\", \"PalmDesertcity\\n 10532.82\", \"Seattlecity\\n 10458.26\", \"Gainesvillecity\\n 10452.52\", \"OceanCitycity\\n 10404.66\", \"Ocalacity\\n 10389.18\", \"PlantCitycity\\n 10385.16\", \"Greenvillecity\\n 10379.78\", \"Orangeburgcity\\n 10344.33\", \"Flintcity\\n 10343.04\", \"Hickorycity\\n 10319.28\", \"HainesCitycity\\n 10253.78\", \"Kissimmeecity\\n 10253.77\", \"CocoaBeachcity\\n 10218.74\", \"Shreveportcity\\n 10191.1\", \"ForrestCitycity\\n 10171.0\", \"Harveycity\\n 10074.27\", \"KansasCitycity\\n 10039.52\", \"Rochestercity\\n 10038.61\"], \"type\": \"scattergeo\"}, {\"lat\": [33.6995565, 33.9480787, 33.5967815, 27.947759499999997, 26.6161211, 34.7464809, 30.4380832, 38.62827070000001, 41.764582, 33.695381, 33.6795531, 33.4201041, 39.9448402, 43.201126, 35.528357299999996, 32.29903839999999, 28.0222435, 34.949800700000004, 46.324641899999996], \"locationmode\": \"USA-states\", \"lon\": [-84.7622973, -118.06914990000001, -83.86018270000001, -82.458444, -80.0691417, -92.2895948, -84.2809332, -90.3191285, -72.6908547, -85.8398423, -84.43937240000001, -94.0425556, -75.11989109999999, -86.238946, -108.7439489, -90.1847691, -81.7328568, -81.9320157, -120.00818980000001], \"marker\": {\"color\": \"#d11515\", \"line\": {\"color\": \"rgb(40,40,40)\", \"width\": 0.5}, \"size\": [126.6644, 126.5807, 124.93540000000002, 124.906, 124.5237, 123.6416, 123.4983, 123.49430000000001, 123.289, 121.85959999999999, 121.5408, 121.27870000000001, 121.0983, 120.6101, 119.7758, 117.2235, 116.71520000000001, 116.46629999999999, 116.22370000000001], \"sizemode\": \"area\"}, \"name\": \"31 - 50\", \"text\": [\"Douglascity\\n 12666.44\", \"SantaFeSpringscity\\n 12658.07\", \"Covingtoncity\\n 12493.54\", \"Tampacity\\n 12490.6\", \"LakeWorthcity\\n 12452.37\", \"LittleRockcity\\n 12364.16\", \"Tallahasseecity\\n 12349.83\", \"RichmondHeightscity\\n 12349.43\", \"Hartfordtown\\n 12328.9\", \"Annistoncity\\n 12185.96\", \"EastPointcity\\n 12154.08\", \"Texarkanacity\\n 12127.87\", \"Camdencity\\n 12109.83\", \"MuskegonHeightscity\\n 12061.01\", \"Gallupcity\\n 11977.58\", \"Jacksoncity\\n 11722.35\", \"WinterHavencity\\n 11671.52\", \"Spartanburgcity\\n 11646.63\", \"Sunnysidecity\\n 11622.37\"], \"type\": \"scattergeo\"}, {\"lat\": [34.002581, 24.5625566, 32.9109186, 25.6905515, 40.16706, 33.749098700000005, 35.9272953, 26.1801443, 30.445959600000002, 28.039465399999997, 30.1896756, 42.1167065, 35.108493100000004, 29.0338168], \"locationmode\": \"USA-states\", \"lon\": [-118.156586, -81.77243680000001, -111.7736386, -80.23500899999999, -74.49987, -84.39018490000001, -89.91897540000001, -80.1372006, -91.18738, -81.9498042, -82.63928990000001, -86.4541894, -77.04411429999999, -81.3091881], \"marker\": {\"color\": \"#ed4545\", \"line\": {\"color\": \"rgb(40,40,40)\", \"width\": 0.5}, \"size\": [138.02540000000002, 137.51149999999998, 137.3528, 136.5041, 136.2773, 133.2577, 133.0181, 132.0092, 130.3907, 130.3236, 130.23850000000002, 129.9495, 129.2303, 127.6665], \"sizemode\": \"area\"}, \"name\": \"16 - 30\", \"text\": [\"Commercecity\\n 13802.54\", \"KeyWestcity\\n 13751.15\", \"CasaGrandecity\\n 13735.28\", \"CoralGablescity\\n 13650.41\", \"Paramusborough\\n 13627.73\", \"Atlantacity\\n 13325.77\", \"Blythevillecity\\n 13301.81\", \"OaklandParkcity\\n 13200.92\", \"BatonRougecity\\n 13039.07\", \"Lakelandcity\\n 13032.36\", \"LakeCitycity\\n 13023.85\", \"BentonHarborcity\\n 12994.95\", \"NewBerncity\\n 12923.03\", \"DeLandcity\\n 12766.65\"], \"type\": \"scattergeo\"}, {\"lat\": [25.7929198, 56.6735804, 25.7742658, 42.433336700000005, 26.122308399999998, 40.707474100000006, 33.6534427, 34.1998302, 35.4798757], \"locationmode\": \"USA-states\", \"lon\": [-80.1353006, 10.234051199999998, -80.1936589, -82.9238847, -80.14337859999999, -111.88827090000001, -84.4493725, -118.2005236, -79.18029940000001], \"marker\": {\"color\": \"#f6a2a2\", \"line\": {\"color\": \"rgb(40,40,40)\", \"width\": 0.5}, \"size\": [160.9217, 159.2001, 146.7918, 144.4011, 142.0691, 141.4221, 141.3186, 140.2127, 140.1343], \"sizemode\": \"area\"}, \"name\": \"6 - 15\", \"text\": [\"MiamiBeachcity\\n 16092.17\", \"Daniacity\\n 15920.01\", \"Miamicity\\n 14679.18\", \"HarperWoodscity\\n 14440.11\", \"FortLauderdalecity\\n 14206.91\", \"SouthSaltLakecity\\n 14142.21\", \"CollegeParkcity\\n 14131.86\", \"LaCanadaFlintridgecity\\n 14021.27\", \"Sanfordcity\\n 14013.43\"], \"type\": \"scattergeo\"}, {\"lat\": [42.0645396, 39.364285200000005, 47.4627356, 48.754401200000004, 33.6956461], \"locationmode\": \"USA-states\", \"lon\": [-72.5125863, -74.42293509999999, -122.2559156, -122.47883610000001, -78.89004090000002], \"marker\": {\"color\": \"#fde8e8\", \"line\": {\"color\": \"rgb(40,40,40)\", \"width\": 0.5}, \"size\": [271.19759999999997, 270.1077, 241.1636, 178.59419999999997, 166.28130000000002], \"sizemode\": \"area\"}, \"name\": \"0 - 5\", \"text\": [\"EastLongmeadowtown\\n 27119.76\", \"AtlanticCitycity\\n 27010.77\", \"Tukwilacity\\n 24116.36\", \"Bellinghamcity\\n 17859.42\", \"MyrtleBeachcity\\n 16628.13\"], \"type\": \"scattergeo\"}],\n",
       "                        {\"geo\": {\"scope\": \"usa\"}, \"showlegend\": true, \"template\": {\"data\": {\"bar\": [{\"error_x\": {\"color\": \"#2a3f5f\"}, \"error_y\": {\"color\": \"#2a3f5f\"}, \"marker\": {\"line\": {\"color\": \"#E5ECF6\", \"width\": 0.5}}, \"type\": \"bar\"}], \"barpolar\": [{\"marker\": {\"line\": {\"color\": \"#E5ECF6\", \"width\": 0.5}}, \"type\": \"barpolar\"}], \"carpet\": [{\"aaxis\": {\"endlinecolor\": \"#2a3f5f\", \"gridcolor\": \"white\", \"linecolor\": \"white\", \"minorgridcolor\": \"white\", \"startlinecolor\": \"#2a3f5f\"}, \"baxis\": {\"endlinecolor\": \"#2a3f5f\", \"gridcolor\": \"white\", \"linecolor\": \"white\", \"minorgridcolor\": \"white\", \"startlinecolor\": \"#2a3f5f\"}, \"type\": \"carpet\"}], \"choropleth\": [{\"colorbar\": {\"outlinewidth\": 0, \"ticks\": \"\"}, \"type\": \"choropleth\"}], \"contour\": [{\"colorbar\": {\"outlinewidth\": 0, \"ticks\": \"\"}, \"colorscale\": [[0.0, \"#0d0887\"], [0.1111111111111111, \"#46039f\"], [0.2222222222222222, \"#7201a8\"], [0.3333333333333333, \"#9c179e\"], [0.4444444444444444, \"#bd3786\"], [0.5555555555555556, \"#d8576b\"], [0.6666666666666666, \"#ed7953\"], [0.7777777777777778, \"#fb9f3a\"], [0.8888888888888888, \"#fdca26\"], [1.0, \"#f0f921\"]], \"type\": \"contour\"}], \"contourcarpet\": [{\"colorbar\": {\"outlinewidth\": 0, \"ticks\": \"\"}, \"type\": \"contourcarpet\"}], \"heatmap\": [{\"colorbar\": {\"outlinewidth\": 0, \"ticks\": \"\"}, \"colorscale\": [[0.0, \"#0d0887\"], [0.1111111111111111, \"#46039f\"], [0.2222222222222222, \"#7201a8\"], [0.3333333333333333, \"#9c179e\"], [0.4444444444444444, \"#bd3786\"], [0.5555555555555556, \"#d8576b\"], [0.6666666666666666, \"#ed7953\"], [0.7777777777777778, \"#fb9f3a\"], [0.8888888888888888, \"#fdca26\"], [1.0, \"#f0f921\"]], \"type\": \"heatmap\"}], \"heatmapgl\": [{\"colorbar\": {\"outlinewidth\": 0, \"ticks\": \"\"}, \"colorscale\": [[0.0, \"#0d0887\"], [0.1111111111111111, \"#46039f\"], [0.2222222222222222, \"#7201a8\"], [0.3333333333333333, \"#9c179e\"], [0.4444444444444444, \"#bd3786\"], [0.5555555555555556, \"#d8576b\"], [0.6666666666666666, \"#ed7953\"], [0.7777777777777778, \"#fb9f3a\"], [0.8888888888888888, \"#fdca26\"], [1.0, \"#f0f921\"]], \"type\": \"heatmapgl\"}], \"histogram\": [{\"marker\": {\"colorbar\": {\"outlinewidth\": 0, \"ticks\": \"\"}}, \"type\": \"histogram\"}], \"histogram2d\": [{\"colorbar\": {\"outlinewidth\": 0, \"ticks\": \"\"}, \"colorscale\": [[0.0, \"#0d0887\"], [0.1111111111111111, \"#46039f\"], [0.2222222222222222, \"#7201a8\"], [0.3333333333333333, \"#9c179e\"], [0.4444444444444444, \"#bd3786\"], [0.5555555555555556, \"#d8576b\"], [0.6666666666666666, \"#ed7953\"], [0.7777777777777778, \"#fb9f3a\"], [0.8888888888888888, \"#fdca26\"], [1.0, \"#f0f921\"]], \"type\": \"histogram2d\"}], \"histogram2dcontour\": [{\"colorbar\": {\"outlinewidth\": 0, \"ticks\": \"\"}, \"colorscale\": [[0.0, \"#0d0887\"], [0.1111111111111111, \"#46039f\"], [0.2222222222222222, \"#7201a8\"], [0.3333333333333333, \"#9c179e\"], [0.4444444444444444, \"#bd3786\"], [0.5555555555555556, \"#d8576b\"], [0.6666666666666666, \"#ed7953\"], [0.7777777777777778, \"#fb9f3a\"], [0.8888888888888888, \"#fdca26\"], [1.0, \"#f0f921\"]], \"type\": \"histogram2dcontour\"}], \"mesh3d\": [{\"colorbar\": {\"outlinewidth\": 0, \"ticks\": \"\"}, \"type\": \"mesh3d\"}], \"parcoords\": [{\"line\": {\"colorbar\": {\"outlinewidth\": 0, \"ticks\": \"\"}}, \"type\": \"parcoords\"}], \"pie\": [{\"automargin\": true, \"type\": \"pie\"}], \"scatter\": [{\"marker\": {\"colorbar\": {\"outlinewidth\": 0, \"ticks\": \"\"}}, \"type\": \"scatter\"}], \"scatter3d\": [{\"line\": {\"colorbar\": {\"outlinewidth\": 0, \"ticks\": \"\"}}, \"marker\": {\"colorbar\": {\"outlinewidth\": 0, \"ticks\": \"\"}}, \"type\": \"scatter3d\"}], \"scattercarpet\": [{\"marker\": {\"colorbar\": {\"outlinewidth\": 0, \"ticks\": \"\"}}, \"type\": \"scattercarpet\"}], \"scattergeo\": [{\"marker\": {\"colorbar\": {\"outlinewidth\": 0, \"ticks\": \"\"}}, \"type\": \"scattergeo\"}], \"scattergl\": [{\"marker\": {\"colorbar\": {\"outlinewidth\": 0, \"ticks\": \"\"}}, \"type\": \"scattergl\"}], \"scattermapbox\": [{\"marker\": {\"colorbar\": {\"outlinewidth\": 0, \"ticks\": \"\"}}, \"type\": \"scattermapbox\"}], \"scatterpolar\": [{\"marker\": {\"colorbar\": {\"outlinewidth\": 0, \"ticks\": \"\"}}, \"type\": \"scatterpolar\"}], \"scatterpolargl\": [{\"marker\": {\"colorbar\": {\"outlinewidth\": 0, \"ticks\": \"\"}}, \"type\": \"scatterpolargl\"}], \"scatterternary\": [{\"marker\": {\"colorbar\": {\"outlinewidth\": 0, \"ticks\": \"\"}}, \"type\": \"scatterternary\"}], \"surface\": [{\"colorbar\": {\"outlinewidth\": 0, \"ticks\": \"\"}, \"colorscale\": [[0.0, \"#0d0887\"], [0.1111111111111111, \"#46039f\"], [0.2222222222222222, \"#7201a8\"], [0.3333333333333333, \"#9c179e\"], [0.4444444444444444, \"#bd3786\"], [0.5555555555555556, \"#d8576b\"], [0.6666666666666666, \"#ed7953\"], [0.7777777777777778, \"#fb9f3a\"], [0.8888888888888888, \"#fdca26\"], [1.0, \"#f0f921\"]], \"type\": \"surface\"}], \"table\": [{\"cells\": {\"fill\": {\"color\": \"#EBF0F8\"}, \"line\": {\"color\": \"white\"}}, \"header\": {\"fill\": {\"color\": \"#C8D4E3\"}, \"line\": {\"color\": \"white\"}}, \"type\": \"table\"}]}, \"layout\": {\"annotationdefaults\": {\"arrowcolor\": \"#2a3f5f\", \"arrowhead\": 0, \"arrowwidth\": 1}, \"coloraxis\": {\"colorbar\": {\"outlinewidth\": 0, \"ticks\": \"\"}}, \"colorscale\": {\"diverging\": [[0, \"#8e0152\"], [0.1, \"#c51b7d\"], [0.2, \"#de77ae\"], [0.3, \"#f1b6da\"], [0.4, \"#fde0ef\"], [0.5, \"#f7f7f7\"], [0.6, \"#e6f5d0\"], [0.7, \"#b8e186\"], [0.8, \"#7fbc41\"], [0.9, \"#4d9221\"], [1, \"#276419\"]], \"sequential\": [[0.0, \"#0d0887\"], [0.1111111111111111, \"#46039f\"], [0.2222222222222222, \"#7201a8\"], [0.3333333333333333, \"#9c179e\"], [0.4444444444444444, \"#bd3786\"], [0.5555555555555556, \"#d8576b\"], [0.6666666666666666, \"#ed7953\"], [0.7777777777777778, \"#fb9f3a\"], [0.8888888888888888, \"#fdca26\"], [1.0, \"#f0f921\"]], \"sequentialminus\": [[0.0, \"#0d0887\"], [0.1111111111111111, \"#46039f\"], [0.2222222222222222, \"#7201a8\"], [0.3333333333333333, \"#9c179e\"], [0.4444444444444444, \"#bd3786\"], [0.5555555555555556, \"#d8576b\"], [0.6666666666666666, \"#ed7953\"], [0.7777777777777778, \"#fb9f3a\"], [0.8888888888888888, \"#fdca26\"], [1.0, \"#f0f921\"]]}, \"colorway\": [\"#636efa\", \"#EF553B\", \"#00cc96\", \"#ab63fa\", \"#FFA15A\", \"#19d3f3\", \"#FF6692\", \"#B6E880\", \"#FF97FF\", \"#FECB52\"], \"font\": {\"color\": \"#2a3f5f\"}, \"geo\": {\"bgcolor\": \"white\", \"lakecolor\": \"white\", \"landcolor\": \"#E5ECF6\", \"showlakes\": true, \"showland\": true, \"subunitcolor\": \"white\"}, \"hoverlabel\": {\"align\": \"left\"}, \"hovermode\": \"closest\", \"mapbox\": {\"style\": \"light\"}, \"paper_bgcolor\": \"white\", \"plot_bgcolor\": \"#E5ECF6\", \"polar\": {\"angularaxis\": {\"gridcolor\": \"white\", \"linecolor\": \"white\", \"ticks\": \"\"}, \"bgcolor\": \"#E5ECF6\", \"radialaxis\": {\"gridcolor\": \"white\", \"linecolor\": \"white\", \"ticks\": \"\"}}, \"scene\": {\"xaxis\": {\"backgroundcolor\": \"#E5ECF6\", \"gridcolor\": \"white\", \"gridwidth\": 2, \"linecolor\": \"white\", \"showbackground\": true, \"ticks\": \"\", \"zerolinecolor\": \"white\"}, \"yaxis\": {\"backgroundcolor\": \"#E5ECF6\", \"gridcolor\": \"white\", \"gridwidth\": 2, \"linecolor\": \"white\", \"showbackground\": true, \"ticks\": \"\", \"zerolinecolor\": \"white\"}, \"zaxis\": {\"backgroundcolor\": \"#E5ECF6\", \"gridcolor\": \"white\", \"gridwidth\": 2, \"linecolor\": \"white\", \"showbackground\": true, \"ticks\": \"\", \"zerolinecolor\": \"white\"}}, \"shapedefaults\": {\"line\": {\"color\": \"#2a3f5f\"}}, \"ternary\": {\"aaxis\": {\"gridcolor\": \"white\", \"linecolor\": \"white\", \"ticks\": \"\"}, \"baxis\": {\"gridcolor\": \"white\", \"linecolor\": \"white\", \"ticks\": \"\"}, \"bgcolor\": \"#E5ECF6\", \"caxis\": {\"gridcolor\": \"white\", \"linecolor\": \"white\", \"ticks\": \"\"}}, \"title\": {\"x\": 0.05}, \"xaxis\": {\"automargin\": true, \"gridcolor\": \"white\", \"linecolor\": \"white\", \"ticks\": \"\", \"title\": {\"standoff\": 15}, \"zerolinecolor\": \"white\", \"zerolinewidth\": 2}, \"yaxis\": {\"automargin\": true, \"gridcolor\": \"white\", \"linecolor\": \"white\", \"ticks\": \"\", \"title\": {\"standoff\": 15}, \"zerolinecolor\": \"white\", \"zerolinewidth\": 2}}}, \"title\": {\"text\": \"Spo\\u0142eczno\\u015bci z najwi\\u0119kszym wsp\\u00f3\\u0142czynnikiem przest\\u0119pstw bez u\\u017cycia si\\u0142y(non-Violent Crimes)\"}},\n",
       "                        {\"responsive\": true}\n",
       "                    ).then(function(){\n",
       "                            \n",
       "var gd = document.getElementById('e7836f4a-8fd1-4105-af4c-d8c05c1eeb7d');\n",
       "var x = new MutationObserver(function (mutations, observer) {{\n",
       "        var display = window.getComputedStyle(gd).display;\n",
       "        if (!display || display === 'none') {{\n",
       "            console.log([gd, 'removed!']);\n",
       "            Plotly.purge(gd);\n",
       "            observer.disconnect();\n",
       "        }}\n",
       "}});\n",
       "\n",
       "// Listen for the removal of the full notebook cells\n",
       "var notebookContainer = gd.closest('#notebook-container');\n",
       "if (notebookContainer) {{\n",
       "    x.observe(notebookContainer, {childList: true});\n",
       "}}\n",
       "\n",
       "// Listen for the clearing of the current output cell\n",
       "var outputEl = gd.closest('.output');\n",
       "if (outputEl) {{\n",
       "    x.observe(outputEl, {childList: true});\n",
       "}}\n",
       "\n",
       "                        })\n",
       "                };\n",
       "                });\n",
       "            </script>\n",
       "        </div>"
      ]
     },
     "metadata": {},
     "output_type": "display_data"
    }
   ],
   "source": [
    "dl = cities_with_crime_dataset.shape[0]\n",
    "df = cities_with_crime_dataset.copy().sort_values(by='nonViolPerPop', ascending=False)\n",
    "\n",
    "df['text'] = df.apply(lambda row: row.communityname + '\\n ' + str(row.nonViolPerPop), axis = 1) \n",
    "limits = [(51, 100), (31, 50), (16, 30), (6, 15), (0, 5)]\n",
    "colors = ['#5d0909', '#d11515', '#ed4545', '#f6a2a2', '#fde8e8']\n",
    "cities = []\n",
    "scale = 100\n",
    "\n",
    "fig = go.Figure()\n",
    "\n",
    "for i in range(len(limits)):\n",
    "    lim = limits[i]\n",
    "    df_sub = df[lim[0]:lim[1]]\n",
    "    fig.add_trace(go.Scattergeo(\n",
    "        locationmode = 'USA-states',\n",
    "        lon = df_sub['lng'],\n",
    "        lat = df_sub['lat'],\n",
    "        text = df_sub['text'],\n",
    "        marker = dict(\n",
    "            size = df_sub['nonViolPerPop']/scale,\n",
    "            color = colors[i],\n",
    "            line_color='rgb(40,40,40)',\n",
    "            line_width=0.5,\n",
    "            sizemode = 'area'\n",
    "        ),\n",
    "        name = '{0} - {1}'.format(lim[0],lim[1])))\n",
    "\n",
    "fig.update_layout(\n",
    "        title_text = 'Społeczności z największym współczynnikiem przestępstw bez użycia siły(non-Violent Crimes)',\n",
    "        showlegend = True,\n",
    "        geo = dict(\n",
    "            scope = 'usa',\n",
    "            )\n",
    "    )\n",
    "\n",
    "fig.show()"
   ]
  },
  {
   "cell_type": "code",
   "execution_count": 58,
   "metadata": {},
   "outputs": [
    {
     "data": {
      "application/vnd.plotly.v1+json": {
       "config": {
        "plotlyServerURL": "https://plot.ly"
       },
       "data": [
        {
         "lat": [
          39.427337,
          35.108493100000004,
          38.3662114,
          35.9272953,
          34.010929,
          33.894927,
          41.6021292,
          41.3082138,
          42.7070354,
          30.1896756,
          34.000749299999995,
          40.266310700000005,
          40.7127281,
          31.149952799999998,
          33.9480787,
          35.052575899999994,
          29.2108147,
          33.9541079,
          40.2170575,
          40.2203907,
          34.9248667,
          29.949932300000004,
          33.8963593,
          28.810823,
          40.7281575,
          34.1998302,
          32.7287413,
          33.887728,
          43.309940999999995,
          25.7929198,
          30.4380832,
          42.3602534,
          33.898917,
          29.0338168,
          35.0456297,
          32.5093109,
          25.9856006,
          33.4859402,
          42.8867166,
          40.3697905,
          41.1670412,
          33.993486700000005,
          34.257038,
          33.6534427,
          34.506860100000004,
          47.24957979999999,
          27.3364347,
          45.5202471,
          25.905607800000002
         ],
         "locationmode": "USA-states",
         "lon": [
          -75.2340768,
          -77.04411429999999,
          -75.60088809999999,
          -89.91897540000001,
          -85.99895959999999,
          -118.226624,
          -87.3371372,
          -72.92505179999999,
          -71.1631137,
          -82.63928990000001,
          -81.03433129999999,
          -76.8861122,
          -74.0060152,
          -81.4914894,
          -118.06914990000001,
          -78.878292,
          -81.02283309999999,
          -118.36363,
          -74.7429463,
          -74.01208170000001,
          -81.02507840000001,
          -90.0701156,
          -118.3053037,
          -81.8778582,
          -74.0776417,
          -118.2005236,
          -96.6227714,
          -118.3652313,
          -73.644447,
          -80.1353006,
          -84.2809332,
          -71.0582912,
          -118.17100500000001,
          -81.3091881,
          -85.3096801,
          -92.1193012,
          -80.13999670000001,
          -86.91193659999999,
          -78.87839220000001,
          -80.63396379999999,
          -73.2048348,
          -81.0739826,
          -85.16467259999999,
          -84.4493725,
          -82.65062640000001,
          -122.43987460000001,
          -82.5306527,
          -122.6741949,
          -80.1750696
         ],
         "marker": {
          "color": "#5d0909",
          "line": {
           "color": "rgb(40,40,40)",
           "width": 0.5
          },
          "size": [
           89.67399999999999,
           88.43520000000001,
           88.36040000000001,
           87.7292,
           87.4588,
           86.7968,
           86.1984,
           85.0808,
           84.9656,
           84.79719999999999,
           84.3984,
           84.2292,
           83.9084,
           83.5776,
           83.5728,
           83.5712,
           83.3144,
           83.154,
           82.6116,
           82.1116,
           81.91680000000001,
           81.5592,
           81.4928,
           80.75880000000001,
           80.706,
           80.3464,
           80.3312,
           79.846,
           79.486,
           79.2756,
           79.258,
           78.7556,
           78.5956,
           78.564,
           78.4268,
           78.2496,
           77.5372,
           77.52680000000001,
           77.35079999999999,
           76.46560000000001,
           76.3584,
           75.5776,
           75.3696,
           74.998,
           73.972,
           73.9704,
           73.858,
           73.65520000000001,
           72.7528
          ],
          "sizemode": "area"
         },
         "name": "51 - 100",
         "text": [
          "Bridgetoncity\n 8005.85",
          "NewBerncity\n 12923.03",
          "Salisburycity\n 11255.2",
          "Blythevillecity\n 13301.81",
          "Gadsdencity\n nan",
          "Comptoncity\n 5011.24",
          "Garycity\n 8024.71",
          "NewHaventown\n 10988.76",
          "Lawrencecity\n nan",
          "LakeCitycity\n 13023.85",
          "Columbiacity\n 9737.98",
          "Harrisburgcity\n 7093.95",
          "NewYorkcity\n 6164.95",
          "Brunswickcity\n 9833.62",
          "SantaFeSpringscity\n 12658.07",
          "Fayettevillecity\n 9898.93",
          "DaytonaBeachcity\n 9425.42",
          "Inglewoodcity\n 5569.51",
          "Trentoncity\n 7289.2",
          "AsburyParkcity\n 7331.38",
          "RockHillcity\n 6650.96",
          "NewOrleanscity\n nan",
          "Gardenacity\n 5511.01",
          "Leesburgcity\n 6665.65",
          "JerseyCitycity\n 6265.54",
          "LaCanadaFlintridgecity\n 14021.27",
          "BalchSpringscity\n 5983.44",
          "Lawndalecity\n 5427.45",
          "GlensFallscity\n nan",
          "MiamiBeachcity\n 16092.17",
          "Tallahasseecity\n 12349.83",
          "Bostoncity\n nan",
          "Paramountcity\n 5359.15",
          "DeLandcity\n 12766.65",
          "Chattanoogacity\n 8666.52",
          "Monroecity\n nan",
          "Hallandalecity\n 6814.07",
          "Fairfieldcity\n nan",
          "Buffalocity\n 8407.3",
          "Steubenvillecity\n nan",
          "Bridgeporttown\n 8455.77",
          "WestColumbiacity\n 11105.61",
          "Romecity\n 9160.57",
          "CollegeParkcity\n 14131.86",
          "Andersoncity\n 6474.24",
          "Tacomacity\n 9547.28",
          "Sarasotacity\n 10816.24",
          "Portlandcity\n 9577.37",
          "NorthMiamicity\n 10855.84"
         ],
         "type": "scattergeo"
        },
        {
         "lat": [
          40.452765,
          34.002581,
          27.446705600000005,
          41.639785700000004,
          33.9140085,
          28.0180602,
          34.0923014,
          40.758390000000006,
          33.5206824,
          39.100105,
          34.1513105,
          40.7323235,
          34.0536909,
          40.742551,
          37.4688273,
          33.772401,
          28.5421109,
          38.8986836,
          41.764582
         ],
         "locationmode": "USA-states",
         "lon": [
          -79.876001,
          -118.156586,
          -80.3256056,
          -87.4548466,
          -118.3810855,
          -82.118482,
          -118.36928940000001,
          -82.51544709999999,
          -86.80243259999999,
          -94.5781416,
          -99.2860857,
          -74.2348684,
          -118.2427666,
          -84.1052256,
          -122.1410751,
          -89.7674875,
          -81.3790304,
          -83.20601620000001,
          -72.6908547
         ],
         "marker": {
          "color": "#d11515",
          "line": {
           "color": "rgb(40,40,40)",
           "width": 0.5
          },
          "size": [
           103.4516,
           103.3984,
           103.2784,
           102.9164,
           101.65520000000001,
           100.9384,
           100.30040000000001,
           99.7268,
           98.6672,
           98.40440000000001,
           98.0424,
           96.93879999999999,
           96.5908,
           93.7872,
           93.7824,
           93.34479999999999,
           92.1796,
           91.9948,
           91.53280000000001
          ],
          "sizemode": "area"
         },
         "name": "31 - 50",
         "text": [
          "Wilkinsburgborough\n 5575.77",
          "Commercecity\n 13802.54",
          "FortPiercecity\n 11466.15",
          "EastChicagocity\n 6982.76",
          "Hawthornecity\n 6879.15",
          "PlantCitycity\n 10385.16",
          "WestHollywoodcity\n 9827.83",
          "Mansfieldcity\n 7681.65",
          "Birminghamcity\n 9349.97",
          "KansasCitycity\n 10039.52",
          "Vernoncity\n 4810.11",
          "Irvingtontownship\n 9811.74",
          "LosAngelescity\n 6756.86",
          "Limacity\n 7747.54",
          "EastPaloAltocity\n 4180.94",
          "Grenadacity\n 7839.24",
          "Orlandocity\n 9956.08",
          "Youngstowncity\n 6833.44",
          "Hartfordtown\n 12328.9"
         ],
         "type": "scattergeo"
        },
        {
         "lat": [
          34.8253019,
          30.738799800000002,
          30.445959600000002,
          33.924831,
          40.767323,
          34.1954001,
          33.382363500000004,
          32.72667,
          26.2378597,
          26.640628000000003,
          29.6487882,
          56.6735804,
          37.96214570000001,
          37.7586346
         ],
         "locationmode": "USA-states",
         "lon": [
          -116.0833144,
          -88.07888890000001,
          -91.18738,
          -118.2024154,
          -74.20486770000001,
          -82.1617883,
          -86.9172047,
          -85.392493,
          -80.1247667,
          -81.87230840000001,
          -81.63721109999999,
          10.234051199999998,
          -122.3455263,
          -122.3753923
         ],
         "marker": {
          "color": "#ed4545",
          "line": {
           "color": "rgb(40,40,40)",
           "width": 0.5
          },
          "size": [
           121.90639999999999,
           119.2924,
           119.1476,
           118.2792,
           117.6648,
           115.42280000000001,
           110.35600000000001,
           109.12559999999999,
           107.2912,
           107.14200000000001,
           106.0104,
           105.992,
           104.2384,
           104.064
          ],
          "sizemode": "area"
         },
         "name": "16 - 30",
         "text": [
          "SanBernardinocity\n 9248.11",
          "Prichardcity\n nan",
          "BatonRougecity\n 13039.07",
          "Lynwoodcity\n 4214.39",
          "EastOrangecity\n 7166.95",
          "Greenwoodcity\n 5977.86",
          "Bessemercity\n 9695.12",
          "Opelikacity\n nan",
          "PompanoBeachcity\n 11058.21",
          "FortMyerscity\n 12667.04",
          "Palatkacity\n 16233.94",
          "Daniacity\n 15920.01",
          "SanPablocity\n 8839.53",
          "Oaklandcity\n 9420.56"
         ],
         "type": "scattergeo"
        },
        {
         "lat": [
          33.695381,
          39.9448402,
          34.949800700000004,
          25.471894600000002,
          32.4078632,
          34.7464809,
          37.9553875,
          27.947759499999997,
          39.2908816
         ],
         "locationmode": "USA-states",
         "lon": [
          -85.8398423,
          -75.11989109999999,
          -81.9320157,
          -80.47599050000001,
          -87.0207473,
          -92.2895948,
          -122.4128267,
          -82.458444,
          -76.610759
         ],
         "marker": {
          "color": "#f6a2a2",
          "line": {
           "color": "rgb(40,40,40)",
           "width": 0.5
          },
          "size": [
           141.6228,
           141.2312,
           136.58280000000002,
           134.5964,
           130.7304,
           130.2284,
           129.56799999999998,
           129.418,
           123.25040000000001
          ],
          "sizemode": "area"
         },
         "name": "6 - 15",
         "text": [
          "Annistoncity\n 12185.96",
          "Camdencity\n 12109.83",
          "Spartanburgcity\n 11646.63",
          "Homesteadcity\n 14008.32",
          "Selmacity\n nan",
          "LittleRockcity\n 12364.16",
          "Richmondcity\n 8497.95",
          "Tampacity\n 12490.6",
          "Baltimorecity\n 9901.59"
         ],
         "type": "scattergeo"
        },
        {
         "lat": [
          39.9829308,
          33.749098700000005,
          40.735657,
          31.311248,
          25.7742658
         ],
         "locationmode": "USA-states",
         "lon": [
          -75.7652424,
          -84.39018490000001,
          -74.1723667,
          -92.4449087,
          -80.1936589
         ],
         "marker": {
          "color": "#fde8e8",
          "line": {
           "color": "rgb(40,40,40)",
           "width": 0.5
          },
          "size": [
           195.0824,
           161.0636,
           157.12120000000002,
           153.364,
           153.1684
          ],
          "sizemode": "area"
         },
         "name": "0 - 5",
         "text": [
          "Chestercity\n 8770.11",
          "Atlantacity\n 13325.77",
          "Newarkcity\n 10942.54",
          "Alexandriacity\n 8997.38",
          "Miamicity\n 14679.18"
         ],
         "type": "scattergeo"
        }
       ],
       "layout": {
        "geo": {
         "scope": "usa"
        },
        "showlegend": true,
        "template": {
         "data": {
          "bar": [
           {
            "error_x": {
             "color": "#2a3f5f"
            },
            "error_y": {
             "color": "#2a3f5f"
            },
            "marker": {
             "line": {
              "color": "#E5ECF6",
              "width": 0.5
             }
            },
            "type": "bar"
           }
          ],
          "barpolar": [
           {
            "marker": {
             "line": {
              "color": "#E5ECF6",
              "width": 0.5
             }
            },
            "type": "barpolar"
           }
          ],
          "carpet": [
           {
            "aaxis": {
             "endlinecolor": "#2a3f5f",
             "gridcolor": "white",
             "linecolor": "white",
             "minorgridcolor": "white",
             "startlinecolor": "#2a3f5f"
            },
            "baxis": {
             "endlinecolor": "#2a3f5f",
             "gridcolor": "white",
             "linecolor": "white",
             "minorgridcolor": "white",
             "startlinecolor": "#2a3f5f"
            },
            "type": "carpet"
           }
          ],
          "choropleth": [
           {
            "colorbar": {
             "outlinewidth": 0,
             "ticks": ""
            },
            "type": "choropleth"
           }
          ],
          "contour": [
           {
            "colorbar": {
             "outlinewidth": 0,
             "ticks": ""
            },
            "colorscale": [
             [
              0,
              "#0d0887"
             ],
             [
              0.1111111111111111,
              "#46039f"
             ],
             [
              0.2222222222222222,
              "#7201a8"
             ],
             [
              0.3333333333333333,
              "#9c179e"
             ],
             [
              0.4444444444444444,
              "#bd3786"
             ],
             [
              0.5555555555555556,
              "#d8576b"
             ],
             [
              0.6666666666666666,
              "#ed7953"
             ],
             [
              0.7777777777777778,
              "#fb9f3a"
             ],
             [
              0.8888888888888888,
              "#fdca26"
             ],
             [
              1,
              "#f0f921"
             ]
            ],
            "type": "contour"
           }
          ],
          "contourcarpet": [
           {
            "colorbar": {
             "outlinewidth": 0,
             "ticks": ""
            },
            "type": "contourcarpet"
           }
          ],
          "heatmap": [
           {
            "colorbar": {
             "outlinewidth": 0,
             "ticks": ""
            },
            "colorscale": [
             [
              0,
              "#0d0887"
             ],
             [
              0.1111111111111111,
              "#46039f"
             ],
             [
              0.2222222222222222,
              "#7201a8"
             ],
             [
              0.3333333333333333,
              "#9c179e"
             ],
             [
              0.4444444444444444,
              "#bd3786"
             ],
             [
              0.5555555555555556,
              "#d8576b"
             ],
             [
              0.6666666666666666,
              "#ed7953"
             ],
             [
              0.7777777777777778,
              "#fb9f3a"
             ],
             [
              0.8888888888888888,
              "#fdca26"
             ],
             [
              1,
              "#f0f921"
             ]
            ],
            "type": "heatmap"
           }
          ],
          "heatmapgl": [
           {
            "colorbar": {
             "outlinewidth": 0,
             "ticks": ""
            },
            "colorscale": [
             [
              0,
              "#0d0887"
             ],
             [
              0.1111111111111111,
              "#46039f"
             ],
             [
              0.2222222222222222,
              "#7201a8"
             ],
             [
              0.3333333333333333,
              "#9c179e"
             ],
             [
              0.4444444444444444,
              "#bd3786"
             ],
             [
              0.5555555555555556,
              "#d8576b"
             ],
             [
              0.6666666666666666,
              "#ed7953"
             ],
             [
              0.7777777777777778,
              "#fb9f3a"
             ],
             [
              0.8888888888888888,
              "#fdca26"
             ],
             [
              1,
              "#f0f921"
             ]
            ],
            "type": "heatmapgl"
           }
          ],
          "histogram": [
           {
            "marker": {
             "colorbar": {
              "outlinewidth": 0,
              "ticks": ""
             }
            },
            "type": "histogram"
           }
          ],
          "histogram2d": [
           {
            "colorbar": {
             "outlinewidth": 0,
             "ticks": ""
            },
            "colorscale": [
             [
              0,
              "#0d0887"
             ],
             [
              0.1111111111111111,
              "#46039f"
             ],
             [
              0.2222222222222222,
              "#7201a8"
             ],
             [
              0.3333333333333333,
              "#9c179e"
             ],
             [
              0.4444444444444444,
              "#bd3786"
             ],
             [
              0.5555555555555556,
              "#d8576b"
             ],
             [
              0.6666666666666666,
              "#ed7953"
             ],
             [
              0.7777777777777778,
              "#fb9f3a"
             ],
             [
              0.8888888888888888,
              "#fdca26"
             ],
             [
              1,
              "#f0f921"
             ]
            ],
            "type": "histogram2d"
           }
          ],
          "histogram2dcontour": [
           {
            "colorbar": {
             "outlinewidth": 0,
             "ticks": ""
            },
            "colorscale": [
             [
              0,
              "#0d0887"
             ],
             [
              0.1111111111111111,
              "#46039f"
             ],
             [
              0.2222222222222222,
              "#7201a8"
             ],
             [
              0.3333333333333333,
              "#9c179e"
             ],
             [
              0.4444444444444444,
              "#bd3786"
             ],
             [
              0.5555555555555556,
              "#d8576b"
             ],
             [
              0.6666666666666666,
              "#ed7953"
             ],
             [
              0.7777777777777778,
              "#fb9f3a"
             ],
             [
              0.8888888888888888,
              "#fdca26"
             ],
             [
              1,
              "#f0f921"
             ]
            ],
            "type": "histogram2dcontour"
           }
          ],
          "mesh3d": [
           {
            "colorbar": {
             "outlinewidth": 0,
             "ticks": ""
            },
            "type": "mesh3d"
           }
          ],
          "parcoords": [
           {
            "line": {
             "colorbar": {
              "outlinewidth": 0,
              "ticks": ""
             }
            },
            "type": "parcoords"
           }
          ],
          "pie": [
           {
            "automargin": true,
            "type": "pie"
           }
          ],
          "scatter": [
           {
            "marker": {
             "colorbar": {
              "outlinewidth": 0,
              "ticks": ""
             }
            },
            "type": "scatter"
           }
          ],
          "scatter3d": [
           {
            "line": {
             "colorbar": {
              "outlinewidth": 0,
              "ticks": ""
             }
            },
            "marker": {
             "colorbar": {
              "outlinewidth": 0,
              "ticks": ""
             }
            },
            "type": "scatter3d"
           }
          ],
          "scattercarpet": [
           {
            "marker": {
             "colorbar": {
              "outlinewidth": 0,
              "ticks": ""
             }
            },
            "type": "scattercarpet"
           }
          ],
          "scattergeo": [
           {
            "marker": {
             "colorbar": {
              "outlinewidth": 0,
              "ticks": ""
             }
            },
            "type": "scattergeo"
           }
          ],
          "scattergl": [
           {
            "marker": {
             "colorbar": {
              "outlinewidth": 0,
              "ticks": ""
             }
            },
            "type": "scattergl"
           }
          ],
          "scattermapbox": [
           {
            "marker": {
             "colorbar": {
              "outlinewidth": 0,
              "ticks": ""
             }
            },
            "type": "scattermapbox"
           }
          ],
          "scatterpolar": [
           {
            "marker": {
             "colorbar": {
              "outlinewidth": 0,
              "ticks": ""
             }
            },
            "type": "scatterpolar"
           }
          ],
          "scatterpolargl": [
           {
            "marker": {
             "colorbar": {
              "outlinewidth": 0,
              "ticks": ""
             }
            },
            "type": "scatterpolargl"
           }
          ],
          "scatterternary": [
           {
            "marker": {
             "colorbar": {
              "outlinewidth": 0,
              "ticks": ""
             }
            },
            "type": "scatterternary"
           }
          ],
          "surface": [
           {
            "colorbar": {
             "outlinewidth": 0,
             "ticks": ""
            },
            "colorscale": [
             [
              0,
              "#0d0887"
             ],
             [
              0.1111111111111111,
              "#46039f"
             ],
             [
              0.2222222222222222,
              "#7201a8"
             ],
             [
              0.3333333333333333,
              "#9c179e"
             ],
             [
              0.4444444444444444,
              "#bd3786"
             ],
             [
              0.5555555555555556,
              "#d8576b"
             ],
             [
              0.6666666666666666,
              "#ed7953"
             ],
             [
              0.7777777777777778,
              "#fb9f3a"
             ],
             [
              0.8888888888888888,
              "#fdca26"
             ],
             [
              1,
              "#f0f921"
             ]
            ],
            "type": "surface"
           }
          ],
          "table": [
           {
            "cells": {
             "fill": {
              "color": "#EBF0F8"
             },
             "line": {
              "color": "white"
             }
            },
            "header": {
             "fill": {
              "color": "#C8D4E3"
             },
             "line": {
              "color": "white"
             }
            },
            "type": "table"
           }
          ]
         },
         "layout": {
          "annotationdefaults": {
           "arrowcolor": "#2a3f5f",
           "arrowhead": 0,
           "arrowwidth": 1
          },
          "coloraxis": {
           "colorbar": {
            "outlinewidth": 0,
            "ticks": ""
           }
          },
          "colorscale": {
           "diverging": [
            [
             0,
             "#8e0152"
            ],
            [
             0.1,
             "#c51b7d"
            ],
            [
             0.2,
             "#de77ae"
            ],
            [
             0.3,
             "#f1b6da"
            ],
            [
             0.4,
             "#fde0ef"
            ],
            [
             0.5,
             "#f7f7f7"
            ],
            [
             0.6,
             "#e6f5d0"
            ],
            [
             0.7,
             "#b8e186"
            ],
            [
             0.8,
             "#7fbc41"
            ],
            [
             0.9,
             "#4d9221"
            ],
            [
             1,
             "#276419"
            ]
           ],
           "sequential": [
            [
             0,
             "#0d0887"
            ],
            [
             0.1111111111111111,
             "#46039f"
            ],
            [
             0.2222222222222222,
             "#7201a8"
            ],
            [
             0.3333333333333333,
             "#9c179e"
            ],
            [
             0.4444444444444444,
             "#bd3786"
            ],
            [
             0.5555555555555556,
             "#d8576b"
            ],
            [
             0.6666666666666666,
             "#ed7953"
            ],
            [
             0.7777777777777778,
             "#fb9f3a"
            ],
            [
             0.8888888888888888,
             "#fdca26"
            ],
            [
             1,
             "#f0f921"
            ]
           ],
           "sequentialminus": [
            [
             0,
             "#0d0887"
            ],
            [
             0.1111111111111111,
             "#46039f"
            ],
            [
             0.2222222222222222,
             "#7201a8"
            ],
            [
             0.3333333333333333,
             "#9c179e"
            ],
            [
             0.4444444444444444,
             "#bd3786"
            ],
            [
             0.5555555555555556,
             "#d8576b"
            ],
            [
             0.6666666666666666,
             "#ed7953"
            ],
            [
             0.7777777777777778,
             "#fb9f3a"
            ],
            [
             0.8888888888888888,
             "#fdca26"
            ],
            [
             1,
             "#f0f921"
            ]
           ]
          },
          "colorway": [
           "#636efa",
           "#EF553B",
           "#00cc96",
           "#ab63fa",
           "#FFA15A",
           "#19d3f3",
           "#FF6692",
           "#B6E880",
           "#FF97FF",
           "#FECB52"
          ],
          "font": {
           "color": "#2a3f5f"
          },
          "geo": {
           "bgcolor": "white",
           "lakecolor": "white",
           "landcolor": "#E5ECF6",
           "showlakes": true,
           "showland": true,
           "subunitcolor": "white"
          },
          "hoverlabel": {
           "align": "left"
          },
          "hovermode": "closest",
          "mapbox": {
           "style": "light"
          },
          "paper_bgcolor": "white",
          "plot_bgcolor": "#E5ECF6",
          "polar": {
           "angularaxis": {
            "gridcolor": "white",
            "linecolor": "white",
            "ticks": ""
           },
           "bgcolor": "#E5ECF6",
           "radialaxis": {
            "gridcolor": "white",
            "linecolor": "white",
            "ticks": ""
           }
          },
          "scene": {
           "xaxis": {
            "backgroundcolor": "#E5ECF6",
            "gridcolor": "white",
            "gridwidth": 2,
            "linecolor": "white",
            "showbackground": true,
            "ticks": "",
            "zerolinecolor": "white"
           },
           "yaxis": {
            "backgroundcolor": "#E5ECF6",
            "gridcolor": "white",
            "gridwidth": 2,
            "linecolor": "white",
            "showbackground": true,
            "ticks": "",
            "zerolinecolor": "white"
           },
           "zaxis": {
            "backgroundcolor": "#E5ECF6",
            "gridcolor": "white",
            "gridwidth": 2,
            "linecolor": "white",
            "showbackground": true,
            "ticks": "",
            "zerolinecolor": "white"
           }
          },
          "shapedefaults": {
           "line": {
            "color": "#2a3f5f"
           }
          },
          "ternary": {
           "aaxis": {
            "gridcolor": "white",
            "linecolor": "white",
            "ticks": ""
           },
           "baxis": {
            "gridcolor": "white",
            "linecolor": "white",
            "ticks": ""
           },
           "bgcolor": "#E5ECF6",
           "caxis": {
            "gridcolor": "white",
            "linecolor": "white",
            "ticks": ""
           }
          },
          "title": {
           "x": 0.05
          },
          "xaxis": {
           "automargin": true,
           "gridcolor": "white",
           "linecolor": "white",
           "ticks": "",
           "title": {
            "standoff": 15
           },
           "zerolinecolor": "white",
           "zerolinewidth": 2
          },
          "yaxis": {
           "automargin": true,
           "gridcolor": "white",
           "linecolor": "white",
           "ticks": "",
           "title": {
            "standoff": 15
           },
           "zerolinecolor": "white",
           "zerolinewidth": 2
          }
         }
        },
        "title": {
         "text": "Społeczności z największym współczynnikiem przestępstw z użyciem siły(non-Violent Crimes)"
        }
       }
      },
      "text/html": [
       "<div>\n",
       "        \n",
       "        \n",
       "            <div id=\"e7e51d2b-7125-4355-b304-1e63c18b4fb1\" class=\"plotly-graph-div\" style=\"height:525px; width:100%;\"></div>\n",
       "            <script type=\"text/javascript\">\n",
       "                require([\"plotly\"], function(Plotly) {\n",
       "                    window.PLOTLYENV=window.PLOTLYENV || {};\n",
       "                    \n",
       "                if (document.getElementById(\"e7e51d2b-7125-4355-b304-1e63c18b4fb1\")) {\n",
       "                    Plotly.newPlot(\n",
       "                        'e7e51d2b-7125-4355-b304-1e63c18b4fb1',\n",
       "                        [{\"lat\": [39.427337, 35.108493100000004, 38.3662114, 35.9272953, 34.010929, 33.894927, 41.6021292, 41.3082138, 42.7070354, 30.1896756, 34.000749299999995, 40.266310700000005, 40.7127281, 31.149952799999998, 33.9480787, 35.052575899999994, 29.2108147, 33.9541079, 40.2170575, 40.2203907, 34.9248667, 29.949932300000004, 33.8963593, 28.810823, 40.7281575, 34.1998302, 32.7287413, 33.887728, 43.309940999999995, 25.7929198, 30.4380832, 42.3602534, 33.898917, 29.0338168, 35.0456297, 32.5093109, 25.9856006, 33.4859402, 42.8867166, 40.3697905, 41.1670412, 33.993486700000005, 34.257038, 33.6534427, 34.506860100000004, 47.24957979999999, 27.3364347, 45.5202471, 25.905607800000002], \"locationmode\": \"USA-states\", \"lon\": [-75.2340768, -77.04411429999999, -75.60088809999999, -89.91897540000001, -85.99895959999999, -118.226624, -87.3371372, -72.92505179999999, -71.1631137, -82.63928990000001, -81.03433129999999, -76.8861122, -74.0060152, -81.4914894, -118.06914990000001, -78.878292, -81.02283309999999, -118.36363, -74.7429463, -74.01208170000001, -81.02507840000001, -90.0701156, -118.3053037, -81.8778582, -74.0776417, -118.2005236, -96.6227714, -118.3652313, -73.644447, -80.1353006, -84.2809332, -71.0582912, -118.17100500000001, -81.3091881, -85.3096801, -92.1193012, -80.13999670000001, -86.91193659999999, -78.87839220000001, -80.63396379999999, -73.2048348, -81.0739826, -85.16467259999999, -84.4493725, -82.65062640000001, -122.43987460000001, -82.5306527, -122.6741949, -80.1750696], \"marker\": {\"color\": \"#5d0909\", \"line\": {\"color\": \"rgb(40,40,40)\", \"width\": 0.5}, \"size\": [89.67399999999999, 88.43520000000001, 88.36040000000001, 87.7292, 87.4588, 86.7968, 86.1984, 85.0808, 84.9656, 84.79719999999999, 84.3984, 84.2292, 83.9084, 83.5776, 83.5728, 83.5712, 83.3144, 83.154, 82.6116, 82.1116, 81.91680000000001, 81.5592, 81.4928, 80.75880000000001, 80.706, 80.3464, 80.3312, 79.846, 79.486, 79.2756, 79.258, 78.7556, 78.5956, 78.564, 78.4268, 78.2496, 77.5372, 77.52680000000001, 77.35079999999999, 76.46560000000001, 76.3584, 75.5776, 75.3696, 74.998, 73.972, 73.9704, 73.858, 73.65520000000001, 72.7528], \"sizemode\": \"area\"}, \"name\": \"51 - 100\", \"text\": [\"Bridgetoncity\\n 8005.85\", \"NewBerncity\\n 12923.03\", \"Salisburycity\\n 11255.2\", \"Blythevillecity\\n 13301.81\", \"Gadsdencity\\n nan\", \"Comptoncity\\n 5011.24\", \"Garycity\\n 8024.71\", \"NewHaventown\\n 10988.76\", \"Lawrencecity\\n nan\", \"LakeCitycity\\n 13023.85\", \"Columbiacity\\n 9737.98\", \"Harrisburgcity\\n 7093.95\", \"NewYorkcity\\n 6164.95\", \"Brunswickcity\\n 9833.62\", \"SantaFeSpringscity\\n 12658.07\", \"Fayettevillecity\\n 9898.93\", \"DaytonaBeachcity\\n 9425.42\", \"Inglewoodcity\\n 5569.51\", \"Trentoncity\\n 7289.2\", \"AsburyParkcity\\n 7331.38\", \"RockHillcity\\n 6650.96\", \"NewOrleanscity\\n nan\", \"Gardenacity\\n 5511.01\", \"Leesburgcity\\n 6665.65\", \"JerseyCitycity\\n 6265.54\", \"LaCanadaFlintridgecity\\n 14021.27\", \"BalchSpringscity\\n 5983.44\", \"Lawndalecity\\n 5427.45\", \"GlensFallscity\\n nan\", \"MiamiBeachcity\\n 16092.17\", \"Tallahasseecity\\n 12349.83\", \"Bostoncity\\n nan\", \"Paramountcity\\n 5359.15\", \"DeLandcity\\n 12766.65\", \"Chattanoogacity\\n 8666.52\", \"Monroecity\\n nan\", \"Hallandalecity\\n 6814.07\", \"Fairfieldcity\\n nan\", \"Buffalocity\\n 8407.3\", \"Steubenvillecity\\n nan\", \"Bridgeporttown\\n 8455.77\", \"WestColumbiacity\\n 11105.61\", \"Romecity\\n 9160.57\", \"CollegeParkcity\\n 14131.86\", \"Andersoncity\\n 6474.24\", \"Tacomacity\\n 9547.28\", \"Sarasotacity\\n 10816.24\", \"Portlandcity\\n 9577.37\", \"NorthMiamicity\\n 10855.84\"], \"type\": \"scattergeo\"}, {\"lat\": [40.452765, 34.002581, 27.446705600000005, 41.639785700000004, 33.9140085, 28.0180602, 34.0923014, 40.758390000000006, 33.5206824, 39.100105, 34.1513105, 40.7323235, 34.0536909, 40.742551, 37.4688273, 33.772401, 28.5421109, 38.8986836, 41.764582], \"locationmode\": \"USA-states\", \"lon\": [-79.876001, -118.156586, -80.3256056, -87.4548466, -118.3810855, -82.118482, -118.36928940000001, -82.51544709999999, -86.80243259999999, -94.5781416, -99.2860857, -74.2348684, -118.2427666, -84.1052256, -122.1410751, -89.7674875, -81.3790304, -83.20601620000001, -72.6908547], \"marker\": {\"color\": \"#d11515\", \"line\": {\"color\": \"rgb(40,40,40)\", \"width\": 0.5}, \"size\": [103.4516, 103.3984, 103.2784, 102.9164, 101.65520000000001, 100.9384, 100.30040000000001, 99.7268, 98.6672, 98.40440000000001, 98.0424, 96.93879999999999, 96.5908, 93.7872, 93.7824, 93.34479999999999, 92.1796, 91.9948, 91.53280000000001], \"sizemode\": \"area\"}, \"name\": \"31 - 50\", \"text\": [\"Wilkinsburgborough\\n 5575.77\", \"Commercecity\\n 13802.54\", \"FortPiercecity\\n 11466.15\", \"EastChicagocity\\n 6982.76\", \"Hawthornecity\\n 6879.15\", \"PlantCitycity\\n 10385.16\", \"WestHollywoodcity\\n 9827.83\", \"Mansfieldcity\\n 7681.65\", \"Birminghamcity\\n 9349.97\", \"KansasCitycity\\n 10039.52\", \"Vernoncity\\n 4810.11\", \"Irvingtontownship\\n 9811.74\", \"LosAngelescity\\n 6756.86\", \"Limacity\\n 7747.54\", \"EastPaloAltocity\\n 4180.94\", \"Grenadacity\\n 7839.24\", \"Orlandocity\\n 9956.08\", \"Youngstowncity\\n 6833.44\", \"Hartfordtown\\n 12328.9\"], \"type\": \"scattergeo\"}, {\"lat\": [34.8253019, 30.738799800000002, 30.445959600000002, 33.924831, 40.767323, 34.1954001, 33.382363500000004, 32.72667, 26.2378597, 26.640628000000003, 29.6487882, 56.6735804, 37.96214570000001, 37.7586346], \"locationmode\": \"USA-states\", \"lon\": [-116.0833144, -88.07888890000001, -91.18738, -118.2024154, -74.20486770000001, -82.1617883, -86.9172047, -85.392493, -80.1247667, -81.87230840000001, -81.63721109999999, 10.234051199999998, -122.3455263, -122.3753923], \"marker\": {\"color\": \"#ed4545\", \"line\": {\"color\": \"rgb(40,40,40)\", \"width\": 0.5}, \"size\": [121.90639999999999, 119.2924, 119.1476, 118.2792, 117.6648, 115.42280000000001, 110.35600000000001, 109.12559999999999, 107.2912, 107.14200000000001, 106.0104, 105.992, 104.2384, 104.064], \"sizemode\": \"area\"}, \"name\": \"16 - 30\", \"text\": [\"SanBernardinocity\\n 9248.11\", \"Prichardcity\\n nan\", \"BatonRougecity\\n 13039.07\", \"Lynwoodcity\\n 4214.39\", \"EastOrangecity\\n 7166.95\", \"Greenwoodcity\\n 5977.86\", \"Bessemercity\\n 9695.12\", \"Opelikacity\\n nan\", \"PompanoBeachcity\\n 11058.21\", \"FortMyerscity\\n 12667.04\", \"Palatkacity\\n 16233.94\", \"Daniacity\\n 15920.01\", \"SanPablocity\\n 8839.53\", \"Oaklandcity\\n 9420.56\"], \"type\": \"scattergeo\"}, {\"lat\": [33.695381, 39.9448402, 34.949800700000004, 25.471894600000002, 32.4078632, 34.7464809, 37.9553875, 27.947759499999997, 39.2908816], \"locationmode\": \"USA-states\", \"lon\": [-85.8398423, -75.11989109999999, -81.9320157, -80.47599050000001, -87.0207473, -92.2895948, -122.4128267, -82.458444, -76.610759], \"marker\": {\"color\": \"#f6a2a2\", \"line\": {\"color\": \"rgb(40,40,40)\", \"width\": 0.5}, \"size\": [141.6228, 141.2312, 136.58280000000002, 134.5964, 130.7304, 130.2284, 129.56799999999998, 129.418, 123.25040000000001], \"sizemode\": \"area\"}, \"name\": \"6 - 15\", \"text\": [\"Annistoncity\\n 12185.96\", \"Camdencity\\n 12109.83\", \"Spartanburgcity\\n 11646.63\", \"Homesteadcity\\n 14008.32\", \"Selmacity\\n nan\", \"LittleRockcity\\n 12364.16\", \"Richmondcity\\n 8497.95\", \"Tampacity\\n 12490.6\", \"Baltimorecity\\n 9901.59\"], \"type\": \"scattergeo\"}, {\"lat\": [39.9829308, 33.749098700000005, 40.735657, 31.311248, 25.7742658], \"locationmode\": \"USA-states\", \"lon\": [-75.7652424, -84.39018490000001, -74.1723667, -92.4449087, -80.1936589], \"marker\": {\"color\": \"#fde8e8\", \"line\": {\"color\": \"rgb(40,40,40)\", \"width\": 0.5}, \"size\": [195.0824, 161.0636, 157.12120000000002, 153.364, 153.1684], \"sizemode\": \"area\"}, \"name\": \"0 - 5\", \"text\": [\"Chestercity\\n 8770.11\", \"Atlantacity\\n 13325.77\", \"Newarkcity\\n 10942.54\", \"Alexandriacity\\n 8997.38\", \"Miamicity\\n 14679.18\"], \"type\": \"scattergeo\"}],\n",
       "                        {\"geo\": {\"scope\": \"usa\"}, \"showlegend\": true, \"template\": {\"data\": {\"bar\": [{\"error_x\": {\"color\": \"#2a3f5f\"}, \"error_y\": {\"color\": \"#2a3f5f\"}, \"marker\": {\"line\": {\"color\": \"#E5ECF6\", \"width\": 0.5}}, \"type\": \"bar\"}], \"barpolar\": [{\"marker\": {\"line\": {\"color\": \"#E5ECF6\", \"width\": 0.5}}, \"type\": \"barpolar\"}], \"carpet\": [{\"aaxis\": {\"endlinecolor\": \"#2a3f5f\", \"gridcolor\": \"white\", \"linecolor\": \"white\", \"minorgridcolor\": \"white\", \"startlinecolor\": \"#2a3f5f\"}, \"baxis\": {\"endlinecolor\": \"#2a3f5f\", \"gridcolor\": \"white\", \"linecolor\": \"white\", \"minorgridcolor\": \"white\", \"startlinecolor\": \"#2a3f5f\"}, \"type\": \"carpet\"}], \"choropleth\": [{\"colorbar\": {\"outlinewidth\": 0, \"ticks\": \"\"}, \"type\": \"choropleth\"}], \"contour\": [{\"colorbar\": {\"outlinewidth\": 0, \"ticks\": \"\"}, \"colorscale\": [[0.0, \"#0d0887\"], [0.1111111111111111, \"#46039f\"], [0.2222222222222222, \"#7201a8\"], [0.3333333333333333, \"#9c179e\"], [0.4444444444444444, \"#bd3786\"], [0.5555555555555556, \"#d8576b\"], [0.6666666666666666, \"#ed7953\"], [0.7777777777777778, \"#fb9f3a\"], [0.8888888888888888, \"#fdca26\"], [1.0, \"#f0f921\"]], \"type\": \"contour\"}], \"contourcarpet\": [{\"colorbar\": {\"outlinewidth\": 0, \"ticks\": \"\"}, \"type\": \"contourcarpet\"}], \"heatmap\": [{\"colorbar\": {\"outlinewidth\": 0, \"ticks\": \"\"}, \"colorscale\": [[0.0, \"#0d0887\"], [0.1111111111111111, \"#46039f\"], [0.2222222222222222, \"#7201a8\"], [0.3333333333333333, \"#9c179e\"], [0.4444444444444444, \"#bd3786\"], [0.5555555555555556, \"#d8576b\"], [0.6666666666666666, \"#ed7953\"], [0.7777777777777778, \"#fb9f3a\"], [0.8888888888888888, \"#fdca26\"], [1.0, \"#f0f921\"]], \"type\": \"heatmap\"}], \"heatmapgl\": [{\"colorbar\": {\"outlinewidth\": 0, \"ticks\": \"\"}, \"colorscale\": [[0.0, \"#0d0887\"], [0.1111111111111111, \"#46039f\"], [0.2222222222222222, \"#7201a8\"], [0.3333333333333333, \"#9c179e\"], [0.4444444444444444, \"#bd3786\"], [0.5555555555555556, \"#d8576b\"], [0.6666666666666666, \"#ed7953\"], [0.7777777777777778, \"#fb9f3a\"], [0.8888888888888888, \"#fdca26\"], [1.0, \"#f0f921\"]], \"type\": \"heatmapgl\"}], \"histogram\": [{\"marker\": {\"colorbar\": {\"outlinewidth\": 0, \"ticks\": \"\"}}, \"type\": \"histogram\"}], \"histogram2d\": [{\"colorbar\": {\"outlinewidth\": 0, \"ticks\": \"\"}, \"colorscale\": [[0.0, \"#0d0887\"], [0.1111111111111111, \"#46039f\"], [0.2222222222222222, \"#7201a8\"], [0.3333333333333333, \"#9c179e\"], [0.4444444444444444, \"#bd3786\"], [0.5555555555555556, \"#d8576b\"], [0.6666666666666666, \"#ed7953\"], [0.7777777777777778, \"#fb9f3a\"], [0.8888888888888888, \"#fdca26\"], [1.0, \"#f0f921\"]], \"type\": \"histogram2d\"}], \"histogram2dcontour\": [{\"colorbar\": {\"outlinewidth\": 0, \"ticks\": \"\"}, \"colorscale\": [[0.0, \"#0d0887\"], [0.1111111111111111, \"#46039f\"], [0.2222222222222222, \"#7201a8\"], [0.3333333333333333, \"#9c179e\"], [0.4444444444444444, \"#bd3786\"], [0.5555555555555556, \"#d8576b\"], [0.6666666666666666, \"#ed7953\"], [0.7777777777777778, \"#fb9f3a\"], [0.8888888888888888, \"#fdca26\"], [1.0, \"#f0f921\"]], \"type\": \"histogram2dcontour\"}], \"mesh3d\": [{\"colorbar\": {\"outlinewidth\": 0, \"ticks\": \"\"}, \"type\": \"mesh3d\"}], \"parcoords\": [{\"line\": {\"colorbar\": {\"outlinewidth\": 0, \"ticks\": \"\"}}, \"type\": \"parcoords\"}], \"pie\": [{\"automargin\": true, \"type\": \"pie\"}], \"scatter\": [{\"marker\": {\"colorbar\": {\"outlinewidth\": 0, \"ticks\": \"\"}}, \"type\": \"scatter\"}], \"scatter3d\": [{\"line\": {\"colorbar\": {\"outlinewidth\": 0, \"ticks\": \"\"}}, \"marker\": {\"colorbar\": {\"outlinewidth\": 0, \"ticks\": \"\"}}, \"type\": \"scatter3d\"}], \"scattercarpet\": [{\"marker\": {\"colorbar\": {\"outlinewidth\": 0, \"ticks\": \"\"}}, \"type\": \"scattercarpet\"}], \"scattergeo\": [{\"marker\": {\"colorbar\": {\"outlinewidth\": 0, \"ticks\": \"\"}}, \"type\": \"scattergeo\"}], \"scattergl\": [{\"marker\": {\"colorbar\": {\"outlinewidth\": 0, \"ticks\": \"\"}}, \"type\": \"scattergl\"}], \"scattermapbox\": [{\"marker\": {\"colorbar\": {\"outlinewidth\": 0, \"ticks\": \"\"}}, \"type\": \"scattermapbox\"}], \"scatterpolar\": [{\"marker\": {\"colorbar\": {\"outlinewidth\": 0, \"ticks\": \"\"}}, \"type\": \"scatterpolar\"}], \"scatterpolargl\": [{\"marker\": {\"colorbar\": {\"outlinewidth\": 0, \"ticks\": \"\"}}, \"type\": \"scatterpolargl\"}], \"scatterternary\": [{\"marker\": {\"colorbar\": {\"outlinewidth\": 0, \"ticks\": \"\"}}, \"type\": \"scatterternary\"}], \"surface\": [{\"colorbar\": {\"outlinewidth\": 0, \"ticks\": \"\"}, \"colorscale\": [[0.0, \"#0d0887\"], [0.1111111111111111, \"#46039f\"], [0.2222222222222222, \"#7201a8\"], [0.3333333333333333, \"#9c179e\"], [0.4444444444444444, \"#bd3786\"], [0.5555555555555556, \"#d8576b\"], [0.6666666666666666, \"#ed7953\"], [0.7777777777777778, \"#fb9f3a\"], [0.8888888888888888, \"#fdca26\"], [1.0, \"#f0f921\"]], \"type\": \"surface\"}], \"table\": [{\"cells\": {\"fill\": {\"color\": \"#EBF0F8\"}, \"line\": {\"color\": \"white\"}}, \"header\": {\"fill\": {\"color\": \"#C8D4E3\"}, \"line\": {\"color\": \"white\"}}, \"type\": \"table\"}]}, \"layout\": {\"annotationdefaults\": {\"arrowcolor\": \"#2a3f5f\", \"arrowhead\": 0, \"arrowwidth\": 1}, \"coloraxis\": {\"colorbar\": {\"outlinewidth\": 0, \"ticks\": \"\"}}, \"colorscale\": {\"diverging\": [[0, \"#8e0152\"], [0.1, \"#c51b7d\"], [0.2, \"#de77ae\"], [0.3, \"#f1b6da\"], [0.4, \"#fde0ef\"], [0.5, \"#f7f7f7\"], [0.6, \"#e6f5d0\"], [0.7, \"#b8e186\"], [0.8, \"#7fbc41\"], [0.9, \"#4d9221\"], [1, \"#276419\"]], \"sequential\": [[0.0, \"#0d0887\"], [0.1111111111111111, \"#46039f\"], [0.2222222222222222, \"#7201a8\"], [0.3333333333333333, \"#9c179e\"], [0.4444444444444444, \"#bd3786\"], [0.5555555555555556, \"#d8576b\"], [0.6666666666666666, \"#ed7953\"], [0.7777777777777778, \"#fb9f3a\"], [0.8888888888888888, \"#fdca26\"], [1.0, \"#f0f921\"]], \"sequentialminus\": [[0.0, \"#0d0887\"], [0.1111111111111111, \"#46039f\"], [0.2222222222222222, \"#7201a8\"], [0.3333333333333333, \"#9c179e\"], [0.4444444444444444, \"#bd3786\"], [0.5555555555555556, \"#d8576b\"], [0.6666666666666666, \"#ed7953\"], [0.7777777777777778, \"#fb9f3a\"], [0.8888888888888888, \"#fdca26\"], [1.0, \"#f0f921\"]]}, \"colorway\": [\"#636efa\", \"#EF553B\", \"#00cc96\", \"#ab63fa\", \"#FFA15A\", \"#19d3f3\", \"#FF6692\", \"#B6E880\", \"#FF97FF\", \"#FECB52\"], \"font\": {\"color\": \"#2a3f5f\"}, \"geo\": {\"bgcolor\": \"white\", \"lakecolor\": \"white\", \"landcolor\": \"#E5ECF6\", \"showlakes\": true, \"showland\": true, \"subunitcolor\": \"white\"}, \"hoverlabel\": {\"align\": \"left\"}, \"hovermode\": \"closest\", \"mapbox\": {\"style\": \"light\"}, \"paper_bgcolor\": \"white\", \"plot_bgcolor\": \"#E5ECF6\", \"polar\": {\"angularaxis\": {\"gridcolor\": \"white\", \"linecolor\": \"white\", \"ticks\": \"\"}, \"bgcolor\": \"#E5ECF6\", \"radialaxis\": {\"gridcolor\": \"white\", \"linecolor\": \"white\", \"ticks\": \"\"}}, \"scene\": {\"xaxis\": {\"backgroundcolor\": \"#E5ECF6\", \"gridcolor\": \"white\", \"gridwidth\": 2, \"linecolor\": \"white\", \"showbackground\": true, \"ticks\": \"\", \"zerolinecolor\": \"white\"}, \"yaxis\": {\"backgroundcolor\": \"#E5ECF6\", \"gridcolor\": \"white\", \"gridwidth\": 2, \"linecolor\": \"white\", \"showbackground\": true, \"ticks\": \"\", \"zerolinecolor\": \"white\"}, \"zaxis\": {\"backgroundcolor\": \"#E5ECF6\", \"gridcolor\": \"white\", \"gridwidth\": 2, \"linecolor\": \"white\", \"showbackground\": true, \"ticks\": \"\", \"zerolinecolor\": \"white\"}}, \"shapedefaults\": {\"line\": {\"color\": \"#2a3f5f\"}}, \"ternary\": {\"aaxis\": {\"gridcolor\": \"white\", \"linecolor\": \"white\", \"ticks\": \"\"}, \"baxis\": {\"gridcolor\": \"white\", \"linecolor\": \"white\", \"ticks\": \"\"}, \"bgcolor\": \"#E5ECF6\", \"caxis\": {\"gridcolor\": \"white\", \"linecolor\": \"white\", \"ticks\": \"\"}}, \"title\": {\"x\": 0.05}, \"xaxis\": {\"automargin\": true, \"gridcolor\": \"white\", \"linecolor\": \"white\", \"ticks\": \"\", \"title\": {\"standoff\": 15}, \"zerolinecolor\": \"white\", \"zerolinewidth\": 2}, \"yaxis\": {\"automargin\": true, \"gridcolor\": \"white\", \"linecolor\": \"white\", \"ticks\": \"\", \"title\": {\"standoff\": 15}, \"zerolinecolor\": \"white\", \"zerolinewidth\": 2}}}, \"title\": {\"text\": \"Spo\\u0142eczno\\u015bci z najwi\\u0119kszym wsp\\u00f3\\u0142czynnikiem przest\\u0119pstw z u\\u017cyciem si\\u0142y(non-Violent Crimes)\"}},\n",
       "                        {\"responsive\": true}\n",
       "                    ).then(function(){\n",
       "                            \n",
       "var gd = document.getElementById('e7e51d2b-7125-4355-b304-1e63c18b4fb1');\n",
       "var x = new MutationObserver(function (mutations, observer) {{\n",
       "        var display = window.getComputedStyle(gd).display;\n",
       "        if (!display || display === 'none') {{\n",
       "            console.log([gd, 'removed!']);\n",
       "            Plotly.purge(gd);\n",
       "            observer.disconnect();\n",
       "        }}\n",
       "}});\n",
       "\n",
       "// Listen for the removal of the full notebook cells\n",
       "var notebookContainer = gd.closest('#notebook-container');\n",
       "if (notebookContainer) {{\n",
       "    x.observe(notebookContainer, {childList: true});\n",
       "}}\n",
       "\n",
       "// Listen for the clearing of the current output cell\n",
       "var outputEl = gd.closest('.output');\n",
       "if (outputEl) {{\n",
       "    x.observe(outputEl, {childList: true});\n",
       "}}\n",
       "\n",
       "                        })\n",
       "                };\n",
       "                });\n",
       "            </script>\n",
       "        </div>"
      ]
     },
     "metadata": {},
     "output_type": "display_data"
    }
   ],
   "source": [
    "dl = cities_with_crime_dataset.shape[0]\n",
    "df = cities_with_crime_dataset.copy().sort_values(by='ViolentCrimesPerPop', ascending=False)\n",
    "\n",
    "df['text'] = df.apply(lambda row: row.communityname + '\\n ' + str(row.nonViolPerPop), axis = 1) \n",
    "limits = [(51, 100), (31, 50), (16, 30), (6, 15), (0, 5)]\n",
    "colors = ['#5d0909', '#d11515', '#ed4545', '#f6a2a2', '#fde8e8']\n",
    "cities = []\n",
    "scale = 25\n",
    "\n",
    "fig = go.Figure()\n",
    "\n",
    "for i in range(len(limits)):\n",
    "    lim = limits[i]\n",
    "    df_sub = df[lim[0]:lim[1]]\n",
    "    fig.add_trace(go.Scattergeo(\n",
    "        locationmode = 'USA-states',\n",
    "        lon = df_sub['lng'],\n",
    "        lat = df_sub['lat'],\n",
    "        text = df_sub['text'],\n",
    "        marker = dict(\n",
    "            size = df_sub['ViolentCrimesPerPop']/scale,\n",
    "            color = colors[i],\n",
    "            line_color='rgb(40,40,40)',\n",
    "            line_width=0.5,\n",
    "            sizemode = 'area'\n",
    "        ),\n",
    "        name = '{0} - {1}'.format(lim[0],lim[1])))\n",
    "\n",
    "fig.update_layout(\n",
    "        title_text = 'Społeczności z największym współczynnikiem przestępstw z użyciem siły(non-Violent Crimes)',\n",
    "        showlegend = True,\n",
    "        geo = dict(\n",
    "            scope = 'usa',\n",
    "            )\n",
    "    )\n",
    "\n",
    "fig.show()"
   ]
  },
  {
   "cell_type": "markdown",
   "metadata": {},
   "source": [
    "## Model regresji"
   ]
  },
  {
   "cell_type": "markdown",
   "metadata": {},
   "source": [
    "### Wczytanie danych znormalizowanych"
   ]
  },
  {
   "cell_type": "code",
   "execution_count": 59,
   "metadata": {},
   "outputs": [],
   "source": [
    "columns = [ \"state numeric\", \"county numeric\", \"community numeric\", \"communityname string\", \"fold numeric\", \"population numeric\", \"householdsize numeric\", \"racepctblack numeric\", \"racePctWhite numeric\", \"racePctAsian numeric\", \"racePctHisp numeric\", \"agePct12t21 numeric\", \"agePct12t29 numeric\", \"agePct16t24 numeric\", \"agePct65up numeric\", \"numbUrban numeric\", \"pctUrban numeric\", \"medIncome numeric\", \"pctWWage numeric\", \"pctWFarmSelf numeric\", \"pctWInvInc numeric\", \"pctWSocSec numeric\", \"pctWPubAsst numeric\", \"pctWRetire numeric\", \"medFamInc numeric\", \"perCapInc numeric\", \"whitePerCap numeric\", \"blackPerCap numeric\", \"indianPerCap numeric\", \"AsianPerCap numeric\", \"OtherPerCap numeric\", \"HispPerCap numeric\", \"NumUnderPov numeric\", \"PctPopUnderPov numeric\", \"PctLess9thGrade numeric\", \"PctNotHSGrad numeric\", \"PctBSorMore numeric\", \"PctUnemployed numeric\", \"PctEmploy numeric\", \"PctEmplManu numeric\", \"PctEmplProfServ numeric\", \"PctOccupManu numeric\", \"PctOccupMgmtProf numeric\", \"MalePctDivorce numeric\", \"MalePctNevMarr numeric\", \"FemalePctDiv numeric\", \"TotalPctDiv numeric\", \"PersPerFam numeric\", \"PctFam2Par numeric\", \"PctKids2Par numeric\", \"PctYoungKids2Par numeric\", \"PctTeen2Par numeric\", \"PctWorkMomYoungKids numeric\", \"PctWorkMom numeric\", \"NumIlleg numeric\", \"PctIlleg numeric\", \"NumImmig numeric\", \"PctImmigRecent numeric\", \"PctImmigRec5 numeric\", \"PctImmigRec8 numeric\", \"PctImmigRec10 numeric\", \"PctRecentImmig numeric\", \"PctRecImmig5 numeric\", \"PctRecImmig8 numeric\", \"PctRecImmig10 numeric\", \"PctSpeakEnglOnly numeric\", \"PctNotSpeakEnglWell numeric\", \"PctLargHouseFam numeric\", \"PctLargHouseOccup numeric\", \"PersPerOccupHous numeric\", \"PersPerOwnOccHous numeric\", \"PersPerRentOccHous numeric\", \"PctPersOwnOccup numeric\", \"PctPersDenseHous numeric\", \"PctHousLess3BR numeric\", \"MedNumBR numeric\", \"HousVacant numeric\", \"PctHousOccup numeric\", \"PctHousOwnOcc numeric\", \"PctVacantBoarded numeric\", \"PctVacMore6Mos numeric\", \"MedYrHousBuilt numeric\", \"PctHousNoPhone numeric\", \"PctWOFullPlumb numeric\", \"OwnOccLowQuart numeric\", \"OwnOccMedVal numeric\", \"OwnOccHiQuart numeric\", \"RentLowQ numeric\", \"RentMedian numeric\", \"RentHighQ numeric\", \"MedRent numeric\", \"MedRentPctHousInc numeric\", \"MedOwnCostPctInc numeric\", \"MedOwnCostPctIncNoMtg numeric\", \"NumInShelters numeric\", \"NumStreet numeric\", \"PctForeignBorn numeric\", \"PctBornSameState numeric\", \"PctSameHouse85 numeric\", \"PctSameCity85 numeric\", \"PctSameState85 numeric\", \"LemasSwornFT numeric\", \"LemasSwFTPerPop numeric\", \"LemasSwFTFieldOps numeric\", \"LemasSwFTFieldPerPop numeric\", \"LemasTotalReq numeric\", \"LemasTotReqPerPop numeric\", \"PolicReqPerOffic numeric\", \"PolicPerPop numeric\", \"RacialMatchCommPol numeric\", \"PctPolicWhite numeric\", \"PctPolicBlack numeric\", \"PctPolicHisp numeric\", \"PctPolicAsian numeric\", \"PctPolicMinor numeric\", \"OfficAssgnDrugUnits numeric\", \"NumKindsDrugsSeiz numeric\", \"PolicAveOTWorked numeric\", \"LandArea numeric\", \"PopDens numeric\", \"PctUsePubTrans numeric\", \"PolicCars numeric\", \"PolicOperBudg numeric\", \"LemasPctPolicOnPatr numeric\", \"LemasGangUnitDeploy numeric\", \"LemasPctOfficDrugUn numeric\", \"PolicBudgPerPop numeric\", \"ViolentCrimesPerPop numeric\" ]\n",
    "dataset = pd.read_csv(\"https://archive.ics.uci.edu/ml/machine-learning-databases/communities/communities.data\", names=columns)"
   ]
  },
  {
   "cell_type": "markdown",
   "metadata": {},
   "source": [
    "Wymiary wczytanych danych."
   ]
  },
  {
   "cell_type": "code",
   "execution_count": 60,
   "metadata": {},
   "outputs": [
    {
     "data": {
      "text/plain": [
       "(1994, 128)"
      ]
     },
     "execution_count": 60,
     "metadata": {},
     "output_type": "execute_result"
    }
   ],
   "source": [
    "dataset.shape"
   ]
  },
  {
   "cell_type": "markdown",
   "metadata": {},
   "source": [
    "Zamiana znaku ``?`` na wartość ``np.nan``."
   ]
  },
  {
   "cell_type": "code",
   "execution_count": 61,
   "metadata": {},
   "outputs": [],
   "source": [
    "dataset.replace(\"?\", np.nan, inplace=True)"
   ]
  },
  {
   "cell_type": "code",
   "execution_count": 62,
   "metadata": {},
   "outputs": [
    {
     "data": {
      "text/html": [
       "<div>\n",
       "<style scoped>\n",
       "    .dataframe tbody tr th:only-of-type {\n",
       "        vertical-align: middle;\n",
       "    }\n",
       "\n",
       "    .dataframe tbody tr th {\n",
       "        vertical-align: top;\n",
       "    }\n",
       "\n",
       "    .dataframe thead th {\n",
       "        text-align: right;\n",
       "    }\n",
       "</style>\n",
       "<table border=\"1\" class=\"dataframe\">\n",
       "  <thead>\n",
       "    <tr style=\"text-align: right;\">\n",
       "      <th></th>\n",
       "      <th>state numeric</th>\n",
       "      <th>county numeric</th>\n",
       "      <th>community numeric</th>\n",
       "      <th>communityname string</th>\n",
       "      <th>fold numeric</th>\n",
       "      <th>population numeric</th>\n",
       "      <th>householdsize numeric</th>\n",
       "      <th>racepctblack numeric</th>\n",
       "      <th>racePctWhite numeric</th>\n",
       "      <th>racePctAsian numeric</th>\n",
       "      <th>...</th>\n",
       "      <th>LandArea numeric</th>\n",
       "      <th>PopDens numeric</th>\n",
       "      <th>PctUsePubTrans numeric</th>\n",
       "      <th>PolicCars numeric</th>\n",
       "      <th>PolicOperBudg numeric</th>\n",
       "      <th>LemasPctPolicOnPatr numeric</th>\n",
       "      <th>LemasGangUnitDeploy numeric</th>\n",
       "      <th>LemasPctOfficDrugUn numeric</th>\n",
       "      <th>PolicBudgPerPop numeric</th>\n",
       "      <th>ViolentCrimesPerPop numeric</th>\n",
       "    </tr>\n",
       "  </thead>\n",
       "  <tbody>\n",
       "    <tr>\n",
       "      <th>0</th>\n",
       "      <td>8</td>\n",
       "      <td>NaN</td>\n",
       "      <td>NaN</td>\n",
       "      <td>Lakewoodcity</td>\n",
       "      <td>1</td>\n",
       "      <td>0.19</td>\n",
       "      <td>0.33</td>\n",
       "      <td>0.02</td>\n",
       "      <td>0.90</td>\n",
       "      <td>0.12</td>\n",
       "      <td>...</td>\n",
       "      <td>0.12</td>\n",
       "      <td>0.26</td>\n",
       "      <td>0.20</td>\n",
       "      <td>0.06</td>\n",
       "      <td>0.04</td>\n",
       "      <td>0.9</td>\n",
       "      <td>0.5</td>\n",
       "      <td>0.32</td>\n",
       "      <td>0.14</td>\n",
       "      <td>0.20</td>\n",
       "    </tr>\n",
       "    <tr>\n",
       "      <th>1</th>\n",
       "      <td>53</td>\n",
       "      <td>NaN</td>\n",
       "      <td>NaN</td>\n",
       "      <td>Tukwilacity</td>\n",
       "      <td>1</td>\n",
       "      <td>0.00</td>\n",
       "      <td>0.16</td>\n",
       "      <td>0.12</td>\n",
       "      <td>0.74</td>\n",
       "      <td>0.45</td>\n",
       "      <td>...</td>\n",
       "      <td>0.02</td>\n",
       "      <td>0.12</td>\n",
       "      <td>0.45</td>\n",
       "      <td>NaN</td>\n",
       "      <td>NaN</td>\n",
       "      <td>NaN</td>\n",
       "      <td>NaN</td>\n",
       "      <td>0.00</td>\n",
       "      <td>NaN</td>\n",
       "      <td>0.67</td>\n",
       "    </tr>\n",
       "    <tr>\n",
       "      <th>2</th>\n",
       "      <td>24</td>\n",
       "      <td>NaN</td>\n",
       "      <td>NaN</td>\n",
       "      <td>Aberdeentown</td>\n",
       "      <td>1</td>\n",
       "      <td>0.00</td>\n",
       "      <td>0.42</td>\n",
       "      <td>0.49</td>\n",
       "      <td>0.56</td>\n",
       "      <td>0.17</td>\n",
       "      <td>...</td>\n",
       "      <td>0.01</td>\n",
       "      <td>0.21</td>\n",
       "      <td>0.02</td>\n",
       "      <td>NaN</td>\n",
       "      <td>NaN</td>\n",
       "      <td>NaN</td>\n",
       "      <td>NaN</td>\n",
       "      <td>0.00</td>\n",
       "      <td>NaN</td>\n",
       "      <td>0.43</td>\n",
       "    </tr>\n",
       "    <tr>\n",
       "      <th>3</th>\n",
       "      <td>34</td>\n",
       "      <td>5</td>\n",
       "      <td>81440</td>\n",
       "      <td>Willingborotownship</td>\n",
       "      <td>1</td>\n",
       "      <td>0.04</td>\n",
       "      <td>0.77</td>\n",
       "      <td>1.00</td>\n",
       "      <td>0.08</td>\n",
       "      <td>0.12</td>\n",
       "      <td>...</td>\n",
       "      <td>0.02</td>\n",
       "      <td>0.39</td>\n",
       "      <td>0.28</td>\n",
       "      <td>NaN</td>\n",
       "      <td>NaN</td>\n",
       "      <td>NaN</td>\n",
       "      <td>NaN</td>\n",
       "      <td>0.00</td>\n",
       "      <td>NaN</td>\n",
       "      <td>0.12</td>\n",
       "    </tr>\n",
       "    <tr>\n",
       "      <th>4</th>\n",
       "      <td>42</td>\n",
       "      <td>95</td>\n",
       "      <td>6096</td>\n",
       "      <td>Bethlehemtownship</td>\n",
       "      <td>1</td>\n",
       "      <td>0.01</td>\n",
       "      <td>0.55</td>\n",
       "      <td>0.02</td>\n",
       "      <td>0.95</td>\n",
       "      <td>0.09</td>\n",
       "      <td>...</td>\n",
       "      <td>0.04</td>\n",
       "      <td>0.09</td>\n",
       "      <td>0.02</td>\n",
       "      <td>NaN</td>\n",
       "      <td>NaN</td>\n",
       "      <td>NaN</td>\n",
       "      <td>NaN</td>\n",
       "      <td>0.00</td>\n",
       "      <td>NaN</td>\n",
       "      <td>0.03</td>\n",
       "    </tr>\n",
       "  </tbody>\n",
       "</table>\n",
       "<p>5 rows × 128 columns</p>\n",
       "</div>"
      ],
      "text/plain": [
       "   state numeric county numeric community numeric communityname string  \\\n",
       "0              8            NaN               NaN         Lakewoodcity   \n",
       "1             53            NaN               NaN          Tukwilacity   \n",
       "2             24            NaN               NaN         Aberdeentown   \n",
       "3             34              5             81440  Willingborotownship   \n",
       "4             42             95              6096    Bethlehemtownship   \n",
       "\n",
       "   fold numeric  population numeric  householdsize numeric  \\\n",
       "0             1                0.19                   0.33   \n",
       "1             1                0.00                   0.16   \n",
       "2             1                0.00                   0.42   \n",
       "3             1                0.04                   0.77   \n",
       "4             1                0.01                   0.55   \n",
       "\n",
       "   racepctblack numeric  racePctWhite numeric  racePctAsian numeric  ...  \\\n",
       "0                  0.02                  0.90                  0.12  ...   \n",
       "1                  0.12                  0.74                  0.45  ...   \n",
       "2                  0.49                  0.56                  0.17  ...   \n",
       "3                  1.00                  0.08                  0.12  ...   \n",
       "4                  0.02                  0.95                  0.09  ...   \n",
       "\n",
       "   LandArea numeric  PopDens numeric  PctUsePubTrans numeric  \\\n",
       "0              0.12             0.26                    0.20   \n",
       "1              0.02             0.12                    0.45   \n",
       "2              0.01             0.21                    0.02   \n",
       "3              0.02             0.39                    0.28   \n",
       "4              0.04             0.09                    0.02   \n",
       "\n",
       "   PolicCars numeric  PolicOperBudg numeric  LemasPctPolicOnPatr numeric  \\\n",
       "0               0.06                   0.04                          0.9   \n",
       "1                NaN                    NaN                          NaN   \n",
       "2                NaN                    NaN                          NaN   \n",
       "3                NaN                    NaN                          NaN   \n",
       "4                NaN                    NaN                          NaN   \n",
       "\n",
       "   LemasGangUnitDeploy numeric  LemasPctOfficDrugUn numeric  \\\n",
       "0                          0.5                         0.32   \n",
       "1                          NaN                         0.00   \n",
       "2                          NaN                         0.00   \n",
       "3                          NaN                         0.00   \n",
       "4                          NaN                         0.00   \n",
       "\n",
       "   PolicBudgPerPop numeric  ViolentCrimesPerPop numeric  \n",
       "0                     0.14                         0.20  \n",
       "1                      NaN                         0.67  \n",
       "2                      NaN                         0.43  \n",
       "3                      NaN                         0.12  \n",
       "4                      NaN                         0.03  \n",
       "\n",
       "[5 rows x 128 columns]"
      ]
     },
     "execution_count": 62,
     "metadata": {},
     "output_type": "execute_result"
    }
   ],
   "source": [
    "dataset.head()"
   ]
  },
  {
   "cell_type": "code",
   "execution_count": 63,
   "metadata": {},
   "outputs": [
    {
     "name": "stdout",
     "output_type": "stream",
     "text": [
      "<class 'pandas.core.frame.DataFrame'>\n",
      "RangeIndex: 1994 entries, 0 to 1993\n",
      "Data columns (total 128 columns):\n",
      "state numeric                    1994 non-null int64\n",
      "county numeric                   820 non-null object\n",
      "community numeric                817 non-null object\n",
      "communityname string             1994 non-null object\n",
      "fold numeric                     1994 non-null int64\n",
      "population numeric               1994 non-null float64\n",
      "householdsize numeric            1994 non-null float64\n",
      "racepctblack numeric             1994 non-null float64\n",
      "racePctWhite numeric             1994 non-null float64\n",
      "racePctAsian numeric             1994 non-null float64\n",
      "racePctHisp numeric              1994 non-null float64\n",
      "agePct12t21 numeric              1994 non-null float64\n",
      "agePct12t29 numeric              1994 non-null float64\n",
      "agePct16t24 numeric              1994 non-null float64\n",
      "agePct65up numeric               1994 non-null float64\n",
      "numbUrban numeric                1994 non-null float64\n",
      "pctUrban numeric                 1994 non-null float64\n",
      "medIncome numeric                1994 non-null float64\n",
      "pctWWage numeric                 1994 non-null float64\n",
      "pctWFarmSelf numeric             1994 non-null float64\n",
      "pctWInvInc numeric               1994 non-null float64\n",
      "pctWSocSec numeric               1994 non-null float64\n",
      "pctWPubAsst numeric              1994 non-null float64\n",
      "pctWRetire numeric               1994 non-null float64\n",
      "medFamInc numeric                1994 non-null float64\n",
      "perCapInc numeric                1994 non-null float64\n",
      "whitePerCap numeric              1994 non-null float64\n",
      "blackPerCap numeric              1994 non-null float64\n",
      "indianPerCap numeric             1994 non-null float64\n",
      "AsianPerCap numeric              1994 non-null float64\n",
      "OtherPerCap numeric              1993 non-null object\n",
      "HispPerCap numeric               1994 non-null float64\n",
      "NumUnderPov numeric              1994 non-null float64\n",
      "PctPopUnderPov numeric           1994 non-null float64\n",
      "PctLess9thGrade numeric          1994 non-null float64\n",
      "PctNotHSGrad numeric             1994 non-null float64\n",
      "PctBSorMore numeric              1994 non-null float64\n",
      "PctUnemployed numeric            1994 non-null float64\n",
      "PctEmploy numeric                1994 non-null float64\n",
      "PctEmplManu numeric              1994 non-null float64\n",
      "PctEmplProfServ numeric          1994 non-null float64\n",
      "PctOccupManu numeric             1994 non-null float64\n",
      "PctOccupMgmtProf numeric         1994 non-null float64\n",
      "MalePctDivorce numeric           1994 non-null float64\n",
      "MalePctNevMarr numeric           1994 non-null float64\n",
      "FemalePctDiv numeric             1994 non-null float64\n",
      "TotalPctDiv numeric              1994 non-null float64\n",
      "PersPerFam numeric               1994 non-null float64\n",
      "PctFam2Par numeric               1994 non-null float64\n",
      "PctKids2Par numeric              1994 non-null float64\n",
      "PctYoungKids2Par numeric         1994 non-null float64\n",
      "PctTeen2Par numeric              1994 non-null float64\n",
      "PctWorkMomYoungKids numeric      1994 non-null float64\n",
      "PctWorkMom numeric               1994 non-null float64\n",
      "NumIlleg numeric                 1994 non-null float64\n",
      "PctIlleg numeric                 1994 non-null float64\n",
      "NumImmig numeric                 1994 non-null float64\n",
      "PctImmigRecent numeric           1994 non-null float64\n",
      "PctImmigRec5 numeric             1994 non-null float64\n",
      "PctImmigRec8 numeric             1994 non-null float64\n",
      "PctImmigRec10 numeric            1994 non-null float64\n",
      "PctRecentImmig numeric           1994 non-null float64\n",
      "PctRecImmig5 numeric             1994 non-null float64\n",
      "PctRecImmig8 numeric             1994 non-null float64\n",
      "PctRecImmig10 numeric            1994 non-null float64\n",
      "PctSpeakEnglOnly numeric         1994 non-null float64\n",
      "PctNotSpeakEnglWell numeric      1994 non-null float64\n",
      "PctLargHouseFam numeric          1994 non-null float64\n",
      "PctLargHouseOccup numeric        1994 non-null float64\n",
      "PersPerOccupHous numeric         1994 non-null float64\n",
      "PersPerOwnOccHous numeric        1994 non-null float64\n",
      "PersPerRentOccHous numeric       1994 non-null float64\n",
      "PctPersOwnOccup numeric          1994 non-null float64\n",
      "PctPersDenseHous numeric         1994 non-null float64\n",
      "PctHousLess3BR numeric           1994 non-null float64\n",
      "MedNumBR numeric                 1994 non-null float64\n",
      "HousVacant numeric               1994 non-null float64\n",
      "PctHousOccup numeric             1994 non-null float64\n",
      "PctHousOwnOcc numeric            1994 non-null float64\n",
      "PctVacantBoarded numeric         1994 non-null float64\n",
      "PctVacMore6Mos numeric           1994 non-null float64\n",
      "MedYrHousBuilt numeric           1994 non-null float64\n",
      "PctHousNoPhone numeric           1994 non-null float64\n",
      "PctWOFullPlumb numeric           1994 non-null float64\n",
      "OwnOccLowQuart numeric           1994 non-null float64\n",
      "OwnOccMedVal numeric             1994 non-null float64\n",
      "OwnOccHiQuart numeric            1994 non-null float64\n",
      "RentLowQ numeric                 1994 non-null float64\n",
      "RentMedian numeric               1994 non-null float64\n",
      "RentHighQ numeric                1994 non-null float64\n",
      "MedRent numeric                  1994 non-null float64\n",
      "MedRentPctHousInc numeric        1994 non-null float64\n",
      "MedOwnCostPctInc numeric         1994 non-null float64\n",
      "MedOwnCostPctIncNoMtg numeric    1994 non-null float64\n",
      "NumInShelters numeric            1994 non-null float64\n",
      "NumStreet numeric                1994 non-null float64\n",
      "PctForeignBorn numeric           1994 non-null float64\n",
      "PctBornSameState numeric         1994 non-null float64\n",
      "PctSameHouse85 numeric           1994 non-null float64\n",
      "PctSameCity85 numeric            1994 non-null float64\n",
      "PctSameState85 numeric           1994 non-null float64\n",
      "LemasSwornFT numeric             319 non-null object\n",
      "LemasSwFTPerPop numeric          319 non-null object\n",
      "LemasSwFTFieldOps numeric        319 non-null object\n",
      "LemasSwFTFieldPerPop numeric     319 non-null object\n",
      "LemasTotalReq numeric            319 non-null object\n",
      "LemasTotReqPerPop numeric        319 non-null object\n",
      "PolicReqPerOffic numeric         319 non-null object\n",
      "PolicPerPop numeric              319 non-null object\n",
      "RacialMatchCommPol numeric       319 non-null object\n",
      "PctPolicWhite numeric            319 non-null object\n",
      "PctPolicBlack numeric            319 non-null object\n",
      "PctPolicHisp numeric             319 non-null object\n",
      "PctPolicAsian numeric            319 non-null object\n",
      "PctPolicMinor numeric            319 non-null object\n",
      "OfficAssgnDrugUnits numeric      319 non-null object\n",
      "NumKindsDrugsSeiz numeric        319 non-null object\n",
      "PolicAveOTWorked numeric         319 non-null object\n",
      "LandArea numeric                 1994 non-null float64\n",
      "PopDens numeric                  1994 non-null float64\n",
      "PctUsePubTrans numeric           1994 non-null float64\n",
      "PolicCars numeric                319 non-null object\n",
      "PolicOperBudg numeric            319 non-null object\n",
      "LemasPctPolicOnPatr numeric      319 non-null object\n",
      "LemasGangUnitDeploy numeric      319 non-null object\n",
      "LemasPctOfficDrugUn numeric      1994 non-null float64\n",
      "PolicBudgPerPop numeric          319 non-null object\n",
      "ViolentCrimesPerPop numeric      1994 non-null float64\n",
      "dtypes: float64(100), int64(2), object(26)\n",
      "memory usage: 1.9+ MB\n"
     ]
    }
   ],
   "source": [
    "dataset.info(verbose=True, null_counts=True)"
   ]
  },
  {
   "cell_type": "code",
   "execution_count": 64,
   "metadata": {},
   "outputs": [
    {
     "name": "stdout",
     "output_type": "stream",
     "text": [
      "county numeric 1174\n",
      "community numeric 1177\n",
      "LemasSwornFT numeric 1675\n",
      "LemasSwFTPerPop numeric 1675\n",
      "LemasSwFTFieldOps numeric 1675\n",
      "LemasSwFTFieldPerPop numeric 1675\n",
      "LemasTotalReq numeric 1675\n",
      "LemasTotReqPerPop numeric 1675\n",
      "PolicReqPerOffic numeric 1675\n",
      "PolicPerPop numeric 1675\n",
      "RacialMatchCommPol numeric 1675\n",
      "PctPolicWhite numeric 1675\n",
      "PctPolicBlack numeric 1675\n",
      "PctPolicHisp numeric 1675\n",
      "PctPolicAsian numeric 1675\n",
      "PctPolicMinor numeric 1675\n",
      "OfficAssgnDrugUnits numeric 1675\n",
      "NumKindsDrugsSeiz numeric 1675\n",
      "PolicAveOTWorked numeric 1675\n",
      "PolicCars numeric 1675\n",
      "PolicOperBudg numeric 1675\n",
      "LemasPctPolicOnPatr numeric 1675\n",
      "LemasGangUnitDeploy numeric 1675\n",
      "PolicBudgPerPop numeric 1675\n"
     ]
    }
   ],
   "source": [
    "number_o_nulls = dataset.isna().sum(axis=0)\n",
    "for i in range (0, dataset.shape[1]):\n",
    "    if number_o_nulls[i] > 1000:\n",
    "        print(dataset.columns[i], number_o_nulls[i])"
   ]
  },
  {
   "cell_type": "code",
   "execution_count": 65,
   "metadata": {},
   "outputs": [
    {
     "name": "stdout",
     "output_type": "stream",
     "text": [
      "county numeric 1174\n",
      "community numeric 1177\n",
      "OtherPerCap numeric 1\n",
      "LemasSwornFT numeric 1675\n",
      "LemasSwFTPerPop numeric 1675\n",
      "LemasSwFTFieldOps numeric 1675\n",
      "LemasSwFTFieldPerPop numeric 1675\n",
      "LemasTotalReq numeric 1675\n",
      "LemasTotReqPerPop numeric 1675\n",
      "PolicReqPerOffic numeric 1675\n",
      "PolicPerPop numeric 1675\n",
      "RacialMatchCommPol numeric 1675\n",
      "PctPolicWhite numeric 1675\n",
      "PctPolicBlack numeric 1675\n",
      "PctPolicHisp numeric 1675\n",
      "PctPolicAsian numeric 1675\n",
      "PctPolicMinor numeric 1675\n",
      "OfficAssgnDrugUnits numeric 1675\n",
      "NumKindsDrugsSeiz numeric 1675\n",
      "PolicAveOTWorked numeric 1675\n",
      "PolicCars numeric 1675\n",
      "PolicOperBudg numeric 1675\n",
      "LemasPctPolicOnPatr numeric 1675\n",
      "LemasGangUnitDeploy numeric 1675\n",
      "PolicBudgPerPop numeric 1675\n"
     ]
    }
   ],
   "source": [
    "for i in range (0, dataset.shape[1]):\n",
    "    if number_o_nulls[i] > 0:\n",
    "        print(dataset.columns[i], number_o_nulls[i])"
   ]
  },
  {
   "cell_type": "code",
   "execution_count": null,
   "metadata": {},
   "outputs": [],
   "source": []
  }
 ],
 "metadata": {
  "kernelspec": {
   "display_name": "Python 3",
   "language": "python",
   "name": "python3"
  },
  "language_info": {
   "codemirror_mode": {
    "name": "ipython",
    "version": 3
   },
   "file_extension": ".py",
   "mimetype": "text/x-python",
   "name": "python",
   "nbconvert_exporter": "python",
   "pygments_lexer": "ipython3",
   "version": "3.7.1"
  }
 },
 "nbformat": 4,
 "nbformat_minor": 2
}
